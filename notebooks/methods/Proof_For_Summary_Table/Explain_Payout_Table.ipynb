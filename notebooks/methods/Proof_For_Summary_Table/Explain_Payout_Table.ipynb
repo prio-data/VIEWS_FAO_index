{
 "cells": [
  {
   "cell_type": "markdown",
   "metadata": {},
   "source": [
    "### Application: Develop a process to compute potential insurance payouts informed by conflict return period thresholds."
   ]
  },
  {
   "cell_type": "markdown",
   "metadata": {},
   "source": [
    "#### Contextual information\n",
    "\n",
    "<span style=\"color:red\">Guidance provided by Håvard</span>\n",
    "\n",
    "1. Start out with a dataset with rows for each grid cell year \n",
    "2. Identify the cells for a country for each year that qualify to each of the thresholds and set the payout rate as a value in a column for each cell year \n",
    "3. Multiply the payout with the population in the cell in a new column to get the population-weighted payout \n",
    "4. Sum the population-weighted payout for each country year \n",
    "5. Divide the summed population-weighted payout for each country year by the country’s total population \n",
    "\n",
    "<span style=\"color:red\">Sentence structure example provided by Jerry</span>\n",
    "\n",
    "To make this a bit more clear, let's assume you have two grids that have 100 percent payout rate. These grids each have 1 percent of the countries population. The national number is = 100 x.01 + 100 x .01 or 2 percent. That 2 percent value represents the payout rate for the nation. The protection level of $1M for the national would pay 2 percent of $1M.  \n",
    "\n",
    "<span style=\"color:red\">Key difference to explore</span>\n",
    "\n",
    "what effect does the order of operations have, to adjust calculating proportional population as the third task rather than fifth, on the resulting payout metric?\n"
   ]
  },
  {
   "cell_type": "markdown",
   "metadata": {},
   "source": [
    "### Locate necessary files:\n",
    "\n",
    "The function used to generate the complete payout table requires 5 parameters. To keep this focus constrained to the processes generating the final payout value, preceding steps to compute the necessary tables are ommitted. If you have an interest in exploring this information, the Benz_Graphics branch is updated and contains an .ipynb referenced to generate all tables and infographics. \n",
    "\n",
    "**base files relevant for this review:**\n",
    "- x: <span style=\"color:lightblue\">/.../VIEWS_FAO_index/notebooks/methods/Proof_For_Summary_Table/Example_dataframe.csv</span>\n",
    "- y: <span style=\"color:lightblue\">/.../VIEWS_FAO_index/notebooks/methods/Proof_For_Summary_Table/y__annual_summary_intensity.csv</span>\n",
    "- z: <span style=\"color:lightblue\">/.../VIEWS_FAO_index/notebooks/methods/Proof_For_Summary_Table/z__raw_insurance_table.csv</span>\n",
    "- info_df: <span style=\"color:lightblue\">/.../VIEWS_FAO_index/notebooks/methods/Proof_For_Summary_Table/Example_return_period_ranges.csv</span>"
   ]
  },
  {
   "cell_type": "markdown",
   "metadata": {},
   "source": [
    "#### Address the requirement for multiple input tables:\n",
    "\n",
    "- `x` is the main DataFrame. It contains the most granular data, with fields such as [pg_id, year, fatalities_sum, pop_gpw_sum, percapita_100k]. This represents the most disaggregated information.\n",
    "\n",
    "- `y` contains summary statistics, including fields like 'max' and 'average'. This table was initially requested by Jerry on XX to complement specific analysis needs.\n",
    "\n",
    "- `z` is the original, unrevised \"insurance payout table.\" It communicates the floor thresholds associated with each return period and the respective payout rates. \n",
    "\n",
    "- `info_df` is used primarily for formatting graphics and aids in deriving a range that facilitates feature engineering.\n",
    "\n",
    "These seemingly arbitrary names are intentionally chosen. Using easily distinguishable variable names facilitates the differentiation between tables that contain closely related information. For instance, the term \"annual table\" could apply to both **`y`** and the resulting payout table, which may lead to confusion. Similarly, a variable named \"insurance\" could be misinterpreted as referring to either **`info_df`** or **`z`**. Each table contains unique fields that need to remain distinguishable, yet all are collectively integrated in the final payout table through the `append_return_periods_to_annual_table` function.\n",
    "\n",
    "Table y offers the least intuitive contribution to the final payout table; We aim to retain the ability to sort the comprehensive table by magnitude or intensity, ensuring flexibility in analysis."
   ]
  },
  {
   "cell_type": "markdown",
   "metadata": {},
   "source": [
    "#### Load the csv files"
   ]
  },
  {
   "cell_type": "code",
   "execution_count": null,
   "metadata": {},
   "outputs": [],
   "source": [
    "import os\n",
    "import pandas as pd\n",
    "\n",
    "#SET PATH TO FILES\n",
    "#--------------------------------------------------------------------------------------------\n",
    "main_dir = os.getcwd()\n",
    "#--------------------------------------------------------------------------------------------\n",
    "#Load files:\n",
    "example_dataframe_path = os.path.join(main_dir, 'Example_dataframe.csv')\n",
    "example_return_period_ranges = os.path.join(main_dir, 'Example_return_period_ranges.csv')\n",
    "#--------------------------------------------------------------------------------------------\n",
    "original_insurance_table = os.path.join(main_dir, 'z__raw_insurance_table.csv')\n",
    "example_return_period_ranges = os.path.join(main_dir, 'Example_return_period_ranges.csv')\n",
    "#--------------------------------------------------------------------------------------------\n",
    "annual_intensity_table = os.path.join(main_dir, 'y__annual_summary_intensity.csv')\n",
    "#--------------------------------------------------------------------------------------------\n",
    "# access the files\n",
    "x = pd.read_csv(example_dataframe_path, index_col=None)\n",
    "y = pd.read_csv(annual_intensity_table, index_col=None)\n",
    "#--------------------------------------------------------------------------------------------\n",
    "z = pd.read_csv(original_insurance_table, index_col=None)\n",
    "filtered_info = pd.read_csv(example_return_period_ranges, index_col=None)\n",
    "#--------------------------------------------------------------------------------------------\n",
    "#--------------------------------------------------------------------------------------------\n",
    "print('This provides a review of x:')\n",
    "print()\n",
    "display(x.head(5))\n",
    "print()\n",
    "print('This provides a review of y')\n",
    "display(y)\n",
    "print()\n",
    "print('This provides a review of z:')\n",
    "display(z)\n",
    "print()\n",
    "print('This provides a review of filtered_info:')\n",
    "display(filtered_info)"
   ]
  },
  {
   "cell_type": "markdown",
   "metadata": {},
   "source": [
    "### Load the function: `append_return_periods_to_annual_table`\n",
    "\n",
    "In addition to the previously defined DataFrames x, y, z, and filtered_info, two additional parameters must be specified when using this function.\n",
    "\n",
    "- **Attribute Designation:** The user is required to identify the attribute that corresponds to the construction of the x, y, z, and filtered_info tables. In this application, the relevant field used is <span style=\"color:red\">'fatalities_sum'</span> .\n",
    "\n",
    "- **Population Field Reference:** The user must also provide the name of the population field. This is important as it ensures that the code remains adaptable for scenarios where different population data might be utilized in the future, requiring a unique field name distinct from the one currently being evaluated. The field for this use-case is <span style=\"color:red\"> pop_gpw_sum </span> \n",
    "\n",
    "- **Return Period Statistic** Similarly, designate the return period type. The parameter expects one of two strings:\n",
    "    - Country year -- this is the 'little p' method \n",
    "    - Event year -- this is the 'big p' method\n",
    "    - This analysis employs the 'little p' method so <span style=\"color:red\">Country year</span> will be inserted as the parameter\n",
    "\n",
    "Information on these methods is present in the glossary markdown file located in VIEWS_FAO_INDEX/docs"
   ]
  },
  {
   "cell_type": "code",
   "execution_count": null,
   "metadata": {},
   "outputs": [],
   "source": [
    "from generate_payout_table import append_return_periods_to_annual_table"
   ]
  },
  {
   "cell_type": "markdown",
   "metadata": {},
   "source": [
    "#### Run the function:\n",
    "\n",
    "Proceeding steps will then break down the two processes considered"
   ]
  },
  {
   "cell_type": "code",
   "execution_count": null,
   "metadata": {},
   "outputs": [],
   "source": [
    "payout_table = append_return_periods_to_annual_table(x, y, z, filtered_info, 'fatalities_sum', 'pop_gpw_sum', 'Country year')\n",
    "\n",
    "display(payout_table)"
   ]
  },
  {
   "cell_type": "markdown",
   "metadata": {},
   "source": [
    "1. Start out with a dataset with rows for each grid cell year \n",
    "2. <span style=\"color:yellow\">Identify the cells for a country for each year that qualify to each of the thresholds and set the payout rate as a value in a column for each cell year</span>\n",
    "3. Multiply the payout with the population in the cell in a new column to get the population-weighted payout \n",
    "4. Sum the population-weighted payout for each country year \n",
    "5. Divide the summed population-weighted payout for each country year by the country’s total population "
   ]
  },
  {
   "cell_type": "code",
   "execution_count": null,
   "metadata": {},
   "outputs": [],
   "source": [
    "#Example dataset ()\n",
    "x_year = x[x['year'] == 2020]\n",
    "\n",
    "x_100yr_events = x_year[(x_year['fatalities_sum'] >= 31.0) & \n",
    "                (x_year['fatalities_sum'] < 100000.0)]\n",
    "\n",
    "print('shows rows meeting the range corresponding to the 1 in 100 year thresholds:')\n",
    "display(x_100yr_events)\n",
    "\n",
    "x_50yr_events = x_year[(x_year['fatalities_sum'] >= 8.0) & \n",
    "                (x_year['fatalities_sum'] < 31.0)]\n",
    "\n",
    "print('shows rows meeting the range corresponding to the 1 in 50 year thresholds:')\n",
    "display(x_50yr_events)\n",
    "\n",
    "x_20yr_events = x_year[(x_year['fatalities_sum'] >= 1.0) & \n",
    "                (x_year['fatalities_sum'] < 8.0)]\n",
    "\n",
    "print('shows rows meeting the range corresponding to the 1 in 20 year thresholds:')\n",
    "display(x_20yr_events)"
   ]
  },
  {
   "cell_type": "markdown",
   "metadata": {},
   "source": [
    "1. Start out with a dataset with rows for each grid cell year \n",
    "2. Identify the cells for a country for each year that qualify to each of the thresholds and set the payout rate as a value in a column for each cell year\n",
    "3. <span style=\"color:yellow\">Multiply the payout with the population in the cell in a new column to get the population-weighted payout</span>\n",
    "4. Sum the population-weighted payout for each country year \n",
    "5. Divide the summed population-weighted payout for each country year by the country’s total population "
   ]
  },
  {
   "cell_type": "code",
   "execution_count": null,
   "metadata": {},
   "outputs": [],
   "source": [
    "print('After adding the population weighted column the dataframes now contain:')\n",
    "\n",
    "x_100yr_events['population_weighted_payout'] = x_100yr_events['pop_gpw_sum'] * 1.00\n",
    "display(x_100yr_events)\n",
    "\n",
    "x_50yr_events['population_weighted_payout'] = x_50yr_events['pop_gpw_sum'] * .75\n",
    "display(x_50yr_events)\n",
    "\n",
    "x_20yr_events['population_weighted_payout'] = x_20yr_events['pop_gpw_sum'] * .55\n",
    "display(x_20yr_events)\n"
   ]
  },
  {
   "cell_type": "markdown",
   "metadata": {},
   "source": [
    "1. Start out with a dataset with rows for each grid cell year \n",
    "2. Identify the cells for a country for each year that qualify to each of the thresholds and set the payout rate as a value in a column for each cell year\n",
    "3. Multiply the payout with the population in the cell in a new column to get the population-weighted payout\n",
    "4. <span style=\"color:yellow\">Sum the population-weighted payout for each country year</span>\n",
    "5. Divide the summed population-weighted payout for each country year by the country’s total population "
   ]
  },
  {
   "cell_type": "code",
   "execution_count": null,
   "metadata": {},
   "outputs": [],
   "source": [
    "x_100_sum_population_weighted_payout = x_100yr_events['population_weighted_payout'].sum()\n",
    "print(f'The sum of population weighted payout for 1 in 100 year cells is: {x_100_sum_population_weighted_payout}')\n",
    "\n",
    "x_50_sum_population_weighted_payout = x_50yr_events['population_weighted_payout'].sum()\n",
    "print(f'The sum of population weighted payout for 1 in 50 year cells is: {x_50_sum_population_weighted_payout}')\n",
    "\n",
    "x_20_sum_population_weighted_payout = x_20yr_events['population_weighted_payout'].sum()\n",
    "print(f'The sum of population weighted payout for 1 in 50 year cells is: {x_20_sum_population_weighted_payout}')"
   ]
  },
  {
   "cell_type": "markdown",
   "metadata": {},
   "source": [
    "1. Start out with a dataset with rows for each grid cell year \n",
    "2. Identify the cells for a country for each year that qualify to each of the thresholds and set the payout rate as a value in a column for each cell year\n",
    "3. Multiply the payout with the population in the cell in a new column to get the population-weighted payout\n",
    "4. Sum the population-weighted payout for each country year\n",
    "5. <span style=\"color:yellow\">Divide the summed population-weighted payout for each country year by the country’s total population</span>"
   ]
  },
  {
   "cell_type": "code",
   "execution_count": null,
   "metadata": {},
   "outputs": [],
   "source": [
    "total_population = x[(x['year'] == 2020)]['pop_gpw_sum'].sum()\n",
    "\n",
    "x_100_payout_percentage = x_100_sum_population_weighted_payout / total_population\n",
    "print(x_100_payout_percentage)\n",
    "\n",
    "x_50_payout_percentage = x_50_sum_population_weighted_payout / total_population\n",
    "print(x_50_payout_percentage)\n",
    "\n",
    "x_20_payout_percentage = x_20_sum_population_weighted_payout / total_population\n",
    "print(x_20_payout_percentage)"
   ]
  },
  {
   "cell_type": "markdown",
   "metadata": {},
   "source": [
    "#### Compare this result with the product derived from the function\n",
    "\n",
    "The fields within the `payout_table` to compare against the observed results of this sanity check are\n",
    "- pay_weight_100\n",
    "- pay_weight_50\n",
    "- pay_weight 20\n",
    "\n",
    "Keep in mind these fields are already expressed as a percentage; the results should vary by two (.01) decimal places. To make the values comparable, the data sourced from the function will be converted to the consistent format."
   ]
  },
  {
   "cell_type": "code",
   "execution_count": null,
   "metadata": {},
   "outputs": [],
   "source": [
    "#subset 2020\n",
    "payout_table_2020 = payout_table[payout_table['year'] == 2020]\n",
    "\n",
    "display(payout_table_2020)\n",
    "\n",
    "#compare the results of appropriate fields:\n",
    "fromfunction__pay_weight_100 = payout_table_2020.iloc[0]['pay weight 100'] * 0.01\n",
    "fromfunction__pay_weight_50 = payout_table_2020.iloc[0]['pay weight 50'] * 0.01\n",
    "fromfunction__pay_weight_20 = payout_table_2020.iloc[0]['pay weight 20'] * 0.01\n",
    "\n",
    "print(f'Compare the 1 in 100 year result from this sanity test {x_100_payout_percentage} agains the result produced from the function {fromfunction__pay_weight_100}')\n",
    "print()\n",
    "print(f'Compare the 1 in 100 year result from this sanity test {x_50_payout_percentage} agains the result produced from the function {fromfunction__pay_weight_50}')\n",
    "print()\n",
    "print(f'Compare the 1 in 100 year result from this sanity test {x_20_payout_percentage} agains the result produced from the function {fromfunction__pay_weight_20}')\n",
    "\n"
   ]
  },
  {
   "cell_type": "markdown",
   "metadata": {},
   "source": [
    "### Excellent, the results prove that both procedures yeild the same result. "
   ]
  }
 ],
 "metadata": {
  "kernelspec": {
   "display_name": "viewser",
   "language": "python",
   "name": "python3"
  },
  "language_info": {
   "codemirror_mode": {
    "name": "ipython",
    "version": 3
   },
   "file_extension": ".py",
   "mimetype": "text/x-python",
   "name": "python",
   "nbconvert_exporter": "python",
   "pygments_lexer": "ipython3",
   "version": "3.11.9"
  }
 },
 "nbformat": 4,
 "nbformat_minor": 2
}
