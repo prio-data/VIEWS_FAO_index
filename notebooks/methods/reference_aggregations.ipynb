{
 "cells": [
  {
   "cell_type": "markdown",
   "metadata": {},
   "source": [
    "## Aggregation Method Notebook\n",
    "\n",
    "### Overview: "
   ]
  },
  {
   "cell_type": "markdown",
   "metadata": {},
   "source": [
    "##### Import necessary functions\n",
    "\n",
    "These functions are stored in src/utils and contain intuitive folders hosting functions. The working directory should be set to the VIEWS_FAO_INDEX folder to enable access to retrieve these .py files.\n"
   ]
  },
  {
   "cell_type": "code",
   "execution_count": 1,
   "metadata": {},
   "outputs": [
    {
     "name": "stdout",
     "output_type": "stream",
     "text": [
      "The current Working Directory is: /Users/gbenz/Documents/VIEWS_FAO_index/notebooks/methods\n",
      "The base directory will be set to: /Users/gbenz/Documents/VIEWS_FAO_index\n"
     ]
    }
   ],
   "source": [
    "import os\n",
    "import sys\n",
    "\n",
    "# Get the current working directory\n",
    "current_directory = os.getcwd()\n",
    "\n",
    "# Print the current working directory\n",
    "print(\"The current Working Directory is:\", current_directory)\n",
    "\n",
    "# Get the path to the base directory (VIEWS_FAO_index)\n",
    "base_dir = os.path.abspath(os.path.join(os.getcwd(), '..', '..'))\n",
    "print(f'The base directory will be set to: {base_dir}')\n",
    "\n",
    "# Add the base directory to sys.path\n",
    "sys.path.insert(0, base_dir)"
   ]
  },
  {
   "cell_type": "code",
   "execution_count": 11,
   "metadata": {},
   "outputs": [],
   "source": [
    "import sys\n",
    "import os\n",
    "import pandas as pd\n",
    "import matplotlib.pyplot as plt\n",
    "\n",
    "#Functions necessary for all methods:\n",
    "from src.utils.universal_functions.setup.generate_base_file import give_primary_frame\n",
    "from src.utils.universal_functions.setup.associate_country_id import associate_country_years\n",
    "from src.utils.universal_functions.setup.build_directory import ensure_directory_exists\n",
    "\n",
    "#Functions to generate the insurance table requested by FAO partners:\n",
    "from src.utils.universal_functions.FAO_table_formatting.calculate_percentiles import format_stats, clean_percentile_table\n",
    "from src.utils.universal_functions.FAO_table_formatting.generate_output_tables import insurance_table, annual_summary_table, develop_info_dataframe\n",
    "\n",
    "#Functions bespoke to aggregations method:\n",
    "from src.utils.functions_for_method_aggregation.generate_aggregate_dataframe import aggregate_priogrid_for_country, map_c_y_dictionary_to_data, map_c_id_to_aggregations\n"
   ]
  },
  {
   "cell_type": "markdown",
   "metadata": {},
   "source": [
    "### First, we define our primary dataframe. \n",
    "\n",
    "The variable 'data' is developed from two querysets 1. Fatalities_fao_pgm and 2. cm_properties which are required in order to capture fatality attributes and unique country identifiers, including start and end years for boundary changes.\n",
    "\n",
    "Year parameters can be adapted to incorporate future annual releases of Uppsala Conflict Data Program (UCDP) Geospatial Events Database (GED) data or constrain the temporal window for unique applications. The recommendation is to capture data from the full extent, which at the time of this release is 1989 - 2023."
   ]
  },
  {
   "cell_type": "markdown",
   "metadata": {},
   "source": [
    "#### <span style=\"color:#B22222\">Do you have access to the PRIO server?</span>\n",
    "Retrieve data from the viewser querset"
   ]
  },
  {
   "cell_type": "code",
   "execution_count": 3,
   "metadata": {},
   "outputs": [
    {
     "name": "stderr",
     "output_type": "stream",
     "text": [
      "100%|██████████| 40.0M/40.0M [00:02<00:00, 19.7MB/s]\n"
     ]
    },
    {
     "name": "stdout",
     "output_type": "stream",
     "text": [
      "Queryset Fatalities_fao_pgm read successfully \n",
      "Queryset cm_properties read successfully \n"
     ]
    },
    {
     "name": "stderr",
     "output_type": "stream",
     "text": [
      "/Users/gbenz/miniforge3/envs/viewser/lib/python3.11/site-packages/ingester3/scratch.py:31: UserWarning: No database connection! Will try to use cache for read-only ops as much as I can\n",
      "  warnings.warn(\"No database connection! Will try to use cache for read-only ops as much as I can\")\n"
     ]
    },
    {
     "name": "stdout",
     "output_type": "stream",
     "text": [
      "['month_id', 'pg_id', 'country_name', 'C_start_year', 'C_end_year', 'pop_gpw_sum', 'ged_sb', 'ged_ns', 'ged_os', 'year', 'fatalities_sum', 'country_id']\n"
     ]
    }
   ],
   "source": [
    "data = give_primary_frame('Fatalities_fao_pgm', 'cm_properties', 1988, 2023)"
   ]
  },
  {
   "cell_type": "markdown",
   "metadata": {},
   "source": [
    "#### If not,\n",
    "retrieve comparable data from a Google API: <span style=\"color:#B22222\">NOTE: The dataset sourced from the API does not contain a country name field</span>\n"
   ]
  },
  {
   "cell_type": "markdown",
   "metadata": {},
   "source": [
    "#### Make a copy of the variable data to keep a clean version accesible."
   ]
  },
  {
   "cell_type": "code",
   "execution_count": 4,
   "metadata": {},
   "outputs": [],
   "source": [
    "data_working_copy = data"
   ]
  },
  {
   "cell_type": "markdown",
   "metadata": {},
   "source": [
    "#### Specifiy countries to investigate"
   ]
  },
  {
   "cell_type": "code",
   "execution_count": 5,
   "metadata": {},
   "outputs": [],
   "source": [
    "countries = ['Ethiopia']"
   ]
  },
  {
   "cell_type": "code",
   "execution_count": 14,
   "metadata": {},
   "outputs": [
    {
     "name": "stdout",
     "output_type": "stream",
     "text": [
      "   c_id country_name  C_start_year  C_end_year       0\n",
      "0    57     Ethiopia          1993        2050  132397\n",
      "1   191     Ethiopia          1946        1993   22112\n",
      "the length of country_ids for the selected country is: 2\n",
      "printing the country id and year dictionary for reference:\n",
      "{57: (1993, 2050), 191: (1946, 1993)}\n",
      "57\n",
      "The max year in the dataframe (max_year): 2022\n",
      "The min year in the dataframe (max_year): 1993\n",
      "the fields in sum_fatalities_annual:\n",
      "['pg_id', 'year', 'fatalities_sum']\n",
      "population_to_annual:\n",
      "['pg_id', 'year', 'pop_gpw_sum']\n",
      "Index where percapita_100k equals 1: 84: 1.0\n",
      "Directory '/Users/gbenz/Documents/VIEWS_FAO_index/notebooks/methods/Country_Results/Ethiopia/Aggregation/Cell Year/FAO tables' created.\n",
      "saving annual_summary table to: /Users/gbenz/Documents/VIEWS_FAO_index/notebooks/methods/Country_Results/Ethiopia/Aggregation/Cell Year/FAO tables/Ethiopia annual summary.csv\n",
      "saving insurance table to: /Users/gbenz/Documents/VIEWS_FAO_index/notebooks/methods/Country_Results/Ethiopia/Aggregation/Cell Year/FAO tables/Ethiopia insurance table.csv\n",
      "saving main dataframe table to: /Users/gbenz/Documents/VIEWS_FAO_index/notebooks/methods/Country_Results/Ethiopia/Aggregation/Cell Year/FAO tables/ main dataframe.csv\n"
     ]
    }
   ],
   "source": [
    "for country in countries:\n",
    "\n",
    "\n",
    "# First:\n",
    "#   1. Aggregate the standard PRIO-Grid scale to a courser resolution\n",
    "    aggregated_cells = aggregate_priogrid_for_country(data_working_copy, '3')\n",
    "#-----------------------------------------------------------------------------------------------------------------------------------\n",
    "#-----------------------------------------------------------------------------------------------------------------------------------\n",
    "# Second:\n",
    "#   1. Subset designated country in list. This requires examining country_id information and corresponding start and end years. \n",
    "#   Some countries contain more than one country_id. The functions employed in this section identify the most recent country range and \n",
    "#   subset the neccesary temporal ranges.\n",
    "#-----------------------------------------------------------------------------------------------------------------------------------\n",
    "    country_and_year_dictionary = associate_country_years(aggregated_cells, country)\n",
    "    print('printing the country id and year dictionary for reference:')\n",
    "    print(country_and_year_dictionary)\n",
    "\n",
    "    aggregated_cells_filtered_cid_year, cid = map_c_y_dictionary_to_data(country_and_year_dictionary,aggregated_cells)\n",
    "    cid = str(cid)\n",
    "\n",
    "    #print(aggregated_cells_filtered_cid_year)\n",
    "    print(cid)\n",
    "\n",
    "    aggregated_cells_filtered_cid_year = aggregated_cells_filtered_cid_year.rename(columns={'country_id':'c_id'})\n",
    "    aggregated_cells_added_cid = map_c_id_to_aggregations(aggregated_cells_filtered_cid_year)\n",
    "    #This process is specific to Aggregation Method: \n",
    "    columns_to_group = ['pg_id', 'year']\n",
    "    columns_to_keep = ['pg_id', 'year', 'GIS__Index', 'scale_cid_list', 'most_common_cid']\n",
    "    df_annual = aggregated_cells_added_cid[columns_to_keep]\n",
    "    max_year = max(df_annual['year'])\n",
    "    min_year = min(df_annual['year'])\n",
    "    print(f'The max year in the dataframe (max_year): {max_year}')\n",
    "    print(f'The min year in the dataframe (max_year): {min_year}')\n",
    "\n",
    "    sum_fatalities_annual = aggregated_cells_added_cid.groupby(columns_to_group)['fatalities_sum'].sum().reset_index()\n",
    "    print('the fields in sum_fatalities_annual:')\n",
    "    print(list(sum_fatalities_annual))\n",
    "\n",
    "    population_to_annual = aggregated_cells_added_cid.groupby(columns_to_group)['pop_gpw_sum'].last().reset_index()\n",
    "    print('population_to_annual:')\n",
    "    print(list(population_to_annual))\n",
    "\n",
    "    base_annual = pd.merge(sum_fatalities_annual, population_to_annual, on=['pg_id', 'year'])\n",
    "    all_annual = pd.merge(base_annual,df_annual, on=['pg_id', 'year'])\n",
    "\n",
    "    #Now we summarize to get to the aggregation level -- dropping the PG level --\n",
    "    agg_index_columns = ['year', 'GIS__Index', 'most_common_cid']\n",
    "\n",
    "    aggregation_annual = all_annual.groupby(agg_index_columns).agg({\n",
    "        'fatalities_sum': 'sum',\n",
    "        'pop_gpw_sum': 'sum'\n",
    "    }).reset_index()\n",
    "\n",
    "    aggregation_annual['percapita_100k'] = ((aggregation_annual['fatalities_sum'] / aggregation_annual['pop_gpw_sum'])) * 100000\n",
    "    aggregation_annual['percapita_100k'] = aggregation_annual['percapita_100k'].fillna(0)\n",
    "\n",
    "    aggregation_annual__country = aggregation_annual[aggregation_annual['most_common_cid'] == cid]\n",
    "    aggregation_annual__country['percapita_100k'] = aggregation_annual__country['percapita_100k'].round(1)\n",
    "\n",
    "    percentile_df = format_stats(aggregation_annual__country)\n",
    "    filtered_x = clean_percentile_table(percentile_df)\n",
    "    jerry_table = insurance_table(filtered_x, aggregation_annual__country, ['90','95','98','99','100'], 'percapita_100k', 'yes')\n",
    "    annual_summary = annual_summary_table(aggregation_annual__country, 'percapita_100k')\n",
    "\n",
    "#-----------------------------------------------------------------------------------------------------------------------------------\n",
    "#----- SET DIRECTORIES \n",
    "#-----------------------------------------------------------------------------------------------------------------------------------\n",
    "#----- THIS SETS A DIRECTORY THAT IS UNIQUE FOR AGGREGATION METHOD ----\n",
    "#-----------------------------------------------------------------------------------------------------------------------------------\n",
    "#----- <<< working just with the 'Cell Year' Return Period Process >>>-\n",
    "    output_path = base_dir + '/notebooks/methods/Country_Results/' + country + '/Aggregation/Cell Year/FAO tables/'\n",
    "    ensure_directory_exists(output_path)\n",
    "#-----------------------------------------------------------------------------------------------------------------------------------\n",
    "    annual_summary_file_path = output_path + country + ' annual summary.csv'\n",
    "    print(f'saving annual_summary table to: {annual_summary_file_path}')\n",
    "#-----------------------------------------------------------------------------------------------------------------------------------\n",
    "    jerry_table_file_path = output_path + country + ' insurance table.csv'\n",
    "    print(f'saving insurance table to: {jerry_table_file_path}')\n",
    "#-----------------------------------------------------------------------------------------------------------------------------------\n",
    "    main_dataframe_file_path = output_path + ' main dataframe.csv'\n",
    "    print(f'saving main dataframe table to: {main_dataframe_file_path}')\n",
    "#-----------------------------------------------------------------------------------------------------------------------------------\n",
    "#-----------------------------------------------------------------------------------------------------------------------------------\n",
    "#----- NOW WE WRITE TO THE FOLDERS. -----------------------------------\n",
    "    annual_summary.to_csv(annual_summary_file_path)\n",
    "    jerry_table.to_csv(jerry_table_file_path)\n",
    "    aggregation_annual__country.to_csv(main_dataframe_file_path)\n",
    "#-----------------------------------------------------------------------------------------------------------------------------------"
   ]
  },
  {
   "cell_type": "markdown",
   "metadata": {},
   "source": [
    "The following code defines a function unique to the Aggregation method so the preceding process can be incorporated in other notebooks without reintroducing this existing code structure. This notebook serves as a reference for the functions design and output."
   ]
  }
 ],
 "metadata": {
  "kernelspec": {
   "display_name": "viewser",
   "language": "python",
   "name": "python3"
  },
  "language_info": {
   "codemirror_mode": {
    "name": "ipython",
    "version": 3
   },
   "file_extension": ".py",
   "mimetype": "text/x-python",
   "name": "python",
   "nbconvert_exporter": "python",
   "pygments_lexer": "ipython3",
   "version": "3.11.9"
  }
 },
 "nbformat": 4,
 "nbformat_minor": 2
}
