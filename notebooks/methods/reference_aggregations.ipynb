{
 "cells": [
  {
   "cell_type": "markdown",
   "metadata": {},
   "source": [
    "## Aggregation Method Notebook\n",
    "\n",
    "### Overview: \n",
    "\n",
    "1. Provides cells to retrieve a main dataframe\n",
    "2. Gives an operable cell that can be looped over multiple countries for County Year return period classification (consult the dictionary of definitions for more detail)\n",
    "3. A single line function that produces what the preceding cell generated\n",
    "4. An operable cell that can be looped over multiple countries for Event Year return period classification (consult the dictionary of definitions for more detail)\n",
    "5. A single line function that produces what the preceding cell generated"
   ]
  },
  {
   "cell_type": "markdown",
   "metadata": {},
   "source": [
    "##### Import necessary functions\n",
    "\n",
    "These functions are stored in src/utils and contain intuitive folders hosting functions. The working directory should be set to the VIEWS_FAO_INDEX folder to enable access to retrieve these .py files.\n"
   ]
  },
  {
   "cell_type": "code",
   "execution_count": 13,
   "metadata": {},
   "outputs": [
    {
     "name": "stdout",
     "output_type": "stream",
     "text": [
      "The current Working Directory is: /Users/gbenz/Documents/VIEWS_FAO_index/notebooks/methods\n",
      "The base directory will be set to: /Users/gbenz/Documents/VIEWS_FAO_index\n"
     ]
    }
   ],
   "source": [
    "import os\n",
    "import sys\n",
    "\n",
    "# Get the current working directory\n",
    "current_directory = os.getcwd()\n",
    "\n",
    "# Print the current working directory\n",
    "print(\"The current Working Directory is:\", current_directory)\n",
    "\n",
    "# Get the path to the base directory (VIEWS_FAO_index)\n",
    "base_dir = os.path.abspath(os.path.join(os.getcwd(), '..', '..'))\n",
    "print(f'The base directory will be set to: {base_dir}')\n",
    "\n",
    "# Add the base directory to sys.path\n",
    "sys.path.insert(0, base_dir)"
   ]
  },
  {
   "cell_type": "code",
   "execution_count": 20,
   "metadata": {},
   "outputs": [],
   "source": [
    "import sys\n",
    "import os\n",
    "import pandas as pd\n",
    "import matplotlib.pyplot as plt\n",
    "\n",
    "#Functions necessary for all methods:\n",
    "from src.utils.universal_functions.setup.generate_base_file import give_primary_frame\n",
    "from src.utils.universal_functions.setup.associate_country_id import associate_country_years\n",
    "from src.utils.universal_functions.setup.build_directory import ensure_directory_exists\n",
    "\n",
    "#Functions to generate the insurance table requested by FAO partners:\n",
    "from src.utils.universal_functions.FAO_table_formatting.calculate_percentiles import format_stats, clean_percentile_table\n",
    "from src.utils.universal_functions.FAO_table_formatting.generate_output_tables import insurance_table, annual_summary_table\n",
    "\n",
    "#Functions bespoke to aggregations method:\n",
    "from src.utils.functions_for_method_aggregation.generate_aggregate_dataframe import aggregate_priogrid_for_country, map_c_y_dictionary_to_data, map_c_id_to_aggregations\n",
    "\n",
    "#Function for Event-Year Return Period process:\n",
    "from src.utils.functions_for_single_cell_return_period.cell_return_period import calculate_cumulative_distribution, calculate_probabilities, calculate_expected_time_periods, calculate_expected_voxels, compare_empirical_vs_expected\n",
    "from src.utils.functions_for_single_cell_return_period.Ei_insurance_table_setup import insurance_table_for_E_i\n",
    "\n",
    "#Function to run the method in a single line:\n",
    "from src.utils.functions_for_return_periods.insurance_products_for_RP import aggregation_Country_Year_files, aggregation_Event_Year_files\n"
   ]
  },
  {
   "cell_type": "markdown",
   "metadata": {},
   "source": [
    "### First, we define our primary dataframe. \n",
    "\n",
    "The variable 'data' is developed from two querysets 1. Fatalities_fao_pgm and 2. cm_properties which are required in order to capture fatality attributes and unique country identifiers, including start and end years for boundary changes.\n",
    "\n",
    "Year parameters can be adapted to incorporate future annual releases of Uppsala Conflict Data Program (UCDP) Geospatial Events Database (GED) data or constrain the temporal window for unique applications. The recommendation is to capture data from the full extent, which at the time of this release is 1989 - 2023."
   ]
  },
  {
   "cell_type": "markdown",
   "metadata": {},
   "source": [
    "#### <span style=\"color:#B22222\">Do you have access to the PRIO server?</span>\n",
    "Retrieve data from the viewser querset"
   ]
  },
  {
   "cell_type": "code",
   "execution_count": 15,
   "metadata": {},
   "outputs": [
    {
     "name": "stderr",
     "output_type": "stream",
     "text": [
      "100%|██████████| 40.0M/40.0M [00:02<00:00, 15.2MB/s]\n"
     ]
    },
    {
     "name": "stdout",
     "output_type": "stream",
     "text": [
      "Queryset Fatalities_fao_pgm read successfully \n",
      "Queryset cm_properties read successfully \n"
     ]
    },
    {
     "name": "stderr",
     "output_type": "stream",
     "text": [
      "/Users/gbenz/miniforge3/envs/viewser/lib/python3.11/site-packages/ingester3/scratch.py:31: UserWarning: No database connection! Will try to use cache for read-only ops as much as I can\n",
      "  warnings.warn(\"No database connection! Will try to use cache for read-only ops as much as I can\")\n"
     ]
    },
    {
     "name": "stdout",
     "output_type": "stream",
     "text": [
      "['month_id', 'pg_id', 'country_name', 'C_start_year', 'C_end_year', 'pop_gpw_sum', 'ged_sb', 'ged_ns', 'ged_os', 'year', 'fatalities_sum', 'country_id']\n"
     ]
    }
   ],
   "source": [
    "data = give_primary_frame('Fatalities_fao_pgm', 'cm_properties', 1988, 2023)"
   ]
  },
  {
   "cell_type": "markdown",
   "metadata": {},
   "source": [
    "#### Make a copy of the variable data to keep a clean version accesible."
   ]
  },
  {
   "cell_type": "code",
   "execution_count": 16,
   "metadata": {},
   "outputs": [],
   "source": [
    "data_working_copy = data"
   ]
  },
  {
   "cell_type": "markdown",
   "metadata": {},
   "source": [
    "#### Specifiy countries to investigate"
   ]
  },
  {
   "cell_type": "code",
   "execution_count": 17,
   "metadata": {},
   "outputs": [],
   "source": [
    "countries = ['Ethiopia']"
   ]
  },
  {
   "cell_type": "markdown",
   "metadata": {},
   "source": [
    "### Template process to construct a function unique to this method\n",
    "\n",
    "The function of this cell is to feature what is occuring while running the 'summary_graphics.ipynb' which streamlines the assesssment in order to advance to developing graphics. There are three primary tables produced from this analysis:\n",
    "\n",
    "First, a base reference table, this affords transparency for how the remaining products were derived.\n",
    "Second, an annual summary report. This table provides the first, second, third, greatest single unit-events observed within the defined country boundary, a fourth field reports the average per capita fatalities across all unit-events for the corresponding year.\n",
    "Third, an insurance table. This essential dataframe communicates the return period corresponding with the 90th, 95th, 98th, and 99th percentiles. An payout rate is informed by a pre-existing FAO schema applied to earthquake trigger events."
   ]
  },
  {
   "cell_type": "code",
   "execution_count": 18,
   "metadata": {},
   "outputs": [
    {
     "name": "stdout",
     "output_type": "stream",
     "text": [
      "   c_id country_name  C_start_year  C_end_year       0\n",
      "0    57     Ethiopia          1993        2050  132397\n",
      "1   191     Ethiopia          1946        1993   22112\n",
      "the length of country_ids for the selected country is: 2\n",
      "printing the country id and year dictionary for reference:\n",
      "{57: (1993, 2050), 191: (1946, 1993)}\n",
      "57\n",
      "The max year in the dataframe (max_year): 2022\n",
      "The min year in the dataframe (max_year): 1993\n",
      "the fields in sum_fatalities_annual:\n",
      "['pg_id', 'year', 'fatalities_sum']\n",
      "population_to_annual:\n",
      "['pg_id', 'year', 'pop_gpw_sum']\n",
      "Index where percapita_100k equals 1: 84: 1.0\n",
      "Directory '/Users/gbenz/Documents/VIEWS_FAO_index/notebooks/methods/Country_Results/Ethiopia/Aggregation/Cell Year/FAO tables' already exists.\n",
      "saving annual_summary table to: /Users/gbenz/Documents/VIEWS_FAO_index/notebooks/methods/Country_Results/Ethiopia/Aggregation/Cell Year/FAO tables/Ethiopia annual summary.csv\n",
      "saving insurance table to: /Users/gbenz/Documents/VIEWS_FAO_index/notebooks/methods/Country_Results/Ethiopia/Aggregation/Cell Year/FAO tables/Ethiopia insurance table.csv\n",
      "saving main dataframe table to: /Users/gbenz/Documents/VIEWS_FAO_index/notebooks/methods/Country_Results/Ethiopia/Aggregation/Cell Year/FAO tables/ main dataframe.csv\n"
     ]
    }
   ],
   "source": [
    "for country in countries:\n",
    "\n",
    "\n",
    "# First:\n",
    "#   1. Aggregate the standard PRIO-Grid scale to a courser resolution\n",
    "    aggregated_cells = aggregate_priogrid_for_country(data_working_copy, '3')\n",
    "#-----------------------------------------------------------------------------------------------------------------------------------\n",
    "#-----------------------------------------------------------------------------------------------------------------------------------\n",
    "# Second:\n",
    "#   1. Subset designated country in list. This requires examining country_id information and corresponding start and end years. \n",
    "#   Some countries contain more than one country_id. The functions employed in this section identify the most recent country range and \n",
    "#   subset the neccesary temporal ranges.\n",
    "#-----------------------------------------------------------------------------------------------------------------------------------\n",
    "    country_and_year_dictionary = associate_country_years(aggregated_cells, country)\n",
    "    print('printing the country id and year dictionary for reference:')\n",
    "    print(country_and_year_dictionary)\n",
    "\n",
    "    aggregated_cells_filtered_cid_year, cid = map_c_y_dictionary_to_data(country_and_year_dictionary,aggregated_cells)\n",
    "    cid = str(cid)\n",
    "\n",
    "    #print(aggregated_cells_filtered_cid_year)\n",
    "    print(cid)\n",
    "\n",
    "    aggregated_cells_filtered_cid_year = aggregated_cells_filtered_cid_year.rename(columns={'country_id':'c_id'})\n",
    "    aggregated_cells_added_cid = map_c_id_to_aggregations(aggregated_cells_filtered_cid_year)\n",
    "    conflict_profile = {col: aggregated_cells_added_cid[col].sum() for col in ['ged_sb', 'ged_ns', 'ged_os', 'fatalities_sum']}\n",
    "\n",
    "    #This process is specific to Aggregation Method: \n",
    "    columns_to_group = ['pg_id', 'year']\n",
    "    columns_to_keep = ['pg_id', 'year', 'GIS__Index', 'scale_cid_list', 'most_common_cid']\n",
    "    df_annual = aggregated_cells_added_cid[columns_to_keep]\n",
    "    max_year = max(df_annual['year'])\n",
    "    min_year = min(df_annual['year'])\n",
    "    print(f'The max year in the dataframe (max_year): {max_year}')\n",
    "    print(f'The min year in the dataframe (max_year): {min_year}')\n",
    "\n",
    "    sum_fatalities_annual = aggregated_cells_added_cid.groupby(columns_to_group)['fatalities_sum'].sum().reset_index()\n",
    "    print('the fields in sum_fatalities_annual:')\n",
    "    print(list(sum_fatalities_annual))\n",
    "\n",
    "    population_to_annual = aggregated_cells_added_cid.groupby(columns_to_group)['pop_gpw_sum'].last().reset_index()\n",
    "    print('population_to_annual:')\n",
    "    print(list(population_to_annual))\n",
    "\n",
    "    base_annual = pd.merge(sum_fatalities_annual, population_to_annual, on=['pg_id', 'year'])\n",
    "    all_annual = pd.merge(base_annual,df_annual, on=['pg_id', 'year'])\n",
    "\n",
    "    #Now we summarize to get to the aggregation level -- dropping the PG level --\n",
    "    agg_index_columns = ['year', 'GIS__Index', 'most_common_cid']\n",
    "\n",
    "    aggregation_annual = all_annual.groupby(agg_index_columns).agg({\n",
    "        'fatalities_sum': 'sum',\n",
    "        'pop_gpw_sum': 'sum'\n",
    "    }).reset_index()\n",
    "\n",
    "    aggregation_annual['percapita_100k'] = ((aggregation_annual['fatalities_sum'] / aggregation_annual['pop_gpw_sum'])) * 100000\n",
    "    aggregation_annual['percapita_100k'] = aggregation_annual['percapita_100k'].fillna(0)\n",
    "\n",
    "    aggregation_annual__country = aggregation_annual[aggregation_annual['most_common_cid'] == cid]\n",
    "    aggregation_annual__country['percapita_100k'] = aggregation_annual__country['percapita_100k'].round(1)\n",
    "\n",
    "    percentile_df = format_stats(aggregation_annual__country)\n",
    "    filtered_x = clean_percentile_table(percentile_df)\n",
    "    insurance_table_df = insurance_table(filtered_x, aggregation_annual__country, ['90','95','98','99','100'], 'percapita_100k', 'yes')\n",
    "    annual_summary = annual_summary_table(aggregation_annual__country, 'percapita_100k')\n",
    "\n",
    "#-----------------------------------------------------------------------------------------------------------------------------------\n",
    "#----- SET DIRECTORIES \n",
    "#-----------------------------------------------------------------------------------------------------------------------------------\n",
    "#----- THIS SETS A DIRECTORY THAT IS UNIQUE FOR AGGREGATION METHOD ----\n",
    "#-----------------------------------------------------------------------------------------------------------------------------------\n",
    "#----- <<< working just with the 'Cell Year' Return Period Process >>>-\n",
    "    output_path = base_dir + '/notebooks/methods/Country_Results/' + country + '/Aggregation/Cell Year/FAO tables/'\n",
    "    ensure_directory_exists(output_path)\n",
    "#-----------------------------------------------------------------------------------------------------------------------------------\n",
    "    annual_summary_file_path = output_path + country + ' annual summary.csv'\n",
    "    print(f'saving annual_summary table to: {annual_summary_file_path}')\n",
    "#-----------------------------------------------------------------------------------------------------------------------------------\n",
    "    insurance_table_file_path = output_path + country + ' insurance table.csv'\n",
    "    print(f'saving insurance table to: {insurance_table_file_path}')\n",
    "#-----------------------------------------------------------------------------------------------------------------------------------\n",
    "    main_dataframe_file_path = output_path + ' main dataframe.csv'\n",
    "    print(f'saving main dataframe table to: {main_dataframe_file_path}')\n",
    "#-----------------------------------------------------------------------------------------------------------------------------------\n",
    "#-----------------------------------------------------------------------------------------------------------------------------------\n",
    "#----- NOW WE WRITE TO THE FOLDERS. -----------------------------------\n",
    "    annual_summary.to_csv(annual_summary_file_path)\n",
    "    insurance_table_df.to_csv(insurance_table_file_path)\n",
    "    aggregation_annual__country.to_csv(main_dataframe_file_path)\n",
    "#-----------------------------------------------------------------------------------------------------------------------------------"
   ]
  },
  {
   "cell_type": "markdown",
   "metadata": {},
   "source": [
    "The following code defines a function unique to the Aggregation method so the preceding process can be incorporated in other notebooks without reintroducing this existing code structure. This notebook serves as a reference for the functions design and output."
   ]
  },
  {
   "cell_type": "markdown",
   "metadata": {},
   "source": [
    "#### You must run the Method for the Cell-Year process before the Event Year Return Period type can be generated."
   ]
  },
  {
   "cell_type": "code",
   "execution_count": 25,
   "metadata": {},
   "outputs": [
    {
     "name": "stdout",
     "output_type": "stream",
     "text": [
      "   c_id country_name  C_start_year  C_end_year       0\n",
      "0    57     Ethiopia          1993        2050  132397\n",
      "1   191     Ethiopia          1946        1993   22112\n",
      "the length of country_ids for the selected country is: 2\n",
      "   c_id country_name  C_start_year  C_end_year       0\n",
      "0    57     Ethiopia          1993        2050  132397\n",
      "1   191     Ethiopia          1946        1993   22112\n",
      "the length of country_ids for the selected country is: 2\n",
      "printing the country id and year dictionary for reference:\n",
      "{57: (1993, 2050), 191: (1946, 1993)}\n",
      "57\n",
      "The max year in the dataframe (max_year): 2022\n",
      "The min year in the dataframe (max_year): 1993\n",
      "the fields in sum_fatalities_annual:\n",
      "['pg_id', 'year', 'fatalities_sum']\n",
      "population_to_annual:\n",
      "['pg_id', 'year', 'pop_gpw_sum']\n",
      "Index where percapita_100k equals 1: 84: 1.0\n",
      "Directory '/Users/gbenz/Documents/VIEWS_FAO_index/notebooks/methods/Country_Results/Ethiopia/Aggregation/Cell Year/FAO tables' already exists.\n",
      "saving annual_summary table to: /Users/gbenz/Documents/VIEWS_FAO_index/notebooks/methods/Country_Results/Ethiopia/Aggregation/Cell Year/FAO tables/Ethiopia annual summary.csv\n",
      "saving insurance table to: /Users/gbenz/Documents/VIEWS_FAO_index/notebooks/methods/Country_Results/Ethiopia/Aggregation/Cell Year/FAO tables/Ethiopia insurance table.csv\n",
      "saving main dataframe table to: /Users/gbenz/Documents/VIEWS_FAO_index/notebooks/methods/Country_Results/Ethiopia/Aggregation/Cell Year/FAO tables/Ethiopia main dataframe.csv\n"
     ]
    }
   ],
   "source": [
    "conflict_profile, df_annual_cleaned, insurance_table_df, annual_summary = aggregation_Country_Year_files(data_working_copy, 'Ethiopia', '3')"
   ]
  },
  {
   "cell_type": "code",
   "execution_count": 28,
   "metadata": {},
   "outputs": [
    {
     "name": "stdout",
     "output_type": "stream",
     "text": [
      "   c_id country_name  C_start_year  C_end_year       0\n",
      "0    57     Ethiopia          1993        2050  132397\n",
      "1   191     Ethiopia          1946        1993   22112\n",
      "the length of country_ids for the selected country is: 2\n",
      "   c_id country_name  C_start_year  C_end_year       0\n",
      "0    57     Ethiopia          1993        2050  132397\n",
      "1   191     Ethiopia          1946        1993   22112\n",
      "the length of country_ids for the selected country is: 2\n",
      "printing the country id and year dictionary for reference:\n",
      "{57: (1993, 2050), 191: (1946, 1993)}\n",
      "57\n",
      "The max year in the dataframe (max_year): 2022\n",
      "The min year in the dataframe (max_year): 1993\n",
      "the fields in sum_fatalities_annual:\n",
      "['pg_id', 'year', 'fatalities_sum']\n",
      "population_to_annual:\n",
      "['pg_id', 'year', 'pop_gpw_sum']\n",
      "Index where percapita_100k equals 1: 84: 1.0\n",
      "Directory '/Users/gbenz/Documents/VIEWS_FAO_index/notebooks/methods/Country_Results/Ethiopia/Aggregation/Cell Year/FAO tables' already exists.\n",
      "saving annual_summary table to: /Users/gbenz/Documents/VIEWS_FAO_index/notebooks/methods/Country_Results/Ethiopia/Aggregation/Cell Year/FAO tables/Ethiopia annual summary.csv\n",
      "saving insurance table to: /Users/gbenz/Documents/VIEWS_FAO_index/notebooks/methods/Country_Results/Ethiopia/Aggregation/Cell Year/FAO tables/Ethiopia insurance table.csv\n",
      "saving main dataframe table to: /Users/gbenz/Documents/VIEWS_FAO_index/notebooks/methods/Country_Results/Ethiopia/Aggregation/Cell Year/FAO tables/Ethiopia main dataframe.csv\n",
      "    percapita_100k       p_i       P_i        E_i   E_i_voxels\n",
      "0           6774.7  0.000777  0.032872  30.421388  1287.000000\n",
      "1           5025.9  0.001554  0.064687  15.459058   643.500000\n",
      "2           2613.6  0.002331  0.095479  10.473473   429.000000\n",
      "3           1743.5  0.003108  0.125281   7.982075   321.750000\n",
      "4            882.5  0.003885  0.154122   6.488353   257.400000\n",
      "..             ...       ...       ...        ...          ...\n",
      "95             5.0  0.084693  0.977748   1.022758    11.807339\n",
      "96             4.7  0.086247  0.979316   1.021121    11.594595\n",
      "97             4.6  0.088578  0.981467   1.018883    11.289474\n",
      "98             4.5  0.090909  0.983400   1.016880    11.000000\n",
      "99             4.2  0.092463  0.984577   1.015664    10.815126\n",
      "\n",
      "[100 rows x 5 columns]\n",
      "   Intended Return Period  Closest E_i  percapita_100k  Observations  \\\n",
      "0                       5          4.8           195.7             4   \n",
      "1                      10         10.5          2613.6             1   \n",
      "2                      20         15.5          5025.9             1   \n",
      "3                      30         30.4          6774.7             1   \n",
      "\n",
      "      Payout  \n",
      "0  Undefined  \n",
      "1  Undefined  \n",
      "2  Undefined  \n",
      "3  Undefined  \n",
      "Directory '/Users/gbenz/Documents/VIEWS_FAO_index/notebooks/methods/Country_Results/Ethiopia/Aggregation/Event year/FAO tables' already exists.\n",
      "saving insurance table to: /Users/gbenz/Documents/VIEWS_FAO_index/notebooks/methods/Country_Results/Ethiopia/Aggregation/Event year/FAO tables/EthiopiaEvent year insurance table.csv\n",
      "saving main dataframe table to: /Users/gbenz/Documents/VIEWS_FAO_index/notebooks/methods/Country_Results/Ethiopia/Aggregation/Event year/FAO tables/Ethiopia Event year probabilities.csv\n"
     ]
    }
   ],
   "source": [
    "for country in countries:\n",
    "\n",
    "    conflict_profile, aggregation_annual__country, insurance_table_df, annual_summary = aggregation_Country_Year_files(data_working_copy, country, '3')\n",
    "\n",
    "    #This cell is exclusively working with E_i values (Return Period by Cell)\n",
    "    aggregation_annual__country_renamed = aggregation_annual__country.rename(columns={'GIS__Index': 'priogrid_gid'})\n",
    "    cumulative_distribution = calculate_cumulative_distribution(aggregation_annual__country_renamed, 'percapita_100k')\n",
    "\n",
    "    #calculate_probabilities(cumulative_distribution, data, id_column='percapita_100k'):\n",
    "    probabilities = calculate_probabilities(cumulative_distribution, aggregation_annual__country_renamed, 'priogrid_gid')\n",
    "    #print(probabilities)\n",
    "    probabilities['E_i'] = calculate_expected_time_periods(probabilities['P_i'])\n",
    "    # Calculate E_i^voxels\n",
    "    probabilities['E_i_voxels'] = calculate_expected_voxels(probabilities['p_i'])\n",
    "    probabilities_renamed = probabilities.rename(columns={'value': 'percapita_100k'})\n",
    "    print(probabilities_renamed.head(100))\n",
    "\n",
    "    probabilities_with_empirical = compare_empirical_vs_expected(aggregation_annual__country_renamed, probabilities_renamed)\n",
    "    probabilities_with_empirical_sorted = probabilities_with_empirical.sort_values(by='E_i_value')\n",
    "    subset_E_i = probabilities_with_empirical_sorted[probabilities_with_empirical_sorted['E_i_value'] >= 4.0]\n",
    "    insurance_from_E_i = insurance_table_for_E_i([5,10,20,30], subset_E_i, aggregation_annual__country_renamed)\n",
    "    insurance_from_E_i = insurance_from_E_i.round({\n",
    "        'Closest E_i': 1,\n",
    "        'percapita_100k': 1,\n",
    "    })\n",
    "    print(insurance_from_E_i)\n",
    "    #-----------------------------------------------------------------------------------------------------------------------------------\n",
    "#----- SET DIRECTORIES \n",
    "#-----------------------------------------------------------------------------------------------------------------------------------\n",
    "#----- THIS SETS A DIRECTORY THAT IS UNIQUE FOR AGGREGATION METHOD ----\n",
    "#-----------------------------------------------------------------------------------------------------------------------------------\n",
    "#----- <<< working just with the 'Cell Year' Return Period Process >>>-\n",
    "    output_path = base_dir + '/notebooks/methods/Country_Results/' + country + f'/Aggregation/Event year/FAO tables/'\n",
    "    ensure_directory_exists(output_path)\n",
    "#-----------------------------------------------------------------------------------------------------------------------------------\n",
    "    E_i_insurance_table_file_path = output_path + country + 'Event year insurance table.csv'\n",
    "    print(f'saving insurance table to: {E_i_insurance_table_file_path}')\n",
    "#-----------------------------------------------------------------------------------------------------------------------------------\n",
    "    event_year_probabilities_file_path = output_path + country + ' Event year probabilities.csv'\n",
    "    print(f'saving main dataframe table to: {event_year_probabilities_file_path}')\n",
    "#-----------------------------------------------------------------------------------------------------------------------------------\n",
    "#-----------------------------------------------------------------------------------------------------------------------------------\n",
    "#----- NOW WE WRITE TO THE FOLDERS. -----------------------------------\n",
    "    insurance_from_E_i.to_csv(E_i_insurance_table_file_path)\n",
    "    probabilities_with_empirical_sorted.to_csv(event_year_probabilities_file_path)\n",
    "\n"
   ]
  },
  {
   "cell_type": "code",
   "execution_count": 32,
   "metadata": {},
   "outputs": [
    {
     "name": "stdout",
     "output_type": "stream",
     "text": [
      "   c_id country_name  C_start_year  C_end_year       0\n",
      "0    57     Ethiopia          1993        2050  132397\n",
      "1   191     Ethiopia          1946        1993   22112\n",
      "the length of country_ids for the selected country is: 2\n",
      "   c_id country_name  C_start_year  C_end_year       0\n",
      "0    57     Ethiopia          1993        2050  132397\n",
      "1   191     Ethiopia          1946        1993   22112\n",
      "the length of country_ids for the selected country is: 2\n",
      "printing the country id and year dictionary for reference:\n",
      "{57: (1993, 2050), 191: (1946, 1993)}\n",
      "57\n",
      "The max year in the dataframe (max_year): 2022\n",
      "The min year in the dataframe (max_year): 1993\n",
      "the fields in sum_fatalities_annual:\n",
      "['pg_id', 'year', 'fatalities_sum']\n",
      "population_to_annual:\n",
      "['pg_id', 'year', 'pop_gpw_sum']\n",
      "Index where percapita_100k equals 1: 84: 1.0\n",
      "Directory '/Users/gbenz/Documents/VIEWS_FAO_index/notebooks/methods/Country_Results/Ethiopia/Aggregation/Cell Year/FAO tables' already exists.\n",
      "saving annual_summary table to: /Users/gbenz/Documents/VIEWS_FAO_index/notebooks/methods/Country_Results/Ethiopia/Aggregation/Cell Year/FAO tables/Ethiopia annual summary.csv\n",
      "saving insurance table to: /Users/gbenz/Documents/VIEWS_FAO_index/notebooks/methods/Country_Results/Ethiopia/Aggregation/Cell Year/FAO tables/Ethiopia insurance table.csv\n",
      "saving main dataframe table to: /Users/gbenz/Documents/VIEWS_FAO_index/notebooks/methods/Country_Results/Ethiopia/Aggregation/Cell Year/FAO tables/Ethiopia main dataframe.csv\n",
      "    percapita_100k       p_i       P_i        E_i   E_i_voxels\n",
      "0           6774.7  0.000777  0.032872  30.421388  1287.000000\n",
      "1           5025.9  0.001554  0.064687  15.459058   643.500000\n",
      "2           2613.6  0.002331  0.095479  10.473473   429.000000\n",
      "3           1743.5  0.003108  0.125281   7.982075   321.750000\n",
      "4            882.5  0.003885  0.154122   6.488353   257.400000\n",
      "..             ...       ...       ...        ...          ...\n",
      "95             5.0  0.084693  0.977748   1.022758    11.807339\n",
      "96             4.7  0.086247  0.979316   1.021121    11.594595\n",
      "97             4.6  0.088578  0.981467   1.018883    11.289474\n",
      "98             4.5  0.090909  0.983400   1.016880    11.000000\n",
      "99             4.2  0.092463  0.984577   1.015664    10.815126\n",
      "\n",
      "[100 rows x 5 columns]\n",
      "Directory '/Users/gbenz/Documents/VIEWS_FAO_index/notebooks/methods/Country_Results/Ethiopia/Aggregation/Event year/FAO tables' already exists.\n",
      "saving insurance table to: /Users/gbenz/Documents/VIEWS_FAO_index/notebooks/methods/Country_Results/Ethiopia/Aggregation/Event year/FAO tables/EthiopiaEvent year insurance table.csv\n",
      "saving main dataframe table to: /Users/gbenz/Documents/VIEWS_FAO_index/notebooks/methods/Country_Results/Ethiopia/Aggregation/Event year/FAO tables/Ethiopia Event year probabilities.csv\n"
     ]
    }
   ],
   "source": [
    "conflict_profile, aggregation_annual__country_renamed, annual_summary, insurance_from_E_i = aggregation_Event_Year_files(data_working_copy, 'Ethiopia', 'Aggregation', '3')"
   ]
  }
 ],
 "metadata": {
  "kernelspec": {
   "display_name": "viewser",
   "language": "python",
   "name": "python3"
  },
  "language_info": {
   "codemirror_mode": {
    "name": "ipython",
    "version": 3
   },
   "file_extension": ".py",
   "mimetype": "text/x-python",
   "name": "python",
   "nbconvert_exporter": "python",
   "pygments_lexer": "ipython3",
   "version": "3.11.9"
  }
 },
 "nbformat": 4,
 "nbformat_minor": 2
}
