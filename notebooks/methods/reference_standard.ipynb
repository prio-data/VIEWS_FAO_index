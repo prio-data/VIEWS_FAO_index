{
 "cells": [
  {
   "cell_type": "markdown",
   "metadata": {},
   "source": [
    "## Standard Method Notebook\n",
    "\n",
    "### Overview: "
   ]
  },
  {
   "cell_type": "markdown",
   "metadata": {},
   "source": [
    "##### Import necessary functions\n",
    "\n",
    "These functions are stored in src/utils and contain intuitive folders hosting functions. The working directory should be set to the VIEWS_FAO_INDEX folder to enable access to retrieve these .py files."
   ]
  },
  {
   "cell_type": "code",
   "execution_count": 1,
   "metadata": {},
   "outputs": [],
   "source": [
    "import pandas as pd\n",
    "import os\n",
    "import sys\n",
    "from pathlib import Path\n",
    "import matplotlib.pyplot as plt\n",
    "# # Get the current working directory\n",
    "# current_directory = os.getcwd()\n",
    "\n",
    "# # Print the current working directory\n",
    "# print(\"The current Working Directory is:\", current_directory)\n",
    "\n",
    "# # Get the path to the base directory (VIEWS_FAO_index)\n",
    "# base_dir = os.path.abspath(os.path.join(os.getcwd(), '..', '..'))\n",
    "# print(f'The base directory will be set to: {base_dir}')\n",
    "\n",
    "# # Add the base directory to sys.path\n",
    "# sys.path.insert(0, base_dir)\n"
   ]
  },
  {
   "cell_type": "code",
   "execution_count": 2,
   "metadata": {},
   "outputs": [],
   "source": [
    "# Jupyter Notebook solution  --------------------------------------------------------------------------------------------\n",
    "notebook_dir = os.getcwd() # notebook specific\n",
    "notebook_name = \"reference_standard.ipynb\" # notebook specific name\n",
    "\n",
    "PATH = Path(notebook_dir) / Path(notebook_name) # notebook specific\n",
    "\n",
    "# alt script version -----------------------------------------------------------------------------------------------------\n",
    "# PATH = Path(__file__)\n",
    "\n",
    "# Common for notebooks and scripts alike\n",
    "sys.path.insert(0, str(Path(*[i for i in PATH.parts[:PATH.parts.index(\"VIEWS_FAO_index\")+1]]) / \"src/utils\"))   \n",
    "\n",
    "from set_paths import setup_project_paths, get_logo_path, get_data_paths, setup_root_paths, get_plot_path\n",
    "setup_project_paths(PATH)"
   ]
  },
  {
   "cell_type": "markdown",
   "metadata": {},
   "source": [
    "## Access public ViEWS data to support `1x1` analysis:\n",
    "\n",
    "### Consult the  `starter_notebook.ipynb` for information on running `main.py`. Doing so is a precondition for operating this notebook.\n",
    "\n",
    "**If you have not yet run `main.py`, please do so now.** You can, of course, get the VIEWS-FAO data through the Google Cloud Storage links provided in the repository's root README, but the `main.py` interface will give you more choices and information. For instance, it will allow you to check whether your data is in the expected directory, how your library versions compare to those used by the developers of this repository, and allow you to download and process the data directly. This currently takes as long as 20 minutes because a host of different tests are applied to check the integrity of the data and the transformations involved in the processing steps. Future versions will allow you to forego these tests, but as we are still in very active development, the tests are considered mandatory.\n",
    "\n",
    "**Welcome back!** Hopefully, `main.py` was able to execute flawlessly, and you're all set up now. If you were not able to execute `main.py` to your satisfaction, see the root README file for contact information for the project owner and team lead of this repository.\n",
    "\n",
    "**Let's move on!**"
   ]
  },
  {
   "cell_type": "code",
   "execution_count": 3,
   "metadata": {},
   "outputs": [
    {
     "name": "stdout",
     "output_type": "stream",
     "text": [
      "/Users/gbenz/Documents/VIEWS_FAO_index/data/raw_viewser\n",
      "/Users/gbenz/Documents/VIEWS_FAO_index/data/raw_external\n",
      "/Users/gbenz/Documents/VIEWS_FAO_index/data/processed\n",
      "/Users/gbenz/Documents/VIEWS_FAO_index/data/generated\n",
      "/Users/gbenz/Documents/VIEWS_FAO_index\n"
     ]
    }
   ],
   "source": [
    "PATH_RAW_VIEWSER, PATH_RAW_EXTERNAL, PATH_PROCESSED, PATH_GENERATED = get_data_paths(PATH)\n",
    "PATH_ROOT = setup_root_paths(PATH)\n",
    "\n",
    "# lest print the paths\n",
    "print(PATH_RAW_VIEWSER)\n",
    "print(PATH_RAW_EXTERNAL)\n",
    "print(PATH_PROCESSED)\n",
    "print(PATH_GENERATED) \n",
    "#-----\n",
    "print(PATH_ROOT)"
   ]
  },
  {
   "cell_type": "code",
   "execution_count": 4,
   "metadata": {},
   "outputs": [
    {
     "name": "stdout",
     "output_type": "stream",
     "text": [
      "The current Working Directory is: /Users/gbenz/Documents/VIEWS_FAO_index/notebooks/methods\n",
      "The base directory will be set to: /Users/gbenz/Documents/VIEWS_FAO_index\n",
      "The current Working Directory is: /Users/gbenz/Documents/VIEWS_FAO_index/notebooks/methods\n",
      "The base directory will be set to: /Users/gbenz/Documents/VIEWS_FAO_index\n",
      "The current Working Directory is: /Users/gbenz/Documents/VIEWS_FAO_index/notebooks/methods\n",
      "The base directory will be set to: /Users/gbenz/Documents/VIEWS_FAO_index\n"
     ]
    }
   ],
   "source": [
    "#Functions necessary for all methods:\n",
    "from src.utils.universal_functions.setup.generate_base_file import give_primary_frame\n",
    "from src.utils.universal_functions.setup.associate_country_id import associate_country_years, pull_from_c_y_dictionary\n",
    "from src.utils.universal_functions.setup.build_directory import ensure_directory_exists\n",
    "\n",
    "#Functions to generate the insurance table requested by FAO partners:\n",
    "from src.utils.universal_functions.FAO_table_formatting.calculate_percentiles import format_stats, clean_percentile_table\n",
    "from src.utils.universal_functions.FAO_table_formatting.generate_output_tables import insurance_table, annual_summary_table\n",
    "\n",
    "#Functions bespoke to standard method:\n",
    "from src.utils.functions_for_method_standard.standard_per_capita_fatalities import native_per_capita_fatalities\n",
    "\n",
    "#function to calculate Ei & big P return period\n",
    "from src.utils.functions_for_single_cell_return_period.cell_return_period import calculate_cumulative_distribution, calculate_probabilities, calculate_expected_time_periods, calculate_expected_voxels, compare_empirical_vs_expected\n",
    "from src.utils.functions_for_single_cell_return_period.Ei_insurance_table_setup import insurance_table_for_E_i\n",
    "\n",
    "#summary function that is templated by preceding code:\n",
    "from src.utils.functions_for_return_periods.insurance_products_for_RP import standard_Country_Year_files, standard_Event_Year_files"
   ]
  },
  {
   "cell_type": "markdown",
   "metadata": {},
   "source": [
    "### First, we define our primary dataframe. \n",
    "\n",
    "The variable 'data' is developed from two querysets 1. Fatalities_fao_pgm and 2. cm_properties which are required in order to capture fatality attributes and unique country identifiers, including start and end years for boundary changes.\n",
    "\n",
    "Year parameters can be adapted to incorporate future annual releases of Uppsala Conflict Data Program (UCDP) Geospatial Events Database (GED) data or constrain the temporal window for unique applications. The recommendation is to capture data from the full extent, which at the time of this release is 1989 - 2023."
   ]
  },
  {
   "cell_type": "code",
   "execution_count": null,
   "metadata": {},
   "outputs": [],
   "source": [
    "df_monthly = pd.read_pickle(PATH_GENERATED / \"df_monthly_country_return_periods.pkl\")\n",
    "df_yearly = pd.read_pickle(PATH_GENERATED / \"df_yearly_country_return_periods.pkl\")"
   ]
  },
  {
   "cell_type": "markdown",
   "metadata": {},
   "source": [
    "#### Alternatively, if you are in the ViEWS family operating this notebook. The data may be retrieved directly from our server:"
   ]
  },
  {
   "cell_type": "code",
   "execution_count": 5,
   "metadata": {},
   "outputs": [
    {
     "name": "stderr",
     "output_type": "stream",
     "text": [
      "100%|██████████| 40.0M/40.0M [00:02<00:00, 16.3MB/s]\n"
     ]
    },
    {
     "name": "stdout",
     "output_type": "stream",
     "text": [
      "Queryset Fatalities_fao_pgm read successfully \n",
      "Queryset cm_properties read successfully \n"
     ]
    },
    {
     "name": "stderr",
     "output_type": "stream",
     "text": [
      "/Users/gbenz/miniforge3/envs/viewser/lib/python3.11/site-packages/ingester3/scratch.py:31: UserWarning: No database connection! Will try to use cache for read-only ops as much as I can\n",
      "  warnings.warn(\"No database connection! Will try to use cache for read-only ops as much as I can\")\n"
     ]
    },
    {
     "name": "stdout",
     "output_type": "stream",
     "text": [
      "['month_id', 'pg_id', 'country_name', 'C_start_year', 'C_end_year', 'pop_gpw_sum', 'ged_sb', 'ged_ns', 'ged_os', 'year', 'fatalities_sum', 'country_id']\n"
     ]
    }
   ],
   "source": [
    "data = give_primary_frame('Fatalities_fao_pgm', 'cm_properties', 1988, 2023)"
   ]
  },
  {
   "cell_type": "markdown",
   "metadata": {},
   "source": [
    "#### Make a copy of the variable data to keep a clean version accesible."
   ]
  },
  {
   "cell_type": "code",
   "execution_count": 6,
   "metadata": {},
   "outputs": [],
   "source": [
    "data_working_copy = data"
   ]
  },
  {
   "cell_type": "markdown",
   "metadata": {},
   "source": [
    "#### Specifiy countries to investigate"
   ]
  },
  {
   "cell_type": "code",
   "execution_count": 7,
   "metadata": {},
   "outputs": [],
   "source": [
    "countries = ['Burkina Faso']"
   ]
  },
  {
   "cell_type": "markdown",
   "metadata": {},
   "source": [
    "#### Process for Country Year Return Period:"
   ]
  },
  {
   "cell_type": "code",
   "execution_count": 12,
   "metadata": {},
   "outputs": [
    {
     "name": "stdout",
     "output_type": "stream",
     "text": [
      "working on: Burkina Faso\n",
      "   c_id  country_name  C_start_year  C_end_year      0\n",
      "0    47  Burkina Faso          1960        2050  35496\n",
      "the length of country_ids for the selected country is: 1\n",
      "printing he country and year dictionary:\n",
      "{47: (1960, 2050)}\n",
      "Index where fatalities_sum equals 1: 94.2: 1.0\n",
      "Directory '/Users/gbenz/Documents/VIEWS_FAO_index/notebooks/methods/Country_Results/Burkina Faso/Standard/Country Year/FAO tables' already exists.\n",
      "saving annual_summary table to: /Users/gbenz/Documents/VIEWS_FAO_index/notebooks/methods/Country_Results/Burkina Faso/Standard/Country Year/FAO tables/Burkina Faso annual summary.csv\n",
      "saving insurance table to: /Users/gbenz/Documents/VIEWS_FAO_index/notebooks/methods/Country_Results/Burkina Faso/Standard/Country Year/FAO tables/Burkina Faso insurance table.csv\n",
      "saving main dataframe table to: /Users/gbenz/Documents/VIEWS_FAO_index/notebooks/methods/Country_Results/Burkina Faso/Standard/Country Year/FAO tables/Burkina Faso main dataframe.csv\n"
     ]
    }
   ],
   "source": [
    "for country in countries:\n",
    "    print('working on: '+ country)\n",
    "\n",
    "#   First:\n",
    "#   1. Aggregate the standard PRIO-Grid scale to a courser resolution\n",
    "    country_and_year_dictionary = associate_country_years(data_working_copy, country)\n",
    "    print('printing he country and year dictionary:')\n",
    "    print(country_and_year_dictionary)\n",
    "#-----------------------------------------------------------------------------------------------------------------------------------\n",
    "#   Second:\n",
    "#       1. Subset designated country in list. This requires examining country_id information and corresponding start and end years. \n",
    "#   Some countries contain more than one country_id. The functions employed in this section identify the most recent country range and \n",
    "#   subset the neccesary temporal ranges.\n",
    "#-----------------------------------------------------------------------------------------------------------------------------------\n",
    "#-----------------------------------------------------------------------------------------------------------------------------------\n",
    "    cid_int = pull_from_c_y_dictionary(country_and_year_dictionary)\n",
    "    subset_to_country = data_working_copy[data_working_copy['country_id'] == cid_int]\n",
    "    conflict_profile = {col: subset_to_country[col].sum() for col in ['ged_sb', 'ged_ns', 'ged_os', 'fatalities_sum']}\n",
    "\n",
    "    df_annual = native_per_capita_fatalities(subset_to_country)\n",
    "    df_annual['percapita_100k'] = df_annual['percapita_100k'].round(1)\n",
    "\n",
    "    percentile_df = format_stats(df_annual, field_to_describe='fatalities_sum') #or 'percapita_100k'\n",
    "    filtered_x = clean_percentile_table(percentile_df)\n",
    "    insurance_table_df = insurance_table(filtered_x, df_annual, ['90','95','98','99','100'], attribute_to_explore= 'fatalities_sum') #uses the default attribute = percapita_100k and appened_1_value = yes\n",
    "    annual_summary = annual_summary_table(df_annual, 'standard', fat_or_pcf='fatalities_sum') #or 'percapita_100k'\n",
    "#-----------------------------------------------------------------------------------------------------------------------------------\n",
    "#----- SET DIRECTORIES \n",
    "#-----------------------------------------------------------------------------------------------------------------------------------\n",
    "#----- THIS SETS A DIRECTORY THAT IS UNIQUE UNIQUE STANDARD METHOD ----\n",
    "#-----------------------------------------------------------------------------------------------------------------------------------\n",
    "#----- <<< working just with the 'Cell Year' Return Period Process >>>-\n",
    "    output_path = PATH_ROOT / 'notebooks/methods/Country_Results' / country / 'Standard/Country Year/FAO tables/'\n",
    "    ensure_directory_exists(output_path)\n",
    "#-----------------------------------------------------------------------------------------------------------------------------------\n",
    "    annual_summary_file_path = output_path /  f'{country} annual summary.csv'\n",
    "    print(f'saving annual_summary table to: {annual_summary_file_path}')\n",
    "#-----------------------------------------------------------------------------------------------------------------------------------\n",
    "    insurance_table_file_path = output_path / f'{country} insurance table.csv'\n",
    "    print(f'saving insurance table to: {insurance_table_file_path}')\n",
    "#-----------------------------------------------------------------------------------------------------------------------------------\n",
    "    main_dataframe_file_path = output_path / f'{country} main dataframe.csv'\n",
    "    print(f'saving main dataframe table to: {main_dataframe_file_path}')\n",
    "#-----------------------------------------------------------------------------------------------------------------------------------\n",
    "#-----------------------------------------------------------------------------------------------------------------------------------\n",
    "#----- NOW WE WRITE TO THE FOLDERS. -----------------------------------\n",
    "    annual_summary.to_csv(annual_summary_file_path)\n",
    "    insurance_table_df.to_csv(insurance_table_file_path)\n",
    "    df_annual.to_csv(main_dataframe_file_path)"
   ]
  },
  {
   "cell_type": "code",
   "execution_count": 13,
   "metadata": {},
   "outputs": [
    {
     "name": "stdout",
     "output_type": "stream",
     "text": [
      "   c_id country_name  C_start_year  C_end_year       0\n",
      "0    57     Ethiopia          1993        2050  132397\n",
      "1   191     Ethiopia          1946        1993   22112\n",
      "the length of country_ids for the selected country is: 2\n",
      "printing he country and year dictionary:\n",
      "{57: (1993, 2050), 191: (1946, 1993)}\n",
      "Index where fatalities_sum equals 1: 94.5: 1.0\n",
      "Directory '/Users/gbenz/Documents/VIEWS_FAO_index/notebooks/methods/Country_Results/Ethiopia/Standard/Country Year/FAO tables' already exists.\n",
      "saving annual_summary table to: /Users/gbenz/Documents/VIEWS_FAO_index/notebooks/methods/Country_Results/Ethiopia/Standard/Country Year/FAO tables/Ethiopia annual summary.csv\n",
      "saving insurance table to: /Users/gbenz/Documents/VIEWS_FAO_index/notebooks/methods/Country_Results/Ethiopia/Standard/Country Year/FAO tables/Ethiopia insurance table.csv\n",
      "saving main dataframe table to: /Users/gbenz/Documents/VIEWS_FAO_index/notebooks/methods/Country_Results/Ethiopia/Standard/Country Year/FAO tables/Ethiopia main dataframe.csv\n"
     ]
    }
   ],
   "source": [
    "conflict_profile, df_annual, annual_summary, insurance_table_df = standard_Country_Year_files(data_working_copy, 'Ethiopia', 'fatalities_sum')"
   ]
  },
  {
   "cell_type": "markdown",
   "metadata": {},
   "source": [
    "#### Process for Event Year Return Period:"
   ]
  },
  {
   "cell_type": "code",
   "execution_count": 14,
   "metadata": {},
   "outputs": [
    {
     "name": "stdout",
     "output_type": "stream",
     "text": [
      "   c_id  country_name  C_start_year  C_end_year      0\n",
      "0    47  Burkina Faso          1960        2050  35496\n",
      "the length of country_ids for the selected country is: 1\n",
      "printing he country and year dictionary:\n",
      "{47: (1960, 2050)}\n",
      "Index where fatalities_sum equals 1: 94.2: 1.0\n",
      "Directory '/Users/gbenz/Documents/VIEWS_FAO_index/notebooks/methods/Country_Results/Burkina Faso/Standard/Country Year/FAO tables' already exists.\n",
      "saving annual_summary table to: /Users/gbenz/Documents/VIEWS_FAO_index/notebooks/methods/Country_Results/Burkina Faso/Standard/Country Year/FAO tables/Burkina Faso annual summary.csv\n",
      "saving insurance table to: /Users/gbenz/Documents/VIEWS_FAO_index/notebooks/methods/Country_Results/Burkina Faso/Standard/Country Year/FAO tables/Burkina Faso insurance table.csv\n",
      "saving main dataframe table to: /Users/gbenz/Documents/VIEWS_FAO_index/notebooks/methods/Country_Results/Burkina Faso/Standard/Country Year/FAO tables/Burkina Faso main dataframe.csv\n",
      "    fatalities_sum       p_i       P_i        E_i   E_i_voxels\n",
      "0            283.0  0.000338  0.028988  34.496704  2958.000000\n",
      "1            276.0  0.000676  0.057146  17.499156  1479.000000\n",
      "2            206.0  0.001014  0.084496  11.834941   986.000000\n",
      "3            189.0  0.001352  0.111061   9.004060   739.500000\n",
      "4            177.0  0.002028  0.161927   6.175631   493.000000\n",
      "..             ...       ...       ...        ...          ...\n",
      "70             4.0  0.048005  0.986158   1.014036    20.830986\n",
      "71             3.0  0.050710  0.989193   1.010925    19.720000\n",
      "72             2.0  0.053076  0.991302   1.008774    18.840764\n",
      "73             1.0  0.058824  0.994879   1.005148    17.000000\n",
      "74             0.0  1.000000  1.000000   1.000000     1.000000\n",
      "\n",
      "[75 rows x 5 columns]\n",
      "Directory '/Users/gbenz/Documents/VIEWS_FAO_index/notebooks/methods/Country_Results/Burkina Faso/Standard/Event year/FAO tables' already exists.\n",
      "saving insurance table to: /Users/gbenz/Documents/VIEWS_FAO_index/notebooks/methods/Country_Results/Burkina Faso/Standard/Event year/FAO tables/Burkina Faso Event year insurance table.csv\n",
      "saving main dataframe table to: /Users/gbenz/Documents/VIEWS_FAO_index/notebooks/methods/Country_Results/Burkina Faso/Standard/Event year/FAO tables/Event year probabilities.csv\n"
     ]
    }
   ],
   "source": [
    "for country in countries:\n",
    "\n",
    "    conflict_profile, df_annual, annual_summary, insurance_table_df = standard_Country_Year_files(data, country, 'fatalities_sum') #or 'percapita_100k'\n",
    "\n",
    "    df_annual = df_annual.rename(columns={'GIS__Index': 'priogrid_gid'})\n",
    "    cumulative_distribution = calculate_cumulative_distribution(df_annual, 'fatalities_sum') #or 'percapita_100k'\n",
    "\n",
    "    #calculate_probabilities(cumulative_distribution, data, id_column='percapita_100k'):\n",
    "    probabilities = calculate_probabilities(cumulative_distribution, df_annual, 'pg_id')\n",
    "    #print(probabilities)\n",
    "    probabilities['E_i'] = calculate_expected_time_periods(probabilities['P_i'])\n",
    "    # Calculate E_i^voxels\n",
    "    probabilities['E_i_voxels'] = calculate_expected_voxels(probabilities['p_i'])\n",
    "    probabilities_renamed = probabilities.rename(columns={'value': 'fatalities_sum'}) #or 'percapita_100k'\n",
    "    print(probabilities_renamed.head(100))\n",
    "\n",
    "    probabilities_with_empirical = compare_empirical_vs_expected(df_annual, probabilities_renamed, time_column='year', value_column='fatalities_sum') #or 'percapita_100k'\n",
    "    probabilities_with_empirical_sorted = probabilities_with_empirical.sort_values(by='E_i_value')\n",
    "    subset_E_i = probabilities_with_empirical_sorted[probabilities_with_empirical_sorted['E_i_value'] >= 4.0]\n",
    "    insurance_from_E_i = insurance_table_for_E_i([5,10,20,30], subset_E_i, df_annual, value_field='fatalities_sum') #or 'percapita_100k'\n",
    "    insurance_from_E_i = insurance_from_E_i.round({\n",
    "        'closest r.p.': 1,\n",
    "        'fatalities_sum': 1, #or 'percapita_100k'\n",
    "    })\n",
    "#-----------------------------------------------------------------------------------------------------------------------------------\n",
    "#----- SET DIRECTORIES \n",
    "#-----------------------------------------------------------------------------------------------------------------------------------\n",
    "#----- THIS SETS A DIRECTORY THAT IS UNIQUE FOR AGGREGATION METHOD ----\n",
    "#-----------------------------------------------------------------------------------------------------------------------------------\n",
    "#----- <<< working just with the 'Cell Year' Return Period Process >>>-\n",
    "    output_path = PATH_ROOT / 'notebooks/methods/Country_Results' / country / 'Standard/Event year/FAO tables/'\n",
    "    ensure_directory_exists(output_path)\n",
    "#-----------------------------------------------------------------------------------------------------------------------------------\n",
    "    E_i_insurance_table_file_path = output_path / f'{country} Event year insurance table.csv'\n",
    "    print(f'saving insurance table to: {E_i_insurance_table_file_path}')\n",
    "#-----------------------------------------------------------------------------------------------------------------------------------\n",
    "    event_year_probabilities_file_path = output_path / 'Event year probabilities.csv'\n",
    "    print(f'saving main dataframe table to: {event_year_probabilities_file_path}')\n",
    "#-----------------------------------------------------------------------------------------------------------------------------------\n",
    "#-----------------------------------------------------------------------------------------------------------------------------------\n",
    "#----- NOW WE WRITE TO THE FOLDERS. -----------------------------------\n",
    "    insurance_from_E_i.to_csv(E_i_insurance_table_file_path)\n",
    "    probabilities_with_empirical_sorted.to_csv(event_year_probabilities_file_path)\n"
   ]
  },
  {
   "cell_type": "code",
   "execution_count": 15,
   "metadata": {},
   "outputs": [
    {
     "name": "stdout",
     "output_type": "stream",
     "text": [
      "   c_id country_name  C_start_year  C_end_year       0\n",
      "0    57     Ethiopia          1993        2050  132397\n",
      "1   191     Ethiopia          1946        1993   22112\n",
      "the length of country_ids for the selected country is: 2\n",
      "printing he country and year dictionary:\n",
      "{57: (1993, 2050), 191: (1946, 1993)}\n",
      "Index where fatalities_sum equals 1: 94.5: 1.0\n",
      "Directory '/Users/gbenz/Documents/VIEWS_FAO_index/notebooks/methods/Country_Results/Ethiopia/Standard/Country Year/FAO tables' already exists.\n",
      "saving annual_summary table to: /Users/gbenz/Documents/VIEWS_FAO_index/notebooks/methods/Country_Results/Ethiopia/Standard/Country Year/FAO tables/Ethiopia annual summary.csv\n",
      "saving insurance table to: /Users/gbenz/Documents/VIEWS_FAO_index/notebooks/methods/Country_Results/Ethiopia/Standard/Country Year/FAO tables/Ethiopia insurance table.csv\n",
      "saving main dataframe table to: /Users/gbenz/Documents/VIEWS_FAO_index/notebooks/methods/Country_Results/Ethiopia/Standard/Country Year/FAO tables/Ethiopia main dataframe.csv\n",
      "    fatalities_sum       p_i       P_i        E_i    E_i_voxels\n",
      "0         157317.0  0.000089  0.035206  28.404483  11189.000000\n",
      "1         116450.0  0.000179  0.069175  14.456098   5594.500000\n",
      "2           2012.0  0.000268  0.101951   9.808627   3729.666667\n",
      "3           1830.0  0.000357  0.133576   7.486383   2797.250000\n",
      "4           1428.0  0.000447  0.164090   6.094230   2237.800000\n",
      "..             ...       ...       ...        ...           ...\n",
      "95            48.0  0.011261  0.989340   1.010774     88.801587\n",
      "96            47.0  0.011350  0.989720   1.010387     88.102362\n",
      "97            45.0  0.011440  0.990086   1.010013     87.414062\n",
      "98            44.0  0.011619  0.990779   1.009306     86.069231\n",
      "99            43.0  0.011976  0.992025   1.008040     83.500000\n",
      "\n",
      "[100 rows x 5 columns]\n",
      "Directory '/Users/gbenz/Documents/VIEWS_FAO_index/notebooks/methods/Country_Results/Ethiopia/Standard/Event year/FAO tables' already exists.\n",
      "saving insurance table to: /Users/gbenz/Documents/VIEWS_FAO_index/notebooks/methods/Country_Results/Ethiopia/Standard/Event year/FAO tables/EthiopiaEvent year insurance table.csv\n",
      "saving main dataframe table to: /Users/gbenz/Documents/VIEWS_FAO_index/notebooks/methods/Country_Results/Ethiopia/Standard/Event year/FAO tables/ Event year probabilities.csv\n"
     ]
    }
   ],
   "source": [
    "conflict_profile, df_annual, annual_summary, insurance_from_E_i = standard_Event_Year_files(data_working_copy, 'Ethiopia', 'Standard', 'Event year', 'fatalities_sum')"
   ]
  }
 ],
 "metadata": {
  "kernelspec": {
   "display_name": "viewser",
   "language": "python",
   "name": "python3"
  },
  "language_info": {
   "codemirror_mode": {
    "name": "ipython",
    "version": 3
   },
   "file_extension": ".py",
   "mimetype": "text/x-python",
   "name": "python",
   "nbconvert_exporter": "python",
   "pygments_lexer": "ipython3",
   "version": "3.11.9"
  }
 },
 "nbformat": 4,
 "nbformat_minor": 2
}
