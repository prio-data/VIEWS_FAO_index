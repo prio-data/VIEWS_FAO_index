{
 "cells": [
  {
   "cell_type": "markdown",
   "metadata": {},
   "source": [
    "## Standard Method Notebook\n",
    "\n",
    "### Overview: "
   ]
  },
  {
   "cell_type": "markdown",
   "metadata": {},
   "source": [
    "##### Import necessary functions\n",
    "\n",
    "These functions are stored in src/utils and contain intuitive folders hosting functions. The working directory should be set to the VIEWS_FAO_INDEX folder to enable access to retrieve these .py files."
   ]
  },
  {
   "cell_type": "code",
   "execution_count": 1,
   "metadata": {},
   "outputs": [
    {
     "name": "stdout",
     "output_type": "stream",
     "text": [
      "The current Working Directory is: /Users/gbenz/Documents/VIEWS_FAO_index/notebooks/methods\n",
      "The base directory will be set to: /Users/gbenz/Documents/VIEWS_FAO_index\n"
     ]
    }
   ],
   "source": [
    "import os\n",
    "import sys\n",
    "\n",
    "# Get the current working directory\n",
    "current_directory = os.getcwd()\n",
    "\n",
    "# Print the current working directory\n",
    "print(\"The current Working Directory is:\", current_directory)\n",
    "\n",
    "# Get the path to the base directory (VIEWS_FAO_index)\n",
    "base_dir = os.path.abspath(os.path.join(os.getcwd(), '..', '..'))\n",
    "print(f'The base directory will be set to: {base_dir}')\n",
    "\n",
    "# Add the base directory to sys.path\n",
    "sys.path.insert(0, base_dir)"
   ]
  },
  {
   "cell_type": "code",
   "execution_count": 2,
   "metadata": {},
   "outputs": [
    {
     "name": "stdout",
     "output_type": "stream",
     "text": [
      "The current Working Directory is: /Users/gbenz/Documents/VIEWS_FAO_index/notebooks/methods\n",
      "The base directory will be set to: /Users/gbenz/Documents/VIEWS_FAO_index\n",
      "The current Working Directory is: /Users/gbenz/Documents/VIEWS_FAO_index/notebooks/methods\n",
      "The base directory will be set to: /Users/gbenz/Documents/VIEWS_FAO_index\n",
      "The current Working Directory is: /Users/gbenz/Documents/VIEWS_FAO_index/notebooks/methods\n",
      "The base directory will be set to: /Users/gbenz/Documents/VIEWS_FAO_index\n"
     ]
    }
   ],
   "source": [
    "import sys\n",
    "import os\n",
    "import pandas as pd\n",
    "import matplotlib.pyplot as plt\n",
    "\n",
    "#Functions necessary for all methods:\n",
    "from src.utils.universal_functions.setup.generate_base_file import give_primary_frame\n",
    "from src.utils.universal_functions.setup.associate_country_id import associate_country_years, pull_from_c_y_dictionary\n",
    "from src.utils.universal_functions.setup.build_directory import ensure_directory_exists\n",
    "\n",
    "#Functions to generate the insurance table requested by FAO partners:\n",
    "from src.utils.universal_functions.FAO_table_formatting.calculate_percentiles import format_stats, clean_percentile_table\n",
    "from src.utils.universal_functions.FAO_table_formatting.generate_output_tables import insurance_table, annual_summary_table\n",
    "\n",
    "#Functions bespoke to standard method:\n",
    "from src.utils.functions_for_method_standard.standard_per_capita_fatalities import native_per_capita_fatalities\n",
    "\n",
    "#Function for Event-Year Return Period process:\n",
    "from src.utils.functions_for_single_cell_return_period.cell_return_period import calculate_cumulative_distribution, calculate_probabilities, calculate_expected_time_periods, calculate_expected_voxels, compare_empirical_vs_expected\n",
    "from src.utils.functions_for_single_cell_return_period.Ei_insurance_table_setup import insurance_table_for_E_i\n",
    "\n",
    "#summary function that is templated by preceding code:\n",
    "from src.utils.functions_for_return_periods.insurance_products_for_RP import standard_Country_Year_files, standard_Event_Year_files"
   ]
  },
  {
   "cell_type": "markdown",
   "metadata": {},
   "source": [
    "### First, we define our primary dataframe. \n",
    "\n",
    "The variable 'data' is developed from two querysets 1. Fatalities_fao_pgm and 2. cm_properties which are required in order to capture fatality attributes and unique country identifiers, including start and end years for boundary changes.\n",
    "\n",
    "Year parameters can be adapted to incorporate future annual releases of Uppsala Conflict Data Program (UCDP) Geospatial Events Database (GED) data or constrain the temporal window for unique applications. The recommendation is to capture data from the full extent, which at the time of this release is 1989 - 2023."
   ]
  },
  {
   "cell_type": "code",
   "execution_count": 3,
   "metadata": {},
   "outputs": [
    {
     "name": "stderr",
     "output_type": "stream",
     "text": [
      "100%|██████████| 40.0M/40.0M [00:01<00:00, 24.8MB/s]\n"
     ]
    },
    {
     "name": "stdout",
     "output_type": "stream",
     "text": [
      "Queryset Fatalities_fao_pgm read successfully \n",
      "Queryset cm_properties read successfully \n"
     ]
    },
    {
     "name": "stderr",
     "output_type": "stream",
     "text": [
      "/Users/gbenz/miniforge3/envs/viewser/lib/python3.11/site-packages/ingester3/scratch.py:31: UserWarning: No database connection! Will try to use cache for read-only ops as much as I can\n",
      "  warnings.warn(\"No database connection! Will try to use cache for read-only ops as much as I can\")\n"
     ]
    },
    {
     "name": "stdout",
     "output_type": "stream",
     "text": [
      "['month_id', 'pg_id', 'country_name', 'C_start_year', 'C_end_year', 'pop_gpw_sum', 'ged_sb', 'ged_ns', 'ged_os', 'year', 'fatalities_sum', 'country_id']\n"
     ]
    }
   ],
   "source": [
    "data = give_primary_frame('Fatalities_fao_pgm', 'cm_properties', 1988, 2023)"
   ]
  },
  {
   "cell_type": "markdown",
   "metadata": {},
   "source": [
    "#### Make a copy of the variable data to keep a clean version accesible."
   ]
  },
  {
   "cell_type": "code",
   "execution_count": 4,
   "metadata": {},
   "outputs": [],
   "source": [
    "data_working_copy = data"
   ]
  },
  {
   "cell_type": "markdown",
   "metadata": {},
   "source": [
    "#### Specifiy countries to investigate"
   ]
  },
  {
   "cell_type": "code",
   "execution_count": 5,
   "metadata": {},
   "outputs": [],
   "source": [
    "countries = ['South Sudan']"
   ]
  },
  {
   "cell_type": "markdown",
   "metadata": {},
   "source": [
    "#### Process for Country Year Return Period:"
   ]
  },
  {
   "cell_type": "code",
   "execution_count": 6,
   "metadata": {},
   "outputs": [
    {
     "name": "stdout",
     "output_type": "stream",
     "text": [
      "working on: South Sudan\n",
      "   c_id country_name  C_start_year  C_end_year      0\n",
      "0   246  South Sudan          2011        2050  28096\n",
      "the length of country_ids for the selected country is: 1\n",
      "printing he country and year dictionary:\n",
      "{246: (2011, 2050)}\n",
      "Index where percapita_100k equals 1: 87.4: 1.5332000000000334\n",
      "Directory '/Users/gbenz/Documents/VIEWS_FAO_index/notebooks/methods/Country_Results/South Sudan/Standard/Country Year/FAO tables' already exists.\n",
      "saving annual_summary table to: /Users/gbenz/Documents/VIEWS_FAO_index/notebooks/methods/Country_Results/South Sudan/Standard/Country Year/FAO tables/South Sudan annual summary.csv\n",
      "saving insurance table to: /Users/gbenz/Documents/VIEWS_FAO_index/notebooks/methods/Country_Results/South Sudan/Standard/Country Year/FAO tables/South Sudan insurance table.csv\n",
      "saving main dataframe table to: /Users/gbenz/Documents/VIEWS_FAO_index/notebooks/methods/Country_Results/South Sudan/Standard/Country Year/FAO tables/South Sudan main dataframe.csv\n"
     ]
    }
   ],
   "source": [
    "for country in countries:\n",
    "    print('working on: '+ country)\n",
    "\n",
    "#   First:\n",
    "#   1. Aggregate the standard PRIO-Grid scale to a courser resolution\n",
    "    country_and_year_dictionary = associate_country_years(data_working_copy, country)\n",
    "    print('printing he country and year dictionary:')\n",
    "    print(country_and_year_dictionary)\n",
    "#-----------------------------------------------------------------------------------------------------------------------------------\n",
    "#   Second:\n",
    "#       1. Subset designated country in list. This requires examining country_id information and corresponding start and end years. \n",
    "#   Some countries contain more than one country_id. The functions employed in this section identify the most recent country range and \n",
    "#   subset the neccesary temporal ranges.\n",
    "#-----------------------------------------------------------------------------------------------------------------------------------\n",
    "#-----------------------------------------------------------------------------------------------------------------------------------\n",
    "    cid_int = pull_from_c_y_dictionary(country_and_year_dictionary)\n",
    "    subset_to_country = data_working_copy[data_working_copy['country_id'] == cid_int]\n",
    "    conflict_profile = {col: subset_to_country[col].sum() for col in ['ged_sb', 'ged_ns', 'ged_os', 'fatalities_sum']}\n",
    "\n",
    "    df_annual = native_per_capita_fatalities(subset_to_country)\n",
    "    df_annual['percapita_100k'] = df_annual['percapita_100k'].round(1)\n",
    "\n",
    "    percentile_df = format_stats(df_annual)\n",
    "    filtered_x = clean_percentile_table(percentile_df)\n",
    "    insurance_table_df = insurance_table(filtered_x, df_annual, ['90','95','98','99','100']) #uses the default attribute = percapita_100k and appened_1_value = yes\n",
    "    annual_summary = annual_summary_table(df_annual, 'percapita_100k')\n",
    "#-----------------------------------------------------------------------------------------------------------------------------------\n",
    "#----- SET DIRECTORIES \n",
    "#-----------------------------------------------------------------------------------------------------------------------------------\n",
    "#----- THIS SETS A DIRECTORY THAT IS UNIQUE UNIQUE STANDARD METHOD ----\n",
    "#-----------------------------------------------------------------------------------------------------------------------------------\n",
    "#----- <<< working just with the 'Cell Year' Return Period Process >>>-\n",
    "    output_path = base_dir + '/notebooks/methods/Country_Results/' + country + '/Standard/Country Year/FAO tables/'\n",
    "    ensure_directory_exists(output_path)\n",
    "#-----------------------------------------------------------------------------------------------------------------------------------\n",
    "    annual_summary_file_path = output_path + country + ' annual summary.csv'\n",
    "    print(f'saving annual_summary table to: {annual_summary_file_path}')\n",
    "#-----------------------------------------------------------------------------------------------------------------------------------\n",
    "    insurance_table_file_path = output_path + country + ' insurance table.csv'\n",
    "    print(f'saving insurance table to: {insurance_table_file_path}')\n",
    "#-----------------------------------------------------------------------------------------------------------------------------------\n",
    "    main_dataframe_file_path = output_path + country + ' main dataframe.csv'\n",
    "    print(f'saving main dataframe table to: {main_dataframe_file_path}')\n",
    "#-----------------------------------------------------------------------------------------------------------------------------------\n",
    "#-----------------------------------------------------------------------------------------------------------------------------------\n",
    "#----- NOW WE WRITE TO THE FOLDERS. -----------------------------------\n",
    "    annual_summary.to_csv(annual_summary_file_path)\n",
    "    insurance_table_df.to_csv(insurance_table_file_path)\n",
    "    df_annual.to_csv(main_dataframe_file_path)"
   ]
  },
  {
   "cell_type": "code",
   "execution_count": 7,
   "metadata": {},
   "outputs": [
    {
     "name": "stdout",
     "output_type": "stream",
     "text": [
      "   c_id country_name  C_start_year  C_end_year       0\n",
      "0    57     Ethiopia          1993        2050  132397\n",
      "1   191     Ethiopia          1946        1993   22112\n",
      "the length of country_ids for the selected country is: 2\n",
      "printing he country and year dictionary:\n",
      "{57: (1993, 2050), 191: (1946, 1993)}\n",
      "Index where percapita_100k equals 1: 95.6: 1.1\n",
      "Directory '/Users/gbenz/Documents/VIEWS_FAO_index/notebooks/methods/Country_Results/Ethiopia/Standard/Country Year/FAO tables' already exists.\n",
      "saving annual_summary table to: /Users/gbenz/Documents/VIEWS_FAO_index/notebooks/methods/Country_Results/Ethiopia/Standard/Country Year/FAO tables/Ethiopia annual summary.csv\n",
      "saving insurance table to: /Users/gbenz/Documents/VIEWS_FAO_index/notebooks/methods/Country_Results/Ethiopia/Standard/Country Year/FAO tables/Ethiopia insurance table.csv\n",
      "saving main dataframe table to: /Users/gbenz/Documents/VIEWS_FAO_index/notebooks/methods/Country_Results/Ethiopia/Standard/Country Year/FAO tables/Ethiopia main dataframe.csv\n"
     ]
    }
   ],
   "source": [
    "\n",
    "conflict_profile, df_annual, annual_summary, insurance_table_df = standard_Country_Year_files(data_working_copy, 'Ethiopia')\n"
   ]
  },
  {
   "cell_type": "markdown",
   "metadata": {},
   "source": [
    "#### Process for Event Year Return Period:"
   ]
  },
  {
   "cell_type": "code",
   "execution_count": 8,
   "metadata": {},
   "outputs": [
    {
     "name": "stdout",
     "output_type": "stream",
     "text": [
      "   c_id country_name  C_start_year  C_end_year      0\n",
      "0   246  South Sudan          2011        2050  28096\n",
      "the length of country_ids for the selected country is: 1\n",
      "printing he country and year dictionary:\n",
      "{246: (2011, 2050)}\n",
      "Index where percapita_100k equals 1: 87.4: 1.5332000000000334\n",
      "Directory '/Users/gbenz/Documents/VIEWS_FAO_index/notebooks/methods/Country_Results/South Sudan/Standard/Country Year/FAO tables' already exists.\n",
      "saving annual_summary table to: /Users/gbenz/Documents/VIEWS_FAO_index/notebooks/methods/Country_Results/South Sudan/Standard/Country Year/FAO tables/South Sudan annual summary.csv\n",
      "saving insurance table to: /Users/gbenz/Documents/VIEWS_FAO_index/notebooks/methods/Country_Results/South Sudan/Standard/Country Year/FAO tables/South Sudan insurance table.csv\n",
      "saving main dataframe table to: /Users/gbenz/Documents/VIEWS_FAO_index/notebooks/methods/Country_Results/South Sudan/Standard/Country Year/FAO tables/South Sudan main dataframe.csv\n",
      "    percapita_100k       p_i       P_i        E_i   E_i_voxels\n",
      "0           3330.1  0.000407  0.079971  12.504506  2460.000000\n",
      "1           1850.1  0.000813  0.153576   6.511449  1230.000000\n",
      "2           1482.4  0.001220  0.221318   4.518385   820.000000\n",
      "3           1323.7  0.001626  0.283663   3.525309   615.000000\n",
      "4           1095.4  0.002033  0.341039   2.932217   492.000000\n",
      "..             ...       ...       ...        ...          ...\n",
      "95            77.9  0.039837  0.999760   1.000240    25.102041\n",
      "96            76.1  0.040244  0.999780   1.000220    24.848485\n",
      "97            75.5  0.040650  0.999798   1.000202    24.600000\n",
      "98            73.7  0.041057  0.999815   1.000185    24.356436\n",
      "99            72.9  0.041463  0.999830   1.000170    24.117647\n",
      "\n",
      "[100 rows x 5 columns]\n",
      "Directory '/Users/gbenz/Documents/VIEWS_FAO_index/notebooks/methods/Country_Results/South Sudan/Standard/Event year/FAO tables' created.\n",
      "saving insurance table to: /Users/gbenz/Documents/VIEWS_FAO_index/notebooks/methods/Country_Results/South Sudan/Standard/Event year/FAO tables/South SudanEvent year insurance table.csv\n",
      "saving main dataframe table to: /Users/gbenz/Documents/VIEWS_FAO_index/notebooks/methods/Country_Results/South Sudan/Standard/Event year/FAO tables/ Event year probabilities.csv\n"
     ]
    }
   ],
   "source": [
    "for country in countries:\n",
    "\n",
    "    conflict_profile, df_annual, annual_summary, insurance_table_df = standard_Country_Year_files(data, country)\n",
    "\n",
    "    df_annual = df_annual.rename(columns={'GIS__Index': 'priogrid_gid'})\n",
    "    cumulative_distribution = calculate_cumulative_distribution(df_annual, 'percapita_100k')\n",
    "\n",
    "    #calculate_probabilities(cumulative_distribution, data, id_column='percapita_100k'):\n",
    "    probabilities = calculate_probabilities(cumulative_distribution, df_annual, 'pg_id')\n",
    "    #print(probabilities)\n",
    "    probabilities['E_i'] = calculate_expected_time_periods(probabilities['P_i'])\n",
    "    # Calculate E_i^voxels\n",
    "    probabilities['E_i_voxels'] = calculate_expected_voxels(probabilities['p_i'])\n",
    "    probabilities_renamed = probabilities.rename(columns={'value': 'percapita_100k'})\n",
    "    print(probabilities_renamed.head(100))\n",
    "\n",
    "    probabilities_with_empirical = compare_empirical_vs_expected(df_annual, probabilities_renamed)\n",
    "    probabilities_with_empirical_sorted = probabilities_with_empirical.sort_values(by='E_i_value')\n",
    "    subset_E_i = probabilities_with_empirical_sorted[probabilities_with_empirical_sorted['E_i_value'] >= 4.0]\n",
    "    insurance_from_E_i = insurance_table_for_E_i([5,10,20,30], subset_E_i, df_annual)\n",
    "    insurance_from_E_i = insurance_from_E_i.round({\n",
    "        'closest r.p.': 1,\n",
    "        'percapita_100k': 1,\n",
    "    })\n",
    "#-----------------------------------------------------------------------------------------------------------------------------------\n",
    "#----- SET DIRECTORIES \n",
    "#-----------------------------------------------------------------------------------------------------------------------------------\n",
    "#----- THIS SETS A DIRECTORY THAT IS UNIQUE FOR AGGREGATION METHOD ----\n",
    "#-----------------------------------------------------------------------------------------------------------------------------------\n",
    "#----- <<< working just with the 'Cell Year' Return Period Process >>>-\n",
    "    output_path = base_dir + '/notebooks/methods/Country_Results/' + country + '/Standard/Event year/FAO tables/'\n",
    "    ensure_directory_exists(output_path)\n",
    "#-----------------------------------------------------------------------------------------------------------------------------------\n",
    "    E_i_insurance_table_file_path = output_path + country + 'Event year insurance table.csv'\n",
    "    print(f'saving insurance table to: {E_i_insurance_table_file_path}')\n",
    "#-----------------------------------------------------------------------------------------------------------------------------------\n",
    "    event_year_probabilities_file_path = output_path + ' Event year probabilities.csv'\n",
    "    print(f'saving main dataframe table to: {event_year_probabilities_file_path}')\n",
    "#-----------------------------------------------------------------------------------------------------------------------------------\n",
    "#-----------------------------------------------------------------------------------------------------------------------------------\n",
    "#----- NOW WE WRITE TO THE FOLDERS. -----------------------------------\n",
    "    insurance_from_E_i.to_csv(E_i_insurance_table_file_path)\n",
    "    probabilities_with_empirical_sorted.to_csv(event_year_probabilities_file_path)\n"
   ]
  },
  {
   "cell_type": "code",
   "execution_count": 9,
   "metadata": {},
   "outputs": [
    {
     "name": "stdout",
     "output_type": "stream",
     "text": [
      "   c_id country_name  C_start_year  C_end_year       0\n",
      "0    57     Ethiopia          1993        2050  132397\n",
      "1   191     Ethiopia          1946        1993   22112\n",
      "the length of country_ids for the selected country is: 2\n",
      "printing he country and year dictionary:\n",
      "{57: (1993, 2050), 191: (1946, 1993)}\n",
      "Index where percapita_100k equals 1: 95.6: 1.1\n",
      "Directory '/Users/gbenz/Documents/VIEWS_FAO_index/notebooks/methods/Country_Results/Ethiopia/Standard/Country Year/FAO tables' already exists.\n",
      "saving annual_summary table to: /Users/gbenz/Documents/VIEWS_FAO_index/notebooks/methods/Country_Results/Ethiopia/Standard/Country Year/FAO tables/Ethiopia annual summary.csv\n",
      "saving insurance table to: /Users/gbenz/Documents/VIEWS_FAO_index/notebooks/methods/Country_Results/Ethiopia/Standard/Country Year/FAO tables/Ethiopia insurance table.csv\n",
      "saving main dataframe table to: /Users/gbenz/Documents/VIEWS_FAO_index/notebooks/methods/Country_Results/Ethiopia/Standard/Country Year/FAO tables/Ethiopia main dataframe.csv\n",
      "    percapita_100k       p_i       P_i        E_i    E_i_voxels\n",
      "0          47581.5  0.000089  0.035206  28.404483  11189.000000\n",
      "1          35221.0  0.000179  0.069175  14.456098   5594.500000\n",
      "2           4746.2  0.000268  0.101951   9.808627   3729.666667\n",
      "3           1810.8  0.000357  0.133576   7.486383   2797.250000\n",
      "4           1680.2  0.000447  0.164090   6.094230   2237.800000\n",
      "..             ...       ...       ...        ...           ...\n",
      "95            94.6  0.008759  0.970627   1.030262    114.173469\n",
      "96            91.8  0.008848  0.971670   1.029156    113.020202\n",
      "97            88.3  0.008937  0.972676   1.028092    111.890000\n",
      "98            87.5  0.009027  0.973646   1.027067    110.782178\n",
      "99            84.8  0.009116  0.974583   1.026080    109.696078\n",
      "\n",
      "[100 rows x 5 columns]\n",
      "Directory '/Users/gbenz/Documents/VIEWS_FAO_index/notebooks/methods/Country_Results/Ethiopia/Standard/Event year/FAO tables' already exists.\n",
      "saving insurance table to: /Users/gbenz/Documents/VIEWS_FAO_index/notebooks/methods/Country_Results/Ethiopia/Standard/Event year/FAO tables/EthiopiaEvent year insurance table.csv\n",
      "saving main dataframe table to: /Users/gbenz/Documents/VIEWS_FAO_index/notebooks/methods/Country_Results/Ethiopia/Standard/Event year/FAO tables/ Event year probabilities.csv\n"
     ]
    }
   ],
   "source": [
    "conflict_profile, df_annual, annual_summary, insurance_from_E_i = standard_Event_Year_files(data_working_copy, 'Ethiopia', 'Standard', 'Event year')"
   ]
  }
 ],
 "metadata": {
  "kernelspec": {
   "display_name": "viewser",
   "language": "python",
   "name": "python3"
  },
  "language_info": {
   "codemirror_mode": {
    "name": "ipython",
    "version": 3
   },
   "file_extension": ".py",
   "mimetype": "text/x-python",
   "name": "python",
   "nbconvert_exporter": "python",
   "pygments_lexer": "ipython3",
   "version": "3.11.9"
  }
 },
 "nbformat": 4,
 "nbformat_minor": 2
}
