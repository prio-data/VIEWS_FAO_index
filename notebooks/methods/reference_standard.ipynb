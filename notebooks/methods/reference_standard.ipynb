{
 "cells": [
  {
   "cell_type": "markdown",
   "metadata": {},
   "source": [
    "## Standard Method Notebook\n",
    "\n",
    "### Overview: "
   ]
  },
  {
   "cell_type": "markdown",
   "metadata": {},
   "source": [
    "##### Import necessary functions\n",
    "\n",
    "These functions are stored in src/utils and contain intuitive folders hosting functions. The working directory should be set to the VIEWS_FAO_INDEX folder to enable access to retrieve these .py files."
   ]
  },
  {
   "cell_type": "code",
   "execution_count": 1,
   "metadata": {},
   "outputs": [
    {
     "name": "stdout",
     "output_type": "stream",
     "text": [
      "The current Working Directory is: /Users/gbenz/Documents/VIEWS_FAO_index/notebooks/methods\n",
      "The base directory will be set to: /Users/gbenz/Documents/VIEWS_FAO_index\n"
     ]
    }
   ],
   "source": [
    "import os\n",
    "import sys\n",
    "\n",
    "# Get the current working directory\n",
    "current_directory = os.getcwd()\n",
    "\n",
    "# Print the current working directory\n",
    "print(\"The current Working Directory is:\", current_directory)\n",
    "\n",
    "# Get the path to the base directory (VIEWS_FAO_index)\n",
    "base_dir = os.path.abspath(os.path.join(os.getcwd(), '..', '..'))\n",
    "print(f'The base directory will be set to: {base_dir}')\n",
    "\n",
    "# Add the base directory to sys.path\n",
    "sys.path.insert(0, base_dir)"
   ]
  },
  {
   "cell_type": "code",
   "execution_count": 2,
   "metadata": {},
   "outputs": [
    {
     "name": "stdout",
     "output_type": "stream",
     "text": [
      "The current Working Directory is: /Users/gbenz/Documents/VIEWS_FAO_index/notebooks/methods\n",
      "The base directory will be set to: /Users/gbenz/Documents/VIEWS_FAO_index\n",
      "The current Working Directory is: /Users/gbenz/Documents/VIEWS_FAO_index/notebooks/methods\n",
      "The base directory will be set to: /Users/gbenz/Documents/VIEWS_FAO_index\n",
      "The current Working Directory is: /Users/gbenz/Documents/VIEWS_FAO_index/notebooks/methods\n",
      "The base directory will be set to: /Users/gbenz/Documents/VIEWS_FAO_index\n"
     ]
    }
   ],
   "source": [
    "import sys\n",
    "import os\n",
    "import pandas as pd\n",
    "import matplotlib.pyplot as plt\n",
    "\n",
    "#Functions necessary for all methods:\n",
    "from src.utils.universal_functions.setup.generate_base_file import give_primary_frame\n",
    "from src.utils.universal_functions.setup.associate_country_id import associate_country_years, pull_from_c_y_dictionary\n",
    "from src.utils.universal_functions.setup.build_directory import ensure_directory_exists\n",
    "\n",
    "#Functions to generate the insurance table requested by FAO partners:\n",
    "from src.utils.universal_functions.FAO_table_formatting.calculate_percentiles import format_stats, clean_percentile_table\n",
    "from src.utils.universal_functions.FAO_table_formatting.generate_output_tables import insurance_table, annual_summary_table\n",
    "\n",
    "#Functions bespoke to standard method:\n",
    "from src.utils.functions_for_method_standard.standard_per_capita_fatalities import native_per_capita_fatalities\n",
    "\n",
    "#function to calculate Ei & big P return period\n",
    "from src.utils.functions_for_single_cell_return_period.cell_return_period import calculate_cumulative_distribution, calculate_probabilities, calculate_expected_time_periods, calculate_expected_voxels, compare_empirical_vs_expected\n",
    "from src.utils.functions_for_single_cell_return_period.Ei_insurance_table_setup import insurance_table_for_E_i\n",
    "\n",
    "#summary function that is templated by preceding code:\n",
    "from src.utils.functions_for_return_periods.insurance_products_for_RP import standard_Country_Year_files, standard_Event_Year_files"
   ]
  },
  {
   "cell_type": "markdown",
   "metadata": {},
   "source": [
    "### First, we define our primary dataframe. \n",
    "\n",
    "The variable 'data' is developed from two querysets 1. Fatalities_fao_pgm and 2. cm_properties which are required in order to capture fatality attributes and unique country identifiers, including start and end years for boundary changes.\n",
    "\n",
    "Year parameters can be adapted to incorporate future annual releases of Uppsala Conflict Data Program (UCDP) Geospatial Events Database (GED) data or constrain the temporal window for unique applications. The recommendation is to capture data from the full extent, which at the time of this release is 1989 - 2023."
   ]
  },
  {
   "cell_type": "code",
   "execution_count": 3,
   "metadata": {},
   "outputs": [
    {
     "name": "stderr",
     "output_type": "stream",
     "text": [
      "100%|██████████| 40.0M/40.0M [00:02<00:00, 18.2MB/s]\n"
     ]
    },
    {
     "name": "stdout",
     "output_type": "stream",
     "text": [
      "Queryset Fatalities_fao_pgm read successfully \n",
      "Queryset cm_properties read successfully \n"
     ]
    },
    {
     "name": "stderr",
     "output_type": "stream",
     "text": [
      "/Users/gbenz/miniforge3/envs/viewser/lib/python3.11/site-packages/ingester3/scratch.py:31: UserWarning: No database connection! Will try to use cache for read-only ops as much as I can\n",
      "  warnings.warn(\"No database connection! Will try to use cache for read-only ops as much as I can\")\n"
     ]
    },
    {
     "name": "stdout",
     "output_type": "stream",
     "text": [
      "['month_id', 'pg_id', 'country_name', 'C_start_year', 'C_end_year', 'pop_gpw_sum', 'ged_sb', 'ged_ns', 'ged_os', 'year', 'fatalities_sum', 'country_id']\n"
     ]
    }
   ],
   "source": [
    "data = give_primary_frame('Fatalities_fao_pgm', 'cm_properties', 1988, 2023)"
   ]
  },
  {
   "cell_type": "markdown",
   "metadata": {},
   "source": [
    "#### Make a copy of the variable data to keep a clean version accesible."
   ]
  },
  {
   "cell_type": "code",
   "execution_count": 4,
   "metadata": {},
   "outputs": [],
   "source": [
    "data_working_copy = data"
   ]
  },
  {
   "cell_type": "markdown",
   "metadata": {},
   "source": [
    "#### Specifiy countries to investigate"
   ]
  },
  {
   "cell_type": "code",
   "execution_count": 6,
   "metadata": {},
   "outputs": [],
   "source": [
    "countries = ['Burkina Faso']"
   ]
  },
  {
   "cell_type": "markdown",
   "metadata": {},
   "source": [
    "#### Process for Country Year Return Period:"
   ]
  },
  {
   "cell_type": "code",
   "execution_count": 7,
   "metadata": {},
   "outputs": [
    {
     "name": "stdout",
     "output_type": "stream",
     "text": [
      "working on: Burkina Faso\n",
      "   c_id  country_name  C_start_year  C_end_year      0\n",
      "0    47  Burkina Faso          1960        2050  35496\n",
      "the length of country_ids for the selected country is: 1\n",
      "printing he country and year dictionary:\n",
      "{47: (1960, 2050)}\n",
      "Index where fatalities_sum equals 1: 94.2: 1.0\n",
      "Directory '/Users/gbenz/Documents/VIEWS_FAO_index/notebooks/methods/Country_Results/Burkina Faso/Standard/Country Year/FAO tables' already exists.\n",
      "saving annual_summary table to: /Users/gbenz/Documents/VIEWS_FAO_index/notebooks/methods/Country_Results/Burkina Faso/Standard/Country Year/FAO tables/Burkina Faso annual summary.csv\n",
      "saving insurance table to: /Users/gbenz/Documents/VIEWS_FAO_index/notebooks/methods/Country_Results/Burkina Faso/Standard/Country Year/FAO tables/Burkina Faso insurance table.csv\n",
      "saving main dataframe table to: /Users/gbenz/Documents/VIEWS_FAO_index/notebooks/methods/Country_Results/Burkina Faso/Standard/Country Year/FAO tables/Burkina Faso main dataframe.csv\n"
     ]
    }
   ],
   "source": [
    "for country in countries:\n",
    "    print('working on: '+ country)\n",
    "\n",
    "#   First:\n",
    "#   1. Aggregate the standard PRIO-Grid scale to a courser resolution\n",
    "    country_and_year_dictionary = associate_country_years(data_working_copy, country)\n",
    "    print('printing he country and year dictionary:')\n",
    "    print(country_and_year_dictionary)\n",
    "#-----------------------------------------------------------------------------------------------------------------------------------\n",
    "#   Second:\n",
    "#       1. Subset designated country in list. This requires examining country_id information and corresponding start and end years. \n",
    "#   Some countries contain more than one country_id. The functions employed in this section identify the most recent country range and \n",
    "#   subset the neccesary temporal ranges.\n",
    "#-----------------------------------------------------------------------------------------------------------------------------------\n",
    "#-----------------------------------------------------------------------------------------------------------------------------------\n",
    "    cid_int = pull_from_c_y_dictionary(country_and_year_dictionary)\n",
    "    subset_to_country = data_working_copy[data_working_copy['country_id'] == cid_int]\n",
    "    conflict_profile = {col: subset_to_country[col].sum() for col in ['ged_sb', 'ged_ns', 'ged_os', 'fatalities_sum']}\n",
    "\n",
    "    df_annual = native_per_capita_fatalities(subset_to_country)\n",
    "    df_annual['percapita_100k'] = df_annual['percapita_100k'].round(1)\n",
    "\n",
    "    percentile_df = format_stats(df_annual, field_to_describe='fatalities_sum') #or 'percapita_100k'\n",
    "    filtered_x = clean_percentile_table(percentile_df)\n",
    "    insurance_table_df = insurance_table(filtered_x, df_annual, ['90','95','98','99','100'], attribute_to_explore= 'fatalities_sum') #uses the default attribute = percapita_100k and appened_1_value = yes\n",
    "    annual_summary = annual_summary_table(df_annual, 'standard', fat_or_pcf='fatalities_sum') #or 'percapita_100k'\n",
    "#-----------------------------------------------------------------------------------------------------------------------------------\n",
    "#----- SET DIRECTORIES \n",
    "#-----------------------------------------------------------------------------------------------------------------------------------\n",
    "#----- THIS SETS A DIRECTORY THAT IS UNIQUE UNIQUE STANDARD METHOD ----\n",
    "#-----------------------------------------------------------------------------------------------------------------------------------\n",
    "#----- <<< working just with the 'Cell Year' Return Period Process >>>-\n",
    "    output_path = base_dir + '/notebooks/methods/Country_Results/' + country + '/Standard/Country Year/FAO tables/'\n",
    "    ensure_directory_exists(output_path)\n",
    "#-----------------------------------------------------------------------------------------------------------------------------------\n",
    "    annual_summary_file_path = output_path + country + ' annual summary.csv'\n",
    "    print(f'saving annual_summary table to: {annual_summary_file_path}')\n",
    "#-----------------------------------------------------------------------------------------------------------------------------------\n",
    "    insurance_table_file_path = output_path + country + ' insurance table.csv'\n",
    "    print(f'saving insurance table to: {insurance_table_file_path}')\n",
    "#-----------------------------------------------------------------------------------------------------------------------------------\n",
    "    main_dataframe_file_path = output_path + country + ' main dataframe.csv'\n",
    "    print(f'saving main dataframe table to: {main_dataframe_file_path}')\n",
    "#-----------------------------------------------------------------------------------------------------------------------------------\n",
    "#-----------------------------------------------------------------------------------------------------------------------------------\n",
    "#----- NOW WE WRITE TO THE FOLDERS. -----------------------------------\n",
    "    annual_summary.to_csv(annual_summary_file_path)\n",
    "    insurance_table_df.to_csv(insurance_table_file_path)\n",
    "    df_annual.to_csv(main_dataframe_file_path)"
   ]
  },
  {
   "cell_type": "code",
   "execution_count": 9,
   "metadata": {},
   "outputs": [
    {
     "name": "stdout",
     "output_type": "stream",
     "text": [
      "   c_id country_name  C_start_year  C_end_year       0\n",
      "0    57     Ethiopia          1993        2050  132397\n",
      "1   191     Ethiopia          1946        1993   22112\n",
      "the length of country_ids for the selected country is: 2\n",
      "printing he country and year dictionary:\n",
      "{57: (1993, 2050), 191: (1946, 1993)}\n",
      "Index where fatalities_sum equals 1: 94.5: 1.0\n",
      "Directory '/Users/gbenz/Documents/VIEWS_FAO_index/notebooks/methods/Country_Results/Ethiopia/Standard/Country Year/FAO tables' already exists.\n",
      "saving annual_summary table to: /Users/gbenz/Documents/VIEWS_FAO_index/notebooks/methods/Country_Results/Ethiopia/Standard/Country Year/FAO tables/Ethiopia annual summary.csv\n",
      "saving insurance table to: /Users/gbenz/Documents/VIEWS_FAO_index/notebooks/methods/Country_Results/Ethiopia/Standard/Country Year/FAO tables/Ethiopia insurance table.csv\n",
      "saving main dataframe table to: /Users/gbenz/Documents/VIEWS_FAO_index/notebooks/methods/Country_Results/Ethiopia/Standard/Country Year/FAO tables/Ethiopia main dataframe.csv\n"
     ]
    }
   ],
   "source": [
    "conflict_profile, df_annual, annual_summary, insurance_table_df = standard_Country_Year_files(data_working_copy, 'Ethiopia', 'fatalities_sum')"
   ]
  },
  {
   "cell_type": "markdown",
   "metadata": {},
   "source": [
    "#### Process for Event Year Return Period:"
   ]
  },
  {
   "cell_type": "code",
   "execution_count": 13,
   "metadata": {},
   "outputs": [
    {
     "name": "stdout",
     "output_type": "stream",
     "text": [
      "   c_id  country_name  C_start_year  C_end_year      0\n",
      "0    47  Burkina Faso          1960        2050  35496\n",
      "the length of country_ids for the selected country is: 1\n",
      "printing he country and year dictionary:\n",
      "{47: (1960, 2050)}\n",
      "Index where fatalities_sum equals 1: 94.2: 1.0\n",
      "Directory '/Users/gbenz/Documents/VIEWS_FAO_index/notebooks/methods/Country_Results/Burkina Faso/Standard/Country Year/FAO tables' already exists.\n",
      "saving annual_summary table to: /Users/gbenz/Documents/VIEWS_FAO_index/notebooks/methods/Country_Results/Burkina Faso/Standard/Country Year/FAO tables/Burkina Faso annual summary.csv\n",
      "saving insurance table to: /Users/gbenz/Documents/VIEWS_FAO_index/notebooks/methods/Country_Results/Burkina Faso/Standard/Country Year/FAO tables/Burkina Faso insurance table.csv\n",
      "saving main dataframe table to: /Users/gbenz/Documents/VIEWS_FAO_index/notebooks/methods/Country_Results/Burkina Faso/Standard/Country Year/FAO tables/Burkina Faso main dataframe.csv\n",
      "    fatalities_sum       p_i       P_i        E_i   E_i_voxels\n",
      "0            283.0  0.000338  0.028988  34.496704  2958.000000\n",
      "1            276.0  0.000676  0.057146  17.499156  1479.000000\n",
      "2            206.0  0.001014  0.084496  11.834941   986.000000\n",
      "3            189.0  0.001352  0.111061   9.004060   739.500000\n",
      "4            177.0  0.002028  0.161927   6.175631   493.000000\n",
      "..             ...       ...       ...        ...          ...\n",
      "70             4.0  0.048005  0.986158   1.014036    20.830986\n",
      "71             3.0  0.050710  0.989193   1.010925    19.720000\n",
      "72             2.0  0.053076  0.991302   1.008774    18.840764\n",
      "73             1.0  0.058824  0.994879   1.005148    17.000000\n",
      "74             0.0  1.000000  1.000000   1.000000     1.000000\n",
      "\n",
      "[75 rows x 5 columns]\n",
      "Directory '/Users/gbenz/Documents/VIEWS_FAO_index/notebooks/methods/Country_Results/Burkina Faso/Standard/Event year/FAO tables' already exists.\n",
      "saving insurance table to: /Users/gbenz/Documents/VIEWS_FAO_index/notebooks/methods/Country_Results/Burkina Faso/Standard/Event year/FAO tables/Burkina FasoEvent year insurance table.csv\n",
      "saving main dataframe table to: /Users/gbenz/Documents/VIEWS_FAO_index/notebooks/methods/Country_Results/Burkina Faso/Standard/Event year/FAO tables/ Event year probabilities.csv\n"
     ]
    }
   ],
   "source": [
    "for country in countries:\n",
    "\n",
    "    conflict_profile, df_annual, annual_summary, insurance_table_df = standard_Country_Year_files(data, country, 'fatalities_sum') #or 'percapita_100k'\n",
    "\n",
    "    df_annual = df_annual.rename(columns={'GIS__Index': 'priogrid_gid'})\n",
    "    cumulative_distribution = calculate_cumulative_distribution(df_annual, 'fatalities_sum') #or 'percapita_100k'\n",
    "\n",
    "    #calculate_probabilities(cumulative_distribution, data, id_column='percapita_100k'):\n",
    "    probabilities = calculate_probabilities(cumulative_distribution, df_annual, 'pg_id')\n",
    "    #print(probabilities)\n",
    "    probabilities['E_i'] = calculate_expected_time_periods(probabilities['P_i'])\n",
    "    # Calculate E_i^voxels\n",
    "    probabilities['E_i_voxels'] = calculate_expected_voxels(probabilities['p_i'])\n",
    "    probabilities_renamed = probabilities.rename(columns={'value': 'fatalities_sum'}) #or 'percapita_100k'\n",
    "    print(probabilities_renamed.head(100))\n",
    "\n",
    "    probabilities_with_empirical = compare_empirical_vs_expected(df_annual, probabilities_renamed, time_column='year', value_column='fatalities_sum') #or 'percapita_100k'\n",
    "    probabilities_with_empirical_sorted = probabilities_with_empirical.sort_values(by='E_i_value')\n",
    "    subset_E_i = probabilities_with_empirical_sorted[probabilities_with_empirical_sorted['E_i_value'] >= 4.0]\n",
    "    insurance_from_E_i = insurance_table_for_E_i([5,10,20,30], subset_E_i, df_annual, value_field='fatalities_sum') #or 'percapita_100k'\n",
    "    insurance_from_E_i = insurance_from_E_i.round({\n",
    "        'closest r.p.': 1,\n",
    "        'fatalities_sum': 1, #or 'percapita_100k'\n",
    "    })\n",
    "#-----------------------------------------------------------------------------------------------------------------------------------\n",
    "#----- SET DIRECTORIES \n",
    "#-----------------------------------------------------------------------------------------------------------------------------------\n",
    "#----- THIS SETS A DIRECTORY THAT IS UNIQUE FOR AGGREGATION METHOD ----\n",
    "#-----------------------------------------------------------------------------------------------------------------------------------\n",
    "#----- <<< working just with the 'Cell Year' Return Period Process >>>-\n",
    "    output_path = base_dir + '/notebooks/methods/Country_Results/' + country + '/Standard/Event year/FAO tables/'\n",
    "    ensure_directory_exists(output_path)\n",
    "#-----------------------------------------------------------------------------------------------------------------------------------\n",
    "    E_i_insurance_table_file_path = output_path + country + 'Event year insurance table.csv'\n",
    "    print(f'saving insurance table to: {E_i_insurance_table_file_path}')\n",
    "#-----------------------------------------------------------------------------------------------------------------------------------\n",
    "    event_year_probabilities_file_path = output_path + ' Event year probabilities.csv'\n",
    "    print(f'saving main dataframe table to: {event_year_probabilities_file_path}')\n",
    "#-----------------------------------------------------------------------------------------------------------------------------------\n",
    "#-----------------------------------------------------------------------------------------------------------------------------------\n",
    "#----- NOW WE WRITE TO THE FOLDERS. -----------------------------------\n",
    "    insurance_from_E_i.to_csv(E_i_insurance_table_file_path)\n",
    "    probabilities_with_empirical_sorted.to_csv(event_year_probabilities_file_path)\n"
   ]
  },
  {
   "cell_type": "code",
   "execution_count": 14,
   "metadata": {},
   "outputs": [
    {
     "name": "stdout",
     "output_type": "stream",
     "text": [
      "   c_id country_name  C_start_year  C_end_year       0\n",
      "0    57     Ethiopia          1993        2050  132397\n",
      "1   191     Ethiopia          1946        1993   22112\n",
      "the length of country_ids for the selected country is: 2\n",
      "printing he country and year dictionary:\n",
      "{57: (1993, 2050), 191: (1946, 1993)}\n",
      "Index where fatalities_sum equals 1: 94.5: 1.0\n",
      "Directory '/Users/gbenz/Documents/VIEWS_FAO_index/notebooks/methods/Country_Results/Ethiopia/Standard/Country Year/FAO tables' already exists.\n",
      "saving annual_summary table to: /Users/gbenz/Documents/VIEWS_FAO_index/notebooks/methods/Country_Results/Ethiopia/Standard/Country Year/FAO tables/Ethiopia annual summary.csv\n",
      "saving insurance table to: /Users/gbenz/Documents/VIEWS_FAO_index/notebooks/methods/Country_Results/Ethiopia/Standard/Country Year/FAO tables/Ethiopia insurance table.csv\n",
      "saving main dataframe table to: /Users/gbenz/Documents/VIEWS_FAO_index/notebooks/methods/Country_Results/Ethiopia/Standard/Country Year/FAO tables/Ethiopia main dataframe.csv\n",
      "    fatalities_sum       p_i       P_i        E_i    E_i_voxels\n",
      "0         157317.0  0.000089  0.035206  28.404483  11189.000000\n",
      "1         116450.0  0.000179  0.069175  14.456098   5594.500000\n",
      "2           2012.0  0.000268  0.101951   9.808627   3729.666667\n",
      "3           1830.0  0.000357  0.133576   7.486383   2797.250000\n",
      "4           1428.0  0.000447  0.164090   6.094230   2237.800000\n",
      "..             ...       ...       ...        ...           ...\n",
      "95            48.0  0.011261  0.989340   1.010774     88.801587\n",
      "96            47.0  0.011350  0.989720   1.010387     88.102362\n",
      "97            45.0  0.011440  0.990086   1.010013     87.414062\n",
      "98            44.0  0.011619  0.990779   1.009306     86.069231\n",
      "99            43.0  0.011976  0.992025   1.008040     83.500000\n",
      "\n",
      "[100 rows x 5 columns]\n"
     ]
    },
    {
     "ename": "KeyError",
     "evalue": "'percapita_100k'",
     "output_type": "error",
     "traceback": [
      "\u001b[0;31m---------------------------------------------------------------------------\u001b[0m",
      "\u001b[0;31mKeyError\u001b[0m                                  Traceback (most recent call last)",
      "File \u001b[0;32m~/miniforge3/envs/viewser/lib/python3.11/site-packages/pandas/core/indexes/base.py:3802\u001b[0m, in \u001b[0;36mIndex.get_loc\u001b[0;34m(self, key, method, tolerance)\u001b[0m\n\u001b[1;32m   3801\u001b[0m \u001b[39mtry\u001b[39;00m:\n\u001b[0;32m-> 3802\u001b[0m     \u001b[39mreturn\u001b[39;00m \u001b[39mself\u001b[39;49m\u001b[39m.\u001b[39;49m_engine\u001b[39m.\u001b[39;49mget_loc(casted_key)\n\u001b[1;32m   3803\u001b[0m \u001b[39mexcept\u001b[39;00m \u001b[39mKeyError\u001b[39;00m \u001b[39mas\u001b[39;00m err:\n",
      "File \u001b[0;32m~/miniforge3/envs/viewser/lib/python3.11/site-packages/pandas/_libs/index.pyx:138\u001b[0m, in \u001b[0;36mpandas._libs.index.IndexEngine.get_loc\u001b[0;34m()\u001b[0m\n",
      "File \u001b[0;32m~/miniforge3/envs/viewser/lib/python3.11/site-packages/pandas/_libs/index.pyx:165\u001b[0m, in \u001b[0;36mpandas._libs.index.IndexEngine.get_loc\u001b[0;34m()\u001b[0m\n",
      "File \u001b[0;32mpandas/_libs/hashtable_class_helper.pxi:5745\u001b[0m, in \u001b[0;36mpandas._libs.hashtable.PyObjectHashTable.get_item\u001b[0;34m()\u001b[0m\n",
      "File \u001b[0;32mpandas/_libs/hashtable_class_helper.pxi:5753\u001b[0m, in \u001b[0;36mpandas._libs.hashtable.PyObjectHashTable.get_item\u001b[0;34m()\u001b[0m\n",
      "\u001b[0;31mKeyError\u001b[0m: 'percapita_100k'",
      "\nThe above exception was the direct cause of the following exception:\n",
      "\u001b[0;31mKeyError\u001b[0m                                  Traceback (most recent call last)",
      "\u001b[1;32m/Users/gbenz/Documents/VIEWS_FAO_index/notebooks/methods/reference_standard.ipynb Cell 16\u001b[0m line \u001b[0;36m1\n\u001b[0;32m----> <a href='vscode-notebook-cell:/Users/gbenz/Documents/VIEWS_FAO_index/notebooks/methods/reference_standard.ipynb#Y111sZmlsZQ%3D%3D?line=0'>1</a>\u001b[0m conflict_profile, df_annual, annual_summary, insurance_from_E_i \u001b[39m=\u001b[39m standard_Event_Year_files(data_working_copy, \u001b[39m'\u001b[39;49m\u001b[39mEthiopia\u001b[39;49m\u001b[39m'\u001b[39;49m, \u001b[39m'\u001b[39;49m\u001b[39mStandard\u001b[39;49m\u001b[39m'\u001b[39;49m, \u001b[39m'\u001b[39;49m\u001b[39mEvent year\u001b[39;49m\u001b[39m'\u001b[39;49m, \u001b[39m'\u001b[39;49m\u001b[39mfatalities_sum\u001b[39;49m\u001b[39m'\u001b[39;49m)\n",
      "File \u001b[0;32m~/Documents/VIEWS_FAO_index/src/utils/functions_for_return_periods/insurance_products_for_RP.py:113\u001b[0m, in \u001b[0;36mstandard_Event_Year_files\u001b[0;34m(data, country_name, method, return_period_type, attribute)\u001b[0m\n\u001b[1;32m    110\u001b[0m probabilities_renamed \u001b[39m=\u001b[39m probabilities\u001b[39m.\u001b[39mrename(columns\u001b[39m=\u001b[39m{\u001b[39m'\u001b[39m\u001b[39mvalue\u001b[39m\u001b[39m'\u001b[39m: attribute})\n\u001b[1;32m    111\u001b[0m \u001b[39mprint\u001b[39m(probabilities_renamed\u001b[39m.\u001b[39mhead(\u001b[39m100\u001b[39m))\n\u001b[0;32m--> 113\u001b[0m probabilities_with_empirical \u001b[39m=\u001b[39m compare_empirical_vs_expected(df_annual, probabilities_renamed)\n\u001b[1;32m    114\u001b[0m probabilities_with_empirical_sorted \u001b[39m=\u001b[39m probabilities_with_empirical\u001b[39m.\u001b[39msort_values(by\u001b[39m=\u001b[39m\u001b[39m'\u001b[39m\u001b[39mE_i_value\u001b[39m\u001b[39m'\u001b[39m)\n\u001b[1;32m    115\u001b[0m subset_E_i \u001b[39m=\u001b[39m probabilities_with_empirical_sorted[probabilities_with_empirical_sorted[\u001b[39m'\u001b[39m\u001b[39mE_i_value\u001b[39m\u001b[39m'\u001b[39m] \u001b[39m>\u001b[39m\u001b[39m=\u001b[39m \u001b[39m4.0\u001b[39m]\n",
      "File \u001b[0;32m~/Documents/VIEWS_FAO_index/src/utils/functions_for_single_cell_return_period/cell_return_period.py:106\u001b[0m, in \u001b[0;36mcompare_empirical_vs_expected\u001b[0;34m(data, probabilities, time_column, value_column)\u001b[0m\n\u001b[1;32m    102\u001b[0m results \u001b[39m=\u001b[39m []\n\u001b[1;32m    104\u001b[0m \u001b[39mfor\u001b[39;00m val \u001b[39min\u001b[39;00m unique_values:\n\u001b[1;32m    105\u001b[0m     \u001b[39m# Find the corresponding E_i and E_i_voxels for the given value\u001b[39;00m\n\u001b[0;32m--> 106\u001b[0m     E_i_row \u001b[39m=\u001b[39m probabilities[probabilities[value_column] \u001b[39m==\u001b[39m val]\n\u001b[1;32m    108\u001b[0m     \u001b[39mif\u001b[39;00m \u001b[39mnot\u001b[39;00m E_i_row\u001b[39m.\u001b[39mempty:\n\u001b[1;32m    109\u001b[0m         E_i_val \u001b[39m=\u001b[39m E_i_row[\u001b[39m'\u001b[39m\u001b[39mE_i\u001b[39m\u001b[39m'\u001b[39m]\u001b[39m.\u001b[39mvalues[\u001b[39m0\u001b[39m]\n",
      "File \u001b[0;32m~/miniforge3/envs/viewser/lib/python3.11/site-packages/pandas/core/frame.py:3807\u001b[0m, in \u001b[0;36mDataFrame.__getitem__\u001b[0;34m(self, key)\u001b[0m\n\u001b[1;32m   3805\u001b[0m \u001b[39mif\u001b[39;00m \u001b[39mself\u001b[39m\u001b[39m.\u001b[39mcolumns\u001b[39m.\u001b[39mnlevels \u001b[39m>\u001b[39m \u001b[39m1\u001b[39m:\n\u001b[1;32m   3806\u001b[0m     \u001b[39mreturn\u001b[39;00m \u001b[39mself\u001b[39m\u001b[39m.\u001b[39m_getitem_multilevel(key)\n\u001b[0;32m-> 3807\u001b[0m indexer \u001b[39m=\u001b[39m \u001b[39mself\u001b[39;49m\u001b[39m.\u001b[39;49mcolumns\u001b[39m.\u001b[39;49mget_loc(key)\n\u001b[1;32m   3808\u001b[0m \u001b[39mif\u001b[39;00m is_integer(indexer):\n\u001b[1;32m   3809\u001b[0m     indexer \u001b[39m=\u001b[39m [indexer]\n",
      "File \u001b[0;32m~/miniforge3/envs/viewser/lib/python3.11/site-packages/pandas/core/indexes/base.py:3804\u001b[0m, in \u001b[0;36mIndex.get_loc\u001b[0;34m(self, key, method, tolerance)\u001b[0m\n\u001b[1;32m   3802\u001b[0m     \u001b[39mreturn\u001b[39;00m \u001b[39mself\u001b[39m\u001b[39m.\u001b[39m_engine\u001b[39m.\u001b[39mget_loc(casted_key)\n\u001b[1;32m   3803\u001b[0m \u001b[39mexcept\u001b[39;00m \u001b[39mKeyError\u001b[39;00m \u001b[39mas\u001b[39;00m err:\n\u001b[0;32m-> 3804\u001b[0m     \u001b[39mraise\u001b[39;00m \u001b[39mKeyError\u001b[39;00m(key) \u001b[39mfrom\u001b[39;00m \u001b[39merr\u001b[39;00m\n\u001b[1;32m   3805\u001b[0m \u001b[39mexcept\u001b[39;00m \u001b[39mTypeError\u001b[39;00m:\n\u001b[1;32m   3806\u001b[0m     \u001b[39m# If we have a listlike key, _check_indexing_error will raise\u001b[39;00m\n\u001b[1;32m   3807\u001b[0m     \u001b[39m#  InvalidIndexError. Otherwise we fall through and re-raise\u001b[39;00m\n\u001b[1;32m   3808\u001b[0m     \u001b[39m#  the TypeError.\u001b[39;00m\n\u001b[1;32m   3809\u001b[0m     \u001b[39mself\u001b[39m\u001b[39m.\u001b[39m_check_indexing_error(key)\n",
      "\u001b[0;31mKeyError\u001b[0m: 'percapita_100k'"
     ]
    }
   ],
   "source": [
    "conflict_profile, df_annual, annual_summary, insurance_from_E_i = standard_Event_Year_files(data_working_copy, 'Ethiopia', 'Standard', 'Event year', 'fatalities_sum')"
   ]
  }
 ],
 "metadata": {
  "kernelspec": {
   "display_name": "viewser",
   "language": "python",
   "name": "python3"
  },
  "language_info": {
   "codemirror_mode": {
    "name": "ipython",
    "version": 3
   },
   "file_extension": ".py",
   "mimetype": "text/x-python",
   "name": "python",
   "nbconvert_exporter": "python",
   "pygments_lexer": "ipython3",
   "version": "3.11.9"
  }
 },
 "nbformat": 4,
 "nbformat_minor": 2
}
