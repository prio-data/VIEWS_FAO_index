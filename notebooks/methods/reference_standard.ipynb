{
 "cells": [
  {
   "cell_type": "markdown",
   "metadata": {},
   "source": [
    "## Standard Method Notebook\n",
    "\n",
    "### Overview: "
   ]
  },
  {
   "cell_type": "markdown",
   "metadata": {},
   "source": [
    "##### Import necessary functions\n",
    "\n",
    "These functions are stored in src/utils and contain intuitive folders hosting functions. The working directory should be set to the VIEWS_FAO_INDEX folder to enable access to retrieve these .py files."
   ]
  },
  {
   "cell_type": "code",
   "execution_count": 30,
   "metadata": {},
   "outputs": [],
   "source": [
    "import pandas as pd\n",
    "import os\n",
    "import sys\n",
    "from pathlib import Path\n",
    "import matplotlib.pyplot as plt\n",
    "# # Get the current working directory\n",
    "# current_directory = os.getcwd()\n",
    "\n",
    "# # Print the current working directory\n",
    "# print(\"The current Working Directory is:\", current_directory)\n",
    "\n",
    "# # Get the path to the base directory (VIEWS_FAO_index)\n",
    "# base_dir = os.path.abspath(os.path.join(os.getcwd(), '..', '..'))\n",
    "# print(f'The base directory will be set to: {base_dir}')\n",
    "\n",
    "# # Add the base directory to sys.path\n",
    "# sys.path.insert(0, base_dir)\n"
   ]
  },
  {
   "cell_type": "code",
   "execution_count": 31,
   "metadata": {},
   "outputs": [],
   "source": [
    "# Jupyter Notebook solution  --------------------------------------------------------------------------------------------\n",
    "notebook_dir = os.getcwd() # notebook specific\n",
    "notebook_name = \"reference_standard.ipynb\" # notebook specific name\n",
    "\n",
    "PATH = Path(notebook_dir) / Path(notebook_name) # notebook specific\n",
    "\n",
    "# alt script version -----------------------------------------------------------------------------------------------------\n",
    "# PATH = Path(__file__)\n",
    "\n",
    "# Common for notebooks and scripts alike\n",
    "sys.path.insert(0, str(Path(*[i for i in PATH.parts[:PATH.parts.index(\"VIEWS_FAO_index\")+1]]) / \"src/utils\"))   \n",
    "\n",
    "from set_paths import setup_project_paths, get_logo_path, get_data_paths, setup_root_paths, get_plot_path\n",
    "setup_project_paths(PATH)"
   ]
  },
  {
   "cell_type": "markdown",
   "metadata": {},
   "source": [
    "## Access public ViEWS data to support `1x1` analysis:\n",
    "\n",
    "### Consult the  `starter_notebook.ipynb` for information on running `main.py`. Doing so is a precondition for operating this notebook.\n",
    "\n",
    "**If you have not yet run `main.py`, please do so now.** You can, of course, get the VIEWS-FAO data through the Google Cloud Storage links provided in the repository's root README, but the `main.py` interface will give you more choices and information. For instance, it will allow you to check whether your data is in the expected directory, how your library versions compare to those used by the developers of this repository, and allow you to download and process the data directly. This currently takes as long as 20 minutes because a host of different tests are applied to check the integrity of the data and the transformations involved in the processing steps. Future versions will allow you to forego these tests, but as we are still in very active development, the tests are considered mandatory.\n",
    "\n",
    "**Welcome back!** Hopefully, `main.py` was able to execute flawlessly, and you're all set up now. If you were not able to execute `main.py` to your satisfaction, see the root README file for contact information for the project owner and team lead of this repository.\n",
    "\n",
    "**Let's move on!**"
   ]
  },
  {
   "cell_type": "code",
   "execution_count": 32,
   "metadata": {},
   "outputs": [
    {
     "name": "stdout",
     "output_type": "stream",
     "text": [
      "/Users/gbenz/Documents/VIEWS_FAO_index/data/raw_viewser\n",
      "/Users/gbenz/Documents/VIEWS_FAO_index/data/raw_external\n",
      "/Users/gbenz/Documents/VIEWS_FAO_index/data/processed\n",
      "/Users/gbenz/Documents/VIEWS_FAO_index/data/generated\n",
      "/Users/gbenz/Documents/VIEWS_FAO_index\n"
     ]
    }
   ],
   "source": [
    "PATH_RAW_VIEWSER, PATH_RAW_EXTERNAL, PATH_PROCESSED, PATH_GENERATED = get_data_paths(PATH)\n",
    "PATH_ROOT = setup_root_paths(PATH)\n",
    "\n",
    "# lest print the paths\n",
    "print(PATH_RAW_VIEWSER)\n",
    "print(PATH_RAW_EXTERNAL)\n",
    "print(PATH_PROCESSED)\n",
    "print(PATH_GENERATED) \n",
    "#-----\n",
    "print(PATH_ROOT)"
   ]
  },
  {
   "cell_type": "code",
   "execution_count": 33,
   "metadata": {},
   "outputs": [],
   "source": [
    "#Functions necessary for all methods:\n",
    "from src.utils.universal_functions.setup.generate_base_file import give_primary_frame\n",
    "from src.utils.universal_functions.setup.associate_country_id import associate_country_years, pull_from_c_y_dictionary\n",
    "from src.utils.universal_functions.setup.build_directory import ensure_directory_exists\n",
    "\n",
    "#Functions to generate the insurance table requested by FAO partners:\n",
    "from src.utils.universal_functions.FAO_table_formatting.calculate_percentiles import format_stats, clean_percentile_table\n",
    "from src.utils.universal_functions.FAO_table_formatting.generate_output_tables import insurance_table, annual_summary_table\n",
    "\n",
    "#Functions bespoke to standard method:\n",
    "from src.utils.functions_for_method_standard.standard_per_capita_fatalities import native_per_capita_fatalities\n",
    "\n",
    "#function to calculate Ei & big P return period\n",
    "from src.utils.functions_for_single_cell_return_period.cell_return_period import calculate_cumulative_distribution, calculate_probabilities, calculate_expected_time_periods, calculate_expected_voxels, compare_empirical_vs_expected\n",
    "from src.utils.functions_for_single_cell_return_period.Ei_insurance_table_setup import insurance_table_for_E_i\n",
    "\n",
    "#summary function that is templated by preceding code:\n",
    "from src.utils.functions_for_return_periods.insurance_products_for_RP import standard_Country_Year_files, standard_Event_Year_files"
   ]
  },
  {
   "cell_type": "markdown",
   "metadata": {},
   "source": [
    "### First, we define our primary dataframe. \n",
    "\n",
    "The variable 'data' is developed from two querysets 1. Fatalities_fao_pgm and 2. cm_properties which are required in order to capture fatality attributes and unique country identifiers, including start and end years for boundary changes.\n",
    "\n",
    "Year parameters can be adapted to incorporate future annual releases of Uppsala Conflict Data Program (UCDP) Geospatial Events Database (GED) data or constrain the temporal window for unique applications. The recommendation is to capture data from the full extent, which at the time of this release is 1989 - 2023."
   ]
  },
  {
   "cell_type": "code",
   "execution_count": null,
   "metadata": {},
   "outputs": [],
   "source": [
    "df_monthly = pd.read_pickle(PATH_GENERATED / \"df_monthly_country_return_periods.pkl\")\n",
    "df_yearly = pd.read_pickle(PATH_GENERATED / \"df_yearly_country_return_periods.pkl\")"
   ]
  },
  {
   "cell_type": "markdown",
   "metadata": {},
   "source": [
    "#### Alternatively, if you are in the ViEWS family operating this notebook. The data may be retrieved directly from our server:"
   ]
  },
  {
   "cell_type": "code",
   "execution_count": 34,
   "metadata": {},
   "outputs": [
    {
     "name": "stderr",
     "output_type": "stream",
     "text": [
      "100%|██████████| 40.0M/40.0M [00:03<00:00, 12.9MB/s]\n"
     ]
    },
    {
     "name": "stdout",
     "output_type": "stream",
     "text": [
      "Queryset Fatalities_fao_pgm read successfully \n",
      "Queryset cm_properties read successfully \n"
     ]
    },
    {
     "name": "stderr",
     "output_type": "stream",
     "text": [
      "/Users/gbenz/miniforge3/envs/viewser/lib/python3.11/site-packages/ingester3/scratch.py:31: UserWarning: No database connection! Will try to use cache for read-only ops as much as I can\n",
      "  warnings.warn(\"No database connection! Will try to use cache for read-only ops as much as I can\")\n"
     ]
    },
    {
     "name": "stdout",
     "output_type": "stream",
     "text": [
      "['month_id', 'pg_id', 'country_name', 'C_start_year', 'C_end_year', 'pop_gpw_sum', 'ged_sb', 'ged_ns', 'ged_os', 'year', 'fatalities_sum', 'country_id']\n"
     ]
    }
   ],
   "source": [
    "data = give_primary_frame('Fatalities_fao_pgm', 'cm_properties', 1988, 2021)"
   ]
  },
  {
   "cell_type": "markdown",
   "metadata": {},
   "source": [
    "#### Make a copy of the variable data to keep a clean version accesible."
   ]
  },
  {
   "cell_type": "code",
   "execution_count": 35,
   "metadata": {},
   "outputs": [],
   "source": [
    "data_working_copy = data.copy()"
   ]
  },
  {
   "cell_type": "markdown",
   "metadata": {},
   "source": [
    "#### Specifiy countries to investigate"
   ]
  },
  {
   "cell_type": "code",
   "execution_count": 36,
   "metadata": {},
   "outputs": [],
   "source": [
    "countries = ['Burkina Faso']"
   ]
  },
  {
   "cell_type": "markdown",
   "metadata": {},
   "source": [
    "#### Process for Country Year Return Period:"
   ]
  },
  {
   "cell_type": "code",
   "execution_count": 37,
   "metadata": {},
   "outputs": [
    {
     "name": "stdout",
     "output_type": "stream",
     "text": [
      "working on: Burkina Faso\n",
      "   c_id  country_name  C_start_year  C_end_year      0\n",
      "0    47  Burkina Faso          1960        2050  33408\n",
      "the length of country_ids for the selected country is: 1\n",
      "printing he country and year dictionary:\n",
      "{47: (1960, 2050)}\n",
      "Index where fatalities_sum equals 1: 96.9: 1.0\n",
      "Directory '/Users/gbenz/Documents/VIEWS_FAO_index/notebooks/methods/Country_Results/Burkina Faso/Standard/Country Year/FAO tables' already exists.\n",
      "saving annual_summary table to: /Users/gbenz/Documents/VIEWS_FAO_index/notebooks/methods/Country_Results/Burkina Faso/Standard/Country Year/FAO tables/Burkina Faso annual summary.csv\n",
      "saving insurance table to: /Users/gbenz/Documents/VIEWS_FAO_index/notebooks/methods/Country_Results/Burkina Faso/Standard/Country Year/FAO tables/Burkina Faso insurance table.csv\n",
      "saving main dataframe table to: /Users/gbenz/Documents/VIEWS_FAO_index/notebooks/methods/Country_Results/Burkina Faso/Standard/Country Year/FAO tables/Burkina Faso main dataframe.csv\n"
     ]
    }
   ],
   "source": [
    "for country in countries:\n",
    "    print('working on: '+ country)\n",
    "\n",
    "#   First:\n",
    "#   1. Aggregate the standard PRIO-Grid scale to a courser resolution\n",
    "    country_and_year_dictionary = associate_country_years(data_working_copy, country)\n",
    "    print('printing he country and year dictionary:')\n",
    "    print(country_and_year_dictionary)\n",
    "#-----------------------------------------------------------------------------------------------------------------------------------\n",
    "#   Second:\n",
    "#       1. Subset designated country in list. This requires examining country_id information and corresponding start and end years. \n",
    "#   Some countries contain more than one country_id. The functions employed in this section identify the most recent country range and \n",
    "#   subset the neccesary temporal ranges.\n",
    "#-----------------------------------------------------------------------------------------------------------------------------------\n",
    "#-----------------------------------------------------------------------------------------------------------------------------------\n",
    "    cid_int = pull_from_c_y_dictionary(country_and_year_dictionary)\n",
    "    subset_to_country = data_working_copy[data_working_copy['country_id'] == cid_int]\n",
    "    conflict_profile = {col: subset_to_country[col].sum() for col in ['ged_sb', 'ged_ns', 'ged_os', 'fatalities_sum']}\n",
    "\n",
    "    df_annual = native_per_capita_fatalities(subset_to_country)\n",
    "    df_annual['percapita_100k'] = df_annual['percapita_100k'].round(1)\n",
    "\n",
    "    percentile_df = format_stats(df_annual, field_to_describe='fatalities_sum') #or 'percapita_100k'\n",
    "    filtered_x = clean_percentile_table(percentile_df)\n",
    "    insurance_table_df = insurance_table(filtered_x, df_annual, ['90','95','98','99','100'], attribute_to_explore= 'fatalities_sum') #uses the default attribute = percapita_100k and appened_1_value = yes\n",
    "    annual_summary = annual_summary_table(df_annual, 'standard', fat_or_pcf='fatalities_sum') #or 'percapita_100k'\n",
    "#-----------------------------------------------------------------------------------------------------------------------------------\n",
    "#----- SET DIRECTORIES \n",
    "#-----------------------------------------------------------------------------------------------------------------------------------\n",
    "#----- THIS SETS A DIRECTORY THAT IS UNIQUE UNIQUE STANDARD METHOD ----\n",
    "#-----------------------------------------------------------------------------------------------------------------------------------\n",
    "#----- <<< working just with the 'Cell Year' Return Period Process >>>-\n",
    "    output_path = PATH_ROOT / 'notebooks/methods/Country_Results' / country / 'Standard/Country Year/FAO tables/'\n",
    "    ensure_directory_exists(output_path)\n",
    "#-----------------------------------------------------------------------------------------------------------------------------------\n",
    "    annual_summary_file_path = output_path /  f'{country} annual summary.csv'\n",
    "    print(f'saving annual_summary table to: {annual_summary_file_path}')\n",
    "#-----------------------------------------------------------------------------------------------------------------------------------\n",
    "    insurance_table_file_path = output_path / f'{country} insurance table.csv'\n",
    "    print(f'saving insurance table to: {insurance_table_file_path}')\n",
    "#-----------------------------------------------------------------------------------------------------------------------------------\n",
    "    main_dataframe_file_path = output_path / f'{country} main dataframe.csv'\n",
    "    print(f'saving main dataframe table to: {main_dataframe_file_path}')\n",
    "#-----------------------------------------------------------------------------------------------------------------------------------\n",
    "#-----------------------------------------------------------------------------------------------------------------------------------\n",
    "#----- NOW WE WRITE TO THE FOLDERS. -----------------------------------\n",
    "    annual_summary.to_csv(annual_summary_file_path)\n",
    "    insurance_table_df.to_csv(insurance_table_file_path)\n",
    "    df_annual.to_csv(main_dataframe_file_path)"
   ]
  },
  {
   "cell_type": "code",
   "execution_count": 39,
   "metadata": {},
   "outputs": [
    {
     "name": "stdout",
     "output_type": "stream",
     "text": [
      "   c_id  country_name  C_start_year  C_end_year      0\n",
      "0    47  Burkina Faso          1960        2050  33408\n",
      "the length of country_ids for the selected country is: 1\n",
      "printing he country and year dictionary:\n",
      "{47: (1960, 2050)}\n"
     ]
    },
    {
     "name": "stdout",
     "output_type": "stream",
     "text": [
      "Index where fatalities_sum equals 1: 96.9: 1.0\n",
      "Directory '/Users/gbenz/Documents/VIEWS_FAO_index/notebooks/methods/Country_Results/Burkina Faso/Standard/Country Year/FAO tables' already exists.\n",
      "saving annual_summary table to: /Users/gbenz/Documents/VIEWS_FAO_index/notebooks/methods/Country_Results/Burkina Faso/Standard/Country Year/FAO tables/Burkina Faso annual summary.csv\n",
      "saving insurance table to: /Users/gbenz/Documents/VIEWS_FAO_index/notebooks/methods/Country_Results/Burkina Faso/Standard/Country Year/FAO tables/Burkina Faso insurance table.csv\n",
      "saving main dataframe table to: /Users/gbenz/Documents/VIEWS_FAO_index/notebooks/methods/Country_Results/Burkina Faso/Standard/Country Year/FAO tables/Burkina Faso main dataframe.csv\n"
     ]
    }
   ],
   "source": [
    "conflict_profile, df_annual, annual_summary, insurance_table_df = standard_Country_Year_files(data_working_copy, country, 'fatalities_sum')"
   ]
  },
  {
   "cell_type": "markdown",
   "metadata": {},
   "source": [
    "#### Process for Event Year Return Period:"
   ]
  },
  {
   "cell_type": "code",
   "execution_count": 40,
   "metadata": {},
   "outputs": [
    {
     "name": "stdout",
     "output_type": "stream",
     "text": [
      "   c_id  country_name  C_start_year  C_end_year      0\n",
      "0    47  Burkina Faso          1960        2050  33408\n",
      "the length of country_ids for the selected country is: 1\n",
      "printing he country and year dictionary:\n",
      "{47: (1960, 2050)}\n",
      "Index where fatalities_sum equals 1: 96.9: 1.0\n",
      "Directory '/Users/gbenz/Documents/VIEWS_FAO_index/notebooks/methods/Country_Results/Burkina Faso/Standard/Country Year/FAO tables' already exists.\n",
      "saving annual_summary table to: /Users/gbenz/Documents/VIEWS_FAO_index/notebooks/methods/Country_Results/Burkina Faso/Standard/Country Year/FAO tables/Burkina Faso annual summary.csv\n",
      "saving insurance table to: /Users/gbenz/Documents/VIEWS_FAO_index/notebooks/methods/Country_Results/Burkina Faso/Standard/Country Year/FAO tables/Burkina Faso insurance table.csv\n",
      "saving main dataframe table to: /Users/gbenz/Documents/VIEWS_FAO_index/notebooks/methods/Country_Results/Burkina Faso/Standard/Country Year/FAO tables/Burkina Faso main dataframe.csv\n",
      "    fatalities_sum       p_i       P_i        E_i   E_i_voxels\n",
      "0            276.0  0.000359  0.030772  32.496857  2784.000000\n",
      "1            163.0  0.000718  0.060608  16.499462  1392.000000\n",
      "2            146.0  0.001078  0.089536  11.168734   928.000000\n",
      "3            118.0  0.001437  0.117582   8.504673   696.000000\n",
      "4            105.0  0.001796  0.144775   6.907278   556.800000\n",
      "5            101.0  0.002514  0.196699   5.083917   397.714286\n",
      "6             86.0  0.002874  0.221479   4.515092   348.000000\n",
      "7             76.0  0.003592  0.268796   3.720295   278.400000\n",
      "8             75.0  0.003951  0.291376   3.431986   253.090909\n",
      "9             71.0  0.004670  0.334490   2.989627   214.153846\n",
      "10            69.0  0.005029  0.355064   2.816396   198.857143\n",
      "11            58.0  0.005388  0.375009   2.666606   185.600000\n",
      "12            56.0  0.005747  0.394344   2.535860   174.000000\n",
      "13            55.0  0.006466  0.431257   2.318804   154.666667\n",
      "14            53.0  0.006825  0.448870   2.227814   146.526316\n",
      "15            51.0  0.007184  0.465945   2.146178   139.200000\n",
      "16            50.0  0.007902  0.498540   2.005858   126.545455\n",
      "17            46.0  0.008261  0.514092   1.945178   121.043478\n",
      "18            40.0  0.008621  0.529167   1.889763   116.000000\n",
      "19            38.0  0.008980  0.543779   1.838981   111.360000\n",
      "20            35.0  0.009698  0.571673   1.749252   103.111111\n",
      "21            34.0  0.010057  0.584981   1.709459    99.428571\n",
      "22            33.0  0.010417  0.597879   1.672578    96.000000\n",
      "23            31.0  0.010776  0.610382   1.638319    92.800000\n",
      "24            30.0  0.011135  0.622500   1.606426    89.806452\n",
      "25            29.0  0.011494  0.634245   1.576678    87.000000\n",
      "26            26.0  0.011853  0.645629   1.548877    84.363636\n",
      "27            25.0  0.012572  0.667356   1.498450    79.542857\n",
      "28            21.0  0.013290  0.687766   1.453983    75.243243\n",
      "29            17.0  0.013649  0.697501   1.433689    73.263158\n",
      "30            16.0  0.014009  0.706937   1.414554    71.384615\n",
      "31            15.0  0.014368  0.716081   1.396490    69.600000\n",
      "32            13.0  0.014727  0.724943   1.379418    67.902439\n",
      "33            12.0  0.015805  0.749922   1.333472    63.272727\n",
      "34            11.0  0.016164  0.757739   1.319716    61.866667\n",
      "35             9.0  0.016882  0.772656   1.294238    59.234043\n",
      "36             8.0  0.018678  0.806091   1.240554    53.538462\n",
      "37             7.0  0.019756  0.823768   1.213934    50.618182\n",
      "38             6.0  0.020474  0.834658   1.198096    48.842105\n",
      "39             5.0  0.022270  0.859057   1.164067    44.903226\n",
      "40             4.0  0.023348  0.871950   1.146854    42.830769\n",
      "41             3.0  0.025862  0.897676   1.113988    38.666667\n",
      "42             2.0  0.026940  0.907069   1.102452    37.120000\n",
      "43             1.0  0.031968  0.940791   1.062936    31.280899\n",
      "44             0.0  1.000000  1.000000   1.000000     1.000000\n",
      "Directory '/Users/gbenz/Documents/VIEWS_FAO_index/notebooks/methods/Country_Results/Burkina Faso/Standard/Event year/FAO tables' already exists.\n",
      "saving insurance table to: /Users/gbenz/Documents/VIEWS_FAO_index/notebooks/methods/Country_Results/Burkina Faso/Standard/Event year/FAO tables/Burkina Faso Event year insurance table.csv\n",
      "saving main dataframe table to: /Users/gbenz/Documents/VIEWS_FAO_index/notebooks/methods/Country_Results/Burkina Faso/Standard/Event year/FAO tables/Event year probabilities.csv\n"
     ]
    }
   ],
   "source": [
    "for country in countries:\n",
    "\n",
    "    conflict_profile, df_annual, annual_summary, insurance_table_df = standard_Country_Year_files(data, country, 'fatalities_sum') #or 'percapita_100k'\n",
    "\n",
    "    df_annual = df_annual.rename(columns={'GIS__Index': 'priogrid_gid'})\n",
    "    cumulative_distribution = calculate_cumulative_distribution(df_annual, 'fatalities_sum') #or 'percapita_100k'\n",
    "\n",
    "    #calculate_probabilities(cumulative_distribution, data, id_column='percapita_100k'):\n",
    "    probabilities = calculate_probabilities(cumulative_distribution, df_annual, 'pg_id')\n",
    "    #print(probabilities)\n",
    "    probabilities['E_i'] = calculate_expected_time_periods(probabilities['P_i'])\n",
    "    # Calculate E_i^voxels\n",
    "    probabilities['E_i_voxels'] = calculate_expected_voxels(probabilities['p_i'])\n",
    "    probabilities_renamed = probabilities.rename(columns={'value': 'fatalities_sum'}) #or 'percapita_100k'\n",
    "    print(probabilities_renamed.head(100))\n",
    "\n",
    "    probabilities_with_empirical = compare_empirical_vs_expected(df_annual, probabilities_renamed, time_column='year', value_column='fatalities_sum') #or 'percapita_100k'\n",
    "    probabilities_with_empirical_sorted = probabilities_with_empirical.sort_values(by='E_i_value')\n",
    "    subset_E_i = probabilities_with_empirical_sorted[probabilities_with_empirical_sorted['E_i_value'] >= 4.0]\n",
    "    insurance_from_E_i = insurance_table_for_E_i([5,10,20,30], subset_E_i, df_annual, value_field='fatalities_sum') #or 'percapita_100k'\n",
    "    insurance_from_E_i = insurance_from_E_i.round({\n",
    "        'closest r.p.': 1,\n",
    "        'fatalities_sum': 1, #or 'percapita_100k'\n",
    "    })\n",
    "#-----------------------------------------------------------------------------------------------------------------------------------\n",
    "#----- SET DIRECTORIES \n",
    "#-----------------------------------------------------------------------------------------------------------------------------------\n",
    "#----- THIS SETS A DIRECTORY THAT IS UNIQUE FOR AGGREGATION METHOD ----\n",
    "#-----------------------------------------------------------------------------------------------------------------------------------\n",
    "#----- <<< working just with the 'Cell Year' Return Period Process >>>-\n",
    "    output_path = PATH_ROOT / 'notebooks/methods/Country_Results' / country / 'Standard/Event year/FAO tables/'\n",
    "    ensure_directory_exists(output_path)\n",
    "#-----------------------------------------------------------------------------------------------------------------------------------\n",
    "    E_i_insurance_table_file_path = output_path / f'{country} Event year insurance table.csv'\n",
    "    print(f'saving insurance table to: {E_i_insurance_table_file_path}')\n",
    "#-----------------------------------------------------------------------------------------------------------------------------------\n",
    "    event_year_probabilities_file_path = output_path / 'Event year probabilities.csv'\n",
    "    print(f'saving main dataframe table to: {event_year_probabilities_file_path}')\n",
    "#-----------------------------------------------------------------------------------------------------------------------------------\n",
    "#-----------------------------------------------------------------------------------------------------------------------------------\n",
    "#----- NOW WE WRITE TO THE FOLDERS. -----------------------------------\n",
    "    insurance_from_E_i.to_csv(E_i_insurance_table_file_path)\n",
    "    probabilities_with_empirical_sorted.to_csv(event_year_probabilities_file_path)\n"
   ]
  },
  {
   "cell_type": "code",
   "execution_count": 41,
   "metadata": {},
   "outputs": [
    {
     "name": "stdout",
     "output_type": "stream",
     "text": [
      "   c_id  country_name  C_start_year  C_end_year      0\n",
      "0    47  Burkina Faso          1960        2050  33408\n",
      "the length of country_ids for the selected country is: 1\n",
      "printing he country and year dictionary:\n",
      "{47: (1960, 2050)}\n",
      "Index where fatalities_sum equals 1: 96.9: 1.0\n",
      "Directory '/Users/gbenz/Documents/VIEWS_FAO_index/notebooks/methods/Country_Results/Burkina Faso/Standard/Country Year/FAO tables' already exists.\n",
      "saving annual_summary table to: /Users/gbenz/Documents/VIEWS_FAO_index/notebooks/methods/Country_Results/Burkina Faso/Standard/Country Year/FAO tables/Burkina Faso annual summary.csv\n",
      "saving insurance table to: /Users/gbenz/Documents/VIEWS_FAO_index/notebooks/methods/Country_Results/Burkina Faso/Standard/Country Year/FAO tables/Burkina Faso insurance table.csv\n",
      "saving main dataframe table to: /Users/gbenz/Documents/VIEWS_FAO_index/notebooks/methods/Country_Results/Burkina Faso/Standard/Country Year/FAO tables/Burkina Faso main dataframe.csv\n",
      "    fatalities_sum       p_i       P_i        E_i   E_i_voxels\n",
      "0            276.0  0.000359  0.030772  32.496857  2784.000000\n",
      "1            163.0  0.000718  0.060608  16.499462  1392.000000\n",
      "2            146.0  0.001078  0.089536  11.168734   928.000000\n",
      "3            118.0  0.001437  0.117582   8.504673   696.000000\n",
      "4            105.0  0.001796  0.144775   6.907278   556.800000\n",
      "5            101.0  0.002514  0.196699   5.083917   397.714286\n",
      "6             86.0  0.002874  0.221479   4.515092   348.000000\n",
      "7             76.0  0.003592  0.268796   3.720295   278.400000\n",
      "8             75.0  0.003951  0.291376   3.431986   253.090909\n",
      "9             71.0  0.004670  0.334490   2.989627   214.153846\n",
      "10            69.0  0.005029  0.355064   2.816396   198.857143\n",
      "11            58.0  0.005388  0.375009   2.666606   185.600000\n",
      "12            56.0  0.005747  0.394344   2.535860   174.000000\n",
      "13            55.0  0.006466  0.431257   2.318804   154.666667\n",
      "14            53.0  0.006825  0.448870   2.227814   146.526316\n",
      "15            51.0  0.007184  0.465945   2.146178   139.200000\n",
      "16            50.0  0.007902  0.498540   2.005858   126.545455\n",
      "17            46.0  0.008261  0.514092   1.945178   121.043478\n",
      "18            40.0  0.008621  0.529167   1.889763   116.000000\n",
      "19            38.0  0.008980  0.543779   1.838981   111.360000\n",
      "20            35.0  0.009698  0.571673   1.749252   103.111111\n",
      "21            34.0  0.010057  0.584981   1.709459    99.428571\n",
      "22            33.0  0.010417  0.597879   1.672578    96.000000\n",
      "23            31.0  0.010776  0.610382   1.638319    92.800000\n",
      "24            30.0  0.011135  0.622500   1.606426    89.806452\n",
      "25            29.0  0.011494  0.634245   1.576678    87.000000\n",
      "26            26.0  0.011853  0.645629   1.548877    84.363636\n",
      "27            25.0  0.012572  0.667356   1.498450    79.542857\n",
      "28            21.0  0.013290  0.687766   1.453983    75.243243\n",
      "29            17.0  0.013649  0.697501   1.433689    73.263158\n",
      "30            16.0  0.014009  0.706937   1.414554    71.384615\n",
      "31            15.0  0.014368  0.716081   1.396490    69.600000\n",
      "32            13.0  0.014727  0.724943   1.379418    67.902439\n",
      "33            12.0  0.015805  0.749922   1.333472    63.272727\n",
      "34            11.0  0.016164  0.757739   1.319716    61.866667\n",
      "35             9.0  0.016882  0.772656   1.294238    59.234043\n",
      "36             8.0  0.018678  0.806091   1.240554    53.538462\n",
      "37             7.0  0.019756  0.823768   1.213934    50.618182\n",
      "38             6.0  0.020474  0.834658   1.198096    48.842105\n",
      "39             5.0  0.022270  0.859057   1.164067    44.903226\n",
      "40             4.0  0.023348  0.871950   1.146854    42.830769\n",
      "41             3.0  0.025862  0.897676   1.113988    38.666667\n",
      "42             2.0  0.026940  0.907069   1.102452    37.120000\n",
      "43             1.0  0.031968  0.940791   1.062936    31.280899\n",
      "44             0.0  1.000000  1.000000   1.000000     1.000000\n",
      "Directory '/Users/gbenz/Documents/VIEWS_FAO_index/notebooks/methods/Country_Results/Burkina Faso/Standard/Event year/FAO tables' already exists.\n",
      "saving insurance table to: /Users/gbenz/Documents/VIEWS_FAO_index/notebooks/methods/Country_Results/Burkina Faso/Standard/Event year/FAO tables/Burkina FasoEvent year insurance table.csv\n",
      "saving main dataframe table to: /Users/gbenz/Documents/VIEWS_FAO_index/notebooks/methods/Country_Results/Burkina Faso/Standard/Event year/FAO tables/ Event year probabilities.csv\n"
     ]
    }
   ],
   "source": [
    "conflict_profile, df_annual, annual_summary, insurance_from_E_i = standard_Event_Year_files(data_working_copy, country, 'Standard', 'Event year', 'fatalities_sum')"
   ]
  }
 ],
 "metadata": {
  "kernelspec": {
   "display_name": "viewser",
   "language": "python",
   "name": "python3"
  },
  "language_info": {
   "codemirror_mode": {
    "name": "ipython",
    "version": 3
   },
   "file_extension": ".py",
   "mimetype": "text/x-python",
   "name": "python",
   "nbconvert_exporter": "python",
   "pygments_lexer": "ipython3",
   "version": "3.11.9"
  }
 },
 "nbformat": 4,
 "nbformat_minor": 2
}
