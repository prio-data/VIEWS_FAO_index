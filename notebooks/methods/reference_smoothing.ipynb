{
 "cells": [
  {
   "cell_type": "markdown",
   "metadata": {},
   "source": [
    "## Smoothing Method Notebook\n",
    "\n",
    "### Overview: "
   ]
  },
  {
   "cell_type": "markdown",
   "metadata": {},
   "source": [
    "##### Import necessary functions\n",
    "\n",
    "These functions are stored in src/utils and contain intuitive folders hosting functions. The working directory should be set to the VIEWS_FAO_INDEX folder to enable access to retrieve these .py files."
   ]
  },
  {
   "cell_type": "code",
   "execution_count": 1,
   "metadata": {},
   "outputs": [
    {
     "name": "stdout",
     "output_type": "stream",
     "text": [
      "The current Working Directory is: /Users/gbenz/Documents/VIEWS_FAO_index/notebooks/methods\n",
      "The base directory will be set to: /Users/gbenz/Documents/VIEWS_FAO_index\n"
     ]
    }
   ],
   "source": [
    "import os\n",
    "import sys\n",
    "\n",
    "# Get the current working directory\n",
    "current_directory = os.getcwd()\n",
    "\n",
    "# Print the current working directory\n",
    "print(\"The current Working Directory is:\", current_directory)\n",
    "\n",
    "# Get the path to the base directory (VIEWS_FAO_index)\n",
    "base_dir = os.path.abspath(os.path.join(os.getcwd(), '..', '..'))\n",
    "print(f'The base directory will be set to: {base_dir}')\n",
    "\n",
    "# Add the base directory to sys.path\n",
    "sys.path.insert(0, base_dir)"
   ]
  },
  {
   "cell_type": "code",
   "execution_count": 2,
   "metadata": {},
   "outputs": [
    {
     "name": "stdout",
     "output_type": "stream",
     "text": [
      "The current Working Directory is: /Users/gbenz/Documents/VIEWS_FAO_index/notebooks/methods\n",
      "The base directory will be set to: /Users/gbenz/Documents/VIEWS_FAO_index\n",
      "The current Working Directory is: /Users/gbenz/Documents/VIEWS_FAO_index/notebooks/methods\n",
      "The base directory will be set to: /Users/gbenz/Documents/VIEWS_FAO_index\n",
      "The current Working Directory is: /Users/gbenz/Documents/VIEWS_FAO_index/notebooks/methods\n",
      "The base directory will be set to: /Users/gbenz/Documents/VIEWS_FAO_index\n"
     ]
    }
   ],
   "source": [
    "import sys\n",
    "import os\n",
    "import pandas as pd\n",
    "import matplotlib.pyplot as plt\n",
    "\n",
    "#Functions necessary for all methods:\n",
    "from src.utils.universal_functions.setup.generate_base_file import give_primary_frame\n",
    "from src.utils.universal_functions.setup.associate_country_id import associate_country_years, pull_from_c_y_dictionary\n",
    "from src.utils.universal_functions.setup.build_directory import ensure_directory_exists\n",
    "\n",
    "#Functions to generate the insurance table requested by FAO partners:\n",
    "from src.utils.universal_functions.FAO_table_formatting.calculate_percentiles import format_stats, clean_percentile_table\n",
    "from src.utils.universal_functions.FAO_table_formatting.generate_output_tables import insurance_table, annual_summary_table\n",
    "\n",
    "#Functions bespoke to smoothing method:\n",
    "from src.utils.functions_for_method_smoothing.generate_smoothing_dataframe import smoothed_dataframe\n",
    "\n",
    "#Function for Event-Year Return Period process:\n",
    "from src.utils.functions_for_single_cell_return_period.cell_return_period import calculate_cumulative_distribution, calculate_probabilities, calculate_expected_time_periods, calculate_expected_voxels, compare_empirical_vs_expected\n",
    "from src.utils.functions_for_single_cell_return_period.Ei_insurance_table_setup import insurance_table_for_E_i\n",
    "\n",
    "#Function to run the method in a single line:\n",
    "from src.utils.functions_for_return_periods.insurance_products_for_RP import smoothing_Country_Year_files, smoothing_Event_Year_files"
   ]
  },
  {
   "cell_type": "markdown",
   "metadata": {},
   "source": [
    "### First, we define our primary dataframe. \n",
    "\n",
    "The variable 'data' is developed from two querysets 1. Fatalities_fao_pgm and 2. cm_properties which are required in order to capture fatality attributes and unique country identifiers, including start and end years for boundary changes.\n",
    "\n",
    "Year parameters can be adapted to incorporate future annual releases of Uppsala Conflict Data Program (UCDP) Geospatial Events Database (GED) data or constrain the temporal window for unique applications. The recommendation is to capture data from the full extent, which at the time of this release is 1989 - 2023."
   ]
  },
  {
   "cell_type": "code",
   "execution_count": 3,
   "metadata": {},
   "outputs": [
    {
     "name": "stderr",
     "output_type": "stream",
     "text": [
      "100%|██████████| 40.0M/40.0M [00:40<00:00, 995kB/s] \n"
     ]
    },
    {
     "name": "stdout",
     "output_type": "stream",
     "text": [
      "Queryset Fatalities_fao_pgm read successfully \n",
      "Queryset cm_properties read successfully \n"
     ]
    },
    {
     "name": "stderr",
     "output_type": "stream",
     "text": [
      "/Users/gbenz/miniforge3/envs/viewser/lib/python3.11/site-packages/ingester3/scratch.py:31: UserWarning: No database connection! Will try to use cache for read-only ops as much as I can\n",
      "  warnings.warn(\"No database connection! Will try to use cache for read-only ops as much as I can\")\n"
     ]
    },
    {
     "name": "stdout",
     "output_type": "stream",
     "text": [
      "['month_id', 'pg_id', 'country_name', 'C_start_year', 'C_end_year', 'pop_gpw_sum', 'ged_sb', 'ged_ns', 'ged_os', 'year', 'fatalities_sum', 'country_id']\n"
     ]
    }
   ],
   "source": [
    "data = give_primary_frame('Fatalities_fao_pgm', 'cm_properties', 1988, 2023)"
   ]
  },
  {
   "cell_type": "markdown",
   "metadata": {},
   "source": [
    "#### Make a copy of the variable data to keep a clean version accesible."
   ]
  },
  {
   "cell_type": "code",
   "execution_count": 4,
   "metadata": {},
   "outputs": [],
   "source": [
    "data_working_copy = data"
   ]
  },
  {
   "cell_type": "markdown",
   "metadata": {},
   "source": [
    "#### Specifiy countries to investigate"
   ]
  },
  {
   "cell_type": "code",
   "execution_count": 5,
   "metadata": {},
   "outputs": [],
   "source": [
    "countries = ['Ethiopia']"
   ]
  },
  {
   "cell_type": "markdown",
   "metadata": {},
   "source": [
    "#### Template process to construct a function unique to this method\n",
    "\n",
    "#### Ouput variables and application:\n",
    "annual_summary:\n",
    "insurance_table\n",
    "df_annual_cleaned:\n",
    "\n",
    "#### Parameters Explained with conditions for changes:\n",
    "\n",
    "countries: \n",
    "'country_id':\n",
    "smoothed_dataframe_file:\n",
    "insurance_table (percentiles):\n",
    "insurance_table ('perca_Mean'):"
   ]
  },
  {
   "cell_type": "code",
   "execution_count": 6,
   "metadata": {},
   "outputs": [
    {
     "name": "stdout",
     "output_type": "stream",
     "text": [
      "working on: Ethiopia\n",
      "   c_id country_name  C_start_year  C_end_year       0\n",
      "0    57     Ethiopia          1993        2050  132397\n",
      "1   191     Ethiopia          1946        1993   22112\n",
      "the length of country_ids for the selected country is: 2\n",
      "The smoothed dataframe contains the following columns: ['OBJECTID_1', 'Join_Count', 'TARGET_FID', 'gid', 'Shape_Length', 'Shape_Area', 'X_center', 'Y_center', 'percapita_100k', 'DIST_Mean', 'DIST_NNBRS', 'perca_Mean', 'perc_NNBRS', 'year_id']\n",
      "the length of the smoothed country priogrid dataframe is: 11189\n",
      "After joining...the length of the country priogrid dataframe is: 11189\n",
      "Index where perca_Mean equals 1: 83.1: 1.0\n",
      "Directory '/Users/gbenz/Documents/VIEWS_FAO_index/notebooks/methods/Country_Results/Ethiopia/Smoothing/Cell Year/FAO tables' already exists.\n",
      "saving annual_summary table to: /Users/gbenz/Documents/VIEWS_FAO_index/notebooks/methods/Country_Results/Ethiopia/Smoothing/Cell Year/FAO tables/Ethiopia annual summary.csv\n",
      "saving insurance table to: /Users/gbenz/Documents/VIEWS_FAO_index/notebooks/methods/Country_Results/Ethiopia/Smoothing/Cell Year/FAO tables/Ethiopia insurance table.csv\n",
      "saving main dataframe table to: /Users/gbenz/Documents/VIEWS_FAO_index/notebooks/methods/Country_Results/Ethiopia/Smoothing/Cell Year/FAO tables/Ethiopia main dataframe.csv\n"
     ]
    }
   ],
   "source": [
    "for country in countries:\n",
    "    print('working on: '+ country)\n",
    "    \n",
    "    country_and_year_dictionary = associate_country_years(data, country)\n",
    "#-----------------------------------------------------------------------------------------------------------------------------------\n",
    "#   Second:\n",
    "#       1. Subset designated country in list. This requires examining country_id information and corresponding start and end years. \n",
    "#   Some countries contain more than one country_id. The functions employed in this section identify the most recent country range and \n",
    "#   subset the neccesary temporal ranges.\n",
    "#-----------------------------------------------------------------------------------------------------------------------------------\n",
    "#-----------------------------------------------------------------------------------------------------------------------------------\n",
    "    cid_int = pull_from_c_y_dictionary(country_and_year_dictionary)\n",
    "    subset_to_country = data[data['country_id'] == cid_int]\n",
    "    conflict_profile = {col: subset_to_country[col].sum() for col in ['ged_sb', 'ged_ns', 'ged_os', 'fatalities_sum']}\n",
    "\n",
    "    #concludes the AOI subsetting parameters----\n",
    "    smoothed_dataframe_file = base_dir + '/data/generated/Smoothing/' + 'pgy_smoothing.csv'\n",
    "    \n",
    "    df_annual_cleaned = smoothed_dataframe(smoothed_dataframe_file, subset_to_country, df_pg_column='pg_id', df_year_column='year', smooth_pg_column='gid', smooth_year_column='year_id', smoothing_column='perca_Mean')\n",
    "    df_annual_cleaned['perca_Mean'] = df_annual_cleaned['perca_Mean'].round(1)\n",
    "\n",
    "    percentile_df = format_stats(df_annual_cleaned, 'perca_Mean')\n",
    "    filtered_x = clean_percentile_table(percentile_df)\n",
    "    insurance_table_df = insurance_table(filtered_x, df_annual_cleaned, ['90','95','98','99','100'], 'perca_Mean') #uses the default attribute = percapita_100k and appened_1_value = yes\n",
    "    annual_summary = annual_summary_table(df_annual_cleaned, 'smoothing', 'perca_Mean')\n",
    "#-----------------------------------------------------------------------------------------------------------------------------------\n",
    "#----- SET DIRECTORIES \n",
    "#-----------------------------------------------------------------------------------------------------------------------------------\n",
    "#----- THIS SETS A DIRECTORY THAT IS UNIQUE FOR AGGREGATION METHOD ----\n",
    "#-----------------------------------------------------------------------------------------------------------------------------------\n",
    "#----- <<< working just with the 'Cell Year' Return Period Process >>>-\n",
    "    output_path = base_dir + '/notebooks/methods/Country_Results/' + country + '/Smoothing/Cell Year/FAO tables/'\n",
    "    ensure_directory_exists(output_path)\n",
    "#-----------------------------------------------------------------------------------------------------------------------------------\n",
    "    annual_summary_file_path = output_path + country + ' annual summary.csv'\n",
    "    print(f'saving annual_summary table to: {annual_summary_file_path}')\n",
    "#-----------------------------------------------------------------------------------------------------------------------------------\n",
    "    insurance_table_file_path = output_path + country + ' insurance table.csv'\n",
    "    print(f'saving insurance table to: {insurance_table_file_path}')\n",
    "#-----------------------------------------------------------------------------------------------------------------------------------\n",
    "    main_dataframe_file_path = output_path + country + ' main dataframe.csv'\n",
    "    print(f'saving main dataframe table to: {main_dataframe_file_path}')\n",
    "#-----------------------------------------------------------------------------------------------------------------------------------\n",
    "#-----------------------------------------------------------------------------------------------------------------------------------\n",
    "#----- NOW WE WRITE TO THE FOLDERS. -----------------------------------\n",
    "    annual_summary.to_csv(annual_summary_file_path)\n",
    "    insurance_table_df.to_csv(insurance_table_file_path)\n",
    "    df_annual_cleaned.to_csv(main_dataframe_file_path)\n",
    "#-----------------------------------------------------------------------------------------------------------------------------------\n"
   ]
  },
  {
   "cell_type": "code",
   "execution_count": 7,
   "metadata": {},
   "outputs": [
    {
     "name": "stdout",
     "output_type": "stream",
     "text": [
      "   c_id country_name  C_start_year  C_end_year       0\n",
      "0    57     Ethiopia          1993        2050  132397\n",
      "1   191     Ethiopia          1946        1993   22112\n",
      "the length of country_ids for the selected country is: 2\n",
      "The smoothed dataframe contains the following columns: ['OBJECTID_1', 'Join_Count', 'TARGET_FID', 'gid', 'Shape_Length', 'Shape_Area', 'X_center', 'Y_center', 'percapita_100k', 'DIST_Mean', 'DIST_NNBRS', 'perca_Mean', 'perc_NNBRS', 'year_id']\n",
      "the length of the smoothed country priogrid dataframe is: 11189\n",
      "After joining...the length of the country priogrid dataframe is: 11189\n",
      "Index where perca_Mean equals 1: 83.1: 1.0\n",
      "Directory '/Users/gbenz/Documents/VIEWS_FAO_index/notebooks/methods/Country_Results/Ethiopia/Smoothing/Cell Year/FAO tables' already exists.\n",
      "saving annual_summary table to: /Users/gbenz/Documents/VIEWS_FAO_index/notebooks/methods/Country_Results/Ethiopia/Smoothing/Cell Year/FAO tables/Ethiopia annual summary.csv\n",
      "saving insurance table to: /Users/gbenz/Documents/VIEWS_FAO_index/notebooks/methods/Country_Results/Ethiopia/Smoothing/Cell Year/FAO tables/Ethiopia insurance table.csv\n",
      "saving main dataframe table to: /Users/gbenz/Documents/VIEWS_FAO_index/notebooks/methods/Country_Results/Ethiopia/Smoothing/Cell Year/FAO tables/Ethiopia main dataframe.csv\n"
     ]
    }
   ],
   "source": [
    "conflict_profile, x,y,z = smoothing_Country_Year_files(data_working_copy, country)"
   ]
  },
  {
   "cell_type": "markdown",
   "metadata": {},
   "source": [
    "#### You must run the Method for the Cell-Year process before the Event Year Return Period type can be generated."
   ]
  },
  {
   "cell_type": "code",
   "execution_count": 8,
   "metadata": {},
   "outputs": [
    {
     "name": "stdout",
     "output_type": "stream",
     "text": [
      "   c_id country_name  C_start_year  C_end_year       0\n",
      "0    57     Ethiopia          1993        2050  132397\n",
      "1   191     Ethiopia          1946        1993   22112\n",
      "the length of country_ids for the selected country is: 2\n",
      "The smoothed dataframe contains the following columns: ['OBJECTID_1', 'Join_Count', 'TARGET_FID', 'gid', 'Shape_Length', 'Shape_Area', 'X_center', 'Y_center', 'percapita_100k', 'DIST_Mean', 'DIST_NNBRS', 'perca_Mean', 'perc_NNBRS', 'year_id']\n",
      "the length of the smoothed country priogrid dataframe is: 11189\n",
      "After joining...the length of the country priogrid dataframe is: 11189\n",
      "Index where perca_Mean equals 1: 83.1: 1.0\n",
      "Directory '/Users/gbenz/Documents/VIEWS_FAO_index/notebooks/methods/Country_Results/Ethiopia/Smoothing/Cell Year/FAO tables' already exists.\n",
      "saving annual_summary table to: /Users/gbenz/Documents/VIEWS_FAO_index/notebooks/methods/Country_Results/Ethiopia/Smoothing/Cell Year/FAO tables/Ethiopia annual summary.csv\n",
      "saving insurance table to: /Users/gbenz/Documents/VIEWS_FAO_index/notebooks/methods/Country_Results/Ethiopia/Smoothing/Cell Year/FAO tables/Ethiopia insurance table.csv\n",
      "saving main dataframe table to: /Users/gbenz/Documents/VIEWS_FAO_index/notebooks/methods/Country_Results/Ethiopia/Smoothing/Cell Year/FAO tables/Ethiopia main dataframe.csv\n",
      "    perca_Mean       p_i       P_i        E_i    E_i_voxels\n",
      "0       5364.6  0.000089  0.035206  28.404483  11189.000000\n",
      "1       5360.1  0.000179  0.069175  14.456098   5594.500000\n",
      "2       5359.3  0.000268  0.101951   9.808627   3729.666667\n",
      "3       5314.7  0.000357  0.133576   7.486383   2797.250000\n",
      "4       5308.2  0.000447  0.164090   6.094230   2237.800000\n",
      "..         ...       ...       ...        ...           ...\n",
      "95        71.3  0.013495  0.995697   1.004321     74.099338\n",
      "96        70.9  0.013585  0.995851   1.004167     73.611842\n",
      "97        70.1  0.013674  0.995999   1.004017     73.130719\n",
      "98        69.7  0.013764  0.996142   1.003873     72.655844\n",
      "99        69.6  0.013853  0.996279   1.003735     72.187097\n",
      "\n",
      "[100 rows x 5 columns]\n",
      "Directory '/Users/gbenz/Documents/VIEWS_FAO_index/notebooks/methods/Country_Results/Ethiopia/Smoothing/Event year/FAO tables' created.\n",
      "saving insurance table to: /Users/gbenz/Documents/VIEWS_FAO_index/notebooks/methods/Country_Results/Ethiopia/Smoothing/Event year/FAO tables/Ethiopia Event year insurance table.csv\n",
      "saving main dataframe table to: /Users/gbenz/Documents/VIEWS_FAO_index/notebooks/methods/Country_Results/Ethiopia/Smoothing/Event year/FAO tables/Event year probabilities.csv\n",
      "   Intended Return Period  Closest E_i  perca_Mean  Observations     Payout\n",
      "0                       5     5.167121      5307.5             3  Undefined\n",
      "1                      10     9.808627      5359.3             1  Undefined\n",
      "2                      20    14.456098      5360.1             1  Undefined\n",
      "3                      30    28.404483      5364.6             1  Undefined\n"
     ]
    }
   ],
   "source": [
    "for country in countries:\n",
    "\n",
    "    conflict_profile, df_annual_cleaned, annual_summary, insurance_table_df = smoothing_Country_Year_files(data_working_copy, country)\n",
    "\n",
    "    #This cell is exclusively working with E_i values (Return Period by Cell)\n",
    "    cumulative_distribution = calculate_cumulative_distribution(df_annual_cleaned, 'perca_Mean')\n",
    "    #calculate_probabilities(cumulative_distribution, data, id_column='percapita_100k'):\n",
    "    probabilities = calculate_probabilities(cumulative_distribution, df_annual_cleaned, 'pg_id')\n",
    "    #print(probabilities)\n",
    "    probabilities['E_i'] = calculate_expected_time_periods(probabilities['P_i'])\n",
    "    # Calculate E_i^voxels\n",
    "    probabilities['E_i_voxels'] = calculate_expected_voxels(probabilities['p_i'])\n",
    "    probabilities_renamed = probabilities.rename(columns={'value': 'perca_Mean'})\n",
    "    print(probabilities_renamed.head(100))\n",
    "\n",
    "    probabilities_with_empirical = compare_empirical_vs_expected(df_annual_cleaned, probabilities_renamed, time_column='year', value_column = 'perca_Mean')\n",
    "\n",
    "    probabilities_with_empirical_sorted = probabilities_with_empirical.sort_values(by='E_i_value')\n",
    "    subset_E_i = probabilities_with_empirical_sorted[probabilities_with_empirical_sorted['E_i_value'] >= 4.0]\n",
    "    insurance_from_E_i = insurance_table_for_E_i( [5,10,20,30], subset_E_i, df_annual_cleaned, value_field='perca_Mean')\n",
    "    insurance_from_E_i = insurance_from_E_i.round({\n",
    "        'closest r.p.': 1,\n",
    "        'perca_Mean': 1,\n",
    "    })\n",
    "    #-----------------------------------------------------------------------------------------------------------------------------------\n",
    "#----- SET DIRECTORIES \n",
    "#-----------------------------------------------------------------------------------------------------------------------------------\n",
    "#----- THIS SETS A DIRECTORY THAT IS UNIQUE FOR AGGREGATION METHOD ----\n",
    "#-----------------------------------------------------------------------------------------------------------------------------------\n",
    "#----- <<< working just with the 'Cell Year' Return Period Process >>>-\n",
    "    output_path = base_dir + '/notebooks/methods/Country_Results/' + country + '/Smoothing/Event year/FAO tables/'\n",
    "    ensure_directory_exists(output_path)\n",
    "#-----------------------------------------------------------------------------------------------------------------------------------\n",
    "    E_i_insurance_table_file_path = output_path + country + ' Event year insurance table.csv'\n",
    "    print(f'saving insurance table to: {E_i_insurance_table_file_path}')\n",
    "#-----------------------------------------------------------------------------------------------------------------------------------\n",
    "    event_year_probabilities_file_path = output_path + 'Event year probabilities.csv'\n",
    "    print(f'saving main dataframe table to: {event_year_probabilities_file_path}')\n",
    "#-----------------------------------------------------------------------------------------------------------------------------------\n",
    "#-----------------------------------------------------------------------------------------------------------------------------------\n",
    "#----- NOW WE WRITE TO THE FOLDERS. -----------------------------------\n",
    "    insurance_from_E_i.to_csv(E_i_insurance_table_file_path)\n",
    "    probabilities_with_empirical_sorted.to_csv(event_year_probabilities_file_path)\n",
    "    \n",
    "    print(insurance_from_E_i)"
   ]
  },
  {
   "cell_type": "code",
   "execution_count": 9,
   "metadata": {},
   "outputs": [
    {
     "name": "stdout",
     "output_type": "stream",
     "text": [
      "   c_id country_name  C_start_year  C_end_year       0\n",
      "0    57     Ethiopia          1993        2050  132397\n",
      "1   191     Ethiopia          1946        1993   22112\n",
      "the length of country_ids for the selected country is: 2\n",
      "The smoothed dataframe contains the following columns: ['OBJECTID_1', 'Join_Count', 'TARGET_FID', 'gid', 'Shape_Length', 'Shape_Area', 'X_center', 'Y_center', 'percapita_100k', 'DIST_Mean', 'DIST_NNBRS', 'perca_Mean', 'perc_NNBRS', 'year_id']\n",
      "the length of the smoothed country priogrid dataframe is: 11189\n",
      "After joining...the length of the country priogrid dataframe is: 11189\n",
      "Index where perca_Mean equals 1: 83.1: 1.0\n",
      "Directory '/Users/gbenz/Documents/VIEWS_FAO_index/notebooks/methods/Country_Results/Ethiopia/Smoothing/Cell Year/FAO tables' already exists.\n",
      "saving annual_summary table to: /Users/gbenz/Documents/VIEWS_FAO_index/notebooks/methods/Country_Results/Ethiopia/Smoothing/Cell Year/FAO tables/Ethiopia annual summary.csv\n",
      "saving insurance table to: /Users/gbenz/Documents/VIEWS_FAO_index/notebooks/methods/Country_Results/Ethiopia/Smoothing/Cell Year/FAO tables/Ethiopia insurance table.csv\n",
      "saving main dataframe table to: /Users/gbenz/Documents/VIEWS_FAO_index/notebooks/methods/Country_Results/Ethiopia/Smoothing/Cell Year/FAO tables/Ethiopia main dataframe.csv\n",
      "    perca_Mean       p_i       P_i        E_i    E_i_voxels\n",
      "0       5364.6  0.000089  0.035206  28.404483  11189.000000\n",
      "1       5360.1  0.000179  0.069175  14.456098   5594.500000\n",
      "2       5359.3  0.000268  0.101951   9.808627   3729.666667\n",
      "3       5314.7  0.000357  0.133576   7.486383   2797.250000\n",
      "4       5308.2  0.000447  0.164090   6.094230   2237.800000\n",
      "..         ...       ...       ...        ...           ...\n",
      "95        71.3  0.013495  0.995697   1.004321     74.099338\n",
      "96        70.9  0.013585  0.995851   1.004167     73.611842\n",
      "97        70.1  0.013674  0.995999   1.004017     73.130719\n",
      "98        69.7  0.013764  0.996142   1.003873     72.655844\n",
      "99        69.6  0.013853  0.996279   1.003735     72.187097\n",
      "\n",
      "[100 rows x 5 columns]\n",
      "Directory '/Users/gbenz/Documents/VIEWS_FAO_index/notebooks/methods/Country_Results/Ethiopia/Smoothing/Event year/FAO tables' already exists.\n",
      "saving insurance table to: /Users/gbenz/Documents/VIEWS_FAO_index/notebooks/methods/Country_Results/Ethiopia/Smoothing/Event year/FAO tables/EthiopiaEvent year insurance table.csv\n",
      "saving main dataframe table to: /Users/gbenz/Documents/VIEWS_FAO_index/notebooks/methods/Country_Results/Ethiopia/Smoothing/Event year/FAO tables/ Event year probabilities.csv\n"
     ]
    }
   ],
   "source": [
    "conflict_profile, df_annual_cleaned, annual_summary, insurance_from_E_i = smoothing_Event_Year_files(data, 'Ethiopia', 'Smoothing', 'Event year')"
   ]
  }
 ],
 "metadata": {
  "kernelspec": {
   "display_name": "viewser",
   "language": "python",
   "name": "python3"
  },
  "language_info": {
   "codemirror_mode": {
    "name": "ipython",
    "version": 3
   },
   "file_extension": ".py",
   "mimetype": "text/x-python",
   "name": "python",
   "nbconvert_exporter": "python",
   "pygments_lexer": "ipython3",
   "version": "3.11.9"
  }
 },
 "nbformat": 4,
 "nbformat_minor": 2
}
