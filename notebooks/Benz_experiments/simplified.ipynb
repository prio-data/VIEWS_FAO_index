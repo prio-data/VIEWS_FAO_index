{
 "cells": [
  {
   "cell_type": "code",
   "execution_count": 1,
   "metadata": {},
   "outputs": [],
   "source": [
    "import sys\n",
    "import os\n",
    "from viewser import Queryset, Column\n",
    "\n",
    "from support_functions.setup_aggregation import *\n",
    "from support_functions.setup_general import *\n",
    "from support_functions.statsheet_input import *\n",
    "from support_functions.statsheet_format import *\n",
    "from support_functions.statsheet_execute import *\n",
    "from support_functions.fatality_statistics_generate import *\n",
    "from support_functions.fatality_statistics_reformat import *\n",
    "from support_functions.generate_timeline_table_for_gis import *"
   ]
  },
  {
   "cell_type": "code",
   "execution_count": 2,
   "metadata": {},
   "outputs": [],
   "source": [
    "queryset_base_PG = (Queryset(\"Fatalities_fao_pgm\", \"priogrid_month\")\n",
    "\n",
    "    .with_column(Column(\"country_name\",\n",
    "                        from_loa='country', \n",
    "                        from_column = \"name\")\n",
    "        .transform.missing.replace_na()\n",
    "    )\n",
    "\n",
    "    #column with wkt to review \n",
    "    .with_column(Column(\"C_start_year\",\n",
    "                        from_loa=\"country\",\n",
    "                        from_column=\"gwsyear\")\n",
    "    )                         \n",
    "    \n",
    "    .with_column(Column(\"C_end_year\",\n",
    "                        from_loa='country', \n",
    "                        from_column='gweyear')\n",
    "    )\n",
    "        \n",
    "    # target variable\n",
    "    .with_column(Column(\"ged_sb\",\n",
    "                        from_loa='priogrid_month', \n",
    "                        from_column = \"ged_sb_best_sum_nokgi\")\n",
    "        .transform.missing.replace_na()\n",
    "        #.transform.ops.ln()\n",
    "    )    \n",
    "\n",
    "    .with_column(Column(\"ged_ns\",\n",
    "                        from_loa='priogrid_month', \n",
    "                        from_column = \"ged_ns_best_sum_nokgi\")\n",
    "        .transform.missing.replace_na()\n",
    "        #.transform.ops.ln()\n",
    "    )\n",
    "\n",
    "    .with_column(Column(\"ged_os\",\n",
    "                        from_loa='priogrid_month', \n",
    "                        from_column = \"ged_os_best_sum_nokgi\")\n",
    "        .transform.missing.replace_na()\n",
    "        #.transform.ops.ln()\n",
    "    )\n",
    "\n",
    "    .with_column(Column(\"pop_gpw_sum\",\n",
    "                        from_loa='priogrid_year', \n",
    "                        from_column=\"pop_gpw_sum\")\n",
    "        \n",
    "    )\n",
    "        )"
   ]
  },
  {
   "cell_type": "code",
   "execution_count": 3,
   "metadata": {},
   "outputs": [],
   "source": [
    "\n",
    "queryset_base_CM = (Queryset(\"Fatalities_fao_cm\", \"country_month\")\n",
    "\n",
    "    .with_column(Column(\"country_name\",\n",
    "                        from_loa='country', \n",
    "                        from_column = \"name\")\n",
    "        .transform.missing.replace_na()\n",
    "    )\n",
    "\n",
    "    #column with wkt to review \n",
    "    .with_column(Column(\"C_start_year\",\n",
    "                        from_loa=\"country\",\n",
    "                        from_column=\"gwsyear\")\n",
    "    )                         \n",
    "    \n",
    "    .with_column(Column(\"C_end_year\",\n",
    "                        from_loa='country', \n",
    "                        from_column='gweyear')\n",
    "    )\n",
    "        \n",
    "    # target variable\n",
    "    .with_column(Column(\"ged_sb\",\n",
    "                        from_loa='priogrid_month', \n",
    "                        from_column = \"ged_sb_best_sum_nokgi\")\n",
    "        .transform.missing.replace_na()\n",
    "        #.transform.ops.ln()\n",
    "        )    \n",
    "\n",
    "    .with_column(Column(\"ged_ns\",\n",
    "                        from_loa='priogrid_month', \n",
    "                        from_column = \"ged_ns_best_sum_nokgi\")\n",
    "        .transform.missing.replace_na()\n",
    "        #.transform.ops.ln()\n",
    "        )\n",
    "\n",
    "    .with_column(Column(\"ged_os\",\n",
    "                        from_loa='priogrid_month', \n",
    "                        from_column = \"ged_os_best_sum_nokgi\")\n",
    "        .transform.missing.replace_na()\n",
    "        #.transform.ops.ln()\n",
    "        )\n",
    "\n",
    "    .with_column(Column(\"pop_gpw_sum\",\n",
    "                        from_loa='priogrid_year', \n",
    "                        from_column=\"pop_gpw_sum\")\n",
    "        \n",
    "        )\n",
    "        )\n",
    "\n",
    "queryset_base_CY = (Queryset(\"Fatalities_fao_cy\", \"country_year\")\n",
    "\n",
    "    .with_column(Column(\"country_name\",\n",
    "                        from_loa='country', \n",
    "                        from_column = \"name\")\n",
    "        .transform.missing.replace_na()\n",
    "    )\n",
    "\n",
    "    #column with wkt to review \n",
    "    .with_column(Column(\"C_start_year\",\n",
    "                        from_loa=\"country\",\n",
    "                        from_column=\"gwsyear\")\n",
    "    )                         \n",
    "    \n",
    "    .with_column(Column(\"C_end_year\",\n",
    "                        from_loa='country', \n",
    "                        from_column='gweyear')\n",
    "    )\n",
    "    # target variable\n",
    "    .with_column(Column(\"ged_sb\",\n",
    "                        from_loa='priogrid_month', \n",
    "                        from_column = \"ged_sb_best_sum_nokgi\")\n",
    "        .transform.missing.replace_na()\n",
    "        #.transform.ops.ln()\n",
    "    )    \n",
    "\n",
    "    .with_column(Column(\"ged_ns\",\n",
    "                        from_loa='priogrid_month', \n",
    "                        from_column = \"ged_ns_best_sum_nokgi\")\n",
    "        .transform.missing.replace_na()\n",
    "        #.transform.ops.ln()\n",
    "        )\n",
    "\n",
    "    .with_column(Column(\"ged_os\",\n",
    "                        from_loa='priogrid_month', \n",
    "                        from_column = \"ged_os_best_sum_nokgi\")\n",
    "        .transform.missing.replace_na()\n",
    "        #.transform.ops.ln()\n",
    "        )\n",
    "\n",
    "    .with_column(Column(\"pop_gpw_sum\",\n",
    "                        from_loa='priogrid_year', \n",
    "                        from_column=\"pop_gpw_sum\")\n",
    "        \n",
    "        )\n",
    "        )\n",
    "   "
   ]
  },
  {
   "cell_type": "code",
   "execution_count": 4,
   "metadata": {},
   "outputs": [
    {
     "name": "stderr",
     "output_type": "stream",
     "text": [
      "100%|██████████| 40.0M/40.0M [00:00<00:00, 45.5MB/s]\n"
     ]
    },
    {
     "name": "stdout",
     "output_type": "stream",
     "text": [
      "Queryset Fatalities_fao_pgm read successfully \n",
      "Queryset Fatalities_fao_cy read successfully loa = country_month, columns = ['/base/priogrid_year.pop_gpw_sum/country_month.sum'], exception = (sqlalchemy.dialects.postgresql.asyncpg.programmingerror) <class 'asyncpg.exceptions.undefinedtableerror'>: missing from-clause entry for table \\\"country_year\\\"\\n[sql: \\n            select \\n                country_month.id, sum(priogrid_year.pop_gpw_sum) as sum_pop_gpw_sum\\n            from \\n            prod.priogrid_year right join prod.country_month on ( country_year.id = country_month.country_year_id) \\n             group by country_month.id \\n            order by \\n            country_month.id\\n            ]\\n(background on this error at: https://sqlalche.me/e/14/f405)\" \n"
     ]
    }
   ],
   "source": [
    "df_pg = queryset_base_PG.publish().fetch()\n",
    "df_pg = df_pg.reset_index()\n",
    "\n",
    "df_cm = queryset_base_CM.publish().fetch()\n",
    "df_cm = df_cm.reset_index()\n",
    "\n",
    "df_cy = queryset_base_CY.publish().fetch()\n",
    "df_cy = df_cy.reset_index()"
   ]
  },
  {
   "cell_type": "code",
   "execution_count": 11,
   "metadata": {},
   "outputs": [
    {
     "name": "stdout",
     "output_type": "stream",
     "text": [
      "Empty DataFrame\n",
      "Columns: [index]\n",
      "Index: []\n"
     ]
    }
   ],
   "source": [
    "print(df_cm)"
   ]
  },
  {
   "cell_type": "code",
   "execution_count": 6,
   "metadata": {},
   "outputs": [
    {
     "data": {
      "application/vnd.jupyter.widget-view+json": {
       "model_id": "b79a93503c99405d9f3496652e53648f",
       "version_major": 2,
       "version_minor": 0
      },
      "text/plain": [
       "Dropdown(description='Unit:', options=('PG', 'CM'), value='PG')"
      ]
     },
     "metadata": {},
     "output_type": "display_data"
    },
    {
     "data": {
      "application/vnd.jupyter.widget-view+json": {
       "model_id": "a76fcf00fbb44991b2a3d4c37575711e",
       "version_major": 2,
       "version_minor": 0
      },
      "text/plain": [
       "Dropdown(description='Time:', options=('monthly',), value='monthly')"
      ]
     },
     "metadata": {},
     "output_type": "display_data"
    },
    {
     "data": {
      "application/vnd.jupyter.widget-view+json": {
       "model_id": "4fc9aa60abb44ef2bb6659f8a04bbe3d",
       "version_major": 2,
       "version_minor": 0
      },
      "text/plain": [
       "Dropdown(description='Country:', options=(), value=None)"
      ]
     },
     "metadata": {},
     "output_type": "display_data"
    },
    {
     "data": {
      "application/vnd.jupyter.widget-view+json": {
       "model_id": "076b5a144c4e4edf93a46d3d3ae561b1",
       "version_major": 2,
       "version_minor": 0
      },
      "text/plain": [
       "Dropdown(description='Aggregation:', options=(), value=None)"
      ]
     },
     "metadata": {},
     "output_type": "display_data"
    },
    {
     "data": {
      "application/vnd.jupyter.widget-view+json": {
       "model_id": "99ca1c2b999244b29675c3c96571d970",
       "version_major": 2,
       "version_minor": 0
      },
      "text/plain": [
       "Dropdown(description='Boundaries:', options=(), value=None)"
      ]
     },
     "metadata": {},
     "output_type": "display_data"
    }
   ],
   "source": [
    "import ipywidgets as widgets\n",
    "from IPython.display import display\n",
    "\n",
    "A_for_PG = ['1','2','3','4','5','6','7','8','9','10']\n",
    "A_for_CM = ['0']\n",
    "C_for_PG=['Afghanistan', 'Algeria', 'Angola', 'Armenia', 'Azerbaijan', 'Bahrain', 'Benin', 'Botswana', 'Bulgaria', 'Burkina Faso', 'Burundi', 'Cameroon', 'Cape Verde', 'Central African Republic', 'Chad', 'Comoros', 'Congo', 'Congo, DRC', \"Cote d'Ivoire\", 'Djibouti', 'Egypt', 'Equatorial Guinea', 'Eritrea', 'Ethiopia', 'Gabon', 'Georgia', 'Ghana', 'Greece', 'Guinea', 'Guinea-Bissau', 'Iran', 'Iraq', 'Israel', 'Jordan', 'Kenya', 'Kuwait', 'Lebanon', 'Lesotho', 'Liberia', 'Libya', 'Madagascar', 'Malawi', 'Mali', 'Mauritania', 'Mauritius', 'Morocco', 'Mozambique', 'Namibia', 'Niger', 'Nigeria', 'Oman', 'Pakistan', 'Qatar', 'Rwanda', 'Sao Tome and Principe', 'Saudi Arabia', 'Senegal', 'Seychelles', 'Sierra Leone', 'Somalia', 'South Africa', 'South Sudan', 'Sudan', 'Swaziland', 'Syria', 'Tanzania', 'The Gambia', 'Togo', 'Tunisia', 'Turkey', 'Turkmenistan', 'USSR', 'Uganda', 'United Arab Emirates', 'Yemen', 'Yemen Arab Republic', \"Yemen People's Republic\", 'Zambia', 'Zimbabwe']\n",
    "C_for_CM = ['Afghanistan', 'Albania', 'Algeria', 'Angola', 'Antigua and Barbuda', 'Argentina', 'Armenia', 'Australia', 'Austria', 'Azerbaijan', 'Bahamas', 'Bahrain', 'Bangladesh', 'Barbados', 'Belarus', 'Belgium', 'Belize', 'Benin', 'Bhutan', 'Bolivia', 'Bosnia and Herzegovina', 'Botswana', 'Brazil', 'Brunei', 'Bulgaria', 'Burkina Faso', 'Burundi', 'Cambodia', 'Cameroon', 'Canada', 'Cape Verde', 'Central African Republic', 'Chad', 'Chile', 'China', 'Colombia', 'Comoros', 'Congo', 'Congo, DRC', 'Costa Rica', \"Cote d'Ivoire\", 'Croatia', 'Cuba', 'Cyprus', 'Czech Republic', 'Czechoslovakia', 'Denmark', 'Djibouti', 'Dominica', 'Dominican Republic', 'Ecuador', 'Egypt', 'El Salvador', 'Equatorial Guinea', 'Eritrea', 'Estonia', 'Ethiopia', 'Fiji', 'Finland', 'France', 'Gabon', 'Georgia', 'Germany', 'Germany Democratic Republic', 'Germany Federal Republic', 'Ghana', 'Greece', 'Grenada', 'Guatemala', 'Guinea', 'Guinea-Bissau', 'Guyana', 'Haiti', 'Honduras', 'Hungary', 'Iceland', 'India', 'Indonesia', 'Iran', 'Iraq', 'Ireland', 'Israel', 'Italy', 'Jamaica', 'Japan', 'Jordan', 'Kazakhstan', 'Kenya', 'Kiribati', 'Kosovo', 'Kuwait', 'Kyrgyzstan', 'Laos', 'Latvia', 'Lebanon', 'Lesotho', 'Liberia', 'Libya', 'Lithuania', 'Luxembourg', 'Macedonia', 'Madagascar', 'Malawi', 'Malaysia', 'Maldives', 'Mali', 'Malta', 'Marshall Is.', 'Mauritania', 'Mauritius', 'Mexico', 'Micronesia', 'Moldova', 'Mongolia', 'Montenegro', 'Morocco', 'Mozambique', 'Myanmar', 'Namibia', 'Nauru', 'Nepal', 'Netherlands', 'New Zealand', 'Nicaragua', 'Niger', 'Nigeria', 'North Korea', 'Norway', 'Oman', 'Pakistan', 'Palau', 'Panama', 'Papua New Guinea', 'Paraguay', 'Peru', 'Philippines', 'Poland', 'Portugal', 'Qatar', 'Romania', 'Russia', 'Rwanda', 'Samoa', 'Sao Tome and Principe', 'Saudi Arabia', 'Senegal', 'Serbia', 'Serbia and Montenegro', 'Seychelles', 'Sierra Leone', 'Singapore', 'Slovakia', 'Slovenia', 'Solomon Is.', 'Somalia', 'South Africa', 'South Korea', 'South Sudan', 'Spain', 'Sri Lanka', 'St. Kitts and Nevis', 'St. Lucia', 'St. Vincent and the Grenadines', 'Sudan', 'Suriname', 'Swaziland', 'Sweden', 'Switzerland', 'Syria', 'Taiwan', 'Tajikistan', 'Tanzania', 'Thailand', 'The Gambia', 'Timor Leste', 'Togo', 'Tonga', 'Trinidad and Tobago', 'Tunisia', 'Turkey', 'Turkmenistan', 'Tuvalu', 'USSR', 'Uganda', 'Ukraine', 'United Arab Emirates', 'United Kingdom', 'United States', 'Uruguay', 'Uzbekistan', 'Vanuatu', 'Venezuela', 'Vietnam', 'Yemen', 'Yemen Arab Republic', \"Yemen People's Republic\", 'Yugoslavia', 'Zambia', 'Zimbabwe']\n",
    "temporal = ['monthly']\n",
    "\n",
    "# Create the dropdown widget\n",
    "time_widget = widgets.Dropdown(options=temporal, description='Time:')\n",
    "\n",
    "# Sample dictionary with multiple lists for each key\n",
    "my_dict = {\n",
    "    'PG': {'list1': C_for_PG,\n",
    "            'list2': A_for_PG,\n",
    "            'list3': ['recent', 'all']},\n",
    "\n",
    "    'CM': {'list1': C_for_CM,\n",
    "            'list2': A_for_CM,\n",
    "            'list3': ['0']}\n",
    "    # Add more keys and lists as needed\n",
    "}\n",
    "\n",
    "# Dropdown widgets for key, list, and value\n",
    "key_dropdown = widgets.Dropdown(options=list(my_dict.keys()), description='Unit:')\n",
    "list_dropdown1 = widgets.Dropdown(description='Country:')\n",
    "list_dropdown2 = widgets.Dropdown(description='Aggregation:')\n",
    "list_dropdown3 = widgets.Dropdown(description='Boundaries:')\n",
    "\n",
    "#value_dropdown = widgets.Dropdown(description='Select Value:')\n",
    "\n",
    "# Display widgets\n",
    "display(key_dropdown)\n",
    "display(time_widget)\n",
    "display(list_dropdown1)\n",
    "display(list_dropdown2)\n",
    "display(list_dropdown3)\n",
    "\n",
    "#display(value_dropdown)\n",
    "\n",
    "# Update the options of the list and value dropdowns based on the selected key\n",
    "def update_lists_and_values(change):\n",
    "    selected_key = key_dropdown.value\n",
    "    if selected_key:\n",
    "        list_dropdown1.options = list(my_dict[selected_key]['list1'])\n",
    "        list_dropdown1.value = list(my_dict[selected_key]['list1'])[0]\n",
    "        \n",
    "        list_dropdown2.options = list(my_dict[selected_key]['list2'])\n",
    "        list_dropdown2.value = list(my_dict[selected_key]['list2'])[0]\n",
    "\n",
    "        list_dropdown3.options = list(my_dict[selected_key]['list3'])\n",
    "        list_dropdown3.value = list(my_dict[selected_key]['list3'])[0]\n",
    "\n",
    "        #value_dropdown.options = my_dict[selected_key]['list1'] + my_dict[selected_key]['list2']\n",
    "        #value_dropdown.value = my_dict[selected_key]['list1'][0]\n",
    "\n",
    "# Link the dropdowns\n",
    "key_dropdown.observe(update_lists_and_values, names='value')\n",
    "\n",
    "# Initial update based on the default selected key\n",
    "update_lists_and_values({'new': key_dropdown.value})\n"
   ]
  },
  {
   "cell_type": "code",
   "execution_count": 7,
   "metadata": {},
   "outputs": [
    {
     "ename": "KeyError",
     "evalue": "'country_id'",
     "output_type": "error",
     "traceback": [
      "\u001b[0;31m---------------------------------------------------------------------------\u001b[0m",
      "\u001b[0;31mKeyError\u001b[0m                                  Traceback (most recent call last)",
      "File \u001b[0;32m~/miniforge3/envs/viewser/lib/python3.11/site-packages/pandas/core/indexes/base.py:3802\u001b[0m, in \u001b[0;36mIndex.get_loc\u001b[0;34m(self, key, method, tolerance)\u001b[0m\n\u001b[1;32m   3801\u001b[0m \u001b[39mtry\u001b[39;00m:\n\u001b[0;32m-> 3802\u001b[0m     \u001b[39mreturn\u001b[39;00m \u001b[39mself\u001b[39;49m\u001b[39m.\u001b[39;49m_engine\u001b[39m.\u001b[39;49mget_loc(casted_key)\n\u001b[1;32m   3803\u001b[0m \u001b[39mexcept\u001b[39;00m \u001b[39mKeyError\u001b[39;00m \u001b[39mas\u001b[39;00m err:\n",
      "File \u001b[0;32m~/miniforge3/envs/viewser/lib/python3.11/site-packages/pandas/_libs/index.pyx:138\u001b[0m, in \u001b[0;36mpandas._libs.index.IndexEngine.get_loc\u001b[0;34m()\u001b[0m\n",
      "File \u001b[0;32m~/miniforge3/envs/viewser/lib/python3.11/site-packages/pandas/_libs/index.pyx:165\u001b[0m, in \u001b[0;36mpandas._libs.index.IndexEngine.get_loc\u001b[0;34m()\u001b[0m\n",
      "File \u001b[0;32mpandas/_libs/hashtable_class_helper.pxi:5745\u001b[0m, in \u001b[0;36mpandas._libs.hashtable.PyObjectHashTable.get_item\u001b[0;34m()\u001b[0m\n",
      "File \u001b[0;32mpandas/_libs/hashtable_class_helper.pxi:5753\u001b[0m, in \u001b[0;36mpandas._libs.hashtable.PyObjectHashTable.get_item\u001b[0;34m()\u001b[0m\n",
      "\u001b[0;31mKeyError\u001b[0m: 'country_id'",
      "\nThe above exception was the direct cause of the following exception:\n",
      "\u001b[0;31mKeyError\u001b[0m                                  Traceback (most recent call last)",
      "\u001b[1;32m/Users/gbenz/Documents/Food Security and Conflict/GIT/VIEWS_FAO_index/notebooks/Benz_experiments/simplified.ipynb Cell 7\u001b[0m line \u001b[0;36m1\n\u001b[1;32m     <a href='vscode-notebook-cell:/Users/gbenz/Documents/Food%20Security%20and%20Conflict/GIT/VIEWS_FAO_index/notebooks/Benz_experiments/simplified.ipynb#W6sZmlsZQ%3D%3D?line=9'>10</a>\u001b[0m Save_timeline\u001b[39m=\u001b[39m\u001b[39m'\u001b[39m\u001b[39mno\u001b[39m\u001b[39m'\u001b[39m\n\u001b[1;32m     <a href='vscode-notebook-cell:/Users/gbenz/Documents/Food%20Security%20and%20Conflict/GIT/VIEWS_FAO_index/notebooks/Benz_experiments/simplified.ipynb#W6sZmlsZQ%3D%3D?line=10'>11</a>\u001b[0m \u001b[39m#for i in countrylist:\u001b[39;00m\n\u001b[0;32m---> <a href='vscode-notebook-cell:/Users/gbenz/Documents/Food%20Security%20and%20Conflict/GIT/VIEWS_FAO_index/notebooks/Benz_experiments/simplified.ipynb#W6sZmlsZQ%3D%3D?line=11'>12</a>\u001b[0m x,gis \u001b[39m=\u001b[39m Empowered_Pantaleon(CM_orPG, df_pg, df_cm, temporal_resolution, Scale, Country, rec_or_all)\n\u001b[1;32m     <a href='vscode-notebook-cell:/Users/gbenz/Documents/Food%20Security%20and%20Conflict/GIT/VIEWS_FAO_index/notebooks/Benz_experiments/simplified.ipynb#W6sZmlsZQ%3D%3D?line=13'>14</a>\u001b[0m \u001b[39mprint\u001b[39m(x)\n\u001b[1;32m     <a href='vscode-notebook-cell:/Users/gbenz/Documents/Food%20Security%20and%20Conflict/GIT/VIEWS_FAO_index/notebooks/Benz_experiments/simplified.ipynb#W6sZmlsZQ%3D%3D?line=14'>15</a>\u001b[0m Save_for_timeline_generation(Save_timeline, gis, CM_orPG, temporal_resolution, Scale, Country)\n",
      "File \u001b[0;32m~/Documents/Food Security and Conflict/GIT/VIEWS_FAO_index/notebooks/Benz_experiments/support_functions/statsheet_execute.py:30\u001b[0m, in \u001b[0;36mEmpowered_Pantaleon\u001b[0;34m(PG_or_CM, d_pg, d_cm, monthly_or_annual, resolution, country, recent_or_all)\u001b[0m\n\u001b[1;32m     27\u001b[0m     df_109_516 \u001b[39m=\u001b[39m d_cm\u001b[39m.\u001b[39mloc[(d_cm[\u001b[39m'\u001b[39m\u001b[39mmonth_id\u001b[39m\u001b[39m'\u001b[39m]\u001b[39m>\u001b[39m\u001b[39m=\u001b[39m\u001b[39m109\u001b[39m) \u001b[39m&\u001b[39m (d_cm[\u001b[39m'\u001b[39m\u001b[39mmonth_id\u001b[39m\u001b[39m'\u001b[39m]\u001b[39m<\u001b[39m\u001b[39m=\u001b[39m \u001b[39m516\u001b[39m)]\n\u001b[1;32m     29\u001b[0m df__PP\u001b[39m=\u001b[39mPGM_preprocess(df_109_516)\n\u001b[0;32m---> 30\u001b[0m df_ag, gis\u001b[39m=\u001b[39mPRIO_Agg_serious(df__PP, monthly_or_annual,pg__or__cm, res, cntry, recent_or_all)\n\u001b[1;32m     32\u001b[0m \u001b[39m#total_events = report_length(df_ag, PG_or_CM,'Global', monthly_or_annual,res)\u001b[39;00m\n\u001b[1;32m     33\u001b[0m \u001b[39m#print(total_events)\u001b[39;00m\n\u001b[1;32m     34\u001b[0m list_of_fatality_values__ \u001b[39m=\u001b[39m \u001b[39mlist\u001b[39m(unique(df_ag[\u001b[39m'\u001b[39m\u001b[39mFatalities_Sum\u001b[39m\u001b[39m'\u001b[39m]))\n",
      "File \u001b[0;32m~/Documents/Food Security and Conflict/GIT/VIEWS_FAO_index/notebooks/Benz_experiments/support_functions/setup_aggregation.py:214\u001b[0m, in \u001b[0;36mPRIO_Agg_serious\u001b[0;34m(table, time, CMorPG, scale, country, recent_or_all)\u001b[0m\n\u001b[1;32m    203\u001b[0m             \u001b[39melse\u001b[39;00m:\n\u001b[1;32m    204\u001b[0m \u001b[39m#FIX 02-18--------------------------------------------------------------------------------------------------------------------\u001b[39;00m\n\u001b[1;32m    205\u001b[0m \u001b[39m#Need to reflect consistent changes to the aggregation functions applied below\u001b[39;00m\n\u001b[0;32m   (...)\u001b[0m\n\u001b[1;32m    211\u001b[0m \u001b[39m#just country_name\u001b[39;00m\n\u001b[1;32m    212\u001b[0m                 \u001b[39m#table['Included_Countries'] = table['country_id']\u001b[39;00m\n\u001b[1;32m    213\u001b[0m                 table[\u001b[39m'\u001b[39m\u001b[39mScale_ID\u001b[39m\u001b[39m'\u001b[39m] \u001b[39m=\u001b[39m table[\u001b[39m'\u001b[39m\u001b[39mpriogrid_gid\u001b[39m\u001b[39m'\u001b[39m]\n\u001b[0;32m--> 214\u001b[0m                 table[\u001b[39m'\u001b[39m\u001b[39mcountry_id\u001b[39m\u001b[39m'\u001b[39m] \u001b[39m=\u001b[39m table[\u001b[39m'\u001b[39;49m\u001b[39mcountry_id\u001b[39;49m\u001b[39m'\u001b[39;49m]\u001b[39m.\u001b[39mastype(\u001b[39mstr\u001b[39m)\n\u001b[1;32m    216\u001b[0m \u001b[39m#------^is a matter of formatted so field names match what the definition is looking for rather \u001b[39;00m\n\u001b[1;32m    217\u001b[0m \u001b[39m#   than add a series of if statements\u001b[39;00m\n\u001b[1;32m    218\u001b[0m                 year_dictionary \u001b[39m=\u001b[39m setup_DOBY(table, country, recent_or_all)\n",
      "File \u001b[0;32m~/miniforge3/envs/viewser/lib/python3.11/site-packages/pandas/core/frame.py:3807\u001b[0m, in \u001b[0;36mDataFrame.__getitem__\u001b[0;34m(self, key)\u001b[0m\n\u001b[1;32m   3805\u001b[0m \u001b[39mif\u001b[39;00m \u001b[39mself\u001b[39m\u001b[39m.\u001b[39mcolumns\u001b[39m.\u001b[39mnlevels \u001b[39m>\u001b[39m \u001b[39m1\u001b[39m:\n\u001b[1;32m   3806\u001b[0m     \u001b[39mreturn\u001b[39;00m \u001b[39mself\u001b[39m\u001b[39m.\u001b[39m_getitem_multilevel(key)\n\u001b[0;32m-> 3807\u001b[0m indexer \u001b[39m=\u001b[39m \u001b[39mself\u001b[39;49m\u001b[39m.\u001b[39;49mcolumns\u001b[39m.\u001b[39;49mget_loc(key)\n\u001b[1;32m   3808\u001b[0m \u001b[39mif\u001b[39;00m is_integer(indexer):\n\u001b[1;32m   3809\u001b[0m     indexer \u001b[39m=\u001b[39m [indexer]\n",
      "File \u001b[0;32m~/miniforge3/envs/viewser/lib/python3.11/site-packages/pandas/core/indexes/base.py:3804\u001b[0m, in \u001b[0;36mIndex.get_loc\u001b[0;34m(self, key, method, tolerance)\u001b[0m\n\u001b[1;32m   3802\u001b[0m     \u001b[39mreturn\u001b[39;00m \u001b[39mself\u001b[39m\u001b[39m.\u001b[39m_engine\u001b[39m.\u001b[39mget_loc(casted_key)\n\u001b[1;32m   3803\u001b[0m \u001b[39mexcept\u001b[39;00m \u001b[39mKeyError\u001b[39;00m \u001b[39mas\u001b[39;00m err:\n\u001b[0;32m-> 3804\u001b[0m     \u001b[39mraise\u001b[39;00m \u001b[39mKeyError\u001b[39;00m(key) \u001b[39mfrom\u001b[39;00m \u001b[39merr\u001b[39;00m\n\u001b[1;32m   3805\u001b[0m \u001b[39mexcept\u001b[39;00m \u001b[39mTypeError\u001b[39;00m:\n\u001b[1;32m   3806\u001b[0m     \u001b[39m# If we have a listlike key, _check_indexing_error will raise\u001b[39;00m\n\u001b[1;32m   3807\u001b[0m     \u001b[39m#  InvalidIndexError. Otherwise we fall through and re-raise\u001b[39;00m\n\u001b[1;32m   3808\u001b[0m     \u001b[39m#  the TypeError.\u001b[39;00m\n\u001b[1;32m   3809\u001b[0m     \u001b[39mself\u001b[39m\u001b[39m.\u001b[39m_check_indexing_error(key)\n",
      "\u001b[0;31mKeyError\u001b[0m: 'country_id'"
     ]
    }
   ],
   "source": [
    "CM_orPG = key_dropdown.value\n",
    "temporal_resolution = time_widget.value\n",
    "Country = list_dropdown1.value\n",
    "s = list_dropdown2.value\n",
    "rec_or_all = list_dropdown3.value\n",
    "Scale = s + 'x' + s\n",
    "if Scale == '0x0':\n",
    "    Scale = 0\n",
    "\n",
    "Save_timeline='no'\n",
    "#for i in countrylist:\n",
    "x,gis = Empowered_Pantaleon(CM_orPG, df_pg, df_cm, temporal_resolution, Scale, Country, rec_or_all)\n",
    "\n",
    "print(x)\n",
    "Save_for_timeline_generation(Save_timeline, gis, CM_orPG, temporal_resolution, Scale, Country)"
   ]
  }
 ],
 "metadata": {
  "kernelspec": {
   "display_name": "viewser",
   "language": "python",
   "name": "python3"
  },
  "language_info": {
   "codemirror_mode": {
    "name": "ipython",
    "version": 3
   },
   "file_extension": ".py",
   "mimetype": "text/x-python",
   "name": "python",
   "nbconvert_exporter": "python",
   "pygments_lexer": "ipython3",
   "version": "3.11.9"
  }
 },
 "nbformat": 4,
 "nbformat_minor": 2
}
