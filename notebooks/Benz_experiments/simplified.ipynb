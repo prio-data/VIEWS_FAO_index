{
 "cells": [
  {
   "cell_type": "code",
   "execution_count": 5,
   "metadata": {},
   "outputs": [],
   "source": [
    "import sys\n",
    "import os\n",
    "from viewser import Queryset, Column\n",
    "\n",
    "from support_functions.setup_aggregation import *\n",
    "from support_functions.setup_general import *\n",
    "from support_functions.statsheet_input import *\n",
    "from support_functions.statsheet_format import *\n",
    "from support_functions.statsheet_execute import *\n",
    "from support_functions.fatality_statistics_generate import *\n",
    "from support_functions.fatality_statistics_reformat import *\n",
    "from support_functions.generate_timeline_table_for_gis import *"
   ]
  },
  {
   "cell_type": "code",
   "execution_count": 21,
   "metadata": {},
   "outputs": [],
   "source": [
    "queryset_base_PG = (Queryset(\"Fatalities_fao_pgm\", \"priogrid_month\")\n",
    "\n",
    "    .with_column(Column(\"country_name\",\n",
    "                        from_loa='priogrid_month', \n",
    "                        from_column = \"name\")\n",
    "        .transform.missing.replace_na()\n",
    "    )\n",
    "    .with_column(Column(\"country_id\",\n",
    "                        from_loa='country', \n",
    "                        from_column='id')\n",
    "    )\n",
    "\n",
    "    #column with wkt to review \n",
    "    .with_column(Column(\"C_start_year\",\n",
    "                        from_loa=\"country\",\n",
    "                        from_column=\"gwsyear\")\n",
    "    )                         \n",
    "    \n",
    "    .with_column(Column(\"C_end_year\",\n",
    "                        from_loa='country', \n",
    "                        from_column='gweyear')\n",
    "    )\n",
    "        \n",
    "    .with_column(Column(\"year_id\",\n",
    "                        from_loa='priogrid_month', \n",
    "                        from_column = \"year_id\")\n",
    "    )\n",
    "    # target variable\n",
    "    .with_column(Column(\"ged_sb\",\n",
    "                        from_loa='priogrid_month', \n",
    "                        from_column = \"ged_sb_best_sum_nokgi\")\n",
    "        .transform.missing.replace_na()\n",
    "        #.transform.ops.ln()\n",
    "    )    \n",
    "\n",
    "    .with_column(Column(\"ged_ns\",\n",
    "                        from_loa='priogrid_month', \n",
    "                        from_column = \"ged_ns_best_sum_nokgi\")\n",
    "        .transform.missing.replace_na()\n",
    "        #.transform.ops.ln()\n",
    "    )\n",
    "\n",
    "    .with_column(Column(\"ged_os\",\n",
    "                        from_loa='priogrid_month', \n",
    "                        from_column = \"ged_os_best_sum_nokgi\")\n",
    "        .transform.missing.replace_na()\n",
    "        #.transform.ops.ln()\n",
    "    )\n",
    "\n",
    "    .with_column(Column(\"pop_gpw_sum\",\n",
    "                        from_loa='priogrid_month', \n",
    "                        from_column=\"pop_gpw_sum\")\n",
    "        \n",
    "    )\n",
    "        )"
   ]
  },
  {
   "cell_type": "code",
   "execution_count": 6,
   "metadata": {},
   "outputs": [],
   "source": [
    "queryset_base_PG = (Queryset(\"Fatalities_fao_pgm\", \"priogrid_month\")\n",
    "\n",
    "    .with_column(Column(\"country_name\",\n",
    "                        from_loa='priogrid_month', \n",
    "                        from_column = \"name\")\n",
    "        .transform.missing.replace_na()\n",
    "        )\n",
    "    .with_column(Column(\"country_id\",\n",
    "                        from_loa='priogrid_month', \n",
    "                        from_column='id'))\n",
    "\n",
    "    #column with wkt to review \n",
    "    .with_column(Column(\"C_start_year\",\n",
    "                        from_loa='priogrid_month', \n",
    "                        from_column='gwsyear'))\n",
    "    \n",
    "    .with_column(Column(\"C_end_year\",\n",
    "                        from_loa='priogrid_month', \n",
    "                        from_column='gweyear'))\n",
    "        \n",
    "    .with_column(Column(\"year_id\",\n",
    "                        from_loa='priogrid_month', \n",
    "                        from_column = \"year_id\")\n",
    "        )\n",
    "    # target variable\n",
    "    .with_column(Column(\"ged_sb\",\n",
    "                        from_loa='priogrid_month', \n",
    "                        from_column = \"ged_sb_best_sum_nokgi\")\n",
    "        .transform.missing.replace_na()\n",
    "        #.transform.ops.ln()\n",
    "        )    \n",
    "\n",
    "    .with_column(Column(\"ged_ns\",\n",
    "                        from_loa='priogrid_month', \n",
    "                        from_column = \"ged_ns_best_sum_nokgi\")\n",
    "        .transform.missing.replace_na()\n",
    "        #.transform.ops.ln()\n",
    "        )\n",
    "\n",
    "    .with_column(Column(\"ged_os\",\n",
    "                        from_loa='priogrid_month', \n",
    "                        from_column = \"ged_os_best_sum_nokgi\")\n",
    "        .transform.missing.replace_na()\n",
    "        #.transform.ops.ln()\n",
    "        )\n",
    "\n",
    "    .with_column(Column(\"pop_gpw_sum\",\n",
    "                        from_loa='priogrid_month', \n",
    "                        from_column=\"pop_gpw_sum\")\n",
    "        \n",
    "        )\n",
    "        )\n",
    "\n",
    "queryset_base_CM = (Queryset(\"Fatalities_fao_cm\", \"country_month\")\n",
    "\n",
    "    .with_column(Column(\"country_name\",\n",
    "                        from_loa='priogrid_month', \n",
    "                        from_column = \"name\")\n",
    "        .transform.missing.replace_na()\n",
    "        )\n",
    "    .with_column(Column(\"country_id\",\n",
    "                        from_loa='priogrid_month', \n",
    "                        from_column='id'))\n",
    "\n",
    "    #column with wkt to review \n",
    "    .with_column(Column(\"C_start_year\",\n",
    "                        from_loa='priogrid_month', \n",
    "                        from_column='gwsyear'))\n",
    "    \n",
    "    .with_column(Column(\"C_end_year\",\n",
    "                        from_loa='priogrid_month', \n",
    "                        from_column='gweyear'))\n",
    "        \n",
    "    .with_column(Column(\"year_id\",\n",
    "                        from_loa='priogrid_month', \n",
    "                        from_column = \"year_id\")\n",
    "        )\n",
    "    # target variable\n",
    "    .with_column(Column(\"ged_sb\",\n",
    "                        from_loa='priogrid_month', \n",
    "                        from_column = \"ged_sb_best_sum_nokgi\")\n",
    "        .transform.missing.replace_na()\n",
    "        #.transform.ops.ln()\n",
    "        )    \n",
    "\n",
    "    .with_column(Column(\"ged_ns\",\n",
    "                        from_loa='priogrid_month', \n",
    "                        from_column = \"ged_ns_best_sum_nokgi\")\n",
    "        .transform.missing.replace_na()\n",
    "        #.transform.ops.ln()\n",
    "        )\n",
    "\n",
    "    .with_column(Column(\"ged_os\",\n",
    "                        from_loa='priogrid_month', \n",
    "                        from_column = \"ged_os_best_sum_nokgi\")\n",
    "        .transform.missing.replace_na()\n",
    "        #.transform.ops.ln()\n",
    "        )\n",
    "\n",
    "    .with_column(Column(\"pop_gpw_sum\",\n",
    "                        from_loa='priogrid_month', \n",
    "                        from_column=\"pop_gpw_sum\")\n",
    "        \n",
    "        )\n",
    "        )\n",
    "\n",
    "queryset_base_CY = (Queryset(\"Fatalities_fao_cy\", \"country_year\")\n",
    "\n",
    "    .with_column(Column(\"country_name\",\n",
    "                        from_loa='priogrid_month', \n",
    "                        from_column = \"name\")\n",
    "        .transform.missing.replace_na()\n",
    "        )\n",
    "    .with_column(Column(\"country_id\",\n",
    "                        from_loa='priogrid_month', \n",
    "                        from_column='id'))\n",
    "\n",
    "    #column with wkt to review \n",
    "    .with_column(Column(\"C_start_year\",\n",
    "                        from_loa='priogrid_month', \n",
    "                        from_column='gwsyear'))\n",
    "    \n",
    "    .with_column(Column(\"C_end_year\",\n",
    "                        from_loa='priogrid_month', \n",
    "                        from_column='gweyear'))\n",
    "        \n",
    "    .with_column(Column(\"year_id\",\n",
    "                        from_loa='priogrid_month', \n",
    "                        from_column = \"year_id\")\n",
    "        )\n",
    "    # target variable\n",
    "    .with_column(Column(\"ged_sb\",\n",
    "                        from_loa='priogrid_month', \n",
    "                        from_column = \"ged_sb_best_sum_nokgi\")\n",
    "        .transform.missing.replace_na()\n",
    "        #.transform.ops.ln()\n",
    "        )    \n",
    "\n",
    "    .with_column(Column(\"ged_ns\",\n",
    "                        from_loa='priogrid_month', \n",
    "                        from_column = \"ged_ns_best_sum_nokgi\")\n",
    "        .transform.missing.replace_na()\n",
    "        #.transform.ops.ln()\n",
    "        )\n",
    "\n",
    "    .with_column(Column(\"ged_os\",\n",
    "                        from_loa='priogrid_month', \n",
    "                        from_column = \"ged_os_best_sum_nokgi\")\n",
    "        .transform.missing.replace_na()\n",
    "        #.transform.ops.ln()\n",
    "        )\n",
    "\n",
    "    .with_column(Column(\"pop_gpw_sum\",\n",
    "                        from_loa='priogrid_month', \n",
    "                        from_column=\"pop_gpw_sum\")\n",
    "        \n",
    "        )\n",
    "        )\n",
    "   "
   ]
  },
  {
   "cell_type": "code",
   "execution_count": 22,
   "metadata": {},
   "outputs": [
    {
     "name": "stdout",
     "output_type": "stream",
     "text": [
      "23: \"*db fetch failed* - missing columns: ['year_id', 'pop_gpw_sum', 'name']\"             \r"
     ]
    }
   ],
   "source": [
    "df_pg = queryset_base_PG.publish().fetch()\n",
    "df_pg = df_pg.reset_index()\n",
    "\n",
    "#df_cm = queryset_base_CM.publish().fetch()\n",
    "#df_cm = df_cm.reset_index()\n",
    "\n",
    "#df_cy = queryset_base_CY.publish().fetch()\n",
    "#df_cy = df_cy.reset_index()"
   ]
  },
  {
   "cell_type": "code",
   "execution_count": 11,
   "metadata": {},
   "outputs": [
    {
     "name": "stdout",
     "output_type": "stream",
     "text": [
      "Empty DataFrame\n",
      "Columns: [index]\n",
      "Index: []\n"
     ]
    }
   ],
   "source": [
    "print(df_pg)"
   ]
  },
  {
   "cell_type": "code",
   "execution_count": 8,
   "metadata": {},
   "outputs": [
    {
     "data": {
      "application/vnd.jupyter.widget-view+json": {
       "model_id": "3e6dc9c510db4d66bf0fef811408ce75",
       "version_major": 2,
       "version_minor": 0
      },
      "text/plain": [
       "Dropdown(description='Unit:', options=('PG', 'CM'), value='PG')"
      ]
     },
     "metadata": {},
     "output_type": "display_data"
    },
    {
     "data": {
      "application/vnd.jupyter.widget-view+json": {
       "model_id": "4ffa1a69a4a5403193a81a5ae5ee0609",
       "version_major": 2,
       "version_minor": 0
      },
      "text/plain": [
       "Dropdown(description='Time:', options=('monthly',), value='monthly')"
      ]
     },
     "metadata": {},
     "output_type": "display_data"
    },
    {
     "data": {
      "application/vnd.jupyter.widget-view+json": {
       "model_id": "b1dd00a5470e413db0ef6a3eaf2e8e57",
       "version_major": 2,
       "version_minor": 0
      },
      "text/plain": [
       "Dropdown(description='Country:', options=(), value=None)"
      ]
     },
     "metadata": {},
     "output_type": "display_data"
    },
    {
     "data": {
      "application/vnd.jupyter.widget-view+json": {
       "model_id": "0daadf60b1eb49ef9d422024c6159c4b",
       "version_major": 2,
       "version_minor": 0
      },
      "text/plain": [
       "Dropdown(description='Aggregation:', options=(), value=None)"
      ]
     },
     "metadata": {},
     "output_type": "display_data"
    },
    {
     "data": {
      "application/vnd.jupyter.widget-view+json": {
       "model_id": "dff9035edff947cabeb50d8fda6330f3",
       "version_major": 2,
       "version_minor": 0
      },
      "text/plain": [
       "Dropdown(description='Boundaries:', options=(), value=None)"
      ]
     },
     "metadata": {},
     "output_type": "display_data"
    }
   ],
   "source": [
    "import ipywidgets as widgets\n",
    "from IPython.display import display\n",
    "\n",
    "A_for_PG = ['1','2','3','4','5','6','7','8','9','10']\n",
    "A_for_CM = ['0']\n",
    "C_for_PG=['Afghanistan', 'Algeria', 'Angola', 'Armenia', 'Azerbaijan', 'Bahrain', 'Benin', 'Botswana', 'Bulgaria', 'Burkina Faso', 'Burundi', 'Cameroon', 'Cape Verde', 'Central African Republic', 'Chad', 'Comoros', 'Congo', 'Congo, DRC', \"Cote d'Ivoire\", 'Djibouti', 'Egypt', 'Equatorial Guinea', 'Eritrea', 'Ethiopia', 'Gabon', 'Georgia', 'Ghana', 'Greece', 'Guinea', 'Guinea-Bissau', 'Iran', 'Iraq', 'Israel', 'Jordan', 'Kenya', 'Kuwait', 'Lebanon', 'Lesotho', 'Liberia', 'Libya', 'Madagascar', 'Malawi', 'Mali', 'Mauritania', 'Mauritius', 'Morocco', 'Mozambique', 'Namibia', 'Niger', 'Nigeria', 'Oman', 'Pakistan', 'Qatar', 'Rwanda', 'Sao Tome and Principe', 'Saudi Arabia', 'Senegal', 'Seychelles', 'Sierra Leone', 'Somalia', 'South Africa', 'South Sudan', 'Sudan', 'Swaziland', 'Syria', 'Tanzania', 'The Gambia', 'Togo', 'Tunisia', 'Turkey', 'Turkmenistan', 'USSR', 'Uganda', 'United Arab Emirates', 'Yemen', 'Yemen Arab Republic', \"Yemen People's Republic\", 'Zambia', 'Zimbabwe']\n",
    "C_for_CM = ['Afghanistan', 'Albania', 'Algeria', 'Angola', 'Antigua and Barbuda', 'Argentina', 'Armenia', 'Australia', 'Austria', 'Azerbaijan', 'Bahamas', 'Bahrain', 'Bangladesh', 'Barbados', 'Belarus', 'Belgium', 'Belize', 'Benin', 'Bhutan', 'Bolivia', 'Bosnia and Herzegovina', 'Botswana', 'Brazil', 'Brunei', 'Bulgaria', 'Burkina Faso', 'Burundi', 'Cambodia', 'Cameroon', 'Canada', 'Cape Verde', 'Central African Republic', 'Chad', 'Chile', 'China', 'Colombia', 'Comoros', 'Congo', 'Congo, DRC', 'Costa Rica', \"Cote d'Ivoire\", 'Croatia', 'Cuba', 'Cyprus', 'Czech Republic', 'Czechoslovakia', 'Denmark', 'Djibouti', 'Dominica', 'Dominican Republic', 'Ecuador', 'Egypt', 'El Salvador', 'Equatorial Guinea', 'Eritrea', 'Estonia', 'Ethiopia', 'Fiji', 'Finland', 'France', 'Gabon', 'Georgia', 'Germany', 'Germany Democratic Republic', 'Germany Federal Republic', 'Ghana', 'Greece', 'Grenada', 'Guatemala', 'Guinea', 'Guinea-Bissau', 'Guyana', 'Haiti', 'Honduras', 'Hungary', 'Iceland', 'India', 'Indonesia', 'Iran', 'Iraq', 'Ireland', 'Israel', 'Italy', 'Jamaica', 'Japan', 'Jordan', 'Kazakhstan', 'Kenya', 'Kiribati', 'Kosovo', 'Kuwait', 'Kyrgyzstan', 'Laos', 'Latvia', 'Lebanon', 'Lesotho', 'Liberia', 'Libya', 'Lithuania', 'Luxembourg', 'Macedonia', 'Madagascar', 'Malawi', 'Malaysia', 'Maldives', 'Mali', 'Malta', 'Marshall Is.', 'Mauritania', 'Mauritius', 'Mexico', 'Micronesia', 'Moldova', 'Mongolia', 'Montenegro', 'Morocco', 'Mozambique', 'Myanmar', 'Namibia', 'Nauru', 'Nepal', 'Netherlands', 'New Zealand', 'Nicaragua', 'Niger', 'Nigeria', 'North Korea', 'Norway', 'Oman', 'Pakistan', 'Palau', 'Panama', 'Papua New Guinea', 'Paraguay', 'Peru', 'Philippines', 'Poland', 'Portugal', 'Qatar', 'Romania', 'Russia', 'Rwanda', 'Samoa', 'Sao Tome and Principe', 'Saudi Arabia', 'Senegal', 'Serbia', 'Serbia and Montenegro', 'Seychelles', 'Sierra Leone', 'Singapore', 'Slovakia', 'Slovenia', 'Solomon Is.', 'Somalia', 'South Africa', 'South Korea', 'South Sudan', 'Spain', 'Sri Lanka', 'St. Kitts and Nevis', 'St. Lucia', 'St. Vincent and the Grenadines', 'Sudan', 'Suriname', 'Swaziland', 'Sweden', 'Switzerland', 'Syria', 'Taiwan', 'Tajikistan', 'Tanzania', 'Thailand', 'The Gambia', 'Timor Leste', 'Togo', 'Tonga', 'Trinidad and Tobago', 'Tunisia', 'Turkey', 'Turkmenistan', 'Tuvalu', 'USSR', 'Uganda', 'Ukraine', 'United Arab Emirates', 'United Kingdom', 'United States', 'Uruguay', 'Uzbekistan', 'Vanuatu', 'Venezuela', 'Vietnam', 'Yemen', 'Yemen Arab Republic', \"Yemen People's Republic\", 'Yugoslavia', 'Zambia', 'Zimbabwe']\n",
    "temporal = ['monthly']\n",
    "\n",
    "# Create the dropdown widget\n",
    "time_widget = widgets.Dropdown(options=temporal, description='Time:')\n",
    "\n",
    "# Sample dictionary with multiple lists for each key\n",
    "my_dict = {\n",
    "    'PG': {'list1': C_for_PG,\n",
    "            'list2': A_for_PG,\n",
    "            'list3': ['recent', 'all']},\n",
    "\n",
    "    'CM': {'list1': C_for_CM,\n",
    "            'list2': A_for_CM,\n",
    "            'list3': ['0']}\n",
    "    # Add more keys and lists as needed\n",
    "}\n",
    "\n",
    "# Dropdown widgets for key, list, and value\n",
    "key_dropdown = widgets.Dropdown(options=list(my_dict.keys()), description='Unit:')\n",
    "list_dropdown1 = widgets.Dropdown(description='Country:')\n",
    "list_dropdown2 = widgets.Dropdown(description='Aggregation:')\n",
    "list_dropdown3 = widgets.Dropdown(description='Boundaries:')\n",
    "\n",
    "#value_dropdown = widgets.Dropdown(description='Select Value:')\n",
    "\n",
    "# Display widgets\n",
    "display(key_dropdown)\n",
    "display(time_widget)\n",
    "display(list_dropdown1)\n",
    "display(list_dropdown2)\n",
    "display(list_dropdown3)\n",
    "\n",
    "#display(value_dropdown)\n",
    "\n",
    "# Update the options of the list and value dropdowns based on the selected key\n",
    "def update_lists_and_values(change):\n",
    "    selected_key = key_dropdown.value\n",
    "    if selected_key:\n",
    "        list_dropdown1.options = list(my_dict[selected_key]['list1'])\n",
    "        list_dropdown1.value = list(my_dict[selected_key]['list1'])[0]\n",
    "        \n",
    "        list_dropdown2.options = list(my_dict[selected_key]['list2'])\n",
    "        list_dropdown2.value = list(my_dict[selected_key]['list2'])[0]\n",
    "\n",
    "        list_dropdown3.options = list(my_dict[selected_key]['list3'])\n",
    "        list_dropdown3.value = list(my_dict[selected_key]['list3'])[0]\n",
    "\n",
    "        #value_dropdown.options = my_dict[selected_key]['list1'] + my_dict[selected_key]['list2']\n",
    "        #value_dropdown.value = my_dict[selected_key]['list1'][0]\n",
    "\n",
    "# Link the dropdowns\n",
    "key_dropdown.observe(update_lists_and_values, names='value')\n",
    "\n",
    "# Initial update based on the default selected key\n",
    "update_lists_and_values({'new': key_dropdown.value})\n"
   ]
  },
  {
   "cell_type": "code",
   "execution_count": 9,
   "metadata": {},
   "outputs": [
    {
     "ename": "KeyError",
     "evalue": "'month_id'",
     "output_type": "error",
     "traceback": [
      "\u001b[0;31m---------------------------------------------------------------------------\u001b[0m",
      "\u001b[0;31mKeyError\u001b[0m                                  Traceback (most recent call last)",
      "File \u001b[0;32m~/miniforge3/envs/viewser/lib/python3.11/site-packages/pandas/core/indexes/base.py:3802\u001b[0m, in \u001b[0;36mIndex.get_loc\u001b[0;34m(self, key, method, tolerance)\u001b[0m\n\u001b[1;32m   3801\u001b[0m \u001b[39mtry\u001b[39;00m:\n\u001b[0;32m-> 3802\u001b[0m     \u001b[39mreturn\u001b[39;00m \u001b[39mself\u001b[39;49m\u001b[39m.\u001b[39;49m_engine\u001b[39m.\u001b[39;49mget_loc(casted_key)\n\u001b[1;32m   3803\u001b[0m \u001b[39mexcept\u001b[39;00m \u001b[39mKeyError\u001b[39;00m \u001b[39mas\u001b[39;00m err:\n",
      "File \u001b[0;32m~/miniforge3/envs/viewser/lib/python3.11/site-packages/pandas/_libs/index.pyx:138\u001b[0m, in \u001b[0;36mpandas._libs.index.IndexEngine.get_loc\u001b[0;34m()\u001b[0m\n",
      "File \u001b[0;32m~/miniforge3/envs/viewser/lib/python3.11/site-packages/pandas/_libs/index.pyx:165\u001b[0m, in \u001b[0;36mpandas._libs.index.IndexEngine.get_loc\u001b[0;34m()\u001b[0m\n",
      "File \u001b[0;32mpandas/_libs/hashtable_class_helper.pxi:5745\u001b[0m, in \u001b[0;36mpandas._libs.hashtable.PyObjectHashTable.get_item\u001b[0;34m()\u001b[0m\n",
      "File \u001b[0;32mpandas/_libs/hashtable_class_helper.pxi:5753\u001b[0m, in \u001b[0;36mpandas._libs.hashtable.PyObjectHashTable.get_item\u001b[0;34m()\u001b[0m\n",
      "\u001b[0;31mKeyError\u001b[0m: 'month_id'",
      "\nThe above exception was the direct cause of the following exception:\n",
      "\u001b[0;31mKeyError\u001b[0m                                  Traceback (most recent call last)",
      "\u001b[1;32m/Users/gbenz/Documents/Food Security and Conflict/GIT/VIEWS_FAO_index/notebooks/Benz_experiments/simplified.ipynb Cell 5\u001b[0m line \u001b[0;36m1\n\u001b[1;32m     <a href='vscode-notebook-cell:/Users/gbenz/Documents/Food%20Security%20and%20Conflict/GIT/VIEWS_FAO_index/notebooks/Benz_experiments/simplified.ipynb#W5sZmlsZQ%3D%3D?line=9'>10</a>\u001b[0m Save_timeline\u001b[39m=\u001b[39m\u001b[39m'\u001b[39m\u001b[39mno\u001b[39m\u001b[39m'\u001b[39m\n\u001b[1;32m     <a href='vscode-notebook-cell:/Users/gbenz/Documents/Food%20Security%20and%20Conflict/GIT/VIEWS_FAO_index/notebooks/Benz_experiments/simplified.ipynb#W5sZmlsZQ%3D%3D?line=10'>11</a>\u001b[0m \u001b[39m#for i in countrylist:\u001b[39;00m\n\u001b[0;32m---> <a href='vscode-notebook-cell:/Users/gbenz/Documents/Food%20Security%20and%20Conflict/GIT/VIEWS_FAO_index/notebooks/Benz_experiments/simplified.ipynb#W5sZmlsZQ%3D%3D?line=11'>12</a>\u001b[0m x,gis \u001b[39m=\u001b[39m Empowered_Pantaleon(CM_orPG, df_pg, df_cm, temporal_resolution, Scale, Country, rec_or_all)\n\u001b[1;32m     <a href='vscode-notebook-cell:/Users/gbenz/Documents/Food%20Security%20and%20Conflict/GIT/VIEWS_FAO_index/notebooks/Benz_experiments/simplified.ipynb#W5sZmlsZQ%3D%3D?line=12'>13</a>\u001b[0m \u001b[39mprint\u001b[39m(x)\n\u001b[1;32m     <a href='vscode-notebook-cell:/Users/gbenz/Documents/Food%20Security%20and%20Conflict/GIT/VIEWS_FAO_index/notebooks/Benz_experiments/simplified.ipynb#W5sZmlsZQ%3D%3D?line=13'>14</a>\u001b[0m Save_for_timeline_generation(Save_timeline, gis, CM_orPG, temporal_resolution, Scale, Country)\n",
      "File \u001b[0;32m~/Documents/Food Security and Conflict/GIT/VIEWS_FAO_index/notebooks/Benz_experiments/support_functions/statsheet_execute.py:14\u001b[0m, in \u001b[0;36mEmpowered_Pantaleon\u001b[0;34m(PG_or_CM, d_pg, d_cm, monthly_or_annual, resolution, country, recent_or_all)\u001b[0m\n\u001b[1;32m      8\u001b[0m m_or_a \u001b[39m=\u001b[39m monthly_or_annual\n\u001b[1;32m     10\u001b[0m \u001b[39mif\u001b[39;00m PG_or_CM \u001b[39m==\u001b[39m \u001b[39m'\u001b[39m\u001b[39mPG\u001b[39m\u001b[39m'\u001b[39m:\n\u001b[1;32m     11\u001b[0m     \u001b[39m#df_pg = queryset_base_PG.publish().fetch()\u001b[39;00m\n\u001b[1;32m     12\u001b[0m \u001b[39m#Reset index in order to access 'month_id' and 'priogrid_gid' columns\u001b[39;00m\n\u001b[1;32m     13\u001b[0m     \u001b[39m#d_pg = d_pg.reset_index()\u001b[39;00m\n\u001b[0;32m---> 14\u001b[0m     df_109_516 \u001b[39m=\u001b[39m d_pg\u001b[39m.\u001b[39mloc[(d_pg[\u001b[39m'\u001b[39;49m\u001b[39mmonth_id\u001b[39;49m\u001b[39m'\u001b[39;49m]\u001b[39m>\u001b[39m\u001b[39m=\u001b[39m\u001b[39m109\u001b[39m) \u001b[39m&\u001b[39m (d_pg[\u001b[39m'\u001b[39m\u001b[39mmonth_id\u001b[39m\u001b[39m'\u001b[39m]\u001b[39m<\u001b[39m\u001b[39m=\u001b[39m \u001b[39m516\u001b[39m)]\n\u001b[1;32m     16\u001b[0m \u001b[39melse\u001b[39;00m:\n\u001b[1;32m     17\u001b[0m     \u001b[39m#df_cm = queryset_base_CM.publish().fetch()\u001b[39;00m\n\u001b[1;32m     18\u001b[0m     \u001b[39m#d_cm = d_cm.reset_index()\u001b[39;00m\n\u001b[1;32m     19\u001b[0m     df_109_516 \u001b[39m=\u001b[39m d_cm\u001b[39m.\u001b[39mloc[(d_cm[\u001b[39m'\u001b[39m\u001b[39mmonth_id\u001b[39m\u001b[39m'\u001b[39m]\u001b[39m>\u001b[39m\u001b[39m=\u001b[39m\u001b[39m109\u001b[39m) \u001b[39m&\u001b[39m (d_cm[\u001b[39m'\u001b[39m\u001b[39mmonth_id\u001b[39m\u001b[39m'\u001b[39m]\u001b[39m<\u001b[39m\u001b[39m=\u001b[39m \u001b[39m516\u001b[39m)]\n",
      "File \u001b[0;32m~/miniforge3/envs/viewser/lib/python3.11/site-packages/pandas/core/frame.py:3807\u001b[0m, in \u001b[0;36mDataFrame.__getitem__\u001b[0;34m(self, key)\u001b[0m\n\u001b[1;32m   3805\u001b[0m \u001b[39mif\u001b[39;00m \u001b[39mself\u001b[39m\u001b[39m.\u001b[39mcolumns\u001b[39m.\u001b[39mnlevels \u001b[39m>\u001b[39m \u001b[39m1\u001b[39m:\n\u001b[1;32m   3806\u001b[0m     \u001b[39mreturn\u001b[39;00m \u001b[39mself\u001b[39m\u001b[39m.\u001b[39m_getitem_multilevel(key)\n\u001b[0;32m-> 3807\u001b[0m indexer \u001b[39m=\u001b[39m \u001b[39mself\u001b[39;49m\u001b[39m.\u001b[39;49mcolumns\u001b[39m.\u001b[39;49mget_loc(key)\n\u001b[1;32m   3808\u001b[0m \u001b[39mif\u001b[39;00m is_integer(indexer):\n\u001b[1;32m   3809\u001b[0m     indexer \u001b[39m=\u001b[39m [indexer]\n",
      "File \u001b[0;32m~/miniforge3/envs/viewser/lib/python3.11/site-packages/pandas/core/indexes/base.py:3804\u001b[0m, in \u001b[0;36mIndex.get_loc\u001b[0;34m(self, key, method, tolerance)\u001b[0m\n\u001b[1;32m   3802\u001b[0m     \u001b[39mreturn\u001b[39;00m \u001b[39mself\u001b[39m\u001b[39m.\u001b[39m_engine\u001b[39m.\u001b[39mget_loc(casted_key)\n\u001b[1;32m   3803\u001b[0m \u001b[39mexcept\u001b[39;00m \u001b[39mKeyError\u001b[39;00m \u001b[39mas\u001b[39;00m err:\n\u001b[0;32m-> 3804\u001b[0m     \u001b[39mraise\u001b[39;00m \u001b[39mKeyError\u001b[39;00m(key) \u001b[39mfrom\u001b[39;00m \u001b[39merr\u001b[39;00m\n\u001b[1;32m   3805\u001b[0m \u001b[39mexcept\u001b[39;00m \u001b[39mTypeError\u001b[39;00m:\n\u001b[1;32m   3806\u001b[0m     \u001b[39m# If we have a listlike key, _check_indexing_error will raise\u001b[39;00m\n\u001b[1;32m   3807\u001b[0m     \u001b[39m#  InvalidIndexError. Otherwise we fall through and re-raise\u001b[39;00m\n\u001b[1;32m   3808\u001b[0m     \u001b[39m#  the TypeError.\u001b[39;00m\n\u001b[1;32m   3809\u001b[0m     \u001b[39mself\u001b[39m\u001b[39m.\u001b[39m_check_indexing_error(key)\n",
      "\u001b[0;31mKeyError\u001b[0m: 'month_id'"
     ]
    }
   ],
   "source": [
    "CM_orPG = key_dropdown.value\n",
    "temporal_resolution = time_widget.value\n",
    "Country = list_dropdown1.value\n",
    "s = list_dropdown2.value\n",
    "rec_or_all = list_dropdown3.value\n",
    "Scale = s + 'x' + s\n",
    "if Scale == '0x0':\n",
    "    Scale = 0\n",
    "\n",
    "Save_timeline='no'\n",
    "#for i in countrylist:\n",
    "x,gis = Empowered_Pantaleon(CM_orPG, df_pg, df_cm, temporal_resolution, Scale, Country, rec_or_all)\n",
    "\n",
    "print(x)\n",
    "Save_for_timeline_generation(Save_timeline, gis, CM_orPG, temporal_resolution, Scale, Country)"
   ]
  }
 ],
 "metadata": {
  "kernelspec": {
   "display_name": "viewser",
   "language": "python",
   "name": "python3"
  },
  "language_info": {
   "codemirror_mode": {
    "name": "ipython",
    "version": 3
   },
   "file_extension": ".py",
   "mimetype": "text/x-python",
   "name": "python",
   "nbconvert_exporter": "python",
   "pygments_lexer": "ipython3",
   "version": "3.11.9"
  }
 },
 "nbformat": 4,
 "nbformat_minor": 2
}
