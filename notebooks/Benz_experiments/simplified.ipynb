{
 "cells": [
  {
   "cell_type": "code",
   "execution_count": 5,
   "metadata": {},
   "outputs": [],
   "source": [
    "import sys\n",
    "import os\n",
    "from viewser import Queryset, Column\n",
    "\n",
    "from support_functions.setup_aggregation import *\n",
    "from support_functions.setup_general import *\n",
    "from support_functions.statsheet_input import *\n",
    "from support_functions.statsheet_format import *\n",
    "from support_functions.statsheet_execute import *\n",
    "from support_functions.fatality_statistics_generate import *\n",
    "from support_functions.fatality_statistics_reformat import *\n",
    "from support_functions.generate_timeline_table_for_gis import *"
   ]
  },
  {
   "cell_type": "code",
   "execution_count": 16,
   "metadata": {},
   "outputs": [],
   "source": [
    "queryset_base_PG = (Queryset(\"Fatalities_fao_pgm\", \"priogrid_month\")\n",
    "\n",
    "    .with_column(Column(\"country_name\",\n",
    "                        from_loa='country', \n",
    "                        from_column = \"name\")\n",
    "        .transform.missing.replace_na()\n",
    "    )\n",
    "\n",
    "    #column with wkt to review \n",
    "    .with_column(Column(\"C_start_year\",\n",
    "                        from_loa=\"country\",\n",
    "                        from_column=\"gwsyear\")\n",
    "    )                         \n",
    "    \n",
    "    .with_column(Column(\"C_end_year\",\n",
    "                        from_loa='country', \n",
    "                        from_column='gweyear')\n",
    "    )\n",
    "        \n",
    "    # target variable\n",
    "    .with_column(Column(\"ged_sb\",\n",
    "                        from_loa='priogrid_month', \n",
    "                        from_column = \"ged_sb_best_sum_nokgi\")\n",
    "        .transform.missing.replace_na()\n",
    "        #.transform.ops.ln()\n",
    "    )    \n",
    "\n",
    "    .with_column(Column(\"ged_ns\",\n",
    "                        from_loa='priogrid_month', \n",
    "                        from_column = \"ged_ns_best_sum_nokgi\")\n",
    "        .transform.missing.replace_na()\n",
    "        #.transform.ops.ln()\n",
    "    )\n",
    "\n",
    "    .with_column(Column(\"ged_os\",\n",
    "                        from_loa='priogrid_month', \n",
    "                        from_column = \"ged_os_best_sum_nokgi\")\n",
    "        .transform.missing.replace_na()\n",
    "        #.transform.ops.ln()\n",
    "    )\n",
    "\n",
    "    .with_column(Column(\"pop_gpw_sum\",\n",
    "                        from_loa='priogrid_year', \n",
    "                        from_column=\"pop_gpw_sum\")\n",
    "        \n",
    "    )\n",
    "        )"
   ]
  },
  {
   "cell_type": "code",
   "execution_count": 17,
   "metadata": {},
   "outputs": [],
   "source": [
    "truebase_cm = (Queryset(\"cm_properties\", \"country_month\")\n",
    "\n",
    "    .with_column(Column(\"country_name\",\n",
    "                        from_loa='country', \n",
    "                        from_column = \"name\")\n",
    "        .transform.missing.replace_na()\n",
    "    )\n",
    ")"
   ]
  },
  {
   "cell_type": "code",
   "execution_count": 18,
   "metadata": {},
   "outputs": [],
   "source": [
    "\n",
    "queryset_base_CM = (Queryset(\"Fatalities_fao_cm\", \"country_month\")\n",
    "\n",
    "    .with_column(Column(\"country_name\",\n",
    "                        from_loa='country', \n",
    "                        from_column = \"name\")\n",
    "        .transform.missing.replace_na()\n",
    "    )\n",
    "\n",
    "    #column with wkt to review \n",
    "    .with_column(Column(\"C_start_year\",\n",
    "                        from_loa=\"country\",\n",
    "                        from_column=\"gwsyear\")\n",
    "    )                         \n",
    "    \n",
    "    .with_column(Column(\"C_end_year\",\n",
    "                        from_loa='country', \n",
    "                        from_column='gweyear')\n",
    "    )\n",
    "        \n",
    "    # target variable\n",
    "    .with_column(Column(\"ged_sb\",\n",
    "                        from_loa='priogrid_month', \n",
    "                        from_column = \"ged_sb_best_sum_nokgi\")\n",
    "        .transform.missing.replace_na()\n",
    "        #.transform.ops.ln()\n",
    "        )    \n",
    "\n",
    "    .with_column(Column(\"ged_ns\",\n",
    "                        from_loa='priogrid_month', \n",
    "                        from_column = \"ged_ns_best_sum_nokgi\")\n",
    "        .transform.missing.replace_na()\n",
    "        #.transform.ops.ln()\n",
    "        )\n",
    "\n",
    "    .with_column(Column(\"ged_os\",\n",
    "                        from_loa='priogrid_month', \n",
    "                        from_column = \"ged_os_best_sum_nokgi\")\n",
    "        .transform.missing.replace_na()\n",
    "        #.transform.ops.ln()\n",
    "        )\n",
    "\n",
    "    .with_column(Column(\"pop_gpw_sum\",\n",
    "                        from_loa='priogrid_year', \n",
    "                        from_column=\"pop_gpw_sum\")\n",
    "        \n",
    "        )\n",
    "        )\n",
    "\n",
    "queryset_base_CY = (Queryset(\"Fatalities_fao_cy\", \"country_year\")\n",
    "\n",
    "    .with_column(Column(\"country_name\",\n",
    "                        from_loa='country', \n",
    "                        from_column = \"name\")\n",
    "        .transform.missing.replace_na()\n",
    "    )\n",
    "\n",
    "    #column with wkt to review \n",
    "    .with_column(Column(\"C_start_year\",\n",
    "                        from_loa=\"country\",\n",
    "                        from_column=\"gwsyear\")\n",
    "    )                         \n",
    "    \n",
    "    .with_column(Column(\"C_end_year\",\n",
    "                        from_loa='country', \n",
    "                        from_column='gweyear')\n",
    "    )\n",
    "    # target variable\n",
    "    .with_column(Column(\"ged_sb\",\n",
    "                        from_loa='priogrid_month', \n",
    "                        from_column = \"ged_sb_best_sum_nokgi\")\n",
    "        .transform.missing.replace_na()\n",
    "        #.transform.ops.ln()\n",
    "    )    \n",
    "\n",
    "    .with_column(Column(\"ged_ns\",\n",
    "                        from_loa='priogrid_month', \n",
    "                        from_column = \"ged_ns_best_sum_nokgi\")\n",
    "        .transform.missing.replace_na()\n",
    "        #.transform.ops.ln()\n",
    "        )\n",
    "\n",
    "    .with_column(Column(\"ged_os\",\n",
    "                        from_loa='priogrid_month', \n",
    "                        from_column = \"ged_os_best_sum_nokgi\")\n",
    "        .transform.missing.replace_na()\n",
    "        #.transform.ops.ln()\n",
    "        )\n",
    "\n",
    "    .with_column(Column(\"pop_gpw_sum\",\n",
    "                        from_loa='priogrid_year', \n",
    "                        from_column=\"pop_gpw_sum\")\n",
    "        \n",
    "        )\n",
    "        )\n",
    "   "
   ]
  },
  {
   "cell_type": "code",
   "execution_count": 19,
   "metadata": {},
   "outputs": [
    {
     "ename": "ConnectTimeout",
     "evalue": "HTTPSConnectionPool(host='viewser.viewsforecasting.org', port=443): Max retries exceeded with url: /querysets/querysets?overwrite=True (Caused by ConnectTimeoutError(<urllib3.connection.HTTPSConnection object at 0x159b326d0>, 'Connection to viewser.viewsforecasting.org timed out. (connect timeout=None)'))",
     "output_type": "error",
     "traceback": [
      "\u001b[0;31m---------------------------------------------------------------------------\u001b[0m",
      "\u001b[0;31mTimeoutError\u001b[0m                              Traceback (most recent call last)",
      "File \u001b[0;32m~/miniforge3/envs/viewser/lib/python3.11/site-packages/urllib3/connection.py:198\u001b[0m, in \u001b[0;36mHTTPConnection._new_conn\u001b[0;34m(self)\u001b[0m\n\u001b[1;32m    197\u001b[0m \u001b[39mtry\u001b[39;00m:\n\u001b[0;32m--> 198\u001b[0m     sock \u001b[39m=\u001b[39m connection\u001b[39m.\u001b[39;49mcreate_connection(\n\u001b[1;32m    199\u001b[0m         (\u001b[39mself\u001b[39;49m\u001b[39m.\u001b[39;49m_dns_host, \u001b[39mself\u001b[39;49m\u001b[39m.\u001b[39;49mport),\n\u001b[1;32m    200\u001b[0m         \u001b[39mself\u001b[39;49m\u001b[39m.\u001b[39;49mtimeout,\n\u001b[1;32m    201\u001b[0m         source_address\u001b[39m=\u001b[39;49m\u001b[39mself\u001b[39;49m\u001b[39m.\u001b[39;49msource_address,\n\u001b[1;32m    202\u001b[0m         socket_options\u001b[39m=\u001b[39;49m\u001b[39mself\u001b[39;49m\u001b[39m.\u001b[39;49msocket_options,\n\u001b[1;32m    203\u001b[0m     )\n\u001b[1;32m    204\u001b[0m \u001b[39mexcept\u001b[39;00m socket\u001b[39m.\u001b[39mgaierror \u001b[39mas\u001b[39;00m e:\n",
      "File \u001b[0;32m~/miniforge3/envs/viewser/lib/python3.11/site-packages/urllib3/util/connection.py:85\u001b[0m, in \u001b[0;36mcreate_connection\u001b[0;34m(address, timeout, source_address, socket_options)\u001b[0m\n\u001b[1;32m     84\u001b[0m \u001b[39mtry\u001b[39;00m:\n\u001b[0;32m---> 85\u001b[0m     \u001b[39mraise\u001b[39;00m err\n\u001b[1;32m     86\u001b[0m \u001b[39mfinally\u001b[39;00m:\n\u001b[1;32m     87\u001b[0m     \u001b[39m# Break explicitly a reference cycle\u001b[39;00m\n",
      "File \u001b[0;32m~/miniforge3/envs/viewser/lib/python3.11/site-packages/urllib3/util/connection.py:73\u001b[0m, in \u001b[0;36mcreate_connection\u001b[0;34m(address, timeout, source_address, socket_options)\u001b[0m\n\u001b[1;32m     72\u001b[0m     sock\u001b[39m.\u001b[39mbind(source_address)\n\u001b[0;32m---> 73\u001b[0m sock\u001b[39m.\u001b[39;49mconnect(sa)\n\u001b[1;32m     74\u001b[0m \u001b[39m# Break explicitly a reference cycle\u001b[39;00m\n",
      "\u001b[0;31mTimeoutError\u001b[0m: [Errno 60] Operation timed out",
      "\nThe above exception was the direct cause of the following exception:\n",
      "\u001b[0;31mConnectTimeoutError\u001b[0m                       Traceback (most recent call last)",
      "File \u001b[0;32m~/miniforge3/envs/viewser/lib/python3.11/site-packages/urllib3/connectionpool.py:793\u001b[0m, in \u001b[0;36mHTTPConnectionPool.urlopen\u001b[0;34m(self, method, url, body, headers, retries, redirect, assert_same_host, timeout, pool_timeout, release_conn, chunked, body_pos, preload_content, decode_content, **response_kw)\u001b[0m\n\u001b[1;32m    792\u001b[0m \u001b[39m# Make the request on the HTTPConnection object\u001b[39;00m\n\u001b[0;32m--> 793\u001b[0m response \u001b[39m=\u001b[39m \u001b[39mself\u001b[39;49m\u001b[39m.\u001b[39;49m_make_request(\n\u001b[1;32m    794\u001b[0m     conn,\n\u001b[1;32m    795\u001b[0m     method,\n\u001b[1;32m    796\u001b[0m     url,\n\u001b[1;32m    797\u001b[0m     timeout\u001b[39m=\u001b[39;49mtimeout_obj,\n\u001b[1;32m    798\u001b[0m     body\u001b[39m=\u001b[39;49mbody,\n\u001b[1;32m    799\u001b[0m     headers\u001b[39m=\u001b[39;49mheaders,\n\u001b[1;32m    800\u001b[0m     chunked\u001b[39m=\u001b[39;49mchunked,\n\u001b[1;32m    801\u001b[0m     retries\u001b[39m=\u001b[39;49mretries,\n\u001b[1;32m    802\u001b[0m     response_conn\u001b[39m=\u001b[39;49mresponse_conn,\n\u001b[1;32m    803\u001b[0m     preload_content\u001b[39m=\u001b[39;49mpreload_content,\n\u001b[1;32m    804\u001b[0m     decode_content\u001b[39m=\u001b[39;49mdecode_content,\n\u001b[1;32m    805\u001b[0m     \u001b[39m*\u001b[39;49m\u001b[39m*\u001b[39;49mresponse_kw,\n\u001b[1;32m    806\u001b[0m )\n\u001b[1;32m    808\u001b[0m \u001b[39m# Everything went great!\u001b[39;00m\n",
      "File \u001b[0;32m~/miniforge3/envs/viewser/lib/python3.11/site-packages/urllib3/connectionpool.py:491\u001b[0m, in \u001b[0;36mHTTPConnectionPool._make_request\u001b[0;34m(self, conn, method, url, body, headers, retries, timeout, chunked, response_conn, preload_content, decode_content, enforce_content_length)\u001b[0m\n\u001b[1;32m    490\u001b[0m         new_e \u001b[39m=\u001b[39m _wrap_proxy_error(new_e, conn\u001b[39m.\u001b[39mproxy\u001b[39m.\u001b[39mscheme)\n\u001b[0;32m--> 491\u001b[0m     \u001b[39mraise\u001b[39;00m new_e\n\u001b[1;32m    493\u001b[0m \u001b[39m# conn.request() calls http.client.*.request, not the method in\u001b[39;00m\n\u001b[1;32m    494\u001b[0m \u001b[39m# urllib3.request. It also calls makefile (recv) on the socket.\u001b[39;00m\n",
      "File \u001b[0;32m~/miniforge3/envs/viewser/lib/python3.11/site-packages/urllib3/connectionpool.py:467\u001b[0m, in \u001b[0;36mHTTPConnectionPool._make_request\u001b[0;34m(self, conn, method, url, body, headers, retries, timeout, chunked, response_conn, preload_content, decode_content, enforce_content_length)\u001b[0m\n\u001b[1;32m    466\u001b[0m \u001b[39mtry\u001b[39;00m:\n\u001b[0;32m--> 467\u001b[0m     \u001b[39mself\u001b[39;49m\u001b[39m.\u001b[39;49m_validate_conn(conn)\n\u001b[1;32m    468\u001b[0m \u001b[39mexcept\u001b[39;00m (SocketTimeout, BaseSSLError) \u001b[39mas\u001b[39;00m e:\n",
      "File \u001b[0;32m~/miniforge3/envs/viewser/lib/python3.11/site-packages/urllib3/connectionpool.py:1099\u001b[0m, in \u001b[0;36mHTTPSConnectionPool._validate_conn\u001b[0;34m(self, conn)\u001b[0m\n\u001b[1;32m   1098\u001b[0m \u001b[39mif\u001b[39;00m conn\u001b[39m.\u001b[39mis_closed:\n\u001b[0;32m-> 1099\u001b[0m     conn\u001b[39m.\u001b[39;49mconnect()\n\u001b[1;32m   1101\u001b[0m \u001b[39m# TODO revise this, see https://github.com/urllib3/urllib3/issues/2791\u001b[39;00m\n",
      "File \u001b[0;32m~/miniforge3/envs/viewser/lib/python3.11/site-packages/urllib3/connection.py:616\u001b[0m, in \u001b[0;36mHTTPSConnection.connect\u001b[0;34m(self)\u001b[0m\n\u001b[1;32m    615\u001b[0m sock: socket\u001b[39m.\u001b[39msocket \u001b[39m|\u001b[39m ssl\u001b[39m.\u001b[39mSSLSocket\n\u001b[0;32m--> 616\u001b[0m \u001b[39mself\u001b[39m\u001b[39m.\u001b[39msock \u001b[39m=\u001b[39m sock \u001b[39m=\u001b[39m \u001b[39mself\u001b[39;49m\u001b[39m.\u001b[39;49m_new_conn()\n\u001b[1;32m    617\u001b[0m server_hostname: \u001b[39mstr\u001b[39m \u001b[39m=\u001b[39m \u001b[39mself\u001b[39m\u001b[39m.\u001b[39mhost\n",
      "File \u001b[0;32m~/miniforge3/envs/viewser/lib/python3.11/site-packages/urllib3/connection.py:207\u001b[0m, in \u001b[0;36mHTTPConnection._new_conn\u001b[0;34m(self)\u001b[0m\n\u001b[1;32m    206\u001b[0m \u001b[39mexcept\u001b[39;00m SocketTimeout \u001b[39mas\u001b[39;00m e:\n\u001b[0;32m--> 207\u001b[0m     \u001b[39mraise\u001b[39;00m ConnectTimeoutError(\n\u001b[1;32m    208\u001b[0m         \u001b[39mself\u001b[39m,\n\u001b[1;32m    209\u001b[0m         \u001b[39mf\u001b[39m\u001b[39m\"\u001b[39m\u001b[39mConnection to \u001b[39m\u001b[39m{\u001b[39;00m\u001b[39mself\u001b[39m\u001b[39m.\u001b[39mhost\u001b[39m}\u001b[39;00m\u001b[39m timed out. (connect timeout=\u001b[39m\u001b[39m{\u001b[39;00m\u001b[39mself\u001b[39m\u001b[39m.\u001b[39mtimeout\u001b[39m}\u001b[39;00m\u001b[39m)\u001b[39m\u001b[39m\"\u001b[39m,\n\u001b[1;32m    210\u001b[0m     ) \u001b[39mfrom\u001b[39;00m \u001b[39me\u001b[39;00m\n\u001b[1;32m    212\u001b[0m \u001b[39mexcept\u001b[39;00m \u001b[39mOSError\u001b[39;00m \u001b[39mas\u001b[39;00m e:\n",
      "\u001b[0;31mConnectTimeoutError\u001b[0m: (<urllib3.connection.HTTPSConnection object at 0x159b326d0>, 'Connection to viewser.viewsforecasting.org timed out. (connect timeout=None)')",
      "\nThe above exception was the direct cause of the following exception:\n",
      "\u001b[0;31mMaxRetryError\u001b[0m                             Traceback (most recent call last)",
      "File \u001b[0;32m~/miniforge3/envs/viewser/lib/python3.11/site-packages/requests/adapters.py:486\u001b[0m, in \u001b[0;36mHTTPAdapter.send\u001b[0;34m(self, request, stream, timeout, verify, cert, proxies)\u001b[0m\n\u001b[1;32m    485\u001b[0m \u001b[39mtry\u001b[39;00m:\n\u001b[0;32m--> 486\u001b[0m     resp \u001b[39m=\u001b[39m conn\u001b[39m.\u001b[39;49murlopen(\n\u001b[1;32m    487\u001b[0m         method\u001b[39m=\u001b[39;49mrequest\u001b[39m.\u001b[39;49mmethod,\n\u001b[1;32m    488\u001b[0m         url\u001b[39m=\u001b[39;49murl,\n\u001b[1;32m    489\u001b[0m         body\u001b[39m=\u001b[39;49mrequest\u001b[39m.\u001b[39;49mbody,\n\u001b[1;32m    490\u001b[0m         headers\u001b[39m=\u001b[39;49mrequest\u001b[39m.\u001b[39;49mheaders,\n\u001b[1;32m    491\u001b[0m         redirect\u001b[39m=\u001b[39;49m\u001b[39mFalse\u001b[39;49;00m,\n\u001b[1;32m    492\u001b[0m         assert_same_host\u001b[39m=\u001b[39;49m\u001b[39mFalse\u001b[39;49;00m,\n\u001b[1;32m    493\u001b[0m         preload_content\u001b[39m=\u001b[39;49m\u001b[39mFalse\u001b[39;49;00m,\n\u001b[1;32m    494\u001b[0m         decode_content\u001b[39m=\u001b[39;49m\u001b[39mFalse\u001b[39;49;00m,\n\u001b[1;32m    495\u001b[0m         retries\u001b[39m=\u001b[39;49m\u001b[39mself\u001b[39;49m\u001b[39m.\u001b[39;49mmax_retries,\n\u001b[1;32m    496\u001b[0m         timeout\u001b[39m=\u001b[39;49mtimeout,\n\u001b[1;32m    497\u001b[0m         chunked\u001b[39m=\u001b[39;49mchunked,\n\u001b[1;32m    498\u001b[0m     )\n\u001b[1;32m    500\u001b[0m \u001b[39mexcept\u001b[39;00m (ProtocolError, \u001b[39mOSError\u001b[39;00m) \u001b[39mas\u001b[39;00m err:\n",
      "File \u001b[0;32m~/miniforge3/envs/viewser/lib/python3.11/site-packages/urllib3/connectionpool.py:847\u001b[0m, in \u001b[0;36mHTTPConnectionPool.urlopen\u001b[0;34m(self, method, url, body, headers, retries, redirect, assert_same_host, timeout, pool_timeout, release_conn, chunked, body_pos, preload_content, decode_content, **response_kw)\u001b[0m\n\u001b[1;32m    845\u001b[0m     new_e \u001b[39m=\u001b[39m ProtocolError(\u001b[39m\"\u001b[39m\u001b[39mConnection aborted.\u001b[39m\u001b[39m\"\u001b[39m, new_e)\n\u001b[0;32m--> 847\u001b[0m retries \u001b[39m=\u001b[39m retries\u001b[39m.\u001b[39;49mincrement(\n\u001b[1;32m    848\u001b[0m     method, url, error\u001b[39m=\u001b[39;49mnew_e, _pool\u001b[39m=\u001b[39;49m\u001b[39mself\u001b[39;49m, _stacktrace\u001b[39m=\u001b[39;49msys\u001b[39m.\u001b[39;49mexc_info()[\u001b[39m2\u001b[39;49m]\n\u001b[1;32m    849\u001b[0m )\n\u001b[1;32m    850\u001b[0m retries\u001b[39m.\u001b[39msleep()\n",
      "File \u001b[0;32m~/miniforge3/envs/viewser/lib/python3.11/site-packages/urllib3/util/retry.py:515\u001b[0m, in \u001b[0;36mRetry.increment\u001b[0;34m(self, method, url, response, error, _pool, _stacktrace)\u001b[0m\n\u001b[1;32m    514\u001b[0m     reason \u001b[39m=\u001b[39m error \u001b[39mor\u001b[39;00m ResponseError(cause)\n\u001b[0;32m--> 515\u001b[0m     \u001b[39mraise\u001b[39;00m MaxRetryError(_pool, url, reason) \u001b[39mfrom\u001b[39;00m \u001b[39mreason\u001b[39;00m  \u001b[39m# type: ignore[arg-type]\u001b[39;00m\n\u001b[1;32m    517\u001b[0m log\u001b[39m.\u001b[39mdebug(\u001b[39m\"\u001b[39m\u001b[39mIncremented Retry for (url=\u001b[39m\u001b[39m'\u001b[39m\u001b[39m%s\u001b[39;00m\u001b[39m'\u001b[39m\u001b[39m): \u001b[39m\u001b[39m%r\u001b[39;00m\u001b[39m\"\u001b[39m, url, new_retry)\n",
      "\u001b[0;31mMaxRetryError\u001b[0m: HTTPSConnectionPool(host='viewser.viewsforecasting.org', port=443): Max retries exceeded with url: /querysets/querysets?overwrite=True (Caused by ConnectTimeoutError(<urllib3.connection.HTTPSConnection object at 0x159b326d0>, 'Connection to viewser.viewsforecasting.org timed out. (connect timeout=None)'))",
      "\nDuring handling of the above exception, another exception occurred:\n",
      "\u001b[0;31mConnectTimeout\u001b[0m                            Traceback (most recent call last)",
      "\u001b[1;32m/Users/gbenz/Documents/Food Security and Conflict/GIT/VIEWS_FAO_index/notebooks/Benz_experiments/simplified.ipynb Cell 5\u001b[0m line \u001b[0;36m1\n\u001b[0;32m----> <a href='vscode-notebook-cell:/Users/gbenz/Documents/Food%20Security%20and%20Conflict/GIT/VIEWS_FAO_index/notebooks/Benz_experiments/simplified.ipynb#W3sZmlsZQ%3D%3D?line=0'>1</a>\u001b[0m df_pg \u001b[39m=\u001b[39m queryset_base_PG\u001b[39m.\u001b[39;49mpublish()\u001b[39m.\u001b[39mfetch()\n\u001b[1;32m      <a href='vscode-notebook-cell:/Users/gbenz/Documents/Food%20Security%20and%20Conflict/GIT/VIEWS_FAO_index/notebooks/Benz_experiments/simplified.ipynb#W3sZmlsZQ%3D%3D?line=1'>2</a>\u001b[0m df_pg \u001b[39m=\u001b[39m df_pg\u001b[39m.\u001b[39mreset_index()\n\u001b[1;32m      <a href='vscode-notebook-cell:/Users/gbenz/Documents/Food%20Security%20and%20Conflict/GIT/VIEWS_FAO_index/notebooks/Benz_experiments/simplified.ipynb#W3sZmlsZQ%3D%3D?line=3'>4</a>\u001b[0m df_cm \u001b[39m=\u001b[39m queryset_base_CM\u001b[39m.\u001b[39mpublish()\u001b[39m.\u001b[39mfetch()\n",
      "File \u001b[0;32m~/miniforge3/envs/viewser/lib/python3.11/site-packages/viewser/commands/queryset/models/queryset.py:209\u001b[0m, in \u001b[0;36mQueryset.publish\u001b[0;34m(self, *args, **kwargs)\u001b[0m\n\u001b[1;32m    198\u001b[0m \u001b[39m\u001b[39m\u001b[39m\"\"\"\u001b[39;00m\n\u001b[1;32m    199\u001b[0m \u001b[39mpublish\u001b[39;00m\n\u001b[1;32m    200\u001b[0m \u001b[39m=======\u001b[39;00m\n\u001b[0;32m   (...)\u001b[0m\n\u001b[1;32m    206\u001b[0m \u001b[39mother users.\u001b[39;00m\n\u001b[1;32m    207\u001b[0m \u001b[39m\"\"\"\u001b[39;00m\n\u001b[1;32m    208\u001b[0m logger\u001b[39m.\u001b[39minfo(\u001b[39mf\u001b[39m\u001b[39m\"\u001b[39m\u001b[39mPublishing queryset \u001b[39m\u001b[39m{\u001b[39;00m\u001b[39mself\u001b[39m\u001b[39m.\u001b[39mname\u001b[39m}\u001b[39;00m\u001b[39m\"\u001b[39m)\n\u001b[0;32m--> 209\u001b[0m queryset_operations\u001b[39m.\u001b[39;49mpublish(\u001b[39mself\u001b[39;49m, \u001b[39m*\u001b[39;49margs, \u001b[39m*\u001b[39;49m\u001b[39m*\u001b[39;49mkwargs)\n\u001b[1;32m    210\u001b[0m \u001b[39mreturn\u001b[39;00m \u001b[39mself\u001b[39m\n",
      "File \u001b[0;32m~/miniforge3/envs/viewser/lib/python3.11/site-packages/viewser/commands/queryset/operations.py:205\u001b[0m, in \u001b[0;36mQuerysetOperations.publish\u001b[0;34m(self, queryset, overwrite)\u001b[0m\n\u001b[1;32m    201\u001b[0m request_kwargs\u001b[39m.\u001b[39mupdate({\u001b[39m\"\u001b[39m\u001b[39mdata\u001b[39m\u001b[39m\"\u001b[39m: json\u001b[39m.\u001b[39mdumps(queryset\u001b[39m.\u001b[39mdict())})\n\u001b[1;32m    203\u001b[0m request_kwargs[\u001b[39m\"\u001b[39m\u001b[39mheaders\u001b[39m\u001b[39m\"\u001b[39m]\u001b[39m.\u001b[39mupdate({\u001b[39m\"\u001b[39m\u001b[39mContent-Type\u001b[39m\u001b[39m\"\u001b[39m: \u001b[39m\"\u001b[39m\u001b[39mapplication/json\u001b[39m\u001b[39m\"\u001b[39m})\n\u001b[0;32m--> 205\u001b[0m response \u001b[39m=\u001b[39m requests\u001b[39m.\u001b[39;49mrequest(method\u001b[39m=\u001b[39;49mmethod, url\u001b[39m=\u001b[39;49murl, \u001b[39m*\u001b[39;49m\u001b[39m*\u001b[39;49mrequest_kwargs)\n\u001b[1;32m    207\u001b[0m \u001b[39mreturn\u001b[39;00m response\n",
      "File \u001b[0;32m~/miniforge3/envs/viewser/lib/python3.11/site-packages/requests/api.py:59\u001b[0m, in \u001b[0;36mrequest\u001b[0;34m(method, url, **kwargs)\u001b[0m\n\u001b[1;32m     55\u001b[0m \u001b[39m# By using the 'with' statement we are sure the session is closed, thus we\u001b[39;00m\n\u001b[1;32m     56\u001b[0m \u001b[39m# avoid leaving sockets open which can trigger a ResourceWarning in some\u001b[39;00m\n\u001b[1;32m     57\u001b[0m \u001b[39m# cases, and look like a memory leak in others.\u001b[39;00m\n\u001b[1;32m     58\u001b[0m \u001b[39mwith\u001b[39;00m sessions\u001b[39m.\u001b[39mSession() \u001b[39mas\u001b[39;00m session:\n\u001b[0;32m---> 59\u001b[0m     \u001b[39mreturn\u001b[39;00m session\u001b[39m.\u001b[39;49mrequest(method\u001b[39m=\u001b[39;49mmethod, url\u001b[39m=\u001b[39;49murl, \u001b[39m*\u001b[39;49m\u001b[39m*\u001b[39;49mkwargs)\n",
      "File \u001b[0;32m~/miniforge3/envs/viewser/lib/python3.11/site-packages/requests/sessions.py:589\u001b[0m, in \u001b[0;36mSession.request\u001b[0;34m(self, method, url, params, data, headers, cookies, files, auth, timeout, allow_redirects, proxies, hooks, stream, verify, cert, json)\u001b[0m\n\u001b[1;32m    584\u001b[0m send_kwargs \u001b[39m=\u001b[39m {\n\u001b[1;32m    585\u001b[0m     \u001b[39m\"\u001b[39m\u001b[39mtimeout\u001b[39m\u001b[39m\"\u001b[39m: timeout,\n\u001b[1;32m    586\u001b[0m     \u001b[39m\"\u001b[39m\u001b[39mallow_redirects\u001b[39m\u001b[39m\"\u001b[39m: allow_redirects,\n\u001b[1;32m    587\u001b[0m }\n\u001b[1;32m    588\u001b[0m send_kwargs\u001b[39m.\u001b[39mupdate(settings)\n\u001b[0;32m--> 589\u001b[0m resp \u001b[39m=\u001b[39m \u001b[39mself\u001b[39;49m\u001b[39m.\u001b[39;49msend(prep, \u001b[39m*\u001b[39;49m\u001b[39m*\u001b[39;49msend_kwargs)\n\u001b[1;32m    591\u001b[0m \u001b[39mreturn\u001b[39;00m resp\n",
      "File \u001b[0;32m~/miniforge3/envs/viewser/lib/python3.11/site-packages/requests/sessions.py:703\u001b[0m, in \u001b[0;36mSession.send\u001b[0;34m(self, request, **kwargs)\u001b[0m\n\u001b[1;32m    700\u001b[0m start \u001b[39m=\u001b[39m preferred_clock()\n\u001b[1;32m    702\u001b[0m \u001b[39m# Send the request\u001b[39;00m\n\u001b[0;32m--> 703\u001b[0m r \u001b[39m=\u001b[39m adapter\u001b[39m.\u001b[39;49msend(request, \u001b[39m*\u001b[39;49m\u001b[39m*\u001b[39;49mkwargs)\n\u001b[1;32m    705\u001b[0m \u001b[39m# Total elapsed time of the request (approximately)\u001b[39;00m\n\u001b[1;32m    706\u001b[0m elapsed \u001b[39m=\u001b[39m preferred_clock() \u001b[39m-\u001b[39m start\n",
      "File \u001b[0;32m~/miniforge3/envs/viewser/lib/python3.11/site-packages/requests/adapters.py:507\u001b[0m, in \u001b[0;36mHTTPAdapter.send\u001b[0;34m(self, request, stream, timeout, verify, cert, proxies)\u001b[0m\n\u001b[1;32m    504\u001b[0m \u001b[39mif\u001b[39;00m \u001b[39misinstance\u001b[39m(e\u001b[39m.\u001b[39mreason, ConnectTimeoutError):\n\u001b[1;32m    505\u001b[0m     \u001b[39m# TODO: Remove this in 3.0.0: see #2811\u001b[39;00m\n\u001b[1;32m    506\u001b[0m     \u001b[39mif\u001b[39;00m \u001b[39mnot\u001b[39;00m \u001b[39misinstance\u001b[39m(e\u001b[39m.\u001b[39mreason, NewConnectionError):\n\u001b[0;32m--> 507\u001b[0m         \u001b[39mraise\u001b[39;00m ConnectTimeout(e, request\u001b[39m=\u001b[39mrequest)\n\u001b[1;32m    509\u001b[0m \u001b[39mif\u001b[39;00m \u001b[39misinstance\u001b[39m(e\u001b[39m.\u001b[39mreason, ResponseError):\n\u001b[1;32m    510\u001b[0m     \u001b[39mraise\u001b[39;00m RetryError(e, request\u001b[39m=\u001b[39mrequest)\n",
      "\u001b[0;31mConnectTimeout\u001b[0m: HTTPSConnectionPool(host='viewser.viewsforecasting.org', port=443): Max retries exceeded with url: /querysets/querysets?overwrite=True (Caused by ConnectTimeoutError(<urllib3.connection.HTTPSConnection object at 0x159b326d0>, 'Connection to viewser.viewsforecasting.org timed out. (connect timeout=None)'))"
     ]
    }
   ],
   "source": [
    "df_pg = queryset_base_PG.publish().fetch()\n",
    "df_pg = df_pg.reset_index()\n",
    "\n",
    "df_cm = queryset_base_CM.publish().fetch()\n",
    "df_cm = df_cm.reset_index()\n",
    "\n",
    "df_cy = queryset_base_CY.publish().fetch()\n",
    "df_cy = df_cy.reset_index()\n",
    "\n",
    "cm_properties = truebase_cm.publish().fetch()\n",
    "cm_properties = cm_properties.reset_index()\n"
   ]
  },
  {
   "cell_type": "code",
   "execution_count": 15,
   "metadata": {},
   "outputs": [
    {
     "name": "stdout",
     "output_type": "stream",
     "text": [
      "Empty DataFrame\n",
      "Columns: [index]\n",
      "Index: []\n"
     ]
    }
   ],
   "source": [
    "print(df_pg)"
   ]
  },
  {
   "cell_type": "code",
   "execution_count": 10,
   "metadata": {},
   "outputs": [
    {
     "data": {
      "application/vnd.jupyter.widget-view+json": {
       "model_id": "e75b075062ba4a7d9b6cfb27d3dce4c5",
       "version_major": 2,
       "version_minor": 0
      },
      "text/plain": [
       "Dropdown(description='Unit:', options=('PG', 'CM'), value='PG')"
      ]
     },
     "metadata": {},
     "output_type": "display_data"
    },
    {
     "data": {
      "application/vnd.jupyter.widget-view+json": {
       "model_id": "ecab89931733486788dc22c5eb491e74",
       "version_major": 2,
       "version_minor": 0
      },
      "text/plain": [
       "Dropdown(description='Time:', options=('monthly',), value='monthly')"
      ]
     },
     "metadata": {},
     "output_type": "display_data"
    },
    {
     "data": {
      "application/vnd.jupyter.widget-view+json": {
       "model_id": "c5b7be2147f04ccda2d6f117e667661f",
       "version_major": 2,
       "version_minor": 0
      },
      "text/plain": [
       "Dropdown(description='Country:', options=(), value=None)"
      ]
     },
     "metadata": {},
     "output_type": "display_data"
    },
    {
     "data": {
      "application/vnd.jupyter.widget-view+json": {
       "model_id": "1a9e52ad908d4c828d2272331f402526",
       "version_major": 2,
       "version_minor": 0
      },
      "text/plain": [
       "Dropdown(description='Aggregation:', options=(), value=None)"
      ]
     },
     "metadata": {},
     "output_type": "display_data"
    },
    {
     "data": {
      "application/vnd.jupyter.widget-view+json": {
       "model_id": "90209b0bd2ab4029b6196cd26683464b",
       "version_major": 2,
       "version_minor": 0
      },
      "text/plain": [
       "Dropdown(description='Boundaries:', options=(), value=None)"
      ]
     },
     "metadata": {},
     "output_type": "display_data"
    }
   ],
   "source": [
    "import ipywidgets as widgets\n",
    "from IPython.display import display\n",
    "\n",
    "A_for_PG = ['1','2','3','4','5','6','7','8','9','10']\n",
    "A_for_CM = ['0']\n",
    "C_for_PG=['Afghanistan', 'Algeria', 'Angola', 'Armenia', 'Azerbaijan', 'Bahrain', 'Benin', 'Botswana', 'Bulgaria', 'Burkina Faso', 'Burundi', 'Cameroon', 'Cape Verde', 'Central African Republic', 'Chad', 'Comoros', 'Congo', 'Congo, DRC', \"Cote d'Ivoire\", 'Djibouti', 'Egypt', 'Equatorial Guinea', 'Eritrea', 'Ethiopia', 'Gabon', 'Georgia', 'Ghana', 'Greece', 'Guinea', 'Guinea-Bissau', 'Iran', 'Iraq', 'Israel', 'Jordan', 'Kenya', 'Kuwait', 'Lebanon', 'Lesotho', 'Liberia', 'Libya', 'Madagascar', 'Malawi', 'Mali', 'Mauritania', 'Mauritius', 'Morocco', 'Mozambique', 'Namibia', 'Niger', 'Nigeria', 'Oman', 'Pakistan', 'Qatar', 'Rwanda', 'Sao Tome and Principe', 'Saudi Arabia', 'Senegal', 'Seychelles', 'Sierra Leone', 'Somalia', 'South Africa', 'South Sudan', 'Sudan', 'Swaziland', 'Syria', 'Tanzania', 'The Gambia', 'Togo', 'Tunisia', 'Turkey', 'Turkmenistan', 'USSR', 'Uganda', 'United Arab Emirates', 'Yemen', 'Yemen Arab Republic', \"Yemen People's Republic\", 'Zambia', 'Zimbabwe']\n",
    "C_for_CM = ['Afghanistan', 'Albania', 'Algeria', 'Angola', 'Antigua and Barbuda', 'Argentina', 'Armenia', 'Australia', 'Austria', 'Azerbaijan', 'Bahamas', 'Bahrain', 'Bangladesh', 'Barbados', 'Belarus', 'Belgium', 'Belize', 'Benin', 'Bhutan', 'Bolivia', 'Bosnia and Herzegovina', 'Botswana', 'Brazil', 'Brunei', 'Bulgaria', 'Burkina Faso', 'Burundi', 'Cambodia', 'Cameroon', 'Canada', 'Cape Verde', 'Central African Republic', 'Chad', 'Chile', 'China', 'Colombia', 'Comoros', 'Congo', 'Congo, DRC', 'Costa Rica', \"Cote d'Ivoire\", 'Croatia', 'Cuba', 'Cyprus', 'Czech Republic', 'Czechoslovakia', 'Denmark', 'Djibouti', 'Dominica', 'Dominican Republic', 'Ecuador', 'Egypt', 'El Salvador', 'Equatorial Guinea', 'Eritrea', 'Estonia', 'Ethiopia', 'Fiji', 'Finland', 'France', 'Gabon', 'Georgia', 'Germany', 'Germany Democratic Republic', 'Germany Federal Republic', 'Ghana', 'Greece', 'Grenada', 'Guatemala', 'Guinea', 'Guinea-Bissau', 'Guyana', 'Haiti', 'Honduras', 'Hungary', 'Iceland', 'India', 'Indonesia', 'Iran', 'Iraq', 'Ireland', 'Israel', 'Italy', 'Jamaica', 'Japan', 'Jordan', 'Kazakhstan', 'Kenya', 'Kiribati', 'Kosovo', 'Kuwait', 'Kyrgyzstan', 'Laos', 'Latvia', 'Lebanon', 'Lesotho', 'Liberia', 'Libya', 'Lithuania', 'Luxembourg', 'Macedonia', 'Madagascar', 'Malawi', 'Malaysia', 'Maldives', 'Mali', 'Malta', 'Marshall Is.', 'Mauritania', 'Mauritius', 'Mexico', 'Micronesia', 'Moldova', 'Mongolia', 'Montenegro', 'Morocco', 'Mozambique', 'Myanmar', 'Namibia', 'Nauru', 'Nepal', 'Netherlands', 'New Zealand', 'Nicaragua', 'Niger', 'Nigeria', 'North Korea', 'Norway', 'Oman', 'Pakistan', 'Palau', 'Panama', 'Papua New Guinea', 'Paraguay', 'Peru', 'Philippines', 'Poland', 'Portugal', 'Qatar', 'Romania', 'Russia', 'Rwanda', 'Samoa', 'Sao Tome and Principe', 'Saudi Arabia', 'Senegal', 'Serbia', 'Serbia and Montenegro', 'Seychelles', 'Sierra Leone', 'Singapore', 'Slovakia', 'Slovenia', 'Solomon Is.', 'Somalia', 'South Africa', 'South Korea', 'South Sudan', 'Spain', 'Sri Lanka', 'St. Kitts and Nevis', 'St. Lucia', 'St. Vincent and the Grenadines', 'Sudan', 'Suriname', 'Swaziland', 'Sweden', 'Switzerland', 'Syria', 'Taiwan', 'Tajikistan', 'Tanzania', 'Thailand', 'The Gambia', 'Timor Leste', 'Togo', 'Tonga', 'Trinidad and Tobago', 'Tunisia', 'Turkey', 'Turkmenistan', 'Tuvalu', 'USSR', 'Uganda', 'Ukraine', 'United Arab Emirates', 'United Kingdom', 'United States', 'Uruguay', 'Uzbekistan', 'Vanuatu', 'Venezuela', 'Vietnam', 'Yemen', 'Yemen Arab Republic', \"Yemen People's Republic\", 'Yugoslavia', 'Zambia', 'Zimbabwe']\n",
    "temporal = ['monthly']\n",
    "\n",
    "# Create the dropdown widget\n",
    "time_widget = widgets.Dropdown(options=temporal, description='Time:')\n",
    "\n",
    "# Sample dictionary with multiple lists for each key\n",
    "my_dict = {\n",
    "    'PG': {'list1': C_for_PG,\n",
    "            'list2': A_for_PG,\n",
    "            'list3': ['recent', 'all']},\n",
    "\n",
    "    'CM': {'list1': C_for_CM,\n",
    "            'list2': A_for_CM,\n",
    "            'list3': ['0']}\n",
    "    # Add more keys and lists as needed\n",
    "}\n",
    "\n",
    "# Dropdown widgets for key, list, and value\n",
    "key_dropdown = widgets.Dropdown(options=list(my_dict.keys()), description='Unit:')\n",
    "list_dropdown1 = widgets.Dropdown(description='Country:')\n",
    "list_dropdown2 = widgets.Dropdown(description='Aggregation:')\n",
    "list_dropdown3 = widgets.Dropdown(description='Boundaries:')\n",
    "\n",
    "#value_dropdown = widgets.Dropdown(description='Select Value:')\n",
    "\n",
    "# Display widgets\n",
    "display(key_dropdown)\n",
    "display(time_widget)\n",
    "display(list_dropdown1)\n",
    "display(list_dropdown2)\n",
    "display(list_dropdown3)\n",
    "\n",
    "#display(value_dropdown)\n",
    "\n",
    "# Update the options of the list and value dropdowns based on the selected key\n",
    "def update_lists_and_values(change):\n",
    "    selected_key = key_dropdown.value\n",
    "    if selected_key:\n",
    "        list_dropdown1.options = list(my_dict[selected_key]['list1'])\n",
    "        list_dropdown1.value = list(my_dict[selected_key]['list1'])[0]\n",
    "        \n",
    "        list_dropdown2.options = list(my_dict[selected_key]['list2'])\n",
    "        list_dropdown2.value = list(my_dict[selected_key]['list2'])[0]\n",
    "\n",
    "        list_dropdown3.options = list(my_dict[selected_key]['list3'])\n",
    "        list_dropdown3.value = list(my_dict[selected_key]['list3'])[0]\n",
    "\n",
    "        #value_dropdown.options = my_dict[selected_key]['list1'] + my_dict[selected_key]['list2']\n",
    "        #value_dropdown.value = my_dict[selected_key]['list1'][0]\n",
    "\n",
    "# Link the dropdowns\n",
    "key_dropdown.observe(update_lists_and_values, names='value')\n",
    "\n",
    "# Initial update based on the default selected key\n",
    "update_lists_and_values({'new': key_dropdown.value})\n"
   ]
  },
  {
   "cell_type": "code",
   "execution_count": 11,
   "metadata": {},
   "outputs": [
    {
     "ename": "KeyError",
     "evalue": "'country_id'",
     "output_type": "error",
     "traceback": [
      "\u001b[0;31m---------------------------------------------------------------------------\u001b[0m",
      "\u001b[0;31mKeyError\u001b[0m                                  Traceback (most recent call last)",
      "File \u001b[0;32m~/miniforge3/envs/viewser/lib/python3.11/site-packages/pandas/core/indexes/base.py:3802\u001b[0m, in \u001b[0;36mIndex.get_loc\u001b[0;34m(self, key, method, tolerance)\u001b[0m\n\u001b[1;32m   3801\u001b[0m \u001b[39mtry\u001b[39;00m:\n\u001b[0;32m-> 3802\u001b[0m     \u001b[39mreturn\u001b[39;00m \u001b[39mself\u001b[39;49m\u001b[39m.\u001b[39;49m_engine\u001b[39m.\u001b[39;49mget_loc(casted_key)\n\u001b[1;32m   3803\u001b[0m \u001b[39mexcept\u001b[39;00m \u001b[39mKeyError\u001b[39;00m \u001b[39mas\u001b[39;00m err:\n",
      "File \u001b[0;32m~/miniforge3/envs/viewser/lib/python3.11/site-packages/pandas/_libs/index.pyx:138\u001b[0m, in \u001b[0;36mpandas._libs.index.IndexEngine.get_loc\u001b[0;34m()\u001b[0m\n",
      "File \u001b[0;32m~/miniforge3/envs/viewser/lib/python3.11/site-packages/pandas/_libs/index.pyx:165\u001b[0m, in \u001b[0;36mpandas._libs.index.IndexEngine.get_loc\u001b[0;34m()\u001b[0m\n",
      "File \u001b[0;32mpandas/_libs/hashtable_class_helper.pxi:5745\u001b[0m, in \u001b[0;36mpandas._libs.hashtable.PyObjectHashTable.get_item\u001b[0;34m()\u001b[0m\n",
      "File \u001b[0;32mpandas/_libs/hashtable_class_helper.pxi:5753\u001b[0m, in \u001b[0;36mpandas._libs.hashtable.PyObjectHashTable.get_item\u001b[0;34m()\u001b[0m\n",
      "\u001b[0;31mKeyError\u001b[0m: 'country_id'",
      "\nThe above exception was the direct cause of the following exception:\n",
      "\u001b[0;31mKeyError\u001b[0m                                  Traceback (most recent call last)",
      "\u001b[1;32m/Users/gbenz/Documents/Food Security and Conflict/GIT/VIEWS_FAO_index/notebooks/Benz_experiments/simplified.ipynb Cell 7\u001b[0m line \u001b[0;36m1\n\u001b[1;32m     <a href='vscode-notebook-cell:/Users/gbenz/Documents/Food%20Security%20and%20Conflict/GIT/VIEWS_FAO_index/notebooks/Benz_experiments/simplified.ipynb#W6sZmlsZQ%3D%3D?line=9'>10</a>\u001b[0m Save_timeline\u001b[39m=\u001b[39m\u001b[39m'\u001b[39m\u001b[39mno\u001b[39m\u001b[39m'\u001b[39m\n\u001b[1;32m     <a href='vscode-notebook-cell:/Users/gbenz/Documents/Food%20Security%20and%20Conflict/GIT/VIEWS_FAO_index/notebooks/Benz_experiments/simplified.ipynb#W6sZmlsZQ%3D%3D?line=10'>11</a>\u001b[0m \u001b[39m#for i in countrylist:\u001b[39;00m\n\u001b[0;32m---> <a href='vscode-notebook-cell:/Users/gbenz/Documents/Food%20Security%20and%20Conflict/GIT/VIEWS_FAO_index/notebooks/Benz_experiments/simplified.ipynb#W6sZmlsZQ%3D%3D?line=11'>12</a>\u001b[0m x,gis \u001b[39m=\u001b[39m Empowered_Pantaleon(CM_orPG, df_pg, df_cm, temporal_resolution, Scale, Country, rec_or_all)\n\u001b[1;32m     <a href='vscode-notebook-cell:/Users/gbenz/Documents/Food%20Security%20and%20Conflict/GIT/VIEWS_FAO_index/notebooks/Benz_experiments/simplified.ipynb#W6sZmlsZQ%3D%3D?line=13'>14</a>\u001b[0m \u001b[39mprint\u001b[39m(x)\n\u001b[1;32m     <a href='vscode-notebook-cell:/Users/gbenz/Documents/Food%20Security%20and%20Conflict/GIT/VIEWS_FAO_index/notebooks/Benz_experiments/simplified.ipynb#W6sZmlsZQ%3D%3D?line=14'>15</a>\u001b[0m Save_for_timeline_generation(Save_timeline, gis, CM_orPG, temporal_resolution, Scale, Country)\n",
      "File \u001b[0;32m~/Documents/Food Security and Conflict/GIT/VIEWS_FAO_index/notebooks/Benz_experiments/support_functions/statsheet_execute.py:30\u001b[0m, in \u001b[0;36mEmpowered_Pantaleon\u001b[0;34m(PG_or_CM, d_pg, d_cm, monthly_or_annual, resolution, country, recent_or_all)\u001b[0m\n\u001b[1;32m     27\u001b[0m     df_109_516 \u001b[39m=\u001b[39m d_cm\u001b[39m.\u001b[39mloc[(d_cm[\u001b[39m'\u001b[39m\u001b[39mmonth_id\u001b[39m\u001b[39m'\u001b[39m]\u001b[39m>\u001b[39m\u001b[39m=\u001b[39m\u001b[39m109\u001b[39m) \u001b[39m&\u001b[39m (d_cm[\u001b[39m'\u001b[39m\u001b[39mmonth_id\u001b[39m\u001b[39m'\u001b[39m]\u001b[39m<\u001b[39m\u001b[39m=\u001b[39m \u001b[39m516\u001b[39m)]\n\u001b[1;32m     29\u001b[0m df__PP\u001b[39m=\u001b[39mPGM_preprocess(df_109_516)\n\u001b[0;32m---> 30\u001b[0m df_ag, gis\u001b[39m=\u001b[39mPRIO_Agg_serious(df__PP, monthly_or_annual,pg__or__cm, res, cntry, recent_or_all)\n\u001b[1;32m     32\u001b[0m \u001b[39m#total_events = report_length(df_ag, PG_or_CM,'Global', monthly_or_annual,res)\u001b[39;00m\n\u001b[1;32m     33\u001b[0m \u001b[39m#print(total_events)\u001b[39;00m\n\u001b[1;32m     34\u001b[0m list_of_fatality_values__ \u001b[39m=\u001b[39m \u001b[39mlist\u001b[39m(unique(df_ag[\u001b[39m'\u001b[39m\u001b[39mFatalities_Sum\u001b[39m\u001b[39m'\u001b[39m]))\n",
      "File \u001b[0;32m~/Documents/Food Security and Conflict/GIT/VIEWS_FAO_index/notebooks/Benz_experiments/support_functions/setup_aggregation.py:214\u001b[0m, in \u001b[0;36mPRIO_Agg_serious\u001b[0;34m(table, time, CMorPG, scale, country, recent_or_all)\u001b[0m\n\u001b[1;32m    203\u001b[0m             \u001b[39melse\u001b[39;00m:\n\u001b[1;32m    204\u001b[0m \u001b[39m#FIX 02-18--------------------------------------------------------------------------------------------------------------------\u001b[39;00m\n\u001b[1;32m    205\u001b[0m \u001b[39m#Need to reflect consistent changes to the aggregation functions applied below\u001b[39;00m\n\u001b[0;32m   (...)\u001b[0m\n\u001b[1;32m    211\u001b[0m \u001b[39m#just country_name\u001b[39;00m\n\u001b[1;32m    212\u001b[0m                 \u001b[39m#table['Included_Countries'] = table['country_id']\u001b[39;00m\n\u001b[1;32m    213\u001b[0m                 table[\u001b[39m'\u001b[39m\u001b[39mScale_ID\u001b[39m\u001b[39m'\u001b[39m] \u001b[39m=\u001b[39m table[\u001b[39m'\u001b[39m\u001b[39mpriogrid_gid\u001b[39m\u001b[39m'\u001b[39m]\n\u001b[0;32m--> 214\u001b[0m                 table[\u001b[39m'\u001b[39m\u001b[39mcountry_id\u001b[39m\u001b[39m'\u001b[39m] \u001b[39m=\u001b[39m table[\u001b[39m'\u001b[39;49m\u001b[39mcountry_id\u001b[39;49m\u001b[39m'\u001b[39;49m]\u001b[39m.\u001b[39mastype(\u001b[39mstr\u001b[39m)\n\u001b[1;32m    216\u001b[0m \u001b[39m#------^is a matter of formatted so field names match what the definition is looking for rather \u001b[39;00m\n\u001b[1;32m    217\u001b[0m \u001b[39m#   than add a series of if statements\u001b[39;00m\n\u001b[1;32m    218\u001b[0m                 year_dictionary \u001b[39m=\u001b[39m setup_DOBY(table, country, recent_or_all)\n",
      "File \u001b[0;32m~/miniforge3/envs/viewser/lib/python3.11/site-packages/pandas/core/frame.py:3807\u001b[0m, in \u001b[0;36mDataFrame.__getitem__\u001b[0;34m(self, key)\u001b[0m\n\u001b[1;32m   3805\u001b[0m \u001b[39mif\u001b[39;00m \u001b[39mself\u001b[39m\u001b[39m.\u001b[39mcolumns\u001b[39m.\u001b[39mnlevels \u001b[39m>\u001b[39m \u001b[39m1\u001b[39m:\n\u001b[1;32m   3806\u001b[0m     \u001b[39mreturn\u001b[39;00m \u001b[39mself\u001b[39m\u001b[39m.\u001b[39m_getitem_multilevel(key)\n\u001b[0;32m-> 3807\u001b[0m indexer \u001b[39m=\u001b[39m \u001b[39mself\u001b[39;49m\u001b[39m.\u001b[39;49mcolumns\u001b[39m.\u001b[39;49mget_loc(key)\n\u001b[1;32m   3808\u001b[0m \u001b[39mif\u001b[39;00m is_integer(indexer):\n\u001b[1;32m   3809\u001b[0m     indexer \u001b[39m=\u001b[39m [indexer]\n",
      "File \u001b[0;32m~/miniforge3/envs/viewser/lib/python3.11/site-packages/pandas/core/indexes/base.py:3804\u001b[0m, in \u001b[0;36mIndex.get_loc\u001b[0;34m(self, key, method, tolerance)\u001b[0m\n\u001b[1;32m   3802\u001b[0m     \u001b[39mreturn\u001b[39;00m \u001b[39mself\u001b[39m\u001b[39m.\u001b[39m_engine\u001b[39m.\u001b[39mget_loc(casted_key)\n\u001b[1;32m   3803\u001b[0m \u001b[39mexcept\u001b[39;00m \u001b[39mKeyError\u001b[39;00m \u001b[39mas\u001b[39;00m err:\n\u001b[0;32m-> 3804\u001b[0m     \u001b[39mraise\u001b[39;00m \u001b[39mKeyError\u001b[39;00m(key) \u001b[39mfrom\u001b[39;00m \u001b[39merr\u001b[39;00m\n\u001b[1;32m   3805\u001b[0m \u001b[39mexcept\u001b[39;00m \u001b[39mTypeError\u001b[39;00m:\n\u001b[1;32m   3806\u001b[0m     \u001b[39m# If we have a listlike key, _check_indexing_error will raise\u001b[39;00m\n\u001b[1;32m   3807\u001b[0m     \u001b[39m#  InvalidIndexError. Otherwise we fall through and re-raise\u001b[39;00m\n\u001b[1;32m   3808\u001b[0m     \u001b[39m#  the TypeError.\u001b[39;00m\n\u001b[1;32m   3809\u001b[0m     \u001b[39mself\u001b[39m\u001b[39m.\u001b[39m_check_indexing_error(key)\n",
      "\u001b[0;31mKeyError\u001b[0m: 'country_id'"
     ]
    }
   ],
   "source": [
    "CM_orPG = key_dropdown.value\n",
    "temporal_resolution = time_widget.value\n",
    "Country = list_dropdown1.value\n",
    "s = list_dropdown2.value\n",
    "rec_or_all = list_dropdown3.value\n",
    "Scale = s + 'x' + s\n",
    "if Scale == '0x0':\n",
    "    Scale = 0\n",
    "\n",
    "Save_timeline='no'\n",
    "#for i in countrylist:\n",
    "x,gis = Empowered_Pantaleon(CM_orPG, df_pg, df_cm, temporal_resolution, Scale, Country, rec_or_all)\n",
    "\n",
    "print(x)\n",
    "Save_for_timeline_generation(Save_timeline, gis, CM_orPG, temporal_resolution, Scale, Country)"
   ]
  }
 ],
 "metadata": {
  "kernelspec": {
   "display_name": "viewser",
   "language": "python",
   "name": "python3"
  },
  "language_info": {
   "codemirror_mode": {
    "name": "ipython",
    "version": 3
   },
   "file_extension": ".py",
   "mimetype": "text/x-python",
   "name": "python",
   "nbconvert_exporter": "python",
   "pygments_lexer": "ipython3",
   "version": "3.11.9"
  }
 },
 "nbformat": 4,
 "nbformat_minor": 2
}
