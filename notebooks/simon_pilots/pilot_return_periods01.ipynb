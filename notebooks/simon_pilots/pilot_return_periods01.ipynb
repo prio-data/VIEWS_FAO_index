{
 "cells": [
  {
   "cell_type": "code",
   "execution_count": 5,
   "metadata": {},
   "outputs": [],
   "source": [
    "import numpy as np\n",
    "import pandas as pd\n",
    "import matplotlib\n",
    "import matplotlib.pyplot as plt\n",
    "import seaborn as sns\n",
    "import os\n",
    "from multiprocessing import Pool\n",
    "from pathlib import Path\n",
    "import sys\n",
    "\n",
    "# set path to the utils\n",
    "notebook_dir = os.getcwd()\n",
    "notebook_name = \"check_generated_data.ipynb\"\n",
    "\n",
    "PATH = Path(notebook_dir) / Path(notebook_name) \n",
    "\n",
    "sys.path.insert(0, str(Path(*[i for i in PATH.parts[:PATH.parts.index(\"VIEWS_FAO_index\")+1]]) / \"src/utils\"))   \n",
    "\n",
    "from set_paths import setup_project_paths\n",
    "setup_project_paths(PATH)\n",
    "\n",
    "from utils_plotting import plot_time_series_data, plot_random_monthly_and_yearly_data\n",
    "from utils_annual_aggregation import aggregate_monthly_to_yearly\n",
    "from utils_feature_eng_per_100k import feature_eng_fat_per_100k\n",
    "#from utils_cumulative_distribution import calculate_global_cumulative_distribution\n",
    "from utils_global_probabilities import calculate_global_probabilities\n",
    "from utils_country_probabilities import calculate_all_country_probabilities\n",
    "from utils_return_periods import calculate_return_periods\n",
    "from utils_check_expected_features import check_expected_features                                                                         "
   ]
  },
  {
   "cell_type": "code",
   "execution_count": 6,
   "metadata": {},
   "outputs": [
    {
     "name": "stdout",
     "output_type": "stream",
     "text": [
      "1.26.4\n",
      "2.2.1\n",
      "3.8.4\n",
      "0.13.2\n"
     ]
    }
   ],
   "source": [
    "print(np.__version__) # 1.26.4 used\n",
    "print(pd.__version__) # 2.2.1 used\n",
    "print(matplotlib.__version__) # 3.8.4 used\n",
    "print(sns.__version__) # 0.13.2 used"
   ]
  },
  {
   "cell_type": "markdown",
   "metadata": {},
   "source": [
    "# Load data"
   ]
  },
  {
   "cell_type": "code",
   "execution_count": 7,
   "metadata": {},
   "outputs": [],
   "source": [
    "def process_dataframes(path_df):\n",
    "    \"\"\"\n",
    "    Process the dataframes by performing feature engineering, calculating probabilities,\n",
    "    and calculating return periods.\n",
    "\n",
    "    Parameters:\n",
    "    path_df (str): Path to the DataFrame pickle file.\n",
    "    columns (list): List of columns to process.\n",
    "\n",
    "    Returns:\n",
    "    tuple: Processed monthly and yearly DataFrames.\n",
    "    \"\"\"\n",
    "    columns = ['sb_best', 'ns_best', 'os_best', 'total_best', 'fatalities_per_100k', 'sb_per_100k', 'ns_per_100k', 'os_per_100k']\n",
    "\n",
    "    df_monthly = pd.read_pickle(path_df)\n",
    "    df_yearly = aggregate_monthly_to_yearly(df_monthly)\n",
    "\n",
    "    # Feature engineering\n",
    "    df_monthly = feature_eng_fat_per_100k(df_monthly)\n",
    "    df_yearly = feature_eng_fat_per_100k(df_yearly)\n",
    "\n",
    "    # Calculate probabilities\n",
    "    for col in columns:\n",
    "        df_monthly = calculate_global_probabilities(df_monthly, col, 'month_id')\n",
    "        df_yearly = calculate_global_probabilities(df_yearly, col, 'year_id')\n",
    "        df_monthly = calculate_all_country_probabilities(df_monthly, col, 'month_id')\n",
    "        df_yearly = calculate_all_country_probabilities(df_yearly, col, 'year_id')\n",
    "\n",
    "    # Calculate return periods\n",
    "    for col in columns:\n",
    "        df_monthly = calculate_return_periods(df_monthly, f'{col}_unit_likelihood', f'{col}_time_unit_likelihood')\n",
    "        df_monthly = calculate_return_periods(df_monthly, f'{col}_unit_likelihood_country', f'{col}_time_unit_likelihood_country')\n",
    "        df_yearly = calculate_return_periods(df_yearly, f'{col}_unit_likelihood', f'{col}_time_unit_likelihood')\n",
    "        df_yearly = calculate_return_periods(df_yearly, f'{col}_unit_likelihood_country', f'{col}_time_unit_likelihood_country')\n",
    "\n",
    "    # Check expected features\n",
    "    check_expected_features(df_monthly)\n",
    "    check_expected_features(df_yearly)\n",
    "\n",
    "    return df_monthly, df_yearly"
   ]
  },
  {
   "cell_type": "code",
   "execution_count": 8,
   "metadata": {},
   "outputs": [
    {
     "name": "stdout",
     "output_type": "stream",
     "text": [
      "Dataframes not processed yet - processing and saving now now\n"
     ]
    },
    {
     "ename": "ValueError",
     "evalue": "The total sum of pop_gpw_sum in the monthly data for year 1989 is not equal to the sum in the yearly data.",
     "output_type": "error",
     "traceback": [
      "\u001b[0;31m---------------------------------------------------------------------------\u001b[0m",
      "\u001b[0;31mValueError\u001b[0m                                Traceback (most recent call last)",
      "Cell \u001b[0;32mIn[8], line 28\u001b[0m\n\u001b[1;32m     25\u001b[0m PATH_df \u001b[38;5;241m=\u001b[39m \u001b[38;5;124m\"\u001b[39m\u001b[38;5;124m/home/simon/Documents/scripts/VIEWS_FAO_index/data/raw_viewser/simon_full_base_01_viewser_df.pkl\u001b[39m\u001b[38;5;124m\"\u001b[39m\n\u001b[1;32m     27\u001b[0m \u001b[38;5;66;03m# Call the function to process the dataframes\u001b[39;00m\n\u001b[0;32m---> 28\u001b[0m df_monthly, df_yearly \u001b[38;5;241m=\u001b[39m \u001b[43mprocess_dataframes\u001b[49m\u001b[43m(\u001b[49m\u001b[43mPATH_df\u001b[49m\u001b[43m)\u001b[49m\n\u001b[1;32m     30\u001b[0m \u001b[38;5;66;03m# pkl file to save the processed dataframes\u001b[39;00m\n\u001b[1;32m     31\u001b[0m df_monthly\u001b[38;5;241m.\u001b[39mto_pickle(\u001b[38;5;124m\"\u001b[39m\u001b[38;5;124m/home/simon/Documents/scripts/VIEWS_FAO_index/data/processed/pilot_return_periods_monthly.pkl\u001b[39m\u001b[38;5;124m\"\u001b[39m)\n",
      "Cell \u001b[0;32mIn[7], line 16\u001b[0m, in \u001b[0;36mprocess_dataframes\u001b[0;34m(path_df)\u001b[0m\n\u001b[1;32m     13\u001b[0m columns \u001b[38;5;241m=\u001b[39m [\u001b[38;5;124m'\u001b[39m\u001b[38;5;124msb_best\u001b[39m\u001b[38;5;124m'\u001b[39m, \u001b[38;5;124m'\u001b[39m\u001b[38;5;124mns_best\u001b[39m\u001b[38;5;124m'\u001b[39m, \u001b[38;5;124m'\u001b[39m\u001b[38;5;124mos_best\u001b[39m\u001b[38;5;124m'\u001b[39m, \u001b[38;5;124m'\u001b[39m\u001b[38;5;124mtotal_best\u001b[39m\u001b[38;5;124m'\u001b[39m, \u001b[38;5;124m'\u001b[39m\u001b[38;5;124mfatalities_per_100k\u001b[39m\u001b[38;5;124m'\u001b[39m, \u001b[38;5;124m'\u001b[39m\u001b[38;5;124msb_per_100k\u001b[39m\u001b[38;5;124m'\u001b[39m, \u001b[38;5;124m'\u001b[39m\u001b[38;5;124mns_per_100k\u001b[39m\u001b[38;5;124m'\u001b[39m, \u001b[38;5;124m'\u001b[39m\u001b[38;5;124mos_per_100k\u001b[39m\u001b[38;5;124m'\u001b[39m]\n\u001b[1;32m     15\u001b[0m df_monthly \u001b[38;5;241m=\u001b[39m pd\u001b[38;5;241m.\u001b[39mread_pickle(path_df)\n\u001b[0;32m---> 16\u001b[0m df_yearly \u001b[38;5;241m=\u001b[39m \u001b[43maggregate_monthly_to_yearly\u001b[49m\u001b[43m(\u001b[49m\u001b[43mdf_monthly\u001b[49m\u001b[43m)\u001b[49m\n\u001b[1;32m     18\u001b[0m \u001b[38;5;66;03m# Feature engineering\u001b[39;00m\n\u001b[1;32m     19\u001b[0m df_monthly \u001b[38;5;241m=\u001b[39m feature_eng_fat_per_100k(df_monthly)\n",
      "File \u001b[0;32m~/Documents/scripts/VIEWS_FAO_index/src/utils/utils_annual_aggregation.py:69\u001b[0m, in \u001b[0;36maggregate_monthly_to_yearly\u001b[0;34m(df)\u001b[0m\n\u001b[1;32m     67\u001b[0m     \u001b[38;5;28;01mfor\u001b[39;00m feature \u001b[38;5;129;01min\u001b[39;00m columns_to_sum:\n\u001b[1;32m     68\u001b[0m         \u001b[38;5;28;01mif\u001b[39;00m df[df[\u001b[38;5;124m'\u001b[39m\u001b[38;5;124myear_id\u001b[39m\u001b[38;5;124m'\u001b[39m] \u001b[38;5;241m==\u001b[39m year][feature]\u001b[38;5;241m.\u001b[39msum() \u001b[38;5;241m!=\u001b[39m df_yearly[df_yearly[\u001b[38;5;124m'\u001b[39m\u001b[38;5;124myear_id\u001b[39m\u001b[38;5;124m'\u001b[39m] \u001b[38;5;241m==\u001b[39m year][feature]\u001b[38;5;241m.\u001b[39msum():\n\u001b[0;32m---> 69\u001b[0m             \u001b[38;5;28;01mraise\u001b[39;00m \u001b[38;5;167;01mValueError\u001b[39;00m(\u001b[38;5;124mf\u001b[39m\u001b[38;5;124m\"\u001b[39m\u001b[38;5;124mThe total sum of \u001b[39m\u001b[38;5;132;01m{\u001b[39;00mfeature\u001b[38;5;132;01m}\u001b[39;00m\u001b[38;5;124m in the monthly data for year \u001b[39m\u001b[38;5;132;01m{\u001b[39;00myear\u001b[38;5;132;01m}\u001b[39;00m\u001b[38;5;124m is not equal to the sum in the yearly data.\u001b[39m\u001b[38;5;124m\"\u001b[39m)\n\u001b[1;32m     71\u001b[0m \u001b[38;5;66;03m# same but over each pg_id:\u001b[39;00m\n\u001b[1;32m     72\u001b[0m \u001b[38;5;28;01mfor\u001b[39;00m pg \u001b[38;5;129;01min\u001b[39;00m df[\u001b[38;5;124m'\u001b[39m\u001b[38;5;124mpg_id\u001b[39m\u001b[38;5;124m'\u001b[39m]\u001b[38;5;241m.\u001b[39munique():\n",
      "\u001b[0;31mValueError\u001b[0m: The total sum of pop_gpw_sum in the monthly data for year 1989 is not equal to the sum in the yearly data."
     ]
    }
   ],
   "source": [
    "# make two sub df that have all the original columns and the ones in the list below\n",
    "minimal_new_features = ['sb_per_100k_unit_return_period_country',\n",
    "                        'sb_per_100k_time_unit_return_period_country',\n",
    "                        'ns_per_100k_unit_return_period_country',\n",
    "                        'ns_per_100k_time_unit_return_period_country',\n",
    "                        'os_per_100k_unit_return_period_country',\n",
    "                        'os_per_100k_time_unit_return_period_country']\n",
    "\n",
    "# check if the dataframes are already processed if they are load them\n",
    "\n",
    "if os.path.exists(\"/home/simon/Documents/scripts/VIEWS_FAO_index/data/processed/pilot_return_periods_monthly.pkl\") and os.path.exists(\"/home/simon/Documents/scripts/VIEWS_FAO_index/data/processed/pilot_return_periods_yearly.pkl\") and os.path.exists(\"/home/simon/Documents/scripts/VIEWS_FAO_index/data/processed/pilot_return_periods_monthly_minimal.pkl\") and os.path.exists(\"/home/simon/Documents/scripts/VIEWS_FAO_index/data/processed/pilot_return_periods_yearly_minimal.pkl\"):\n",
    "\n",
    "    # load the dataframes\n",
    "    df_monthly = pd.read_pickle(\"/home/simon/Documents/scripts/VIEWS_FAO_index/data/processed/pilot_return_periods_monthly.pkl\")\n",
    "    df_yearly = pd.read_pickle(\"/home/simon/Documents/scripts/VIEWS_FAO_index/data/processed/pilot_return_periods_yearly.pkl\")\n",
    "\n",
    "    # and the minimal dataframes\n",
    "    df_monthly_minimal = pd.read_pickle(\"/home/simon/Documents/scripts/VIEWS_FAO_index/data/processed/pilot_return_periods_monthly_minimal.pkl\")\n",
    "    df_yearly_minimal = pd.read_pickle(\"/home/simon/Documents/scripts/VIEWS_FAO_index/data/processed/pilot_return_periods_yearly_minimal.pkl\")\n",
    "\n",
    "else:\n",
    "    print(\"Dataframes not processed yet - processing and saving now now\")\n",
    "\n",
    "    # Define the path and columns\n",
    "    PATH_df = \"/home/simon/Documents/scripts/VIEWS_FAO_index/data/raw_viewser/simon_full_base_01_viewser_df.pkl\"\n",
    "\n",
    "    # Call the function to process the dataframes\n",
    "    df_monthly, df_yearly = process_dataframes(PATH_df)\n",
    "\n",
    "    # pkl file to save the processed dataframes\n",
    "    df_monthly.to_pickle(\"/home/simon/Documents/scripts/VIEWS_FAO_index/data/processed/pilot_return_periods_monthly.pkl\")\n",
    "    df_yearly.to_pickle(\"/home/simon/Documents/scripts/VIEWS_FAO_index/data/processed/pilot_return_periods_yearly.pkl\")\n",
    "\n",
    "    df_monthly_minimal = df_monthly[['col', 'row', 'month_id', 'year_id', 'c_id', 'sb_best', 'ns_best', 'os_best', 'total_best', 'fatalities_per_100k', 'sb_per_100k', 'ns_per_100k', 'os_per_100k'] + minimal_new_features]\n",
    "    df_yearly_minimal = df_yearly[['col', 'row', 'year_id', 'c_id', 'sb_best', 'ns_best', 'os_best', 'total_best', 'fatalities_per_100k', 'sb_per_100k', 'ns_per_100k', 'os_per_100k'] + minimal_new_features]\n",
    "\n",
    "    # pkl file to save the processed dataframes with minimal features\n",
    "    df_monthly_minimal.to_pickle(\"/home/simon/Documents/scripts/VIEWS_FAO_index/data/processed/pilot_return_periods_monthly_minimal.pkl\")\n",
    "    df_yearly_minimal.to_pickle(\"/home/simon/Documents/scripts/VIEWS_FAO_index/data/processed/pilot_return_periods_yearly_minimal.pkl\")"
   ]
  },
  {
   "cell_type": "code",
   "execution_count": null,
   "metadata": {},
   "outputs": [],
   "source": [
    "# check if the row and col have been acidentally summed in the yearly data\n",
    "if df_yearly['row'].max() != df_monthly['row'].max() and df_yearly['col'].max() != df_monthly['col'].max():\n",
    "    print(\"The row and col have been summed in the yearly data\")"
   ]
  },
  {
   "cell_type": "code",
   "execution_count": null,
   "metadata": {},
   "outputs": [],
   "source": [
    "df_yearly[df_yearly['year_id'] == 1994]['sb_best'].max()"
   ]
  },
  {
   "cell_type": "code",
   "execution_count": null,
   "metadata": {},
   "outputs": [],
   "source": [
    "# check that total sum of the feautres are the same in the monthly and yearly data\n",
    "for feature in ['sb_best', 'ns_best', 'os_best', 'total_best', 'fatalities_per_100k', 'sb_per_100k', 'ns_per_100k', 'os_per_100k']:\n",
    "    print(df_yearly[feature].sum() == df_monthly[feature].sum())\n"
   ]
  },
  {
   "cell_type": "code",
   "execution_count": null,
   "metadata": {},
   "outputs": [],
   "source": [
    "plot_random_monthly_and_yearly_data(df_monthly, df_yearly, feature = 'sb_best')"
   ]
  },
  {
   "cell_type": "code",
   "execution_count": null,
   "metadata": {},
   "outputs": [],
   "source": [
    "plot_random_monthly_and_yearly_data(df_monthly, df_yearly, feature = 'sb_per_100k')"
   ]
  },
  {
   "cell_type": "code",
   "execution_count": null,
   "metadata": {},
   "outputs": [],
   "source": [
    "# plot the new global probabilities\n",
    "plot_random_monthly_and_yearly_data(df_monthly, df_yearly, feature = 'sb_per_100k_time_unit_likelihood')\n",
    "plot_random_monthly_and_yearly_data(df_monthly, df_yearly, feature = 'sb_per_100k_unit_likelihood')"
   ]
  },
  {
   "cell_type": "code",
   "execution_count": null,
   "metadata": {},
   "outputs": [],
   "source": [
    "# plot the new country probabilities\n",
    "plot_random_monthly_and_yearly_data(df_monthly, df_yearly, feature = 'sb_per_100k_time_unit_likelihood_country')\n",
    "plot_random_monthly_and_yearly_data(df_monthly, df_yearly, feature = 'sb_per_100k_unit_likelihood_country')"
   ]
  },
  {
   "cell_type": "code",
   "execution_count": null,
   "metadata": {},
   "outputs": [],
   "source": [
    "# some return periods\n",
    "plot_random_monthly_and_yearly_data(df_monthly, df_yearly, feature = 'sb_per_100k_time_unit_return_period')\n",
    "plot_random_monthly_and_yearly_data(df_monthly, df_yearly, feature = 'sb_per_100k_unit_return_period')"
   ]
  },
  {
   "cell_type": "code",
   "execution_count": null,
   "metadata": {},
   "outputs": [],
   "source": [
    "# some return periods at country level\n",
    "plot_random_monthly_and_yearly_data(df_monthly, df_yearly, feature = 'sb_per_100k_time_unit_return_period_country')\n",
    "plot_random_monthly_and_yearly_data(df_monthly, df_yearly, feature = 'sb_per_100k_unit_return_period_country')"
   ]
  },
  {
   "cell_type": "code",
   "execution_count": null,
   "metadata": {},
   "outputs": [],
   "source": [
    "plot_random_monthly_and_yearly_data(df_monthly, df_yearly, feature = 'sb_per_100k_time_unit_return_period_country', year= 1994)"
   ]
  },
  {
   "cell_type": "code",
   "execution_count": null,
   "metadata": {},
   "outputs": [],
   "source": [
    "# plot all the \"minimal features\"\n",
    "\n",
    "for feature in minimal_new_features:\n",
    "    plot_random_monthly_and_yearly_data(df_monthly_minimal, df_yearly_minimal, feature = feature, year= 1994)"
   ]
  },
  {
   "cell_type": "code",
   "execution_count": null,
   "metadata": {},
   "outputs": [],
   "source": [
    "# load the minimal dataframes and check the expected feature agian\n",
    "df_monthly_minimal_test = pd.read_pickle(\"/home/simon/Documents/scripts/VIEWS_FAO_index/data/processed/pilot_return_periods_monthly_minimal.pkl\")\n",
    "df_yearly_minimal_test = pd.read_pickle(\"/home/simon/Documents/scripts/VIEWS_FAO_index/data/processed/pilot_return_periods_yearly_minimal.pkl\")"
   ]
  },
  {
   "cell_type": "code",
   "execution_count": null,
   "metadata": {},
   "outputs": [],
   "source": [
    "# save images from all features in the minimal dataframes given a year = 1914 and lock the month. \n",
    "for feature in minimal_new_features:\n",
    "    plot_random_monthly_and_yearly_data(df_monthly_minimal_test, df_yearly_minimal_test, feature = feature, year= 1994, lock_first_month = True, save_plot = True)"
   ]
  },
  {
   "cell_type": "code",
   "execution_count": null,
   "metadata": {},
   "outputs": [],
   "source": [
    "# try to plot the minimal features - all the minimal features\n",
    "for feature in minimal_new_features:\n",
    "    for year in range(1989, 2023):\n",
    "        plot_random_monthly_and_yearly_data(df_monthly_minimal_test, df_yearly_minimal_test, feature = feature, year= year)\n"
   ]
  },
  {
   "cell_type": "code",
   "execution_count": null,
   "metadata": {},
   "outputs": [],
   "source": [
    "# load save minimal dataframes and check the expected feature agian\n",
    "df_monthly_minimal_test = pd.read_pickle(\"/home/simon/Documents/scripts/VIEWS_FAO_index/data/processed/pilot_return_periods_monthly_minimal.pkl\")\n",
    "df_yearly_minimal_test = pd.read_pickle(\"/home/simon/Documents/scripts/VIEWS_FAO_index/data/processed/pilot_return_periods_yearly_minimal.pkl\")\n",
    "\n",
    "# plot the minimal features - all the minimal features for a given year 1994 and lock the first month\n",
    "for feature in minimal_new_features:\n",
    "    plot_random_monthly_and_yearly_data(df_monthly_minimal_test, df_yearly_minimal_test, feature = feature, year= 1994, lock_first_month = True, save_plot = True)"
   ]
  }
 ],
 "metadata": {
  "kernelspec": {
   "display_name": "base",
   "language": "python",
   "name": "python3"
  },
  "language_info": {
   "codemirror_mode": {
    "name": "ipython",
    "version": 3
   },
   "file_extension": ".py",
   "mimetype": "text/x-python",
   "name": "python",
   "nbconvert_exporter": "python",
   "pygments_lexer": "ipython3",
   "version": "3.10.14"
  }
 },
 "nbformat": 4,
 "nbformat_minor": 2
}
