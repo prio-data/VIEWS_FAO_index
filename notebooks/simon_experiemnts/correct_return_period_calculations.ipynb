{
 "cells": [
  {
   "cell_type": "code",
   "execution_count": 1,
   "metadata": {},
   "outputs": [],
   "source": [
    "import numpy as np\n",
    "import pandas as pd\n",
    "import matplotlib\n",
    "import matplotlib.pyplot as plt\n",
    "from matplotlib.offsetbox import OffsetImage, AnnotationBbox\n",
    "import json\n",
    "\n",
    "import seaborn as sns\n",
    "import os\n",
    "from multiprocessing import Pool\n",
    "from pathlib import Path\n",
    "import sys\n",
    "\n",
    "from fuzzywuzzy import process\n",
    "\n",
    "\n",
    "# set path to the utils\n",
    "notebook_dir = os.getcwd()\n",
    "notebook_name = \"correct_return_periods.ipynb\"\n",
    "\n",
    "PATH = Path(notebook_dir) / Path(notebook_name) \n",
    "\n",
    "sys.path.insert(0, str(Path(*[i for i in PATH.parts[:PATH.parts.index(\"VIEWS_FAO_index\")+1]]) / \"src/utils\"))   \n",
    "\n",
    "from set_paths import setup_project_paths, get_logo_path, get_data_paths, setup_root_paths\n",
    "setup_project_paths(PATH)\n",
    "\n",
    "\n",
    "#from utils_plotting import plot_time_series, plot_random_monthly_and_yearly_data, plot_feature_histograms, plot_contry_period_map\n",
    "from utils_annual_aggregation import aggregate_monthly_to_yearly\n",
    "from utils_feature_eng_per_100k import feature_eng_fat_per_100k\n",
    "from utils_p_i import calculate_p_i\n",
    "from utils_P_i import calculate_P_i\n",
    "\n",
    "#from utils_likelihoods import calculate_likelihood_of_at_least_one_event\n",
    "\n",
    "from utils_return_periods import calculate_return_periods\n",
    "\n",
    "#from utils_global_probabilities import calculate_global_probabilities\n",
    "#from utils_country_probabilities import calculate_all_country_probabilities\n",
    "#from utils_check_expected_features import check_expected_features    \n",
    "from utils_date_index import calculate_date_from_index \n",
    "\n",
    "#from utils_country_id_csv_to_json import country_id_csv_to_json\n",
    "\n",
    "from utils_get_country_names_by_ids import get_country_names_by_ids\n",
    "from utils_get_country_id_by_name import get_country_id_by_name\n",
    "from utils_get_time_period import get_time_period\n",
    "\n",
    "from utils_update_df_with_probabilities_and_return_periods import update_df_with_probabilities_and_return_periods"
   ]
  },
  {
   "cell_type": "code",
   "execution_count": 2,
   "metadata": {},
   "outputs": [
    {
     "name": "stdout",
     "output_type": "stream",
     "text": [
      "1.26.4\n",
      "2.2.1\n",
      "3.8.4\n",
      "0.13.2\n"
     ]
    }
   ],
   "source": [
    "print(np.__version__) # 1.26.4 used\n",
    "print(pd.__version__) # 2.2.1 used\n",
    "print(matplotlib.__version__) # 3.8.4 used\n",
    "print(sns.__version__) # 0.13.2 used"
   ]
  },
  {
   "cell_type": "code",
   "execution_count": 3,
   "metadata": {},
   "outputs": [],
   "source": [
    "PATH_RAW_VIEWSER, PATH_RAW_EXTERNAL, PATH_PROCESSED, PATH_GENERATED = get_data_paths(PATH)"
   ]
  },
  {
   "cell_type": "code",
   "execution_count": 4,
   "metadata": {},
   "outputs": [],
   "source": [
    "# # load the data from pkl\n",
    "# df_monthly = pd.read_pickle(PATH_RAW_VIEWSER / \"simon_full_base_01_viewser_df.pkl\")\n",
    "# \n",
    "# df_yearly = aggregate_monthly_to_yearly(df_monthly)\n",
    "# \n",
    "# # Feature engineering\n",
    "# df_monthly = feature_eng_fat_per_100k(df_monthly)\n",
    "# df_yearly = feature_eng_fat_per_100k(df_yearly)\n",
    "# \n",
    "# # save the data\n",
    "# df_monthly.to_pickle(PATH_PROCESSED / \"df_monthly_new.pkl\")  \n",
    "# df_yearly.to_pickle(PATH_PROCESSED / \"df_yearly_new.pkl\")"
   ]
  },
  {
   "cell_type": "code",
   "execution_count": 5,
   "metadata": {},
   "outputs": [],
   "source": [
    "# load the data\n",
    "df_monthly = pd.read_pickle(PATH_PROCESSED / \"df_monthly_new.pkl\")\n",
    "df_yearly = pd.read_pickle(PATH_PROCESSED / \"df_yearly_new.pkl\")"
   ]
  },
  {
   "cell_type": "code",
   "execution_count": 6,
   "metadata": {},
   "outputs": [],
   "source": [
    "# def get_time_period(df):\n",
    "#     \n",
    "#     if 'month_id' in df.columns:\n",
    "#         return 'month_id'\n",
    "#     \n",
    "#     elif 'year_id' in df.columns:\n",
    "#         return 'year_id'\n",
    "#     \n",
    "#     else:\n",
    "#         print(df.columns)\n",
    "#         #raise ValueError('Time period not found')"
   ]
  },
  {
   "cell_type": "code",
   "execution_count": 7,
   "metadata": {},
   "outputs": [],
   "source": [
    "def plot_features_grid(df, feature, period_range, period_specific_min_max=False):\n",
    "    \"\"\"\n",
    "    \n",
    "    \"\"\"\n",
    "    \n",
    "    features_list = [feature, f'{feature}_p_i', f'{feature}_P_i', f'{feature}_e_i', f'{feature}_E_i']\n",
    "\n",
    "    # check that the feature is present in the df\n",
    "    if not all(feature in df.columns for feature in features_list):\n",
    "        raise ValueError('Feature not found in df')\n",
    "    \n",
    "    # that the feature is not empty\n",
    "    if df[feature].isnull().all():\n",
    "        raise ValueError(f'{feature} is empty')\n",
    "    \n",
    "    #check that the features have more than one unique value\n",
    "    if not all(df[feature].nunique() > 1 for feature in features_list):\n",
    "        raise ValueError('Feature has less than 2 unique values')\n",
    "\n",
    "    fig, axs = plt.subplots(len(period_range), len(features_list), figsize=(25, 5 * len(period_range)))\n",
    "\n",
    "    time_peirod = get_time_period(df)\n",
    "\n",
    "    if time_peirod == 'month_id':\n",
    "        # check that the range is between 100 and 600 or raise an error\n",
    "        min_month_id = df['month_id'].min()\n",
    "        max_month_id = df['month_id'].max()\n",
    "        if not all(min_month_id <= period <= max_month_id for period in period_range):\n",
    "            raise ValueError(f'Monthly time period: Period range should be between {min_month_id} and {max_month_id}')\n",
    "    elif time_peirod == 'year_id':\n",
    "        # check that the range is between 1980 and 2020 or raise an error'\n",
    "        min_year_id = df['year_id'].min()\n",
    "        max_year_id = df['year_id'].max()\n",
    "        if not all(min_year_id <= period <= max_year_id for period in period_range):\n",
    "            raise ValueError(f'Yearly time period: Period range should be between {min_year_id} and {max_year_id}')\n",
    "\n",
    "    for row_idx, period in enumerate(period_range):\n",
    "\n",
    "        for col_idx, feature_name in enumerate(features_list):\n",
    "\n",
    "            # Determine colormap and value range\n",
    "            if 'P_i' in feature_name or 'p_i' in feature_name:\n",
    "                cmap = 'rainbow_r'\n",
    "                vmin = 0\n",
    "                vmax = 1\n",
    "            else:\n",
    "                cmap = 'rainbow'\n",
    "\n",
    "                if period_specific_min_max:\n",
    "              \n",
    "                    # alt where the min and max are period specific\n",
    "                    vmin = df[df[time_peirod] == period][feature_name].min()\n",
    "                    vmax = df[df[time_peirod] == period][feature_name].max()\n",
    "\n",
    "                else:\n",
    "                    # alt where the min and max are global\n",
    "                    vmin = df[feature_name].min()\n",
    "                    vmax = df[feature_name].max()\n",
    "\n",
    "            # Extract the data for the specific month_id\n",
    "            period_data = df[df[time_peirod] == period]\n",
    "\n",
    "            # Calculate the grid size based on min and max row and col values\n",
    "            min_row = int(period_data['row'].min())\n",
    "            max_row = int(period_data['row'].max())\n",
    "            min_col = int(period_data['col'].min())\n",
    "            max_col = int(period_data['col'].max())\n",
    "\n",
    "            # Create the grid with adjusted size\n",
    "            grid_rows = max_row - min_row + 1\n",
    "            grid_cols = max_col - min_col + 1\n",
    "            grid = np.full((grid_rows, grid_cols), np.nan)\n",
    "\n",
    "            # Fill the grid with the feature_name values, adjusting for min_row and min_col\n",
    "            for _, row in period_data.iterrows():\n",
    "                grid[int(row['row']) - min_row, int(row['col']) - min_col] = row[feature_name]\n",
    "\n",
    "            # Plot with imshow\n",
    "            cax = axs[row_idx, col_idx].imshow(grid, cmap=cmap, vmin=vmin, vmax=vmax, origin='lower', aspect='auto', interpolation='none')\n",
    "            fig.colorbar(cax, ax=axs[row_idx, col_idx], orientation='vertical', label=feature_name)\n",
    "\n",
    "    plt.tight_layout()\n",
    "    plt.show()\n",
    "\n",
    "# Example usage:\n",
    "# plot_features_grid(new_df, 'some_feature')"
   ]
  },
  {
   "cell_type": "code",
   "execution_count": 9,
   "metadata": {},
   "outputs": [
    {
     "data": {
      "text/plain": [
       "Index(['pg_id', 'year_id', 'c_id', 'col', 'row', 'sb_best', 'ns_best',\n",
       "       'os_best', 'pop_gpw_sum', 'total_best', 'fatalities_per_100k',\n",
       "       'sb_per_100k', 'ns_per_100k', 'os_per_100k'],\n",
       "      dtype='object')"
      ]
     },
     "execution_count": 9,
     "metadata": {},
     "output_type": "execute_result"
    }
   ],
   "source": [
    "print(df_yearly.columns)\n",
    "print(get_country_names_by_ids([119]))"
   ]
  },
  {
   "cell_type": "code",
   "execution_count": 11,
   "metadata": {},
   "outputs": [
    {
     "name": "stdout",
     "output_type": "stream",
     "text": [
      "Processing country_id: 192 0/85\n",
      "Calculating probabilities and return periods for fatalities_per_100k in c_ids 192\n",
      "Processing country_id: 163 1/85\n",
      "Calculating probabilities and return periods for fatalities_per_100k in c_ids 163\n",
      "Processing country_id: 160 2/85\n",
      "Calculating probabilities and return periods for fatalities_per_100k in c_ids 160\n",
      "Processing country_id: 170 3/85\n",
      "Calculating probabilities and return periods for fatalities_per_100k in c_ids 170\n",
      "Processing country_id: 164 4/85\n",
      "Calculating probabilities and return periods for fatalities_per_100k in c_ids 164\n",
      "Processing country_id: 154 5/85\n",
      "Calculating probabilities and return periods for fatalities_per_100k in c_ids 154\n",
      "Processing country_id: 162 6/85\n",
      "Calculating probabilities and return periods for fatalities_per_100k in c_ids 162\n",
      "Processing country_id: 172 7/85\n",
      "Calculating probabilities and return periods for fatalities_per_100k in c_ids 172\n",
      "Processing country_id: 158 8/85\n",
      "Calculating probabilities and return periods for fatalities_per_100k in c_ids 158\n",
      "Processing country_id: 173 9/85\n",
      "WARNING: fatalities_per_100k in c_ids 173 contains only 0 values - filling the new columns with appropriate values, i.e. 1 for p_i, 1 for P_i, 1 for e_i, 1 for E_i\n",
      "Processing country_id: 165 10/85\n",
      "Calculating probabilities and return periods for fatalities_per_100k in c_ids 165\n",
      "Processing country_id: 157 11/85\n",
      "Calculating probabilities and return periods for fatalities_per_100k in c_ids 157\n",
      "Processing country_id: 161 12/85\n",
      "WARNING: fatalities_per_100k in c_ids 161 contains only 0 values - filling the new columns with appropriate values, i.e. 1 for p_i, 1 for P_i, 1 for e_i, 1 for E_i\n",
      "Processing country_id: 167 13/85\n",
      "Calculating probabilities and return periods for fatalities_per_100k in c_ids 167\n",
      "Processing country_id: 159 14/85\n",
      "Calculating probabilities and return periods for fatalities_per_100k in c_ids 159\n",
      "Processing country_id: 236 15/85\n",
      "Calculating probabilities and return periods for fatalities_per_100k in c_ids 236\n",
      "Processing country_id: 242 16/85\n",
      "Calculating probabilities and return periods for fatalities_per_100k in c_ids 242\n",
      "Processing country_id: 174 17/85\n",
      "WARNING: fatalities_per_100k in c_ids 174 contains only 0 values - filling the new columns with appropriate values, i.e. 1 for p_i, 1 for P_i, 1 for e_i, 1 for E_i\n",
      "Processing country_id: 166 18/85\n",
      "Calculating probabilities and return periods for fatalities_per_100k in c_ids 166\n",
      "Processing country_id: 155 19/85\n",
      "Calculating probabilities and return periods for fatalities_per_100k in c_ids 155\n",
      "Processing country_id: 237 20/85\n",
      "Calculating probabilities and return periods for fatalities_per_100k in c_ids 237\n",
      "Processing country_id: 169 21/85\n",
      "WARNING: fatalities_per_100k in c_ids 169 contains only 0 values - filling the new columns with appropriate values, i.e. 1 for p_i, 1 for P_i, 1 for e_i, 1 for E_i\n",
      "Processing country_id: 156 22/85\n",
      "Calculating probabilities and return periods for fatalities_per_100k in c_ids 156\n",
      "Processing country_id: 120 23/85\n",
      "Calculating probabilities and return periods for fatalities_per_100k in c_ids 120\n",
      "Processing country_id: 235 24/85\n",
      "Calculating probabilities and return periods for fatalities_per_100k in c_ids 235\n",
      "Processing country_id: 80 25/85\n",
      "WARNING: fatalities_per_100k in c_ids 80 contains only 0 values - filling the new columns with appropriate values, i.e. 1 for p_i, 1 for P_i, 1 for e_i, 1 for E_i\n",
      "Processing country_id: 76 26/85\n",
      "WARNING: fatalities_per_100k in c_ids 76 contains only 0 values - filling the new columns with appropriate values, i.e. 1 for p_i, 1 for P_i, 1 for e_i, 1 for E_i\n",
      "Processing country_id: 69 27/85\n",
      "Calculating probabilities and return periods for fatalities_per_100k in c_ids 69\n",
      "Processing country_id: 70 28/85\n",
      "Calculating probabilities and return periods for fatalities_per_100k in c_ids 70\n",
      "Processing country_id: 59 29/85\n",
      "Calculating probabilities and return periods for fatalities_per_100k in c_ids 59\n",
      "Processing country_id: 246 30/85\n",
      "Calculating probabilities and return periods for fatalities_per_100k in c_ids 246\n",
      "Processing country_id: 191 31/85\n",
      "Calculating probabilities and return periods for fatalities_per_100k in c_ids 191\n",
      "Processing country_id: 57 32/85\n",
      "Calculating probabilities and return periods for fatalities_per_100k in c_ids 57\n",
      "Processing country_id: 43 33/85\n",
      "Calculating probabilities and return periods for fatalities_per_100k in c_ids 43\n",
      "Processing country_id: 41 34/85\n",
      "Calculating probabilities and return periods for fatalities_per_100k in c_ids 41\n",
      "Processing country_id: 79 35/85\n",
      "Calculating probabilities and return periods for fatalities_per_100k in c_ids 79\n",
      "Processing country_id: 42 36/85\n",
      "Calculating probabilities and return periods for fatalities_per_100k in c_ids 42\n",
      "Processing country_id: 81 37/85\n",
      "Calculating probabilities and return periods for fatalities_per_100k in c_ids 81\n",
      "Processing country_id: 74 38/85\n",
      "Calculating probabilities and return periods for fatalities_per_100k in c_ids 74\n",
      "Processing country_id: 53 39/85\n",
      "Calculating probabilities and return periods for fatalities_per_100k in c_ids 53\n",
      "Processing country_id: 48 40/85\n",
      "Calculating probabilities and return periods for fatalities_per_100k in c_ids 48\n",
      "Processing country_id: 214 41/85\n",
      "Calculating probabilities and return periods for fatalities_per_100k in c_ids 214\n",
      "Processing country_id: 245 42/85\n",
      "Calculating probabilities and return periods for fatalities_per_100k in c_ids 245\n",
      "Processing country_id: 47 43/85\n",
      "Calculating probabilities and return periods for fatalities_per_100k in c_ids 47\n",
      "Processing country_id: 50 44/85\n",
      "Calculating probabilities and return periods for fatalities_per_100k in c_ids 50\n",
      "Processing country_id: 49 45/85\n",
      "Calculating probabilities and return periods for fatalities_per_100k in c_ids 49\n",
      "Processing country_id: 55 46/85\n",
      "Calculating probabilities and return periods for fatalities_per_100k in c_ids 55\n",
      "Processing country_id: 52 47/85\n",
      "Calculating probabilities and return periods for fatalities_per_100k in c_ids 52\n",
      "Processing country_id: 78 48/85\n",
      "Calculating probabilities and return periods for fatalities_per_100k in c_ids 78\n",
      "Processing country_id: 197 49/85\n",
      "WARNING: fatalities_per_100k in c_ids 197 contains only 0 values - filling the new columns with appropriate values, i.e. 1 for p_i, 1 for P_i, 1 for e_i, 1 for E_i\n",
      "Processing country_id: 240 50/85\n",
      "Calculating probabilities and return periods for fatalities_per_100k in c_ids 240\n",
      "Processing country_id: 124 51/85\n",
      "Calculating probabilities and return periods for fatalities_per_100k in c_ids 124\n",
      "Processing country_id: 56 52/85\n",
      "Calculating probabilities and return periods for fatalities_per_100k in c_ids 56\n",
      "Processing country_id: 54 53/85\n",
      "Calculating probabilities and return periods for fatalities_per_100k in c_ids 54\n",
      "Processing country_id: 196 54/85\n",
      "WARNING: fatalities_per_100k in c_ids 196 contains only 0 values - filling the new columns with appropriate values, i.e. 1 for p_i, 1 for P_i, 1 for e_i, 1 for E_i\n",
      "Processing country_id: 40 55/85\n",
      "WARNING: fatalities_per_100k in c_ids 40 contains only 0 values - filling the new columns with appropriate values, i.e. 1 for p_i, 1 for P_i, 1 for e_i, 1 for E_i\n",
      "Processing country_id: 244 56/85\n",
      "Calculating probabilities and return periods for fatalities_per_100k in c_ids 244\n",
      "Processing country_id: 239 57/85\n",
      "Calculating probabilities and return periods for fatalities_per_100k in c_ids 239\n",
      "Processing country_id: 131 58/85\n",
      "Calculating probabilities and return periods for fatalities_per_100k in c_ids 131\n",
      "Processing country_id: 119 59/85\n",
      "WARNING: fatalities_per_100k in c_ids 119 contains only 0 values - filling the new columns with appropriate values, i.e. 1 for p_i, 1 for P_i, 1 for e_i, 1 for E_i\n",
      "Processing country_id: 213 60/85\n",
      "Calculating probabilities and return periods for fatalities_per_100k in c_ids 213\n",
      "Processing country_id: 67 61/85\n",
      "Calculating probabilities and return periods for fatalities_per_100k in c_ids 67\n",
      "Processing country_id: 243 62/85\n",
      "Calculating probabilities and return periods for fatalities_per_100k in c_ids 243\n",
      "Processing country_id: 222 63/85\n",
      "Calculating probabilities and return periods for fatalities_per_100k in c_ids 222\n",
      "Processing country_id: 132 64/85\n",
      "Calculating probabilities and return periods for fatalities_per_100k in c_ids 132\n",
      "Processing country_id: 130 65/85\n",
      "Calculating probabilities and return periods for fatalities_per_100k in c_ids 130\n",
      "Processing country_id: 128 66/85\n",
      "Calculating probabilities and return periods for fatalities_per_100k in c_ids 128\n",
      "Processing country_id: 136 67/85\n",
      "Calculating probabilities and return periods for fatalities_per_100k in c_ids 136\n",
      "Processing country_id: 127 68/85\n",
      "Calculating probabilities and return periods for fatalities_per_100k in c_ids 127\n",
      "Error with 127: Min p_i value not above 0. Minimum value: 0.02857142857142857\n",
      "Processing country_id: 129 69/85\n",
      "Calculating probabilities and return periods for fatalities_per_100k in c_ids 129\n",
      "Processing country_id: 62 70/85\n",
      "Calculating probabilities and return periods for fatalities_per_100k in c_ids 62\n",
      "Processing country_id: 60 71/85\n",
      "Calculating probabilities and return periods for fatalities_per_100k in c_ids 60\n",
      "Processing country_id: 133 72/85\n",
      "Calculating probabilities and return periods for fatalities_per_100k in c_ids 133\n",
      "Processing country_id: 218 73/85\n",
      "Calculating probabilities and return periods for fatalities_per_100k in c_ids 218\n",
      "Processing country_id: 73 74/85\n",
      "Calculating probabilities and return periods for fatalities_per_100k in c_ids 73\n",
      "Processing country_id: 220 75/85\n",
      "Calculating probabilities and return periods for fatalities_per_100k in c_ids 220\n",
      "Processing country_id: 94 76/85\n",
      "Calculating probabilities and return periods for fatalities_per_100k in c_ids 94\n",
      "Processing country_id: 96 77/85\n",
      "Calculating probabilities and return periods for fatalities_per_100k in c_ids 96\n",
      "Processing country_id: 189 78/85\n",
      "Calculating probabilities and return periods for fatalities_per_100k in c_ids 189\n",
      "Error with 189: Min p_i value not above 0. Minimum value: 0.010416666666666666\n",
      "Processing country_id: 122 79/85\n",
      "WARNING: fatalities_per_100k in c_ids 122 contains only 0 values - filling the new columns with appropriate values, i.e. 1 for p_i, 1 for P_i, 1 for e_i, 1 for E_i\n",
      "Processing country_id: 93 80/85\n",
      "WARNING: fatalities_per_100k in c_ids 93 contains only 0 values - filling the new columns with appropriate values, i.e. 1 for p_i, 1 for P_i, 1 for e_i, 1 for E_i\n",
      "Processing country_id: 126 81/85\n",
      "Calculating probabilities and return periods for fatalities_per_100k in c_ids 126\n",
      "Processing country_id: 125 82/85\n",
      "Calculating probabilities and return periods for fatalities_per_100k in c_ids 125\n",
      "Processing country_id: 92 83/85\n",
      "Calculating probabilities and return periods for fatalities_per_100k in c_ids 92\n",
      "Processing country_id: 89 84/85\n",
      "WARNING: fatalities_per_100k in c_ids 89 contains only 0 values - filling the new columns with appropriate values, i.e. 1 for p_i, 1 for P_i, 1 for e_i, 1 for E_i\n"
     ]
    }
   ],
   "source": [
    "# okay lets try and loop over all the countries and then merge the dataframes. Yearly data only for now\n",
    "feature = 'fatalities_per_100k'\n",
    "\n",
    "unique_country_ids = df_yearly['c_id'].unique()\n",
    "\n",
    "# create an empty dataframe to store the results\n",
    "df_yearly_global_country_level = pd.DataFrame()\n",
    "\n",
    "for i, country_id in enumerate(unique_country_ids):\n",
    "    print(f'Processing country_id: {country_id} {i}/{len(unique_country_ids)}') #, country_name: {get_country_names_by_ids([country_id])}')\n",
    "\n",
    "    try:\n",
    "        new_df_yearly_country = update_df_with_probabilities_and_return_periods(df_yearly, feature, 'c_ids', country_id)\n",
    "        df_yearly_global_country_level = pd.concat([df_yearly_global_country_level, new_df_yearly_country])\n",
    "\n",
    "    except Exception as e:\n",
    "        print(f'Error with {country_id}: {e}') #, country_name: {get_country_names_by_ids([country_id])}. Skipping...')\n"
   ]
  },
  {
   "cell_type": "code",
   "execution_count": 13,
   "metadata": {},
   "outputs": [
    {
     "data": {
      "text/html": [
       "<div>\n",
       "<style scoped>\n",
       "    .dataframe tbody tr th:only-of-type {\n",
       "        vertical-align: middle;\n",
       "    }\n",
       "\n",
       "    .dataframe tbody tr th {\n",
       "        vertical-align: top;\n",
       "    }\n",
       "\n",
       "    .dataframe thead th {\n",
       "        text-align: right;\n",
       "    }\n",
       "</style>\n",
       "<table border=\"1\" class=\"dataframe\">\n",
       "  <thead>\n",
       "    <tr style=\"text-align: right;\">\n",
       "      <th></th>\n",
       "      <th>pg_id</th>\n",
       "      <th>year_id</th>\n",
       "      <th>c_id</th>\n",
       "      <th>col</th>\n",
       "      <th>row</th>\n",
       "      <th>sb_best</th>\n",
       "      <th>ns_best</th>\n",
       "      <th>os_best</th>\n",
       "      <th>pop_gpw_sum</th>\n",
       "      <th>total_best</th>\n",
       "      <th>fatalities_per_100k</th>\n",
       "      <th>sb_per_100k</th>\n",
       "      <th>ns_per_100k</th>\n",
       "      <th>os_per_100k</th>\n",
       "      <th>fatalities_per_100k_value_count</th>\n",
       "      <th>fatalities_per_100k_p_i</th>\n",
       "      <th>fatalities_per_100k_P_i</th>\n",
       "      <th>fatalities_per_100k_e_i</th>\n",
       "      <th>fatalities_per_100k_E_i</th>\n",
       "    </tr>\n",
       "  </thead>\n",
       "  <tbody>\n",
       "    <tr>\n",
       "      <th>0</th>\n",
       "      <td>62356</td>\n",
       "      <td>1989</td>\n",
       "      <td>192</td>\n",
       "      <td>436</td>\n",
       "      <td>87</td>\n",
       "      <td>0.0</td>\n",
       "      <td>0.0</td>\n",
       "      <td>0.0</td>\n",
       "      <td>0.000000</td>\n",
       "      <td>0.0</td>\n",
       "      <td>0.0</td>\n",
       "      <td>0.0</td>\n",
       "      <td>0.0</td>\n",
       "      <td>0.0</td>\n",
       "      <td>1475</td>\n",
       "      <td>1.0</td>\n",
       "      <td>1.0</td>\n",
       "      <td>1.0</td>\n",
       "      <td>1.0</td>\n",
       "    </tr>\n",
       "    <tr>\n",
       "      <th>1</th>\n",
       "      <td>62356</td>\n",
       "      <td>1990</td>\n",
       "      <td>192</td>\n",
       "      <td>436</td>\n",
       "      <td>87</td>\n",
       "      <td>0.0</td>\n",
       "      <td>0.0</td>\n",
       "      <td>0.0</td>\n",
       "      <td>0.000000</td>\n",
       "      <td>0.0</td>\n",
       "      <td>0.0</td>\n",
       "      <td>0.0</td>\n",
       "      <td>0.0</td>\n",
       "      <td>0.0</td>\n",
       "      <td>1475</td>\n",
       "      <td>1.0</td>\n",
       "      <td>1.0</td>\n",
       "      <td>1.0</td>\n",
       "      <td>1.0</td>\n",
       "    </tr>\n",
       "    <tr>\n",
       "      <th>2</th>\n",
       "      <td>79599</td>\n",
       "      <td>1989</td>\n",
       "      <td>192</td>\n",
       "      <td>399</td>\n",
       "      <td>111</td>\n",
       "      <td>0.0</td>\n",
       "      <td>0.0</td>\n",
       "      <td>0.0</td>\n",
       "      <td>46681.092773</td>\n",
       "      <td>0.0</td>\n",
       "      <td>0.0</td>\n",
       "      <td>0.0</td>\n",
       "      <td>0.0</td>\n",
       "      <td>0.0</td>\n",
       "      <td>1475</td>\n",
       "      <td>1.0</td>\n",
       "      <td>1.0</td>\n",
       "      <td>1.0</td>\n",
       "      <td>1.0</td>\n",
       "    </tr>\n",
       "    <tr>\n",
       "      <th>3</th>\n",
       "      <td>79599</td>\n",
       "      <td>1990</td>\n",
       "      <td>192</td>\n",
       "      <td>399</td>\n",
       "      <td>111</td>\n",
       "      <td>0.0</td>\n",
       "      <td>0.0</td>\n",
       "      <td>0.0</td>\n",
       "      <td>46681.092773</td>\n",
       "      <td>0.0</td>\n",
       "      <td>0.0</td>\n",
       "      <td>0.0</td>\n",
       "      <td>0.0</td>\n",
       "      <td>0.0</td>\n",
       "      <td>1475</td>\n",
       "      <td>1.0</td>\n",
       "      <td>1.0</td>\n",
       "      <td>1.0</td>\n",
       "      <td>1.0</td>\n",
       "    </tr>\n",
       "    <tr>\n",
       "      <th>4</th>\n",
       "      <td>79600</td>\n",
       "      <td>1989</td>\n",
       "      <td>192</td>\n",
       "      <td>400</td>\n",
       "      <td>111</td>\n",
       "      <td>0.0</td>\n",
       "      <td>0.0</td>\n",
       "      <td>0.0</td>\n",
       "      <td>29428.992188</td>\n",
       "      <td>0.0</td>\n",
       "      <td>0.0</td>\n",
       "      <td>0.0</td>\n",
       "      <td>0.0</td>\n",
       "      <td>0.0</td>\n",
       "      <td>1475</td>\n",
       "      <td>1.0</td>\n",
       "      <td>1.0</td>\n",
       "      <td>1.0</td>\n",
       "      <td>1.0</td>\n",
       "    </tr>\n",
       "  </tbody>\n",
       "</table>\n",
       "</div>"
      ],
      "text/plain": [
       "   pg_id  year_id  c_id  col  row  sb_best  ns_best  os_best   pop_gpw_sum  \\\n",
       "0  62356     1989   192  436   87      0.0      0.0      0.0      0.000000   \n",
       "1  62356     1990   192  436   87      0.0      0.0      0.0      0.000000   \n",
       "2  79599     1989   192  399  111      0.0      0.0      0.0  46681.092773   \n",
       "3  79599     1990   192  399  111      0.0      0.0      0.0  46681.092773   \n",
       "4  79600     1989   192  400  111      0.0      0.0      0.0  29428.992188   \n",
       "\n",
       "   total_best  fatalities_per_100k  sb_per_100k  ns_per_100k  os_per_100k  \\\n",
       "0         0.0                  0.0          0.0          0.0          0.0   \n",
       "1         0.0                  0.0          0.0          0.0          0.0   \n",
       "2         0.0                  0.0          0.0          0.0          0.0   \n",
       "3         0.0                  0.0          0.0          0.0          0.0   \n",
       "4         0.0                  0.0          0.0          0.0          0.0   \n",
       "\n",
       "   fatalities_per_100k_value_count  fatalities_per_100k_p_i  \\\n",
       "0                             1475                      1.0   \n",
       "1                             1475                      1.0   \n",
       "2                             1475                      1.0   \n",
       "3                             1475                      1.0   \n",
       "4                             1475                      1.0   \n",
       "\n",
       "   fatalities_per_100k_P_i  fatalities_per_100k_e_i  fatalities_per_100k_E_i  \n",
       "0                      1.0                      1.0                      1.0  \n",
       "1                      1.0                      1.0                      1.0  \n",
       "2                      1.0                      1.0                      1.0  \n",
       "3                      1.0                      1.0                      1.0  \n",
       "4                      1.0                      1.0                      1.0  "
      ]
     },
     "execution_count": 13,
     "metadata": {},
     "output_type": "execute_result"
    }
   ],
   "source": [
    "df_yearly_global_country_level.head()"
   ]
  },
  {
   "cell_type": "markdown",
   "metadata": {},
   "source": [
    "# add b_i and B_i then plots"
   ]
  },
  {
   "cell_type": "code",
   "execution_count": 32,
   "metadata": {},
   "outputs": [],
   "source": [
    "def bin_series(series: pd.Series, bins: list) -> pd.Series:\n",
    "    \"\"\"\n",
    "    Bins a pandas Series based on specified lower bounds.\n",
    "\n",
    "    Parameters:\n",
    "    ----------\n",
    "    series : pd.Series\n",
    "        The series containing the values to be binned.\n",
    "    bins : list\n",
    "        A list of lower bounds defining the bins. The last bin will automatically extend to infinity.\n",
    "\n",
    "    Returns:\n",
    "    -------\n",
    "    pd.Series\n",
    "        A new Series with values binned according to the specified intervals.\n",
    "\n",
    "    Example:\n",
    "    -------\n",
    "    >>> s = pd.Series([1, 2, 3, 5, 7, 10, 15, 25, 35])\n",
    "    >>> bins = [1, 2, 5, 10, 30]\n",
    "    >>> bin_series(s, bins)\n",
    "    0     1\n",
    "    1     2\n",
    "    2     2\n",
    "    3     5\n",
    "    4     5\n",
    "    5    10\n",
    "    6    10\n",
    "    7    10\n",
    "    8    30\n",
    "    dtype: int64\n",
    "    \"\"\"\n",
    "\n",
    "    # Extend bins to infinity\n",
    "    extended_bins = bins + [np.inf]\n",
    "\n",
    "    # Use the lower bounds as labels\n",
    "    labels = bins\n",
    "\n",
    "    # Bin the series\n",
    "    binned_series = pd.cut(series, bins=extended_bins, labels=labels, right=False, include_lowest=True)\n",
    "\n",
    "    return binned_series\n"
   ]
  },
  {
   "cell_type": "code",
   "execution_count": 33,
   "metadata": {},
   "outputs": [
    {
     "data": {
      "text/plain": [
       "0      1\n",
       "1      1\n",
       "2      1\n",
       "3      1\n",
       "4      1\n",
       "      ..\n",
       "135    1\n",
       "136    1\n",
       "137    1\n",
       "138    1\n",
       "139    1\n",
       "Name: fatalities_per_100k_e_i, Length: 458719, dtype: category\n",
       "Categories (8, int64): [1 < 3 < 5 < 10 < 15 < 20 < 25 < 30]"
      ]
     },
     "execution_count": 33,
     "metadata": {},
     "output_type": "execute_result"
    }
   ],
   "source": [
    "bin_list = [1, 3, 5, 10, 15, 20, 25, 30] # then also one for months... \n",
    "b_i = bin_series(df_yearly_global_country_level[f'{feature}_e_i'], bin_list)\n",
    "b_i"
   ]
  },
  {
   "cell_type": "code",
   "execution_count": 34,
   "metadata": {},
   "outputs": [
    {
     "data": {
      "text/plain": [
       "0      1\n",
       "1      1\n",
       "2      1\n",
       "3      1\n",
       "4      1\n",
       "      ..\n",
       "135    1\n",
       "136    1\n",
       "137    1\n",
       "138    1\n",
       "139    1\n",
       "Name: fatalities_per_100k_e_i, Length: 458719, dtype: category\n",
       "Categories (8, int64): [1 < 3 < 5 < 10 < 15 < 20 < 25 < 30]"
      ]
     },
     "execution_count": 34,
     "metadata": {},
     "output_type": "execute_result"
    }
   ],
   "source": [
    "b_i"
   ]
  },
  {
   "cell_type": "code",
   "execution_count": 35,
   "metadata": {},
   "outputs": [
    {
     "data": {
      "image/png": "[encoded data removed]",
      "text/plain": [
       "<Figure size 640x480 with 1 Axes>"
      ]
     },
     "metadata": {},
     "output_type": "display_data"
    }
   ],
   "source": [
    "plt.hist(b_i, bins=10)\n",
    "plt.show()"
   ]
  },
  {
   "cell_type": "markdown",
   "metadata": {},
   "source": [
    "so add b_i and B_i to the columns and then adapt the plot - move the binnign function to a script and then we are good. "
   ]
  },
  {
   "cell_type": "code",
   "execution_count": null,
   "metadata": {},
   "outputs": [],
   "source": []
  },
  {
   "cell_type": "code",
   "execution_count": null,
   "metadata": {},
   "outputs": [],
   "source": []
  },
  {
   "cell_type": "code",
   "execution_count": null,
   "metadata": {},
   "outputs": [],
   "source": []
  },
  {
   "cell_type": "code",
   "execution_count": null,
   "metadata": {},
   "outputs": [],
   "source": [
    "all_years = df_yearly_global_country_level['year_id'].unique()\n",
    "plot_features_grid(df_yearly_global_country_level, feature, all_years)\n"
   ]
  },
  {
   "cell_type": "code",
   "execution_count": null,
   "metadata": {},
   "outputs": [],
   "source": [
    "# plot one country\n",
    "country_id = 50\n",
    "feature = 'fatalities_per_100k'\n",
    "all_years = df_yearly_global_country_level['year_id'].unique()\n",
    "\n",
    "plot_features_grid(df_yearly_global_country_level[df_yearly_global_country_level['c_id'] == country_id], feature, all_years)"
   ]
  },
  {
   "cell_type": "code",
   "execution_count": null,
   "metadata": {},
   "outputs": [],
   "source": []
  },
  {
   "cell_type": "code",
   "execution_count": null,
   "metadata": {},
   "outputs": [],
   "source": []
  },
  {
   "cell_type": "code",
   "execution_count": null,
   "metadata": {},
   "outputs": [],
   "source": []
  },
  {
   "cell_type": "code",
   "execution_count": null,
   "metadata": {},
   "outputs": [],
   "source": []
  },
  {
   "cell_type": "code",
   "execution_count": null,
   "metadata": {},
   "outputs": [],
   "source": []
  },
  {
   "cell_type": "code",
   "execution_count": null,
   "metadata": {},
   "outputs": [],
   "source": [
    "new_df_monthly = update_df_with_probabilities_and_return_periods(df_monthly, feature, region_id_type, region_id)\n",
    "new_df_yearly = update_df_with_probabilities_and_return_periods(df_yearly, feature, region_id_type, region_id)"
   ]
  },
  {
   "cell_type": "code",
   "execution_count": null,
   "metadata": {},
   "outputs": [],
   "source": [
    "new_df_yearly.describe()"
   ]
  },
  {
   "cell_type": "code",
   "execution_count": null,
   "metadata": {},
   "outputs": [],
   "source": [
    "# try with a country\n",
    "country_name = 'Mali'\n",
    "country_id = get_country_id_by_name(country_name)\n",
    "print(country_id)\n",
    "\n",
    "country_id = 50\n",
    "region_id_type = 'c_ids' # pg_ids, c_ids, or global\n",
    "\n",
    "new_df_monthly_mali = update_df_with_probabilities_and_return_periods(df_monthly, feature, region_id_type, country_id)\n",
    "new_df_yearly_mali = update_df_with_probabilities_and_return_periods(df_yearly, feature, region_id_type, country_id)\n",
    "\n",
    "new_df_monthly_mali.describe()\n",
    "new_df_yearly_mali.describe()"
   ]
  },
  {
   "cell_type": "code",
   "execution_count": null,
   "metadata": {},
   "outputs": [],
   "source": []
  },
  {
   "cell_type": "code",
   "execution_count": null,
   "metadata": {},
   "outputs": [],
   "source": [
    "new_df_monthly_mali['month_id'].max()"
   ]
  },
  {
   "cell_type": "code",
   "execution_count": null,
   "metadata": {},
   "outputs": [],
   "source": [
    "# check wivh month id have the event with the higsest E_i\n",
    "new_df_monthly_mali[new_df_monthly_mali['fatalities_per_100k_E_i'] == new_df_monthly_mali['fatalities_per_100k_E_i'].max()]['month_id']"
   ]
  },
  {
   "cell_type": "code",
   "execution_count": null,
   "metadata": {},
   "outputs": [],
   "source": [
    "new_df_yearly_mali"
   ]
  },
  {
   "cell_type": "code",
   "execution_count": null,
   "metadata": {},
   "outputs": [],
   "source": [
    "plot_features_grid(new_df_yearly_mali, feature, period_range = np.arange(2020, 2024))"
   ]
  },
  {
   "cell_type": "code",
   "execution_count": null,
   "metadata": {},
   "outputs": [],
   "source": [
    "# try with rwanda\n",
    "country_name = 'Rwanda'\n",
    "country_id = get_country_id_by_name(country_name)\n",
    "print(country_id)\n",
    "country_id = 156\n",
    "\n",
    "new_df_monthly_rwanda = update_df_with_probabilities_and_return_periods(df_monthly, feature, region_id_type, country_id)\n",
    "new_df_yearly_rwanda = update_df_with_probabilities_and_return_periods(df_yearly, feature, region_id_type, country_id)\n"
   ]
  },
  {
   "cell_type": "code",
   "execution_count": null,
   "metadata": {},
   "outputs": [],
   "source": [
    "plot_features_grid(new_df_yearly_rwanda, feature, period_range = np.arange(1992, 1996))"
   ]
  },
  {
   "cell_type": "code",
   "execution_count": null,
   "metadata": {},
   "outputs": [],
   "source": [
    "# what months see the highest E_i\n",
    "high_month = new_df_monthly_rwanda[new_df_monthly_rwanda['fatalities_per_100k_E_i'] == new_df_monthly_rwanda['fatalities_per_100k_E_i'].max()]['month_id'].values[0]\n",
    "print(high_month)\n",
    "print(calculate_date_from_index(high_month))\n",
    "\n",
    "#lest try ranwda with the monthly data\n",
    "plot_features_grid(new_df_monthly_rwanda, feature, period_range = np.arange(high_month-5, high_month+5))"
   ]
  },
  {
   "cell_type": "code",
   "execution_count": null,
   "metadata": {},
   "outputs": [],
   "source": [
    "# try \"global\" yearly 1992-1996\n",
    "region_id_type = 'global'\n",
    "region_id = None\n",
    "\n",
    "new_df_monthly_global = update_df_with_probabilities_and_return_periods(df_monthly, feature, region_id_type, region_id)\n",
    "new_df_yearly_global = update_df_with_probabilities_and_return_periods(df_yearly, feature, region_id_type, region_id)\n",
    "\n",
    "plot_features_grid(new_df_yearly_global, feature, period_range = np.arange(1991, 2024))"
   ]
  },
  {
   "cell_type": "code",
   "execution_count": null,
   "metadata": {},
   "outputs": [],
   "source": [
    "get_country_names_by_ids([50])"
   ]
  },
  {
   "cell_type": "code",
   "execution_count": null,
   "metadata": {},
   "outputs": [],
   "source": [
    "# okay lets try and loop over all the countries and then merge the dataframes. Yearly data only for now\n",
    "\n",
    "unique_country_ids = df_yearly['c_id'].unique()\n",
    "\n",
    "# create an empty dataframe to store the results\n",
    "df_yearly_global_country_level = pd.DataFrame()\n",
    "\n",
    "for country_id in unique_country_ids:\n",
    "    print(f'Processing country_id: {country_id}') #, country_name: {get_country_names_by_ids([country_id])}')\n",
    "\n",
    "    try:\n",
    "        new_df_yearly_country = update_df_with_probabilities_and_return_periods(df_yearly, feature, 'c_ids', country_id)\n",
    "        df_yearly_global_country_level = pd.concat([df_yearly_global_country_level, new_df_yearly_country])\n",
    "\n",
    "    except Exception as e:\n",
    "        print(f'Error with {country_id}: {e}') #, country_name: {get_country_names_by_ids([country_id])}. Skipping...')\n",
    "\n"
   ]
  },
  {
   "cell_type": "code",
   "execution_count": null,
   "metadata": {},
   "outputs": [],
   "source": [
    "df_yearly_global_country_level.describe()"
   ]
  },
  {
   "cell_type": "code",
   "execution_count": null,
   "metadata": {},
   "outputs": [],
   "source": [
    "# now plot all the years for the whole world\n",
    "plot_features_grid(df_yearly_global_country_level, feature, period_range = np.arange(1991, 2024))"
   ]
  },
  {
   "cell_type": "code",
   "execution_count": null,
   "metadata": {},
   "outputs": [],
   "source": [
    "get_country_id_by_name('Malawi')"
   ]
  },
  {
   "cell_type": "code",
   "execution_count": null,
   "metadata": {},
   "outputs": [],
   "source": [
    "df_yearly[df_yearly['c_id'] == 161].describe()"
   ]
  },
  {
   "cell_type": "code",
   "execution_count": null,
   "metadata": {},
   "outputs": [],
   "source": []
  },
  {
   "cell_type": "code",
   "execution_count": null,
   "metadata": {},
   "outputs": [],
   "source": []
  },
  {
   "cell_type": "code",
   "execution_count": null,
   "metadata": {},
   "outputs": [],
   "source": []
  },
  {
   "cell_type": "code",
   "execution_count": null,
   "metadata": {},
   "outputs": [],
   "source": []
  },
  {
   "cell_type": "code",
   "execution_count": null,
   "metadata": {},
   "outputs": [],
   "source": []
  },
  {
   "cell_type": "code",
   "execution_count": null,
   "metadata": {},
   "outputs": [],
   "source": []
  },
  {
   "cell_type": "code",
   "execution_count": null,
   "metadata": {},
   "outputs": [],
   "source": []
  }
 ],
 "metadata": {
  "kernelspec": {
   "display_name": "base",
   "language": "python",
   "name": "python3"
  },
  "language_info": {
   "codemirror_mode": {
    "name": "ipython",
    "version": 3
   },
   "file_extension": ".py",
   "mimetype": "text/x-python",
   "name": "python",
   "nbconvert_exporter": "python",
   "pygments_lexer": "ipython3",
   "version": "3.10.14"
  }
 },
 "nbformat": 4,
 "nbformat_minor": 2
}
