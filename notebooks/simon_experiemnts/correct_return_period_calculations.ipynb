{
 "cells": [
  {
   "cell_type": "code",
   "execution_count": 1,
   "metadata": {},
   "outputs": [],
   "source": [
    "import numpy as np\n",
    "import pandas as pd\n",
    "import matplotlib\n",
    "import matplotlib.pyplot as plt\n",
    "from matplotlib.offsetbox import OffsetImage, AnnotationBbox\n",
    "import json\n",
    "\n",
    "import seaborn as sns\n",
    "import os\n",
    "from multiprocessing import Pool\n",
    "from pathlib import Path\n",
    "import sys\n",
    "\n",
    "from fuzzywuzzy import process\n",
    "\n",
    "\n",
    "# set path to the utils\n",
    "notebook_dir = os.getcwd()\n",
    "notebook_name = \"correct_return_periods.ipynb\"\n",
    "\n",
    "PATH = Path(notebook_dir) / Path(notebook_name) \n",
    "\n",
    "sys.path.insert(0, str(Path(*[i for i in PATH.parts[:PATH.parts.index(\"VIEWS_FAO_index\")+1]]) / \"src/utils\"))   \n",
    "\n",
    "from set_paths import setup_project_paths, get_logo_path, get_data_paths, setup_root_paths\n",
    "setup_project_paths(PATH)\n",
    "\n",
    "from utils_cumulative_distribution import calculate_cumulative_distribution\n",
    "\n",
    "#from utils_plotting import plot_time_series, plot_random_monthly_and_yearly_data, plot_feature_histograms, plot_contry_period_map\n",
    "from utils_annual_aggregation import aggregate_monthly_to_yearly\n",
    "from utils_feature_eng_per_100k import feature_eng_fat_per_100k\n",
    "from utils_cumulative_distribution import calculate_cumulative_distribution\n",
    "from utils_likelihoods import calculate_likelihood_of_at_least_one_event\n",
    "\n",
    "from utils_return_periods import calculate_return_periods\n",
    "\n",
    "#from utils_global_probabilities import calculate_global_probabilities\n",
    "#from utils_country_probabilities import calculate_all_country_probabilities\n",
    "#from utils_check_expected_features import check_expected_features    \n",
    "#from utils_date_index import calculate_date_from_index \n",
    "#from utils_country_id_csv_to_json import country_id_csv_to_json\n",
    "#from utils_get_country_names_by_ids import get_country_names_by_ids\n",
    "#from utils_get_country_id_by_name import get_country_id_by_name"
   ]
  },
  {
   "cell_type": "code",
   "execution_count": 2,
   "metadata": {},
   "outputs": [
    {
     "name": "stdout",
     "output_type": "stream",
     "text": [
      "1.26.4\n",
      "2.2.1\n",
      "3.8.4\n",
      "0.13.2\n"
     ]
    }
   ],
   "source": [
    "print(np.__version__) # 1.26.4 used\n",
    "print(pd.__version__) # 2.2.1 used\n",
    "print(matplotlib.__version__) # 3.8.4 used\n",
    "print(sns.__version__) # 0.13.2 used"
   ]
  },
  {
   "cell_type": "code",
   "execution_count": 3,
   "metadata": {},
   "outputs": [],
   "source": [
    "PATH_RAW_VIEWSER, PATH_RAW_EXTERNAL, PATH_PROCESSED, PATH_GENERATED = get_data_paths(PATH)"
   ]
  },
  {
   "cell_type": "code",
   "execution_count": 4,
   "metadata": {},
   "outputs": [],
   "source": [
    "# # load the data from pkl\n",
    "# df_monthly = pd.read_pickle(PATH_RAW_VIEWSER / \"simon_full_base_01_viewser_df.pkl\")\n",
    "# \n",
    "# df_yearly = aggregate_monthly_to_yearly(df_monthly)\n",
    "# \n",
    "# # Feature engineering\n",
    "# df_monthly = feature_eng_fat_per_100k(df_monthly)\n",
    "# df_yearly = feature_eng_fat_per_100k(df_yearly)\n",
    "# \n",
    "# # save the data\n",
    "# df_monthly.to_pickle(PATH_PROCESSED / \"df_monthly_new.pkl\")  \n",
    "# df_yearly.to_pickle(PATH_PROCESSED / \"df_yearly_new.pkl\")"
   ]
  },
  {
   "cell_type": "code",
   "execution_count": 5,
   "metadata": {},
   "outputs": [],
   "source": [
    "# load the data\n",
    "df_monthly = pd.read_pickle(PATH_PROCESSED / \"df_monthly_new.pkl\")\n",
    "df_yearly = pd.read_pickle(PATH_PROCESSED / \"df_yearly_new.pkl\")"
   ]
  },
  {
   "cell_type": "code",
   "execution_count": 6,
   "metadata": {},
   "outputs": [
    {
     "data": {
      "text/plain": [
       "Index(['month_id', 'pg_id', 'month', 'year_id', 'c_id', 'col', 'row',\n",
       "       'sb_best', 'ns_best', 'os_best', 'pop_gpw_sum', 'total_best',\n",
       "       'fatalities_per_100k', 'sb_per_100k', 'ns_per_100k', 'os_per_100k'],\n",
       "      dtype='object')"
      ]
     },
     "execution_count": 6,
     "metadata": {},
     "output_type": "execute_result"
    }
   ],
   "source": [
    "df_monthly.columns"
   ]
  },
  {
   "cell_type": "code",
   "execution_count": 7,
   "metadata": {},
   "outputs": [],
   "source": [
    "cdf = calculate_cumulative_distribution(df_monthly, 'fatalities_per_100k')"
   ]
  },
  {
   "cell_type": "code",
   "execution_count": 8,
   "metadata": {},
   "outputs": [
    {
     "data": {
      "text/plain": [
       "fatalities_per_100k\n",
       "2651.971082    3.632269e-07\n",
       "1705.396679    5.448404e-07\n",
       "1635.390779    7.264538e-07\n",
       "1566.345247    9.080673e-07\n",
       "1111.867218    1.089681e-06\n",
       "                   ...     \n",
       "0.009619       8.204206e-03\n",
       "0.009467       8.204388e-03\n",
       "0.008606       8.204569e-03\n",
       "0.008054       8.208202e-03\n",
       "0.000000       1.000000e+00\n",
       "Name: count, Length: 17231, dtype: float64"
      ]
     },
     "execution_count": 8,
     "metadata": {},
     "output_type": "execute_result"
    }
   ],
   "source": [
    "cdf"
   ]
  },
  {
   "cell_type": "code",
   "execution_count": 18,
   "metadata": {},
   "outputs": [],
   "source": [
    "liklihood = calculate_likelihood_of_at_least_one_event(cdf, 100000)  "
   ]
  },
  {
   "cell_type": "markdown",
   "metadata": {},
   "source": []
  },
  {
   "cell_type": "code",
   "execution_count": 19,
   "metadata": {},
   "outputs": [],
   "source": [
    "return_periods = calculate_return_periods(liklihood, 'cdf', 'likelihood')"
   ]
  },
  {
   "cell_type": "code",
   "execution_count": 20,
   "metadata": {},
   "outputs": [
    {
     "data": {
      "text/html": [
       "<div>\n",
       "<style scoped>\n",
       "    .dataframe tbody tr th:only-of-type {\n",
       "        vertical-align: middle;\n",
       "    }\n",
       "\n",
       "    .dataframe tbody tr th {\n",
       "        vertical-align: top;\n",
       "    }\n",
       "\n",
       "    .dataframe thead th {\n",
       "        text-align: right;\n",
       "    }\n",
       "</style>\n",
       "<table border=\"1\" class=\"dataframe\">\n",
       "  <thead>\n",
       "    <tr style=\"text-align: right;\">\n",
       "      <th></th>\n",
       "      <th>cdf</th>\n",
       "      <th>likelihood</th>\n",
       "      <th>cdf_return_period</th>\n",
       "      <th>at_least_one_occurrence_return_period</th>\n",
       "    </tr>\n",
       "    <tr>\n",
       "      <th>fatalities_per_100k</th>\n",
       "      <th></th>\n",
       "      <th></th>\n",
       "      <th></th>\n",
       "      <th></th>\n",
       "    </tr>\n",
       "  </thead>\n",
       "  <tbody>\n",
       "    <tr>\n",
       "      <th>2651.971082</th>\n",
       "      <td>3.632269e-07</td>\n",
       "      <td>0.035671</td>\n",
       "      <td>2.753100e+06</td>\n",
       "      <td>28.034022</td>\n",
       "    </tr>\n",
       "    <tr>\n",
       "      <th>1705.396679</th>\n",
       "      <td>5.448404e-07</td>\n",
       "      <td>0.053026</td>\n",
       "      <td>1.835400e+06</td>\n",
       "      <td>18.858535</td>\n",
       "    </tr>\n",
       "    <tr>\n",
       "      <th>1635.390779</th>\n",
       "      <td>7.264538e-07</td>\n",
       "      <td>0.070069</td>\n",
       "      <td>1.376550e+06</td>\n",
       "      <td>14.271548</td>\n",
       "    </tr>\n",
       "    <tr>\n",
       "      <th>1566.345247</th>\n",
       "      <td>9.080673e-07</td>\n",
       "      <td>0.086806</td>\n",
       "      <td>1.101240e+06</td>\n",
       "      <td>11.519961</td>\n",
       "    </tr>\n",
       "    <tr>\n",
       "      <th>1111.867218</th>\n",
       "      <td>1.089681e-06</td>\n",
       "      <td>0.103241</td>\n",
       "      <td>9.177000e+05</td>\n",
       "      <td>9.686074</td>\n",
       "    </tr>\n",
       "    <tr>\n",
       "      <th>...</th>\n",
       "      <td>...</td>\n",
       "      <td>...</td>\n",
       "      <td>...</td>\n",
       "      <td>...</td>\n",
       "    </tr>\n",
       "    <tr>\n",
       "      <th>0.009619</th>\n",
       "      <td>8.204206e-03</td>\n",
       "      <td>1.000000</td>\n",
       "      <td>1.218887e+02</td>\n",
       "      <td>1.000000</td>\n",
       "    </tr>\n",
       "    <tr>\n",
       "      <th>0.009467</th>\n",
       "      <td>8.204388e-03</td>\n",
       "      <td>1.000000</td>\n",
       "      <td>1.218860e+02</td>\n",
       "      <td>1.000000</td>\n",
       "    </tr>\n",
       "    <tr>\n",
       "      <th>0.008606</th>\n",
       "      <td>8.204569e-03</td>\n",
       "      <td>1.000000</td>\n",
       "      <td>1.218833e+02</td>\n",
       "      <td>1.000000</td>\n",
       "    </tr>\n",
       "    <tr>\n",
       "      <th>0.008054</th>\n",
       "      <td>8.208202e-03</td>\n",
       "      <td>1.000000</td>\n",
       "      <td>1.218294e+02</td>\n",
       "      <td>1.000000</td>\n",
       "    </tr>\n",
       "    <tr>\n",
       "      <th>0.000000</th>\n",
       "      <td>1.000000e+00</td>\n",
       "      <td>1.000000</td>\n",
       "      <td>1.000000e+00</td>\n",
       "      <td>1.000000</td>\n",
       "    </tr>\n",
       "  </tbody>\n",
       "</table>\n",
       "<p>17231 rows × 4 columns</p>\n",
       "</div>"
      ],
      "text/plain": [
       "                              cdf  likelihood  cdf_return_period  \\\n",
       "fatalities_per_100k                                                \n",
       "2651.971082          3.632269e-07    0.035671       2.753100e+06   \n",
       "1705.396679          5.448404e-07    0.053026       1.835400e+06   \n",
       "1635.390779          7.264538e-07    0.070069       1.376550e+06   \n",
       "1566.345247          9.080673e-07    0.086806       1.101240e+06   \n",
       "1111.867218          1.089681e-06    0.103241       9.177000e+05   \n",
       "...                           ...         ...                ...   \n",
       "0.009619             8.204206e-03    1.000000       1.218887e+02   \n",
       "0.009467             8.204388e-03    1.000000       1.218860e+02   \n",
       "0.008606             8.204569e-03    1.000000       1.218833e+02   \n",
       "0.008054             8.208202e-03    1.000000       1.218294e+02   \n",
       "0.000000             1.000000e+00    1.000000       1.000000e+00   \n",
       "\n",
       "                     at_least_one_occurrence_return_period  \n",
       "fatalities_per_100k                                         \n",
       "2651.971082                                      28.034022  \n",
       "1705.396679                                      18.858535  \n",
       "1635.390779                                      14.271548  \n",
       "1566.345247                                      11.519961  \n",
       "1111.867218                                       9.686074  \n",
       "...                                                    ...  \n",
       "0.009619                                          1.000000  \n",
       "0.009467                                          1.000000  \n",
       "0.008606                                          1.000000  \n",
       "0.008054                                          1.000000  \n",
       "0.000000                                          1.000000  \n",
       "\n",
       "[17231 rows x 4 columns]"
      ]
     },
     "execution_count": 20,
     "metadata": {},
     "output_type": "execute_result"
    }
   ],
   "source": [
    "return_periods"
   ]
  },
  {
   "cell_type": "code",
   "execution_count": 12,
   "metadata": {},
   "outputs": [
    {
     "data": {
      "text/plain": [
       "fatalities_per_100k\n",
       "2651.971082    3.632269e-07\n",
       "1705.396679    5.448404e-07\n",
       "1635.390779    7.264538e-07\n",
       "1566.345247    9.080673e-07\n",
       "1111.867218    1.089681e-06\n",
       "                   ...     \n",
       "0.009619       8.204206e-03\n",
       "0.009467       8.204388e-03\n",
       "0.008606       8.204569e-03\n",
       "0.008054       8.208202e-03\n",
       "0.000000       1.000000e+00\n",
       "Name: cdf, Length: 17231, dtype: float64"
      ]
     },
     "execution_count": 12,
     "metadata": {},
     "output_type": "execute_result"
    }
   ],
   "source": [
    "liklihood['cdf']"
   ]
  },
  {
   "cell_type": "code",
   "execution_count": 13,
   "metadata": {},
   "outputs": [
    {
     "data": {
      "image/png": "[encoded data removed]",
      "text/plain": [
       "<Figure size 640x480 with 1 Axes>"
      ]
     },
     "metadata": {},
     "output_type": "display_data"
    }
   ],
   "source": [
    "plt.hist(liklihood, bins=100)\n",
    "plt.show()"
   ]
  },
  {
   "cell_type": "code",
   "execution_count": 14,
   "metadata": {},
   "outputs": [
    {
     "ename": "TypeError",
     "evalue": "Indexing a Series with DataFrame is not supported, use the appropriate DataFrame column",
     "output_type": "error",
     "traceback": [
      "\u001b[0;31m---------------------------------------------------------------------------\u001b[0m",
      "\u001b[0;31mTypeError\u001b[0m                                 Traceback (most recent call last)",
      "Cell \u001b[0;32mIn[14], line 1\u001b[0m\n\u001b[0;32m----> 1\u001b[0m return_periods \u001b[38;5;241m=\u001b[39m \u001b[43mcalculate_return_periods\u001b[49m\u001b[43m(\u001b[49m\u001b[43mcdf\u001b[49m\u001b[43m,\u001b[49m\u001b[43m \u001b[49m\u001b[43mliklihood\u001b[49m\u001b[43m,\u001b[49m\u001b[43m \u001b[49m\u001b[38;5;241;43m10000\u001b[39;49m\u001b[43m)\u001b[49m\n",
      "File \u001b[0;32m~/Documents/scripts/VIEWS_FAO_index/src/utils/utils_return_periods.py:33\u001b[0m, in \u001b[0;36mcalculate_return_periods\u001b[0;34m(df, cdf_col, at_least_one_occurrence_prob_col)\u001b[0m\n\u001b[1;32m     29\u001b[0m \u001b[38;5;66;03m# precheck\u001b[39;00m\n\u001b[1;32m     30\u001b[0m calculate_return_periods_precheck(df, cdf_col, at_least_one_occurrence_prob_col)\n\u001b[0;32m---> 33\u001b[0m \u001b[38;5;28;01mif\u001b[39;00m \u001b[38;5;129;01mnot\u001b[39;00m \u001b[38;5;28mall\u001b[39m(\u001b[38;5;241m0\u001b[39m \u001b[38;5;241m<\u001b[39m p \u001b[38;5;241m<\u001b[39m\u001b[38;5;241m=\u001b[39m \u001b[38;5;241m1\u001b[39m \u001b[38;5;28;01mfor\u001b[39;00m p \u001b[38;5;129;01min\u001b[39;00m \u001b[43mdf\u001b[49m\u001b[43m[\u001b[49m\u001b[43mcdf_col\u001b[49m\u001b[43m]\u001b[49m):\n\u001b[1;32m     34\u001b[0m     \u001b[38;5;28;01mraise\u001b[39;00m \u001b[38;5;167;01mValueError\u001b[39;00m(\u001b[38;5;124m\"\u001b[39m\u001b[38;5;124mAll CDF values must be between 0 and 1 (exclusive of 0).\u001b[39m\u001b[38;5;124m\"\u001b[39m)\n\u001b[1;32m     36\u001b[0m \u001b[38;5;28;01mif\u001b[39;00m \u001b[38;5;129;01mnot\u001b[39;00m \u001b[38;5;28mall\u001b[39m(\u001b[38;5;241m0\u001b[39m \u001b[38;5;241m<\u001b[39m p \u001b[38;5;241m<\u001b[39m\u001b[38;5;241m=\u001b[39m \u001b[38;5;241m1\u001b[39m \u001b[38;5;28;01mfor\u001b[39;00m p \u001b[38;5;129;01min\u001b[39;00m df[at_least_one_occurrence_prob_col]):\n",
      "File \u001b[0;32m~/.local/lib/python3.10/site-packages/pandas/core/series.py:1144\u001b[0m, in \u001b[0;36mSeries.__getitem__\u001b[0;34m(self, key)\u001b[0m\n\u001b[1;32m   1141\u001b[0m     key \u001b[38;5;241m=\u001b[39m np\u001b[38;5;241m.\u001b[39masarray(key, dtype\u001b[38;5;241m=\u001b[39m\u001b[38;5;28mbool\u001b[39m)\n\u001b[1;32m   1142\u001b[0m     \u001b[38;5;28;01mreturn\u001b[39;00m \u001b[38;5;28mself\u001b[39m\u001b[38;5;241m.\u001b[39m_get_rows_with_mask(key)\n\u001b[0;32m-> 1144\u001b[0m \u001b[38;5;28;01mreturn\u001b[39;00m \u001b[38;5;28;43mself\u001b[39;49m\u001b[38;5;241;43m.\u001b[39;49m\u001b[43m_get_with\u001b[49m\u001b[43m(\u001b[49m\u001b[43mkey\u001b[49m\u001b[43m)\u001b[49m\n",
      "File \u001b[0;32m~/.local/lib/python3.10/site-packages/pandas/core/series.py:1149\u001b[0m, in \u001b[0;36mSeries._get_with\u001b[0;34m(self, key)\u001b[0m\n\u001b[1;32m   1146\u001b[0m \u001b[38;5;28;01mdef\u001b[39;00m \u001b[38;5;21m_get_with\u001b[39m(\u001b[38;5;28mself\u001b[39m, key):\n\u001b[1;32m   1147\u001b[0m     \u001b[38;5;66;03m# other: fancy integer or otherwise\u001b[39;00m\n\u001b[1;32m   1148\u001b[0m     \u001b[38;5;28;01mif\u001b[39;00m \u001b[38;5;28misinstance\u001b[39m(key, ABCDataFrame):\n\u001b[0;32m-> 1149\u001b[0m         \u001b[38;5;28;01mraise\u001b[39;00m \u001b[38;5;167;01mTypeError\u001b[39;00m(\n\u001b[1;32m   1150\u001b[0m             \u001b[38;5;124m\"\u001b[39m\u001b[38;5;124mIndexing a Series with DataFrame is not \u001b[39m\u001b[38;5;124m\"\u001b[39m\n\u001b[1;32m   1151\u001b[0m             \u001b[38;5;124m\"\u001b[39m\u001b[38;5;124msupported, use the appropriate DataFrame column\u001b[39m\u001b[38;5;124m\"\u001b[39m\n\u001b[1;32m   1152\u001b[0m         )\n\u001b[1;32m   1153\u001b[0m     \u001b[38;5;28;01melif\u001b[39;00m \u001b[38;5;28misinstance\u001b[39m(key, \u001b[38;5;28mtuple\u001b[39m):\n\u001b[1;32m   1154\u001b[0m         \u001b[38;5;28;01mreturn\u001b[39;00m \u001b[38;5;28mself\u001b[39m\u001b[38;5;241m.\u001b[39m_get_values_tuple(key)\n",
      "\u001b[0;31mTypeError\u001b[0m: Indexing a Series with DataFrame is not supported, use the appropriate DataFrame column"
     ]
    }
   ],
   "source": [
    "return_periods = calculate_return_periods(cdf, liklihood, 10000)"
   ]
  },
  {
   "cell_type": "code",
   "execution_count": null,
   "metadata": {},
   "outputs": [],
   "source": []
  },
  {
   "cell_type": "code",
   "execution_count": null,
   "metadata": {},
   "outputs": [],
   "source": []
  },
  {
   "cell_type": "code",
   "execution_count": null,
   "metadata": {},
   "outputs": [],
   "source": []
  }
 ],
 "metadata": {
  "kernelspec": {
   "display_name": "base",
   "language": "python",
   "name": "python3"
  },
  "language_info": {
   "codemirror_mode": {
    "name": "ipython",
    "version": 3
   },
   "file_extension": ".py",
   "mimetype": "text/x-python",
   "name": "python",
   "nbconvert_exporter": "python",
   "pygments_lexer": "ipython3",
   "version": "3.10.14"
  }
 },
 "nbformat": 4,
 "nbformat_minor": 2
}
