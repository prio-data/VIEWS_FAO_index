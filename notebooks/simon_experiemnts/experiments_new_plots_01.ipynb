{
 "cells": [
  {
   "cell_type": "markdown",
   "metadata": {},
   "source": [
    "# Import stuff"
   ]
  },
  {
   "cell_type": "code",
   "execution_count": null,
   "metadata": {},
   "outputs": [],
   "source": [
    "import numpy as np\n",
    "import pandas as pd\n",
    "import matplotlib\n",
    "import matplotlib.pyplot as plt\n",
    "from matplotlib.offsetbox import OffsetImage, AnnotationBbox\n",
    "import json\n",
    "\n",
    "import seaborn as sns\n",
    "import os\n",
    "from multiprocessing import Pool\n",
    "from pathlib import Path\n",
    "import sys\n",
    "\n",
    "from fuzzywuzzy import process\n",
    "\n",
    "\n",
    "# set path to the utils\n",
    "notebook_dir = os.getcwd()\n",
    "notebook_name = \"experiments_new_plots_01.ipynb\"\n",
    "\n",
    "PATH = Path(notebook_dir) / Path(notebook_name) \n",
    "\n",
    "sys.path.insert(0, str(Path(*[i for i in PATH.parts[:PATH.parts.index(\"VIEWS_FAO_index\")+1]]) / \"src/utils\"))   \n",
    "\n",
    "from set_paths import setup_project_paths, get_logo_path, get_data_paths, setup_root_paths\n",
    "setup_project_paths(PATH)\n",
    "\n",
    "from utils_plotting import plot_time_series, plot_random_monthly_and_yearly_data, plot_feature_histograms, plot_contry_period_map\n",
    "from utils_annual_aggregation import aggregate_monthly_to_yearly\n",
    "from utils_feature_eng_per_100k import feature_eng_fat_per_100k\n",
    "#from utils_cumulative_distribution import calculate_global_cumulative_distribution\n",
    "from utils_global_probabilities import calculate_global_probabilities\n",
    "from utils_country_probabilities import calculate_all_country_probabilities\n",
    "from utils_return_periods import calculate_return_periods\n",
    "from utils_check_expected_features import check_expected_features    \n",
    "from utils_date_index import calculate_date_from_index \n",
    "from utils_country_id_csv_to_json import country_id_csv_to_json\n",
    "from utils_get_country_names_by_ids import get_country_names_by_ids\n",
    "from utils_get_country_id_by_name import get_country_id_by_name"
   ]
  },
  {
   "cell_type": "markdown",
   "metadata": {},
   "source": [
    "# Check versions"
   ]
  },
  {
   "cell_type": "code",
   "execution_count": null,
   "metadata": {},
   "outputs": [],
   "source": [
    "print(np.__version__) # 1.26.4 used\n",
    "print(pd.__version__) # 2.2.1 used\n",
    "print(matplotlib.__version__) # 3.8.4 used\n",
    "print(sns.__version__) # 0.13.2 used"
   ]
  },
  {
   "cell_type": "markdown",
   "metadata": {},
   "source": [
    "# Load data"
   ]
  },
  {
   "cell_type": "code",
   "execution_count": null,
   "metadata": {},
   "outputs": [],
   "source": [
    "# load save minimal dataframes and check the expected feature agian\n",
    "df_monthly = pd.read_pickle(\"/home/simon/Documents/scripts/VIEWS_FAO_index/data/processed/pilot_return_periods_monthly.pkl\")\n",
    "df_yearly = pd.read_pickle(\"/home/simon/Documents/scripts/VIEWS_FAO_index/data/processed/pilot_return_periods_yearly.pkl\")"
   ]
  },
  {
   "cell_type": "markdown",
   "metadata": {},
   "source": [
    "# Small utils:"
   ]
  },
  {
   "cell_type": "code",
   "execution_count": null,
   "metadata": {},
   "outputs": [],
   "source": [
    "# we can get a list of contry names from a list of ids\n",
    "get_country_names_by_ids([42, 192, ])"
   ]
  },
  {
   "cell_type": "code",
   "execution_count": null,
   "metadata": {},
   "outputs": [],
   "source": [
    "# we can get  country ids from a name (fuzzy search)\n",
    "get_country_id_by_name(\"Germany\")"
   ]
  },
  {
   "cell_type": "code",
   "execution_count": null,
   "metadata": {},
   "outputs": [],
   "source": [
    "# we can get a MM.YYYY date from an month_id\n",
    "calculate_date_from_index(0)"
   ]
  },
  {
   "cell_type": "code",
   "execution_count": null,
   "metadata": {},
   "outputs": [],
   "source": [
    "country_list = df_yearly['c_id'].unique().tolist()"
   ]
  },
  {
   "cell_type": "markdown",
   "metadata": {},
   "source": [
    "# The plotting functions"
   ]
  },
  {
   "cell_type": "code",
   "execution_count": null,
   "metadata": {},
   "outputs": [],
   "source": [
    "plot_time_series(df_monthly, country_ids=[42], feature='fatalities_per_100k', figsize=(16, 8))"
   ]
  },
  {
   "cell_type": "code",
   "execution_count": null,
   "metadata": {},
   "outputs": [],
   "source": [
    "plot_time_series(df_yearly, country_ids=country_list[7:8], feature='fatalities_per_100k', figsize=(16, 8))"
   ]
  },
  {
   "cell_type": "code",
   "execution_count": null,
   "metadata": {},
   "outputs": [],
   "source": [
    "plot_feature_histograms(df_yearly, country_list[0:12], feature='fatalities_per_100k', figsize=(16, 16))\n"
   ]
  },
  {
   "cell_type": "code",
   "execution_count": null,
   "metadata": {},
   "outputs": [],
   "source": [
    "plot_feature_histograms(df_monthly, country_list[0:12], feature='fatalities_per_100k', figsize=(16, 16))"
   ]
  },
  {
   "cell_type": "code",
   "execution_count": null,
   "metadata": {},
   "outputs": [],
   "source": [
    "get_country_id_by_name(\"south\")"
   ]
  },
  {
   "cell_type": "code",
   "execution_count": null,
   "metadata": {},
   "outputs": [],
   "source": [
    "plot_contry_period_map(df_yearly, 50, \"fatalities_per_100k\", [2010, 2011], figsize=(16, 12))"
   ]
  },
  {
   "cell_type": "code",
   "execution_count": null,
   "metadata": {},
   "outputs": [],
   "source": [
    "plot_contry_period_map(df_yearly, 50, \"fatalities_per_100k\", [1991, 2000, 2022], figsize=(16, 7))"
   ]
  },
  {
   "cell_type": "code",
   "execution_count": null,
   "metadata": {},
   "outputs": [],
   "source": [
    "plot_contry_period_map(df_yearly, 50, \"sb_best_time_unit_return_period\", [2020, 2021, 2022], figsize=(16, 7), marker_size=64)"
   ]
  },
  {
   "cell_type": "code",
   "execution_count": null,
   "metadata": {},
   "outputs": [],
   "source": [
    "df_yearly.columns"
   ]
  },
  {
   "cell_type": "code",
   "execution_count": null,
   "metadata": {},
   "outputs": [],
   "source": [
    "plot_feature_histograms(df_yearly, country_list[0:12], feature='sb_best_time_unit_return_period_country', figsize=(16, 16))"
   ]
  },
  {
   "cell_type": "code",
   "execution_count": null,
   "metadata": {},
   "outputs": [],
   "source": [
    "plot_feature_histograms(df_monthly, country_list[0:12], feature='sb_best_time_unit_likelihood_country', figsize=(16, 16))"
   ]
  },
  {
   "cell_type": "code",
   "execution_count": null,
   "metadata": {},
   "outputs": [],
   "source": []
  },
  {
   "cell_type": "code",
   "execution_count": null,
   "metadata": {},
   "outputs": [],
   "source": [
    "df_yearly['sb_best_time_unit_likelihood']"
   ]
  },
  {
   "cell_type": "code",
   "execution_count": null,
   "metadata": {},
   "outputs": [],
   "source": [
    "# plot a return period hist for the whole world\n",
    "\n",
    "# onlt values above 1\n",
    "df_sub = df_yearly[(df_yearly['sb_best_time_unit_likelihood'] < 0.99) & (df_yearly['sb_best_time_unit_likelihood'] > 0.01)]\n",
    "\n",
    "sns.histplot(df_sub['sb_best_time_unit_likelihood'], bins=100, kde=True)\n",
    "plt.show()"
   ]
  },
  {
   "cell_type": "code",
   "execution_count": null,
   "metadata": {},
   "outputs": [],
   "source": [
    "\n",
    "# onlt values above 1\n",
    "df_sub = df_yearly[(df_yearly['sb_best_time_unit_likelihood_country'] < 1) & (df_yearly['sb_best_time_unit_likelihood'] > 0.01)]\n",
    "\n",
    "sns.histplot(df_sub['sb_best_time_unit_likelihood_country'], bins=100, kde=True)\n",
    "plt.show()"
   ]
  },
  {
   "cell_type": "code",
   "execution_count": null,
   "metadata": {},
   "outputs": [],
   "source": [
    "# plot a return period hist for the whole world\n",
    "\n",
    "# onlt values above 1\n",
    "df_sub = df_yearly[df_yearly['sb_best_time_unit_return_period'] > 3]\n",
    "\n",
    "sns.histplot(df_sub['sb_best_time_unit_return_period'], bins=100, kde=True)\n",
    "plt.show()"
   ]
  },
  {
   "cell_type": "code",
   "execution_count": null,
   "metadata": {},
   "outputs": [],
   "source": [
    "#histogram of the return periods for the FAO_countries\n",
    "FAO_countries = [47, 57, 237, 161, 50, 244, 162, 78, 120, 242, 235, 124, 158]\n",
    "\n",
    "plt.hist(df_yearly[df_yearly['c_id'].isin(FAO_countries)]['sb_best_time_unit_return_period'], bins=100)\n",
    "\n"
   ]
  },
  {
   "cell_type": "code",
   "execution_count": null,
   "metadata": {},
   "outputs": [],
   "source": [
    "#\n",
    "\n",
    "# take the minimal set that is covered by all countries\n",
    "unique_periods = sorted(list(set.intersection(*[set(df_yearly[df_yearly['c_id'] == c_id]['year_id'].unique().tolist()) for c_id in FAO_countries])))\n",
    "\n",
    "# unique peiros for the monthly data\n",
    "unique_periods = sorted(list(set.intersection(*[set(df_monthly[df_monthly['c_id'] == c_id]['month_id'].unique().tolist()) for c_id in FAO_countries])))\n",
    "\n",
    "print(unique_periods)\n",
    "\n",
    "#for country in FAO_countries:\n",
    "#    plot_contry_period_map(df_yearly, country, \"sb_best_time_unit_return_period_country\", unique_periods, figsize=(16, 38), marker_size=36)\n",
    "\n",
    "# monthly\n",
    "for country in FAO_countries:\n",
    "    plot_contry_period_map(df_monthly, country, \"sb_best_time_unit_return_period_country\", unique_periods, figsize=(16, 38), marker_size=36)"
   ]
  },
  {
   "cell_type": "code",
   "execution_count": null,
   "metadata": {},
   "outputs": [],
   "source": [
    "get_country_id_by_name(\"Tan\")"
   ]
  },
  {
   "cell_type": "code",
   "execution_count": null,
   "metadata": {},
   "outputs": [],
   "source": []
  },
  {
   "cell_type": "code",
   "execution_count": null,
   "metadata": {},
   "outputs": [],
   "source": []
  }
 ],
 "metadata": {
  "kernelspec": {
   "display_name": "base",
   "language": "python",
   "name": "python3"
  },
  "language_info": {
   "codemirror_mode": {
    "name": "ipython",
    "version": 3
   },
   "file_extension": ".py",
   "mimetype": "text/x-python",
   "name": "python",
   "nbconvert_exporter": "python",
   "pygments_lexer": "ipython3",
   "version": "3.10.14"
  }
 },
 "nbformat": 4,
 "nbformat_minor": 2
}
