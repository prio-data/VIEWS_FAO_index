{
 "cells": [
  {
   "cell_type": "code",
   "execution_count": null,
   "metadata": {},
   "outputs": [],
   "source": [
    "import numpy as np\n",
    "import pandas as pd\n",
    "import matplotlib\n",
    "import matplotlib.pyplot as plt\n",
    "from matplotlib.offsetbox import OffsetImage, AnnotationBbox\n",
    "import json\n",
    "\n",
    "import seaborn as sns\n",
    "import os\n",
    "from multiprocessing import Pool\n",
    "from pathlib import Path\n",
    "import sys\n",
    "\n",
    "from fuzzywuzzy import process\n",
    "\n",
    "\n",
    "# set path to the utils\n",
    "notebook_dir = os.getcwd()\n",
    "notebook_name = \"correct_return_periods.ipynb\"\n",
    "\n",
    "PATH = Path(notebook_dir) / Path(notebook_name) \n",
    "\n",
    "sys.path.insert(0, str(Path(*[i for i in PATH.parts[:PATH.parts.index(\"VIEWS_FAO_index\")+1]]) / \"src/utils\"))   \n",
    "\n",
    "from set_paths import setup_project_paths, get_logo_path, get_data_paths, setup_root_paths, get_plot_path\n",
    "setup_project_paths(PATH)\n",
    "\n",
    "\n",
    "from utils_plotting import plot_country_time_series #, plot_random_monthly_and_yearly_data, plot_feature_histograms, plot_contry_period_map\n",
    "from utils_annual_aggregation import aggregate_monthly_to_yearly\n",
    "from utils_feature_eng_per_100k import feature_eng_fat_per_100k\n",
    "from utils_p_i import calculate_p_i\n",
    "from utils_P_i import calculate_P_i\n",
    "\n",
    "#from utils_likelihoods import calculate_likelihood_of_at_least_one_event\n",
    "\n",
    "from utils_return_periods import calculate_return_periods\n",
    "\n",
    "#from utils_global_probabilities import calculate_global_probabilities\n",
    "#from utils_country_probabilities import calculate_all_country_probabilities\n",
    "#from utils_check_expected_features import check_expected_features    \n",
    "from utils_date_index import calculate_date_from_index \n",
    "\n",
    "#from utils_country_id_csv_to_json import country_id_csv_to_json\n",
    "\n",
    "from utils_get_country_names_by_ids import get_country_names_by_ids\n",
    "from utils_get_country_id_by_name import get_country_id_by_name\n",
    "from utils_get_time_period import get_time_period\n",
    "\n",
    "from utils_update_df_with_probabilities_and_return_periods import update_df_with_probabilities_and_return_periods\n",
    "\n",
    "from utils_get_extended_feature_list import get_extended_feature_list\n",
    "\n",
    "from utils_process_data_country_wise import process_data_country_wise"
   ]
  },
  {
   "cell_type": "code",
   "execution_count": null,
   "metadata": {},
   "outputs": [],
   "source": [
    "print(np.__version__) # 1.26.4 used\n",
    "print(pd.__version__) # 2.2.1 used\n",
    "print(matplotlib.__version__) # 3.8.4 used\n",
    "print(sns.__version__) # 0.13.2 used"
   ]
  },
  {
   "cell_type": "code",
   "execution_count": null,
   "metadata": {},
   "outputs": [],
   "source": [
    "PATH_RAW_VIEWSER, PATH_RAW_EXTERNAL, PATH_PROCESSED, PATH_GENERATED = get_data_paths(PATH)"
   ]
  },
  {
   "cell_type": "code",
   "execution_count": null,
   "metadata": {},
   "outputs": [],
   "source": [
    "# # load the data from pkl\n",
    "# df_monthly = pd.read_pickle(PATH_RAW_VIEWSER / \"full_base_01_viewser_df.pkl\")\n",
    "# \n",
    "# df_yearly = aggregate_monthly_to_yearly(df_monthly)\n",
    "# \n",
    "# # Feature engineering\n",
    "# df_monthly = feature_eng_fat_per_100k(df_monthly)\n",
    "# df_yearly = feature_eng_fat_per_100k(df_yearly)\n",
    "# \n",
    "# # save the data\n",
    "# df_monthly.to_pickle(PATH_PROCESSED / \"df_monthly.pkl\")  \n",
    "# df_yearly.to_pickle(PATH_PROCESSED / \"df_yearly.pkl\")"
   ]
  },
  {
   "cell_type": "code",
   "execution_count": null,
   "metadata": {},
   "outputs": [],
   "source": [
    "# load the data\n",
    "df_monthly = pd.read_pickle(PATH_PROCESSED / \"df_monthly.pkl\")\n",
    "df_yearly = pd.read_pickle(PATH_PROCESSED / \"df_yearly.pkl\")"
   ]
  },
  {
   "cell_type": "markdown",
   "metadata": {},
   "source": [
    "# NOW:\n",
    "\n",
    "- the two commented out loops needs to go into a script - util or management?\n",
    "\n",
    "- you need to do somethign with main\n",
    "\n",
    "- plot everything and anticipate aggregations by make 1x1 part of the folder struture or file name\n",
    "\n",
    "- Maps plots! "
   ]
  },
  {
   "cell_type": "code",
   "execution_count": null,
   "metadata": {},
   "outputs": [],
   "source": [
    "#fatality_features = ['sb_best', 'ns_best', 'os_best']\n",
    "#\n",
    "## monthly data\n",
    "#\n",
    "## Initialize the DataFrame\n",
    "#df_monthly_global_country_level = df_monthly.copy()\n",
    "#\n",
    "#for feature in fatality_features:\n",
    "#    df_monthly_global_country_level = process_data_country_wise(df_monthly_global_country_level, feature)\n",
    "#"
   ]
  },
  {
   "cell_type": "code",
   "execution_count": null,
   "metadata": {},
   "outputs": [],
   "source": [
    "# df_monthly_global_country_level.head()"
   ]
  },
  {
   "cell_type": "code",
   "execution_count": null,
   "metadata": {},
   "outputs": [],
   "source": [
    "# # yearly data\n",
    "# \n",
    "# # Initialize the DataFrame  \n",
    "# df_yearly_global_country_level = df_yearly.copy()\n",
    "# \n",
    "# for feature in fatality_features:\n",
    "#     df_yearly_global_country_level = process_data_country_wise(df_yearly_global_country_level, feature)\n",
    "#     "
   ]
  },
  {
   "cell_type": "code",
   "execution_count": null,
   "metadata": {},
   "outputs": [],
   "source": []
  },
  {
   "cell_type": "code",
   "execution_count": null,
   "metadata": {},
   "outputs": [],
   "source": [
    "# df_yearly_global_country_level.head()"
   ]
  },
  {
   "cell_type": "code",
   "execution_count": null,
   "metadata": {},
   "outputs": [],
   "source": [
    "#df_monthly_global_country_level.to_pickle(PATH_GENERATED / \"df_monthly_country_return_periods.pkl\")\n",
    "#df_monthly_global_country_level.to_csv(PATH_GENERATED / \"df_monthly_country_return_periods.csv\")\n",
    "\n",
    "#df_yearly_global_country_level.to_pickle(PATH_GENERATED / \"df_yearly_country_return_periods.pkl\")\n",
    "#df_yearly_global_country_level.to_csv(PATH_GENERATED / \"df_yearly_country_return_periods.csv\")\n",
    "\n",
    "\n",
    "# load the data from the pkl\n",
    "df_monthly_global_country_level = pd.read_pickle(PATH_GENERATED / \"df_monthly_country_return_periods.pkl\")\n",
    "df_yearly_global_country_level = pd.read_pickle(PATH_GENERATED / \"df_yearly_country_return_periods.pkl\")"
   ]
  },
  {
   "cell_type": "code",
   "execution_count": null,
   "metadata": {},
   "outputs": [],
   "source": [
    "get_time_period(df_monthly_global_country_level)"
   ]
  },
  {
   "cell_type": "code",
   "execution_count": null,
   "metadata": {},
   "outputs": [],
   "source": [
    "country_names = [\n",
    "    \"Burkina Faso\",\n",
    "    \"Ethiopia\",\n",
    "    \"Kenya\",\n",
    "    \"Malawi\",\n",
    "    \"Mali\",\n",
    "    \"Mauritania\",\n",
    "    \"Mozambique\",\n",
    "    \"Niger\",\n",
    "    \"Somalia\",\n",
    "    \"Tanzania\",\n",
    "    \"Uganda\",\n",
    "    \"Yemen\",\n",
    "    \"Zimbabwe\"\n",
    "]\n",
    "\n",
    "# get unique colors for eahc country in the list\n",
    "colors = sns.color_palette(\"tab10\", len(country_names))\n",
    "\n",
    "dfs = [df_monthly_global_country_level, df_yearly_global_country_level]\n",
    "\n",
    "for df in dfs:\n",
    "\n",
    "    for feature in ['sb_best', 'ns_best', 'os_best']:\n",
    "\n",
    "        for i, country_name in enumerate(country_names):\n",
    "            country_info = get_country_id_by_name(country_name)\n",
    "            # print(country_info)\n",
    "\n",
    "            id = int(country_info[0][0])\n",
    "            # print(id)   \n",
    "\n",
    "            color = colors[i]\n",
    "\n",
    "            time_periode = get_time_period(df)\n",
    "\n",
    "            PATH_PLOT_DIR = get_plot_path(PATH) / \"country_time_series\" / country_name.replace(' ', '_') / time_periode / feature\n",
    "\n",
    "            if not os.path.exists(PATH_PLOT_DIR):\n",
    "                os.makedirs(PATH_PLOT_DIR)\n",
    "\n",
    "            # add the last name to the path\n",
    "            PATH_PLOT = PATH_PLOT_DIR / f\"{country_name.replace(' ', '_')}_{time_periode}_{feature}.png\"\n",
    "\n",
    "            print(PATH_PLOT)\n",
    "\n",
    "            plot_country_time_series(df, [id], feature, figsize=(20, 10), logo_placement = (0.05, 0.87), legend_placement=(0.01, 1), force_color = color, save_plot = True, PATH_PLOT = PATH_PLOT)"
   ]
  },
  {
   "cell_type": "code",
   "execution_count": null,
   "metadata": {},
   "outputs": [],
   "source": []
  },
  {
   "cell_type": "code",
   "execution_count": null,
   "metadata": {},
   "outputs": [],
   "source": []
  },
  {
   "cell_type": "code",
   "execution_count": null,
   "metadata": {},
   "outputs": [],
   "source": []
  },
  {
   "cell_type": "code",
   "execution_count": null,
   "metadata": {},
   "outputs": [],
   "source": []
  },
  {
   "cell_type": "code",
   "execution_count": null,
   "metadata": {},
   "outputs": [],
   "source": []
  },
  {
   "cell_type": "code",
   "execution_count": null,
   "metadata": {},
   "outputs": [],
   "source": []
  },
  {
   "cell_type": "code",
   "execution_count": null,
   "metadata": {},
   "outputs": [],
   "source": []
  },
  {
   "cell_type": "code",
   "execution_count": null,
   "metadata": {},
   "outputs": [],
   "source": [
    "plot_country_time_series(df_yearly_global_country_level, [id], 'sb_best', figsize=(20, 10), logo_placement = (0.05, 0.87), legend_placement=(0.01, 1), force_color = color)"
   ]
  },
  {
   "cell_type": "code",
   "execution_count": null,
   "metadata": {},
   "outputs": [],
   "source": []
  },
  {
   "cell_type": "code",
   "execution_count": null,
   "metadata": {},
   "outputs": [],
   "source": []
  },
  {
   "cell_type": "code",
   "execution_count": null,
   "metadata": {},
   "outputs": [],
   "source": []
  },
  {
   "cell_type": "code",
   "execution_count": null,
   "metadata": {},
   "outputs": [],
   "source": [
    "\n",
    "def plot_features_grid(df, feature_list, period_range, period_specific_min_max=False):\n",
    "    \"\"\"\n",
    "    \n",
    "    \"\"\"\n",
    "\n",
    "    fig, axs = plt.subplots(len(period_range), len(feature_list), figsize=(25, 5 * len(period_range)))\n",
    "\n",
    "    time_peirod = get_time_period(df)\n",
    "\n",
    "    if time_peirod == 'month_id':\n",
    "        # check that the range is between 100 and 600 or raise an error\n",
    "        min_month_id = df['month_id'].min()\n",
    "        max_month_id = df['month_id'].max()\n",
    "        if not all(min_month_id <= period <= max_month_id for period in period_range):\n",
    "            raise ValueError(f'Monthly time period: Period range should be between {min_month_id} and {max_month_id}')\n",
    "    elif time_peirod == 'year_id':\n",
    "        # check that the range is between 1980 and 2020 or raise an error'\n",
    "        min_year_id = df['year_id'].min()\n",
    "        max_year_id = df['year_id'].max()\n",
    "        if not all(min_year_id <= period <= max_year_id for period in period_range):\n",
    "            raise ValueError(f'Yearly time period: Period range should be between {min_year_id} and {max_year_id}')\n",
    "\n",
    "    for row_idx, period in enumerate(period_range):\n",
    "\n",
    "        for col_idx, feature_name in enumerate(feature_list):\n",
    "\n",
    "            # Determine colormap and value range\n",
    "            if 'P_i' in feature_name or 'p_i' in feature_name:\n",
    "                cmap = 'rainbow_r'\n",
    "                vmin = 0\n",
    "                vmax = 1\n",
    "            else:\n",
    "                cmap = 'rainbow'\n",
    "\n",
    "                if period_specific_min_max:\n",
    "              \n",
    "                    # alt where the min and max are period specific\n",
    "                    vmin = df[df[time_peirod] == period][feature_name].min()\n",
    "                    vmax = df[df[time_peirod] == period][feature_name].max()\n",
    "\n",
    "                else:\n",
    "                    # alt where the min and max are global\n",
    "                    vmin = df[feature_name].min()\n",
    "                    vmax = df[feature_name].max()\n",
    "\n",
    "            # Extract the data for the specific month_id\n",
    "            period_data = df[df[time_peirod] == period]\n",
    "\n",
    "            # Calculate the grid size based on min and max row and col values\n",
    "            min_row = int(period_data['row'].min())\n",
    "            max_row = int(period_data['row'].max())\n",
    "            min_col = int(period_data['col'].min())\n",
    "            max_col = int(period_data['col'].max())\n",
    "\n",
    "            # Create the grid with adjusted size\n",
    "            grid_rows = max_row - min_row + 1\n",
    "            grid_cols = max_col - min_col + 1\n",
    "            grid = np.full((grid_rows, grid_cols), np.nan)\n",
    "\n",
    "            # Fill the grid with the feature_name values, adjusting for min_row and min_col\n",
    "            for _, row in period_data.iterrows():\n",
    "                grid[int(row['row']) - min_row, int(row['col']) - min_col] = row[feature_name]\n",
    "\n",
    "            # Plot with imshow\n",
    "            cax = axs[row_idx, col_idx].imshow(grid, cmap=cmap, vmin=vmin, vmax=vmax, origin='lower', aspect='auto', interpolation='none')\n",
    "            fig.colorbar(cax, ax=axs[row_idx, col_idx], orientation='vertical', label=feature_name)\n",
    "\n",
    "    plt.tight_layout()\n",
    "    plt.show()\n",
    "\n",
    "# Example usage:\n",
    "# plot_features_grid(new_df, 'some_feature')"
   ]
  },
  {
   "cell_type": "code",
   "execution_count": null,
   "metadata": {},
   "outputs": [],
   "source": [
    "print(df_yearly.columns)\n",
    "print(get_country_names_by_ids([119]))"
   ]
  },
  {
   "cell_type": "code",
   "execution_count": null,
   "metadata": {},
   "outputs": [],
   "source": [
    "get_time_period(df_yearly)"
   ]
  },
  {
   "cell_type": "code",
   "execution_count": null,
   "metadata": {},
   "outputs": [],
   "source": [
    "feature = 'fatalities_per_100k'"
   ]
  },
  {
   "cell_type": "code",
   "execution_count": null,
   "metadata": {},
   "outputs": [],
   "source": [
    "def process_data_country_wise_posttest(df, feature):\n",
    "    \"\"\"\n",
    "    Processes the data for a given country by performing post-test checks.\n",
    "\n",
    "    Parameters:\n",
    "    - df (pd.DataFrame): Input dataframe containing the data.\n",
    "    - feature (str): The feature column to be processed.\n",
    "\n",
    "    Returns:\n",
    "    - bool: True if all checks pass, otherwise raises a ValueError.\n",
    "\n",
    "    Raises:\n",
    "    - ValueError: If the input is not a pandas DataFrame.\n",
    "    - ValueError: If the DataFrame is empty.\n",
    "    - ValueError: If the DataFrame contains NaN values.\n",
    "    - ValueError: If the DataFrame contains infinite values.\n",
    "    - ValueError: If any column contains only one unique value.\n",
    "    \"\"\"\n",
    "    \n",
    "    # check that the df is a pandas dataframe\n",
    "    if not isinstance(df, pd.DataFrame):\n",
    "        raise ValueError('Input should be a pandas DataFrame')\n",
    "    \n",
    "    # check that the df is not empty\n",
    "    if df.empty:\n",
    "        raise ValueError('DataFrame is empty')\n",
    "    \n",
    "    # check that it does not contain NaN or inf values\n",
    "    if df.isnull().values.any():\n",
    "        raise ValueError('DataFrame contains NaN values')\n",
    "    \n",
    "    if np.isinf(df.values).any():\n",
    "        raise ValueError('DataFrame contains infinite values')\n",
    "    \n",
    "    # check that no columns only contain one unique value\n",
    "    for column in df.columns:\n",
    "        if len(df[column].unique()) == 1:\n",
    "            unique_value = df[column].unique()[0]\n",
    "            raise ValueError(f'Column {column} only contains one unique value {unique_value}')\n",
    "    \n",
    "    return True"
   ]
  },
  {
   "cell_type": "code",
   "execution_count": null,
   "metadata": {},
   "outputs": [],
   "source": [
    "df_yearly_global_country_level = process_data_country_wise(df_yearly, 'fatalities_per_100k')"
   ]
  },
  {
   "cell_type": "code",
   "execution_count": null,
   "metadata": {},
   "outputs": [],
   "source": [
    "df_yearly_global_country_level.head()"
   ]
  },
  {
   "cell_type": "code",
   "execution_count": null,
   "metadata": {},
   "outputs": [],
   "source": [
    " #check that the timelin plot is still cool.\n",
    "plot_country_time_series(df_yearly_global_country_level, [50], 'fatalities_per_100k', figsize=(20, 10), logo_placement = (0.05, 0.87), legend_placement=(0.01, 1))"
   ]
  },
  {
   "cell_type": "code",
   "execution_count": null,
   "metadata": {},
   "outputs": [],
   "source": [
    "df_monthly_global_country_level = process_data_country_wise(df_monthly, 'fatalities_per_100k')"
   ]
  },
  {
   "cell_type": "code",
   "execution_count": null,
   "metadata": {},
   "outputs": [],
   "source": [
    "df_monthly_global_country_level.head()"
   ]
  },
  {
   "cell_type": "code",
   "execution_count": null,
   "metadata": {},
   "outputs": [],
   "source": [
    "# try to plot the time series for monthly mali  (50)\n",
    "plot_country_time_series(df_monthly_global_country_level, [50, 43, 222], 'fatalities_per_100k', figsize=(20, 10), logo_placement = (0.05, 0.87), legend_placement=(0.01, 1))"
   ]
  },
  {
   "cell_type": "code",
   "execution_count": null,
   "metadata": {},
   "outputs": [],
   "source": [
    "df_monthly_global_country_level.to_pickle(PATH_GENERATED / \"df_monthly_country_return_periods.pkl\")\n",
    "df_monthly_global_country_level.to_csv(PATH_GENERATED / \"df_monthly_country_return_periods.csv\")\n",
    "\n",
    "df_yearly_global_country_level.to_pickle(PATH_GENERATED / \"df_yearly_country_return_periods.pkl\")\n",
    "df_yearly_global_country_level.to_csv(PATH_GENERATED / \"df_yearly_country_return_periods.csv\")"
   ]
  },
  {
   "cell_type": "code",
   "execution_count": null,
   "metadata": {},
   "outputs": [],
   "source": [
    "get_country_id_by_name('yemen')"
   ]
  },
  {
   "cell_type": "code",
   "execution_count": null,
   "metadata": {},
   "outputs": [],
   "source": [
    "plot_country_time_series(df_monthly_global_country_level, [124,240, 196,197], 'fatalities_per_100k', figsize=(20, 10), logo_placement = (0.05, 0.87), legend_placement=(0.01, 1))"
   ]
  },
  {
   "cell_type": "markdown",
   "metadata": {},
   "source": [
    "# add b_i and B_i then plots"
   ]
  },
  {
   "cell_type": "code",
   "execution_count": null,
   "metadata": {},
   "outputs": [],
   "source": [
    "def bin_series(series: pd.Series, bins: list) -> pd.Series:\n",
    "    \"\"\"\n",
    "    Bins a pandas Series based on specified lower bounds.\n",
    "\n",
    "    Parameters:\n",
    "    ----------\n",
    "    series : pd.Series\n",
    "        The series containing the values to be binned.\n",
    "    bins : list\n",
    "        A list of lower bounds defining the bins. The last bin will automatically extend to infinity.\n",
    "\n",
    "    Returns:\n",
    "    -------\n",
    "    pd.Series\n",
    "        A new Series with values binned according to the specified intervals.\n",
    "\n",
    "    Example:\n",
    "    -------\n",
    "    >>> s = pd.Series([1, 2, 3, 5, 7, 10, 15, 25, 35])\n",
    "    >>> bins = [1, 2, 5, 10, 30]\n",
    "    >>> bin_series(s, bins)\n",
    "    0     1\n",
    "    1     2\n",
    "    2     2\n",
    "    3     5\n",
    "    4     5\n",
    "    5    10\n",
    "    6    10\n",
    "    7    10\n",
    "    8    30\n",
    "    dtype: int64\n",
    "    \"\"\"\n",
    "\n",
    "    # Extend bins to infinity\n",
    "    extended_bins = bins + [np.inf]\n",
    "\n",
    "    # Use the lower bounds as labels\n",
    "    labels = bins\n",
    "\n",
    "    # Bin the series\n",
    "    binned_series = pd.cut(series, bins=extended_bins, labels=labels, right=False, include_lowest=True)\n",
    "\n",
    "    return binned_series\n"
   ]
  },
  {
   "cell_type": "code",
   "execution_count": null,
   "metadata": {},
   "outputs": [],
   "source": [
    "bin_list = [1, 3, 5, 10, 15, 20, 25, 30] # then also one for months... \n",
    "b_i = bin_series(df_yearly_global_country_level[f'{feature}_e_i'], bin_list)\n",
    "b_i"
   ]
  },
  {
   "cell_type": "code",
   "execution_count": null,
   "metadata": {},
   "outputs": [],
   "source": [
    "b_i"
   ]
  },
  {
   "cell_type": "code",
   "execution_count": null,
   "metadata": {},
   "outputs": [],
   "source": [
    "plt.hist(b_i, bins=10)\n",
    "plt.show()"
   ]
  },
  {
   "cell_type": "markdown",
   "metadata": {},
   "source": [
    "so add b_i and B_i to the columns and then adapt the plot - move the binnign function to a script and then we are good. "
   ]
  },
  {
   "cell_type": "code",
   "execution_count": null,
   "metadata": {},
   "outputs": [],
   "source": [
    "# plot one country\n",
    "country_id = 50\n",
    "feature = 'fatalities_per_100k'\n",
    "all_years = df_yearly_global_country_level['year_id'].unique()\n",
    "\n",
    "feature_list = get_extended_feature_list(df_yearly_global_country_level, feature, base_feature = True, p_i = True, P_i = True, e_i = True, E_i = True, b_i = False, B_i = False)\n",
    "\n",
    "plot_features_grid(df_yearly_global_country_level[df_yearly_global_country_level['c_id'] == country_id], feature_list, all_years[:10])"
   ]
  },
  {
   "cell_type": "code",
   "execution_count": null,
   "metadata": {},
   "outputs": [],
   "source": []
  },
  {
   "cell_type": "code",
   "execution_count": null,
   "metadata": {},
   "outputs": [],
   "source": [
    "all_years = df_yearly_global_country_level['year_id'].unique()\n",
    "plot_features_grid(df_yearly_global_country_level, feature, all_years)\n"
   ]
  },
  {
   "cell_type": "code",
   "execution_count": null,
   "metadata": {},
   "outputs": [],
   "source": []
  },
  {
   "cell_type": "code",
   "execution_count": null,
   "metadata": {},
   "outputs": [],
   "source": []
  },
  {
   "cell_type": "code",
   "execution_count": null,
   "metadata": {},
   "outputs": [],
   "source": []
  },
  {
   "cell_type": "code",
   "execution_count": null,
   "metadata": {},
   "outputs": [],
   "source": []
  },
  {
   "cell_type": "code",
   "execution_count": null,
   "metadata": {},
   "outputs": [],
   "source": []
  },
  {
   "cell_type": "code",
   "execution_count": null,
   "metadata": {},
   "outputs": [],
   "source": []
  },
  {
   "cell_type": "code",
   "execution_count": null,
   "metadata": {},
   "outputs": [],
   "source": [
    "\n",
    "\n",
    "new_df_monthly = update_df_with_probabilities_and_return_periods(df_monthly, feature, region_id_type, region_id)\n",
    "new_df_yearly = update_df_with_probabilities_and_return_periods(df_yearly, feature, region_id_type, region_id)"
   ]
  },
  {
   "cell_type": "code",
   "execution_count": null,
   "metadata": {},
   "outputs": [],
   "source": [
    "new_df_yearly.describe()"
   ]
  },
  {
   "cell_type": "code",
   "execution_count": null,
   "metadata": {},
   "outputs": [],
   "source": [
    "# try with a country\n",
    "country_name = 'Mali'\n",
    "country_id = get_country_id_by_name(country_name)\n",
    "print(country_id)\n",
    "\n",
    "country_id = 50\n",
    "region_id_type = 'c_ids' # pg_ids, c_ids, or global\n",
    "\n",
    "new_df_monthly_mali = update_df_with_probabilities_and_return_periods(df_monthly, feature, region_id_type, country_id)\n",
    "new_df_yearly_mali = update_df_with_probabilities_and_return_periods(df_yearly, feature, region_id_type, country_id)\n",
    "\n",
    "new_df_monthly_mali.describe()\n",
    "new_df_yearly_mali.describe()"
   ]
  },
  {
   "cell_type": "code",
   "execution_count": null,
   "metadata": {},
   "outputs": [],
   "source": []
  },
  {
   "cell_type": "code",
   "execution_count": null,
   "metadata": {},
   "outputs": [],
   "source": [
    "new_df_monthly_mali['month_id'].max()"
   ]
  },
  {
   "cell_type": "code",
   "execution_count": null,
   "metadata": {},
   "outputs": [],
   "source": [
    "# check wivh month id have the event with the higsest E_i\n",
    "new_df_monthly_mali[new_df_monthly_mali['fatalities_per_100k_E_i'] == new_df_monthly_mali['fatalities_per_100k_E_i'].max()]['month_id']"
   ]
  },
  {
   "cell_type": "code",
   "execution_count": null,
   "metadata": {},
   "outputs": [],
   "source": [
    "new_df_yearly_mali"
   ]
  },
  {
   "cell_type": "code",
   "execution_count": null,
   "metadata": {},
   "outputs": [],
   "source": [
    "plot_features_grid(new_df_yearly_mali, feature, period_range = np.arange(2020, 2024))"
   ]
  },
  {
   "cell_type": "code",
   "execution_count": null,
   "metadata": {},
   "outputs": [],
   "source": [
    "# try with rwanda\n",
    "country_name = 'Rwanda'\n",
    "country_id = get_country_id_by_name(country_name)\n",
    "print(country_id)\n",
    "country_id = 156\n",
    "\n",
    "new_df_monthly_rwanda = update_df_with_probabilities_and_return_periods(df_monthly, feature, region_id_type, country_id)\n",
    "new_df_yearly_rwanda = update_df_with_probabilities_and_return_periods(df_yearly, feature, region_id_type, country_id)\n"
   ]
  },
  {
   "cell_type": "code",
   "execution_count": null,
   "metadata": {},
   "outputs": [],
   "source": [
    "plot_features_grid(new_df_yearly_rwanda, feature, period_range = np.arange(1992, 1996))"
   ]
  },
  {
   "cell_type": "code",
   "execution_count": null,
   "metadata": {},
   "outputs": [],
   "source": [
    "# what months see the highest E_i\n",
    "high_month = new_df_monthly_rwanda[new_df_monthly_rwanda['fatalities_per_100k_E_i'] == new_df_monthly_rwanda['fatalities_per_100k_E_i'].max()]['month_id'].values[0]\n",
    "print(high_month)\n",
    "print(calculate_date_from_index(high_month))\n",
    "\n",
    "#lest try ranwda with the monthly data\n",
    "plot_features_grid(new_df_monthly_rwanda, feature, period_range = np.arange(high_month-5, high_month+5))"
   ]
  },
  {
   "cell_type": "code",
   "execution_count": null,
   "metadata": {},
   "outputs": [],
   "source": [
    "# try \"global\" yearly 1992-1996\n",
    "region_id_type = 'global'\n",
    "region_id = None\n",
    "\n",
    "new_df_monthly_global = update_df_with_probabilities_and_return_periods(df_monthly, feature, region_id_type, region_id)\n",
    "new_df_yearly_global = update_df_with_probabilities_and_return_periods(df_yearly, feature, region_id_type, region_id)\n",
    "\n",
    "plot_features_grid(new_df_yearly_global, feature, period_range = np.arange(1991, 2024))"
   ]
  },
  {
   "cell_type": "code",
   "execution_count": null,
   "metadata": {},
   "outputs": [],
   "source": [
    "get_country_names_by_ids([50])"
   ]
  },
  {
   "cell_type": "code",
   "execution_count": null,
   "metadata": {},
   "outputs": [],
   "source": [
    "# okay lets try and loop over all the countries and then merge the dataframes. Yearly data only for now\n",
    "\n",
    "unique_country_ids = df_yearly['c_id'].unique()\n",
    "\n",
    "# create an empty dataframe to store the results\n",
    "df_yearly_global_country_level = pd.DataFrame()\n",
    "\n",
    "for country_id in unique_country_ids:\n",
    "    print(f'Processing country_id: {country_id}') #, country_name: {get_country_names_by_ids([country_id])}')\n",
    "\n",
    "    try:\n",
    "        new_df_yearly_country = update_df_with_probabilities_and_return_periods(df_yearly, feature, 'c_ids', country_id)\n",
    "        df_yearly_global_country_level = pd.concat([df_yearly_global_country_level, new_df_yearly_country])\n",
    "\n",
    "    except Exception as e:\n",
    "        print(f'Error with {country_id}: {e}') #, country_name: {get_country_names_by_ids([country_id])}. Skipping...')\n",
    "\n"
   ]
  },
  {
   "cell_type": "code",
   "execution_count": null,
   "metadata": {},
   "outputs": [],
   "source": [
    "df_yearly_global_country_level.describe()"
   ]
  },
  {
   "cell_type": "code",
   "execution_count": null,
   "metadata": {},
   "outputs": [],
   "source": [
    "# now plot all the years for the whole world\n",
    "plot_features_grid(df_yearly_global_country_level, feature, period_range = np.arange(1991, 2024))"
   ]
  },
  {
   "cell_type": "code",
   "execution_count": null,
   "metadata": {},
   "outputs": [],
   "source": [
    "get_country_id_by_name('Malawi')"
   ]
  },
  {
   "cell_type": "code",
   "execution_count": null,
   "metadata": {},
   "outputs": [],
   "source": [
    "df_yearly[df_yearly['c_id'] == 161].describe()"
   ]
  },
  {
   "cell_type": "code",
   "execution_count": null,
   "metadata": {},
   "outputs": [],
   "source": []
  },
  {
   "cell_type": "code",
   "execution_count": null,
   "metadata": {},
   "outputs": [],
   "source": []
  },
  {
   "cell_type": "code",
   "execution_count": null,
   "metadata": {},
   "outputs": [],
   "source": []
  },
  {
   "cell_type": "code",
   "execution_count": null,
   "metadata": {},
   "outputs": [],
   "source": []
  },
  {
   "cell_type": "code",
   "execution_count": null,
   "metadata": {},
   "outputs": [],
   "source": []
  },
  {
   "cell_type": "code",
   "execution_count": null,
   "metadata": {},
   "outputs": [],
   "source": []
  },
  {
   "cell_type": "code",
   "execution_count": null,
   "metadata": {},
   "outputs": [],
   "source": []
  }
 ],
 "metadata": {
  "kernelspec": {
   "display_name": "base",
   "language": "python",
   "name": "python3"
  },
  "language_info": {
   "codemirror_mode": {
    "name": "ipython",
    "version": 3
   },
   "file_extension": ".py",
   "mimetype": "text/x-python",
   "name": "python",
   "nbconvert_exporter": "python",
   "pygments_lexer": "ipython3",
   "version": "3.10.14"
  }
 },
 "nbformat": 4,
 "nbformat_minor": 2
}
