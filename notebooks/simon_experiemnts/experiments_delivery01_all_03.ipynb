{
 "cells": [
  {
   "cell_type": "code",
   "execution_count": null,
   "metadata": {},
   "outputs": [],
   "source": [
    "import numpy as np\n",
    "import pandas as pd\n",
    "import matplotlib\n",
    "import matplotlib.pyplot as plt\n",
    "import seaborn as sns\n",
    "import os\n",
    "from multiprocessing import Pool\n",
    "from pathlib import Path\n",
    "import sys\n",
    "\n",
    "# set path to the utils\n",
    "notebook_dir = os.getcwd()\n",
    "notebook_name = \"check_generated_data.ipynb\"\n",
    "\n",
    "PATH = Path(notebook_dir) / Path(notebook_name) #Path(\"/home/simon/Documents/scripts/views_pipeline/models/purple_alien/notebooks/test_to_prediction_store.ipynb\")\n",
    "\n",
    "sys.path.insert(0, str(Path(*[i for i in PATH.parts[:PATH.parts.index(\"VIEWS_FAO_index\")+1]]) / \"src/utils\"))   \n",
    "\n",
    "from set_paths import setup_project_paths\n",
    "setup_project_paths(PATH)\n",
    "\n",
    "from utils_plotting import plot_time_series_data, plot_random_monthly_and_yearly_data\n",
    "from utils_annual_aggregation import aggregate_monthly_to_yearly\n",
    "from utils_feature_eng_per_100k import feature_eng_fat_per_100k\n",
    "#from utils_cumulative_distribution import calculate_global_cumulative_distribution\n",
    "from utils_global_probabilities import calculate_global_probabilities\n",
    "from utils_country_probabilities import calculate_all_country_probabilities\n",
    "from utils_return_periods import calculate_return_periods\n",
    "from utils_check_expected_features import check_expected_features                                                                         "
   ]
  },
  {
   "cell_type": "code",
   "execution_count": null,
   "metadata": {},
   "outputs": [],
   "source": [
    "print(np.__version__) # 1.26.4 used\n",
    "print(pd.__version__) # 2.2.1 used\n",
    "print(matplotlib.__version__) # 3.8.4 used\n",
    "print(sns.__version__) # 0.13.2 used"
   ]
  },
  {
   "cell_type": "markdown",
   "metadata": {},
   "source": [
    "# Load data"
   ]
  },
  {
   "cell_type": "code",
   "execution_count": null,
   "metadata": {},
   "outputs": [],
   "source": [
    "PATH_df = \"/home/simon/Documents/scripts/VIEWS_FAO_index/data/raw_viewser/simon_full_base_01_viewser_df.pkl\"\n",
    "df_monthly = pd.read_pickle(PATH_df)\n",
    "df_yearly = aggregate_monthly_to_yearly(df_monthly)\n",
    "\n",
    "# validate_dataframe(df)\n",
    "\n",
    "df_monthly = feature_eng_fat_per_100k(df_monthly)\n",
    "df_yearly = feature_eng_fat_per_100k(df_yearly)\n",
    "\n",
    "# now loop through the columns and calculate probabilities\n",
    "columns = ['sb_best', 'ns_best', 'os_best', 'total_best', 'fatalities_per_100k', 'sb_per_100k', 'ns_per_100k', 'os_per_100k']\n",
    "for col in columns:\n",
    "    df_monthly = calculate_global_probabilities(df_monthly, col, 'month_id')\n",
    "    df_yearly = calculate_global_probabilities(df_yearly, col, 'year_id')\n",
    "    df_monthly = calculate_all_country_probabilities(df_monthly, col, 'month_id')\n",
    "    df_yearly = calculate_all_country_probabilities(df_yearly, col, 'year_id')\n",
    "\n",
    "# now loop through the columns and calculate return periods\n",
    "for col in columns:\n",
    "    df_monthly = calculate_return_periods(df_monthly, f'{col}_unit_likelihood', f'{col}_time_unit_likelihood')\n",
    "    df_monthly = calculate_return_periods(df_monthly, f'{col}_unit_likelihood_country', f'{col}_time_unit_likelihood_country')\n",
    "    df_yearly = calculate_return_periods(df_yearly, f'{col}_unit_likelihood', f'{col}_time_unit_likelihood')\n",
    "    df_yearly = calculate_return_periods(df_yearly, f'{col}_unit_likelihood_country', f'{col}_time_unit_likelihood_country')\n",
    "\n",
    "# check expected features in both dataframes\n",
    "check_expected_features(df_monthly)\n",
    "check_expected_features(df_yearly)"
   ]
  },
  {
   "cell_type": "code",
   "execution_count": null,
   "metadata": {},
   "outputs": [],
   "source": [
    "plot_random_monthly_and_yearly_data(df_monthly, df_yearly, feature = 'sb_best')"
   ]
  },
  {
   "cell_type": "code",
   "execution_count": null,
   "metadata": {},
   "outputs": [],
   "source": [
    "plot_random_monthly_and_yearly_data(df_monthly, df_yearly, feature = 'sb_per_100k')"
   ]
  },
  {
   "cell_type": "code",
   "execution_count": null,
   "metadata": {},
   "outputs": [],
   "source": [
    "# plot the new global probabilities\n",
    "plot_random_monthly_and_yearly_data(df_monthly, df_yearly, feature = 'sb_per_100k_time_unit_likelihood')\n",
    "plot_random_monthly_and_yearly_data(df_monthly, df_yearly, feature = 'sb_per_100k_unit_likelihood')"
   ]
  },
  {
   "cell_type": "code",
   "execution_count": null,
   "metadata": {},
   "outputs": [],
   "source": [
    "# plot the new country probabilities\n",
    "plot_random_monthly_and_yearly_data(df_monthly, df_yearly, feature = 'sb_per_100k_time_unit_likelihood_country')\n",
    "plot_random_monthly_and_yearly_data(df_monthly, df_yearly, feature = 'sb_per_100k_unit_likelihood_country')"
   ]
  },
  {
   "cell_type": "code",
   "execution_count": null,
   "metadata": {},
   "outputs": [],
   "source": [
    "# some return periods\n",
    "plot_random_monthly_and_yearly_data(df_monthly, df_yearly, feature = 'sb_per_100k_time_unit_return_period')\n",
    "plot_random_monthly_and_yearly_data(df_monthly, df_yearly, feature = 'sb_per_100k_unit_return_period')"
   ]
  },
  {
   "cell_type": "code",
   "execution_count": null,
   "metadata": {},
   "outputs": [],
   "source": [
    "# some return periods at country level\n",
    "plot_random_monthly_and_yearly_data(df_monthly, df_yearly, feature = 'sb_per_100k_time_unit_return_period_country')\n",
    "plot_random_monthly_and_yearly_data(df_monthly, df_yearly, feature = 'sb_per_100k_unit_return_period_country')"
   ]
  }
 ],
 "metadata": {
  "kernelspec": {
   "display_name": "base",
   "language": "python",
   "name": "python3"
  },
  "language_info": {
   "codemirror_mode": {
    "name": "ipython",
    "version": 3
   },
   "file_extension": ".py",
   "mimetype": "text/x-python",
   "name": "python",
   "nbconvert_exporter": "python",
   "pygments_lexer": "ipython3",
   "version": "3.10.14"
  }
 },
 "nbformat": 4,
 "nbformat_minor": 2
}
