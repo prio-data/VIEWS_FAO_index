{
 "cells": [
  {
   "cell_type": "code",
   "execution_count": 1,
   "metadata": {},
   "outputs": [
    {
     "name": "stdout",
     "output_type": "stream",
     "text": [
      "1.26.4\n",
      "2.2.2\n",
      "1.12.0\n",
      "3.8.0\n",
      "0.13.2\n"
     ]
    }
   ],
   "source": [
    "import numpy as np\n",
    "import pandas as pd\n",
    "import scipy\n",
    "import matplotlib\n",
    "import seaborn as sns\n",
    "\n",
    "import os\n",
    "from pathlib import Path\n",
    "import sys\n",
    "\n",
    "\n",
    "print(np.__version__) # 1.26.4 used\n",
    "print(pd.__version__) # 2.2.1 used\n",
    "print(scipy.__version__) # 1.7.3 used\n",
    "print(matplotlib.__version__) # 3.8.4 used\n",
    "print(sns.__version__) # 0.13.2 used"
   ]
  },
  {
   "cell_type": "code",
   "execution_count": 2,
   "metadata": {},
   "outputs": [],
   "source": [
    "# set path to the utils --------------------------------------------------------------------------------------------\n",
    "notebook_dir = os.getcwd() # noitbook specific\n",
    "notebook_name = \"experiments_minimal_mapping_function.ipynb\" # notebook specific\n",
    "\n",
    "PATH = Path(notebook_dir) / Path(notebook_name) # notebook specific\n",
    "\n",
    "# alt script version\n",
    "# PATH = Path(__file__)\n",
    "\n",
    "sys.path.insert(0, str(Path(*[i for i in PATH.parts[:PATH.parts.index(\"VIEWS_FAO_index\")+1]]) / \"src/utils\"))   \n",
    "\n",
    "from set_paths import setup_project_paths, get_logo_path, get_data_paths, setup_root_paths, get_plot_path\n",
    "setup_project_paths(PATH)\n",
    "\n",
    "#  -----------------------------------------------------------------------------------------------------------------\n",
    "\n",
    "from utils_plotting import plot_country_time_series #, plot_random_monthly_and_yearly_data, plot_feature_histograms, plot_contry_period_map"
   ]
  }
 ],
 "metadata": {
  "kernelspec": {
   "display_name": "viewser_2024",
   "language": "python",
   "name": "python3"
  },
  "language_info": {
   "codemirror_mode": {
    "name": "ipython",
    "version": 3
   },
   "file_extension": ".py",
   "mimetype": "text/x-python",
   "name": "python",
   "nbconvert_exporter": "python",
   "pygments_lexer": "ipython3",
   "version": "3.11.7"
  }
 },
 "nbformat": 4,
 "nbformat_minor": 2
}
