{
 "cells": [
  {
   "cell_type": "code",
   "execution_count": null,
   "metadata": {},
   "outputs": [],
   "source": [
    "import sys\n",
    "import numpy as np\n",
    "import torch\n",
    "import torch.optim as optim\n",
    "\n",
    "import matplotlib.pyplot as plt\n",
    "\n",
    "sys.path.insert(0, \"/home/simon/Documents/scripts/VIEWS_FAO_index/src/architectures/\")\n",
    "\n",
    "from vea_001 import VAE, vae_loss"
   ]
  },
  {
   "cell_type": "code",
   "execution_count": null,
   "metadata": {},
   "outputs": [],
   "source": [
    "# Create a random 2D array\n",
    "# np_array = np.random.rand(128, 128).astype(np.float32)\n",
    "\n",
    "space_dim = 128\n",
    "month_dim = 100\n",
    "\n",
    "np_array = np.random.lognormal(size=(month_dim, space_dim, space_dim)).astype(np.float32)\n",
    "\n",
    "# Convert to PyTorch tensor\n",
    "synth_tensor = torch.from_numpy(np_array)\n",
    "\n",
    "# Reshape tensor to have batch dimension\n",
    "synth_tensor = synth_tensor.unsqueeze(0)"
   ]
  },
  {
   "cell_type": "code",
   "execution_count": null,
   "metadata": {},
   "outputs": [],
   "source": [
    "\n",
    "# Set device to GPU if available, else CPU\n",
    "device = torch.device(\"cuda\" if torch.cuda.is_available() else \"cpu\")\n",
    "\n",
    "# Create a VAE instance\n",
    "vae = VAE()\n",
    "\n",
    "# Move the VAE to the chosen device\n",
    "vae = vae.to(device)\n",
    "\n",
    "# Define the optimizer\n",
    "optimizer = optim.Adam(vae.parameters(), lr=0.001)\n",
    "\n",
    "# Define the loss function\n",
    "loss_fn = vae_loss\n",
    "\n",
    "# Number of training epochs\n",
    "num_epochs = 100\n"
   ]
  },
  {
   "cell_type": "code",
   "execution_count": 4,
   "metadata": {},
   "outputs": [],
   "source": [
    "for epoch in range(num_epochs):\n",
    "   # Set the VAE to training mode\n",
    "   vae.train()\n",
    "\n",
    "   # Sum of training loss for this epoch\n",
    "   train_loss = 0.0\n",
    "\n",
    "   # Iterate over the training data\n",
    "   for month in range(month_dim):\n",
    "       # Move data to the chosen device\n",
    "       synth_sub_tensor = synth_tensor[:,month,:,:].unsqueeze(1).to(device) # unsqueeze keeps the channel dimension\n",
    "\n",
    "       # reshape to 1D bc it's not yet a convolutional vae\n",
    "       #synth_sub_tensor = synth_sub_tensor.view(1, -1)\n",
    "\n",
    "       # Zero the gradients\n",
    "       optimizer.zero_grad()\n",
    "\n",
    "       # Forward pass\n",
    "       outputs, mean, logvar = vae(synth_sub_tensor)\n",
    "\n",
    "       # Compute loss\n",
    "       loss = loss_fn(outputs, synth_sub_tensor, mean, logvar)\n",
    "\n",
    "       # Backward pass and optimization\n",
    "       loss.backward()\n",
    "       optimizer.step()\n",
    "\n",
    "       # Accumulate training loss\n",
    "       train_loss += loss.item()\n",
    "\n",
    "   # Compute average training loss for this epoch\n",
    "   train_loss /= month_dim\n",
    "\n",
    "   # Print training loss for every 10 epocha\n",
    "   if (epoch + 1) % 10 == 0:\n",
    "       print(f\"Epoch {epoch+1}/{num_epochs} | Train Loss: {train_loss:.4f}\")\n"
   ]
  },
  {
   "cell_type": "code",
   "execution_count": null,
   "metadata": {},
   "outputs": [],
   "source": [
    "#   # Set the VAE to evaluation mode\n",
    "#   vae.eval()\n",
    "#\n",
    "#   # Sum of validation loss for this epoch\n",
    "#   val_loss = 0.0\n",
    "#\n",
    "#   # Iterate over the validation data\n",
    "#   for data in val_loader:\n",
    "#       # Move data to the chosen device\n",
    "#       data = data.to(device)\n",
    "#\n",
    "#       # Forward pass\n",
    "#       outputs, mu, sigma = vae(data)\n",
    "#\n",
    "#       # Compute loss\n",
    "#       loss = loss_fn(outputs, data, mu, sigma)\n",
    "#\n",
    "#       # Accumulate validation loss\n",
    "#       val_loss += loss.item()\n",
    "#\n",
    "#   # Compute average validation loss for this epoch\n",
    "#   val_loss /= len(val_loader)\n",
    "#\n",
    "#   # Print validation loss for this epoch\n",
    "#   print(f\"Validation Loss: {val_loss:.4f}\\n\")\n",
    "#\n",
    "#   # Save the model if validation loss decreases\n",
    "#   if val_loss < best_val_loss:\n",
    "#       best_val_loss = val_loss\n",
    "#       torch.save(vae.state_dict(), 'best_vae.pth')\n",
    "#"
   ]
  },
  {
   "cell_type": "code",
   "execution_count": null,
   "metadata": {},
   "outputs": [],
   "source": [
    "synth_test_tensor = synth_tensor[:,0,:,:].unsqueeze(1).to(device) # unsqueeze keeps the channel dimension\n",
    "\n",
    "# reshape to 1D bc it's not yet a convolutional vae\n",
    "#synth_test_tensor_1d = synth_test_tensor_2d.view(1, -1)\n",
    "\n",
    "# Set the VAE to evaluation mode\n",
    "vae.eval()\n",
    "\n",
    "# Forward pass\n",
    "output, mu, sigma = vae(synth_test_tensor)\n",
    "\n",
    "# change outout back to 2D\n",
    "output = output.view(128, 128) "
   ]
  },
  {
   "cell_type": "code",
   "execution_count": null,
   "metadata": {},
   "outputs": [],
   "source": [
    "# Visualize the original array and the pooled array\n",
    "fig, ax = plt.subplots(1, 2, figsize=(20, 10))\n",
    "ax[0].imshow(synth_test_tensor.squeeze().cpu(), interpolation='nearest', cmap='viridis')\n",
    "ax[0].set_title(\"Original\")\n",
    "ax[1].imshow(output.detach().cpu().numpy(), interpolation='nearest', cmap='viridis')\n",
    "ax[1].set_title(\"Reconstruction\")"
   ]
  }
 ],
 "metadata": {
  "kernelspec": {
   "display_name": "pytorch_2023",
   "language": "python",
   "name": "python3"
  },
  "language_info": {
   "codemirror_mode": {
    "name": "ipython",
    "version": 3
   },
   "file_extension": ".py",
   "mimetype": "text/x-python",
   "name": "python",
   "nbconvert_exporter": "python",
   "pygments_lexer": "ipython3",
   "version": "3.8.16"
  }
 },
 "nbformat": 4,
 "nbformat_minor": 2
}
