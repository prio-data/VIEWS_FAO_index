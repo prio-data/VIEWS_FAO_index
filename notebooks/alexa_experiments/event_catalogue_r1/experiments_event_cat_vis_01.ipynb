{
 "cells": [
  {
   "cell_type": "markdown",
   "metadata": {},
   "source": [
    "Visualisations for Event Catalogue "
   ]
  },
  {
   "cell_type": "code",
   "execution_count": 7,
   "metadata": {},
   "outputs": [],
   "source": [
    "# importing libraries to create country visualisations\n",
    "\n",
    "import numpy as np\n",
    "import pandas as pd\n",
    "import matplotlib \n",
    "import matplotlib.pyplot as plt\n",
    "from matplotlib.offsetbox import OffsetImage, AnnotationBbox\n",
    "import seaborn as sns\n",
    "\n",
    "import json\n",
    "import os\n",
    "from multiprocessing import Pool\n",
    "\n",
    "import sys\n",
    "from pathlib import Path \n",
    "\n",
    "from fuzzywuzzy import process\n",
    "\n",
    "# set path to utils\n",
    "notebook_dir = os.getcwd()\n",
    "notebook_name = \"experiments_event_cat_vis_01.ipynb\"\n",
    "\n",
    "PATH = Path(notebook_dir) / Path(notebook_name)\n",
    "\n",
    "sys.path.insert(0, str(Path(*[i for i in PATH.parts[:PATH.parts.index(\"VIEWS_FAO_index\")+1]]) / \"src/utils\"))   \n",
    "\n",
    "from set_paths import setup_project_paths, get_logo_path, get_data_paths, setup_root_paths\n",
    "setup_project_paths(PATH)\n",
    "\n",
    "from utils_plotting import plot_time_series, plot_random_monthly_and_yearly_data, plot_feature_histograms, plot_contry_period_map\n",
    "from utils_annual_aggregation import aggregate_monthly_to_yearly\n",
    "from utils_feature_eng_per_100k import feature_eng_fat_per_100k\n",
    "\n",
    "#from utils_cumulative_distribution import calculate_global_cumulative_distribution\n",
    "\n",
    "from utils_global_probabilities import calculate_global_probabilities\n",
    "from utils_country_probabilities import calculate_all_country_probabilities\n",
    "from utils_return_periods import calculate_return_periods\n",
    "from utils_check_expected_features import check_expected_features    \n",
    "from utils_date_index import calculate_date_from_index \n",
    "from utils_country_id_csv_to_json import country_id_csv_to_json\n",
    "from utils_get_country_names_by_ids import get_country_names_by_ids\n",
    "from utils_get_country_id_by_name import get_country_id_by_name"
   ]
  },
  {
   "cell_type": "markdown",
   "metadata": {},
   "source": [
    "Check Versions Used"
   ]
  },
  {
   "cell_type": "code",
   "execution_count": 16,
   "metadata": {},
   "outputs": [
    {
     "name": "stdout",
     "output_type": "stream",
     "text": [
      "1.26.4\n",
      "1.5.3\n",
      "0.13.2\n",
      "3.8.4\n"
     ]
    }
   ],
   "source": [
    "\n",
    "print(np.__version__)\n",
    "print(pd.__version__) \n",
    "print(sns.__version__)\n",
    "print(matplotlib.__version__)"
   ]
  },
  {
   "cell_type": "markdown",
   "metadata": {},
   "source": [
    "Loading Data"
   ]
  },
  {
   "cell_type": "code",
   "execution_count": null,
   "metadata": {},
   "outputs": [],
   "source": [
    "# loading saved dataframes \n",
    "\n"
   ]
  }
 ],
 "metadata": {
  "kernelspec": {
   "display_name": "viewser",
   "language": "python",
   "name": "python3"
  },
  "language_info": {
   "codemirror_mode": {
    "name": "ipython",
    "version": 3
   },
   "file_extension": ".py",
   "mimetype": "text/x-python",
   "name": "python",
   "nbconvert_exporter": "python",
   "pygments_lexer": "ipython3",
   "version": "3.11.9"
  }
 },
 "nbformat": 4,
 "nbformat_minor": 2
}
